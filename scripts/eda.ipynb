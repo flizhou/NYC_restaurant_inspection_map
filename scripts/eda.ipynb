{
 "cells": [
  {
   "cell_type": "markdown",
   "metadata": {},
   "source": [
    "# Exploratory data analysis"
   ]
  },
  {
   "cell_type": "markdown",
   "metadata": {},
   "source": [
    "## 1. Dataset description\n",
    "\n",
    "I will visualize the [DOHMH New York City Restaurant Inspection Results](https://data.cityofnewyork.us/Health/DOHMH-New-York-City-Restaurant-Inspection-Results/rs6k-p7g6) dataset.\n",
    "\n",
    "- The dataset is provided by the [New York City OpenData](https://opendata.cityofnewyork.us/).\n",
    "\n",
    "- The dataset includes information about NYC restaurant names, locations, claims, inspections, violations, grades and adjudication. There are 26 variables, 19 of which are potentially useful and described here: \n",
    "\n",
    "    + CAMIS: an unique identifier of 10-digit integer for a restaurant. \n",
    "        \n",
    "    + DBA: \"doing business as\", the name of the restaurant.\n",
    "\n",
    "    + BORO: the Borough of the restaurant location.\n",
    "    \n",
    "    + BUILDING: the building of the restaurant location.\n",
    "    \n",
    "    + STREET: the street of the restaurant location.\n",
    "    \n",
    "    + ZIPCODE: the zipcode of the restaurant location.\n",
    "\n",
    "    + PHONE: the phone number of the restaurant.\n",
    "\n",
    "    + CUISINE DESCRIPTION: the cuisine type of the restaurant.\n",
    "\n",
    "    + INSPECTION DATE: the date of the inspection. the date 1/1/1900 indicates the restaurant has not yet received any inspections.\n",
    "\n",
    "    + ACTION: the action related with the inspection.\n",
    "\n",
    "    + VIOLATION CODE: the violation code related with the inspection.\n",
    "\n",
    "    + VIOLATION DESCRIPTION: the violation description related with the inspection.\n",
    "\n",
    "    + CRITICAL FLAG: an indicator of critical violation.\n",
    "\n",
    "    + INSPECTION TYPE: the type of inspection performed.\n",
    "\n",
    "    + Latitude: the latitude of the restaurant location.\n",
    "\n",
    "    + Longitude: the longitude of the restaurant location.\n",
    "\n",
    "    + SCORE: score for the inspection, updated based on adjudication results.\n",
    "\n",
    "    + GRADE: grade of the inspection. The grade is based on a two-step inspection process. A restaurant that doesn't receive a grade \"A\" on the initial inspection can be reinspected:\n",
    "        \n",
    "        - scoring less than 14 on the initial/re-inspection: grade \"A\";\n",
    "        \n",
    "        - scoring 14-27 on re-inspection: grade \"B\";\n",
    "        \n",
    "        - scoring 28 or more on re-inspection: grade \"C\";\n",
    "        \n",
    "        - reopening inspection or scoring more than 13 on the initial inspection: grade \"P\".\n",
    "\n",
    "- The current dataset was collected between April, 2016 and March, 2020.\n",
    "\n",
    "- The dataset is free to the public and was collected and provided by the Department of Health and Mental Hygiene (DOHMH). The purpose of this dataset is to collect recent restaurant inspection results.\n",
    "\n",
    "- The dataset may contain missing values and errors.\n"
   ]
  },
  {
   "cell_type": "markdown",
   "metadata": {},
   "source": [
    "## 2. Load the dataset"
   ]
  },
  {
   "cell_type": "code",
   "execution_count": 1,
   "metadata": {},
   "outputs": [],
   "source": [
    "import pandas as pd\n",
    "import numpy as np\n",
    "import re\n",
    "import json\n",
    "import plotly.express as px\n"
   ]
  },
  {
   "cell_type": "code",
   "execution_count": 2,
   "metadata": {},
   "outputs": [],
   "source": [
    "# dataset is downloaded from https://data.cityofnewyork.us/Health/DOHMH-New-York-City-Restaurant-Inspection-Results/rs6k-p7g6\n",
    "data = pd.read_csv('../data/raw_data/DOHMH_New_York_City_Restaurant_Inspection_Results.csv')"
   ]
  },
  {
   "cell_type": "markdown",
   "metadata": {},
   "source": [
    "## 3. Explore the dataset"
   ]
  },
  {
   "cell_type": "code",
   "execution_count": 3,
   "metadata": {},
   "outputs": [
    {
     "name": "stdout",
     "output_type": "stream",
     "text": [
      "<class 'pandas.core.frame.DataFrame'>\n",
      "RangeIndex: 402013 entries, 0 to 402012\n",
      "Data columns (total 26 columns):\n",
      " #   Column                 Non-Null Count   Dtype  \n",
      "---  ------                 --------------   -----  \n",
      " 0   CAMIS                  402013 non-null  int64  \n",
      " 1   DBA                    401647 non-null  object \n",
      " 2   BORO                   402013 non-null  object \n",
      " 3   BUILDING               401749 non-null  object \n",
      " 4   STREET                 402011 non-null  object \n",
      " 5   ZIPCODE                396529 non-null  float64\n",
      " 6   PHONE                  401996 non-null  object \n",
      " 7   CUISINE DESCRIPTION    402013 non-null  object \n",
      " 8   INSPECTION DATE        402013 non-null  object \n",
      " 9   ACTION                 400732 non-null  object \n",
      " 10  VIOLATION CODE         396459 non-null  object \n",
      " 11  VIOLATION DESCRIPTION  393064 non-null  object \n",
      " 12  CRITICAL FLAG          393064 non-null  object \n",
      " 13  SCORE                  385257 non-null  float64\n",
      " 14  GRADE                  203724 non-null  object \n",
      " 15  GRADE DATE             201065 non-null  object \n",
      " 16  RECORD DATE            402013 non-null  object \n",
      " 17  INSPECTION TYPE        400732 non-null  object \n",
      " 18  Latitude               401591 non-null  float64\n",
      " 19  Longitude              401591 non-null  float64\n",
      " 20  Community Board        396109 non-null  float64\n",
      " 21  Council District       396121 non-null  float64\n",
      " 22  Census Tract           396121 non-null  float64\n",
      " 23  BIN                    394362 non-null  float64\n",
      " 24  BBL                    401591 non-null  float64\n",
      " 25  NTA                    396109 non-null  object \n",
      "dtypes: float64(9), int64(1), object(16)\n",
      "memory usage: 79.7+ MB\n"
     ]
    }
   ],
   "source": [
    "data.info()"
   ]
  },
  {
   "cell_type": "code",
   "execution_count": 4,
   "metadata": {},
   "outputs": [
    {
     "name": "stderr",
     "output_type": "stream",
     "text": [
      "C:\\Users\\flizh\\Anaconda3\\lib\\site-packages\\ipykernel_launcher.py:8: SettingWithCopyWarning:\n",
      "\n",
      "\n",
      "A value is trying to be set on a copy of a slice from a DataFrame.\n",
      "Try using .loc[row_indexer,col_indexer] = value instead\n",
      "\n",
      "See the caveats in the documentation: https://pandas.pydata.org/pandas-docs/stable/user_guide/indexing.html#returning-a-view-versus-a-copy\n",
      "\n"
     ]
    }
   ],
   "source": [
    "# select columns of interest\n",
    "isp_data = data[['CAMIS', 'DBA', 'BORO', 'BUILDING',\n",
    "                 'STREET', 'ZIPCODE', 'PHONE', \n",
    "                 'CUISINE DESCRIPTION', 'INSPECTION TYPE',\n",
    "                 'VIOLATION CODE', 'VIOLATION DESCRIPTION', \n",
    "                 'Latitude', 'Longitude', 'SCORE', 'GRADE']]\n",
    "\n",
    "isp_data['INSPECTION DATE'] = pd.to_datetime(data['INSPECTION DATE'])"
   ]
  },
  {
   "cell_type": "code",
   "execution_count": 5,
   "metadata": {},
   "outputs": [
    {
     "data": {
      "text/html": [
       "<div>\n",
       "<style scoped>\n",
       "    .dataframe tbody tr th:only-of-type {\n",
       "        vertical-align: middle;\n",
       "    }\n",
       "\n",
       "    .dataframe tbody tr th {\n",
       "        vertical-align: top;\n",
       "    }\n",
       "\n",
       "    .dataframe thead th {\n",
       "        text-align: right;\n",
       "    }\n",
       "</style>\n",
       "<table border=\"1\" class=\"dataframe\">\n",
       "  <thead>\n",
       "    <tr style=\"text-align: right;\">\n",
       "      <th></th>\n",
       "      <th>CAMIS</th>\n",
       "      <th>DBA</th>\n",
       "      <th>BORO</th>\n",
       "      <th>BUILDING</th>\n",
       "      <th>STREET</th>\n",
       "      <th>ZIPCODE</th>\n",
       "      <th>PHONE</th>\n",
       "      <th>CUISINE DESCRIPTION</th>\n",
       "      <th>INSPECTION TYPE</th>\n",
       "      <th>VIOLATION CODE</th>\n",
       "      <th>VIOLATION DESCRIPTION</th>\n",
       "      <th>Latitude</th>\n",
       "      <th>Longitude</th>\n",
       "      <th>SCORE</th>\n",
       "      <th>GRADE</th>\n",
       "      <th>INSPECTION DATE</th>\n",
       "    </tr>\n",
       "  </thead>\n",
       "  <tbody>\n",
       "    <tr>\n",
       "      <th>0</th>\n",
       "      <td>50082518</td>\n",
       "      <td>PAPA JOHN'S</td>\n",
       "      <td>Brooklyn</td>\n",
       "      <td>1408</td>\n",
       "      <td>NEPTUNE AVE</td>\n",
       "      <td>11224.0</td>\n",
       "      <td>7182657272</td>\n",
       "      <td>Pizza</td>\n",
       "      <td>Calorie Posting / Re-inspection</td>\n",
       "      <td>16C</td>\n",
       "      <td>Caloric content not posted on menus, menu boar...</td>\n",
       "      <td>40.579177</td>\n",
       "      <td>-73.982177</td>\n",
       "      <td>NaN</td>\n",
       "      <td>NaN</td>\n",
       "      <td>2018-12-13</td>\n",
       "    </tr>\n",
       "    <tr>\n",
       "      <th>1</th>\n",
       "      <td>50018573</td>\n",
       "      <td>TURCO</td>\n",
       "      <td>Manhattan</td>\n",
       "      <td>604</td>\n",
       "      <td>9TH AVE</td>\n",
       "      <td>10036.0</td>\n",
       "      <td>2125108666</td>\n",
       "      <td>Middle Eastern</td>\n",
       "      <td>Cycle Inspection / Initial Inspection</td>\n",
       "      <td>08A</td>\n",
       "      <td>Facility not vermin proof. Harborage or condit...</td>\n",
       "      <td>40.759235</td>\n",
       "      <td>-73.992026</td>\n",
       "      <td>48.0</td>\n",
       "      <td>NaN</td>\n",
       "      <td>2019-10-25</td>\n",
       "    </tr>\n",
       "    <tr>\n",
       "      <th>2</th>\n",
       "      <td>41600457</td>\n",
       "      <td>TABATA NOODLE RESTAURANT</td>\n",
       "      <td>Manhattan</td>\n",
       "      <td>540</td>\n",
       "      <td>9 AVENUE</td>\n",
       "      <td>10018.0</td>\n",
       "      <td>2122907681</td>\n",
       "      <td>Japanese</td>\n",
       "      <td>Cycle Inspection / Re-inspection</td>\n",
       "      <td>04L</td>\n",
       "      <td>Evidence of mice or live mice present in facil...</td>\n",
       "      <td>40.756993</td>\n",
       "      <td>-73.993654</td>\n",
       "      <td>28.0</td>\n",
       "      <td>C</td>\n",
       "      <td>2018-01-18</td>\n",
       "    </tr>\n",
       "    <tr>\n",
       "      <th>3</th>\n",
       "      <td>41405368</td>\n",
       "      <td>DYLAN MURPHY'S</td>\n",
       "      <td>Manhattan</td>\n",
       "      <td>1453</td>\n",
       "      <td>3 AVENUE</td>\n",
       "      <td>10028.0</td>\n",
       "      <td>2129889434</td>\n",
       "      <td>American</td>\n",
       "      <td>Cycle Inspection / Re-inspection</td>\n",
       "      <td>08A</td>\n",
       "      <td>Facility not vermin proof. Harborage or condit...</td>\n",
       "      <td>40.776321</td>\n",
       "      <td>-73.955788</td>\n",
       "      <td>11.0</td>\n",
       "      <td>A</td>\n",
       "      <td>2018-04-10</td>\n",
       "    </tr>\n",
       "    <tr>\n",
       "      <th>4</th>\n",
       "      <td>41594669</td>\n",
       "      <td>TAR PIT</td>\n",
       "      <td>Brooklyn</td>\n",
       "      <td>135</td>\n",
       "      <td>WOODPOINT ROAD</td>\n",
       "      <td>11211.0</td>\n",
       "      <td>6464699494</td>\n",
       "      <td>Café/Coffee/Tea</td>\n",
       "      <td>Cycle Inspection / Initial Inspection</td>\n",
       "      <td>04L</td>\n",
       "      <td>Evidence of mice or live mice present in facil...</td>\n",
       "      <td>40.717500</td>\n",
       "      <td>-73.941398</td>\n",
       "      <td>18.0</td>\n",
       "      <td>NaN</td>\n",
       "      <td>2019-02-14</td>\n",
       "    </tr>\n",
       "  </tbody>\n",
       "</table>\n",
       "</div>"
      ],
      "text/plain": [
       "      CAMIS                       DBA       BORO BUILDING          STREET  \\\n",
       "0  50082518               PAPA JOHN'S   Brooklyn     1408     NEPTUNE AVE   \n",
       "1  50018573                     TURCO  Manhattan      604         9TH AVE   \n",
       "2  41600457  TABATA NOODLE RESTAURANT  Manhattan      540        9 AVENUE   \n",
       "3  41405368            DYLAN MURPHY'S  Manhattan     1453        3 AVENUE   \n",
       "4  41594669                   TAR PIT   Brooklyn      135  WOODPOINT ROAD   \n",
       "\n",
       "   ZIPCODE       PHONE CUISINE DESCRIPTION  \\\n",
       "0  11224.0  7182657272               Pizza   \n",
       "1  10036.0  2125108666      Middle Eastern   \n",
       "2  10018.0  2122907681            Japanese   \n",
       "3  10028.0  2129889434            American   \n",
       "4  11211.0  6464699494     Café/Coffee/Tea   \n",
       "\n",
       "                         INSPECTION TYPE VIOLATION CODE  \\\n",
       "0        Calorie Posting / Re-inspection            16C   \n",
       "1  Cycle Inspection / Initial Inspection            08A   \n",
       "2       Cycle Inspection / Re-inspection            04L   \n",
       "3       Cycle Inspection / Re-inspection            08A   \n",
       "4  Cycle Inspection / Initial Inspection            04L   \n",
       "\n",
       "                               VIOLATION DESCRIPTION   Latitude  Longitude  \\\n",
       "0  Caloric content not posted on menus, menu boar...  40.579177 -73.982177   \n",
       "1  Facility not vermin proof. Harborage or condit...  40.759235 -73.992026   \n",
       "2  Evidence of mice or live mice present in facil...  40.756993 -73.993654   \n",
       "3  Facility not vermin proof. Harborage or condit...  40.776321 -73.955788   \n",
       "4  Evidence of mice or live mice present in facil...  40.717500 -73.941398   \n",
       "\n",
       "   SCORE GRADE INSPECTION DATE  \n",
       "0    NaN   NaN      2018-12-13  \n",
       "1   48.0   NaN      2019-10-25  \n",
       "2   28.0     C      2018-01-18  \n",
       "3   11.0     A      2018-04-10  \n",
       "4   18.0   NaN      2019-02-14  "
      ]
     },
     "execution_count": 5,
     "metadata": {},
     "output_type": "execute_result"
    }
   ],
   "source": [
    "isp_data.head()"
   ]
  },
  {
   "cell_type": "code",
   "execution_count": 6,
   "metadata": {},
   "outputs": [
    {
     "name": "stdout",
     "output_type": "stream",
     "text": [
      "<class 'pandas.core.frame.DataFrame'>\n",
      "RangeIndex: 402013 entries, 0 to 402012\n",
      "Data columns (total 16 columns):\n",
      " #   Column                 Non-Null Count   Dtype         \n",
      "---  ------                 --------------   -----         \n",
      " 0   CAMIS                  402013 non-null  int64         \n",
      " 1   DBA                    401647 non-null  object        \n",
      " 2   BORO                   402013 non-null  object        \n",
      " 3   BUILDING               401749 non-null  object        \n",
      " 4   STREET                 402011 non-null  object        \n",
      " 5   ZIPCODE                396529 non-null  float64       \n",
      " 6   PHONE                  401996 non-null  object        \n",
      " 7   CUISINE DESCRIPTION    402013 non-null  object        \n",
      " 8   INSPECTION TYPE        400732 non-null  object        \n",
      " 9   VIOLATION CODE         396459 non-null  object        \n",
      " 10  VIOLATION DESCRIPTION  393064 non-null  object        \n",
      " 11  Latitude               401591 non-null  float64       \n",
      " 12  Longitude              401591 non-null  float64       \n",
      " 13  SCORE                  385257 non-null  float64       \n",
      " 14  GRADE                  203724 non-null  object        \n",
      " 15  INSPECTION DATE        402013 non-null  datetime64[ns]\n",
      "dtypes: datetime64[ns](1), float64(4), int64(1), object(10)\n",
      "memory usage: 49.1+ MB\n"
     ]
    }
   ],
   "source": [
    "isp_data.info()"
   ]
  },
  {
   "cell_type": "code",
   "execution_count": 7,
   "metadata": {},
   "outputs": [
    {
     "name": "stdout",
     "output_type": "stream",
     "text": [
      "There are 27311 restaurants in this dataset.\n",
      "\n",
      "The restaurant with the maximal number of inspections is ORCHID DYNASTY RESTAURANT with 98 inspections.\n",
      "\n",
      "The Boroughs of the restaurant locations are ['0' 'Bronx' 'Brooklyn' 'Manhattan' 'Queens' 'Staten Island'].\n",
      "There are 8 restaurants without Borough information.\n",
      "\n",
      "There are 84 cuisine types in this dataset.\n",
      "The cuisine types are \n",
      "['Afghan' 'African' 'American' 'Armenian' 'Asian' 'Australian'\n",
      " 'Bagels/Pretzels' 'Bakery' 'Bangladeshi' 'Barbecue' 'Basque'\n",
      " 'Bottled beverages, including water, sodas, juices, etc.' 'Brazilian'\n",
      " 'Café/Coffee/Tea' 'Cajun' 'Californian' 'Caribbean' 'Chicken' 'Chilean'\n",
      " 'Chinese' 'Chinese/Cuban' 'Chinese/Japanese' 'Continental' 'Creole'\n",
      " 'Creole/Cajun' 'Czech' 'Delicatessen' 'Donuts' 'Eastern European'\n",
      " 'Egyptian' 'English' 'Ethiopian' 'Filipino' 'French' 'Fruits/Vegetables'\n",
      " 'German' 'Greek' 'Hamburgers' 'Hawaiian' 'Hotdogs' 'Hotdogs/Pretzels'\n",
      " 'Ice Cream, Gelato, Yogurt, Ices' 'Indian' 'Indonesian' 'Iranian' 'Irish'\n",
      " 'Italian' 'Japanese' 'Jewish/Kosher' 'Juice, Smoothies, Fruit Salads'\n",
      " 'Korean'\n",
      " 'Latin (Cuban, Dominican, Puerto Rican, South & Central American)'\n",
      " 'Mediterranean' 'Mexican' 'Middle Eastern' 'Moroccan'\n",
      " 'Not Listed/Not Applicable' 'Nuts/Confectionary' 'Other' 'Pakistani'\n",
      " 'Pancakes/Waffles' 'Peruvian' 'Pizza' 'Pizza/Italian' 'Polish'\n",
      " 'Portuguese' 'Russian' 'Salads' 'Sandwiches'\n",
      " 'Sandwiches/Salads/Mixed Buffet' 'Scandinavian' 'Seafood' 'Soul Food'\n",
      " 'Soups' 'Soups & Sandwiches' 'Southwestern' 'Spanish' 'Steak' 'Tapas'\n",
      " 'Tex-Mex' 'Thai' 'Turkish' 'Vegetarian' 'Vietnamese/Cambodian/Malaysia'].\n",
      "\n",
      "There are 1281 restaurants without any inspections.\n",
      "\n",
      "There are 31 inspection types:\n",
      "['Smoke-Free Air Act / Limited Inspection', 'Pre-permit (Non-operational) / Second Compliance Inspection', 'Pre-permit (Non-operational) / Compliance Inspection', 'Trans Fat / Compliance Inspection', 'Trans Fat / Re-inspection', 'Cycle Inspection / Second Compliance Inspection', 'Calorie Posting / Re-inspection', 'Pre-permit (Operational) / Reopening Inspection', 'Administrative Miscellaneous / Compliance Inspection', 'Administrative Miscellaneous / Second Compliance Inspection', 'Pre-permit (Operational) / Initial Inspection', 'Pre-permit (Operational) / Compliance Inspection', 'Calorie Posting / Compliance Inspection', 'Pre-permit (Non-operational) / Re-inspection', 'Inter-Agency Task Force / Initial Inspection', 'Pre-permit (Operational) / Second Compliance Inspection', 'Smoke-Free Air Act / Initial Inspection', 'Cycle Inspection / Re-inspection', 'Pre-permit (Non-operational) / Initial Inspection', 'Cycle Inspection / Compliance Inspection', 'Cycle Inspection / Initial Inspection', 'Administrative Miscellaneous / Reopening Inspection', 'Trans Fat / Initial Inspection', 'Smoke-Free Air Act / Compliance Inspection', 'Administrative Miscellaneous / Initial Inspection', 'Calorie Posting / Initial Inspection', 'Pre-permit (Operational) / Re-inspection', 'Cycle Inspection / Reopening Inspection', 'Trans Fat / Second Compliance Inspection', 'Administrative Miscellaneous / Re-inspection', 'Smoke-Free Air Act / Re-inspection'].\n",
      "\n",
      "The inspection dates are between 2013-06-07 00:00:00 to 2020-03-16 00:00:00.\n",
      "\n",
      "There are 104 violation types in this dataset.\n",
      "The violation codes are \n",
      "['10I', '16C', '19A1', '02J', '10J', '20D', '02A', '22G', '08B', '15G7', '08A', '03B', '15F2', '10D', '10C', '03C', '02F', '10G', '03A', '05H', '06C', '15T', '20E', '04G', '07A', '04C', '04B', '18G', '05B', '10B', '15F1', '15F8', '03F', '09A', '04E', '06D', '10A', '15L', '22A', '18C', '16E', '08C', '06F', '06G', '22F', '02E', '20A', '10F', '06E', '19A3', '15F6', '04L', '04A', '06I', '15F7', '04F', '04K', '04O', '02I', '03E', '06B', '02B', '02C', '04H', '15E2', '09B', '16B', '22E', '15K', '03D', '10E', '04J', '18D', '03G', '05E', '09C', '05D', '05F', '02H', '04M', '22C', '04D', '02G', '06A', '17A1', '22B', '04N', '16D', '06H', '20F', '15E3', '18B', '15A1', '02D', '05A', '18F', '16A', '15I', '04I', '17A3', '05C', '10H', '15S', '15J'].\n",
      "\n",
      "There are 89 violation description in this dataset.\n",
      "\n",
      "The range of score is from -1.0 to 164.0. There are 122 negative scores.\n",
      "\n",
      "There are 7 grade levels, including ['P', 'B', 'G', 'C', 'Z', 'N', 'A'].\n",
      "\n"
     ]
    }
   ],
   "source": [
    "print(f\"There are {len(np.unique(isp_data['CAMIS']))} restaurants in this dataset.\\n\")\n",
    "\n",
    "max_isp = isp_data.groupby(['CAMIS'])[['CUISINE DESCRIPTION']].count().sort_values(['CUISINE DESCRIPTION']).iloc[-1]\n",
    "\n",
    "print(f\"The restaurant with the maximal number of inspections is {isp_data[isp_data['CAMIS'] == max_isp.name].iloc[0]['DBA']} \\\n",
    "with {max_isp['CUISINE DESCRIPTION']} inspections.\\n\")\n",
    "\n",
    "print(f\"The Boroughs of the restaurant locations are {np.unique(isp_data['BORO'])}.\\n\\\n",
    "There are {len(np.unique(isp_data[isp_data['BORO'] == '0']['CAMIS']))} restaurants without Borough information.\\n\")\n",
    "\n",
    "print(f\"There are {len(np.unique(isp_data['CUISINE DESCRIPTION']))} cuisine types in this dataset.\\n\\\n",
    "The cuisine types are \\n{np.unique(isp_data['CUISINE DESCRIPTION'])}.\\n\")\n",
    "\n",
    "print(f\"There are {sum(isp_data['INSPECTION DATE'].dt.year == 1900)} restaurants without any inspections.\\n\")\n",
    "\n",
    "print(f\"There are {len(set(isp_data['INSPECTION TYPE'])) - 1} inspection types:\\n\\\n",
    "{list(set(isp_data['INSPECTION TYPE']))[1:]}.\\n\")\n",
    "\n",
    "print(f\"The inspection dates are between {np.min(isp_data[isp_data['INSPECTION DATE'].dt.year > 1900]['INSPECTION DATE'])} \\\n",
    "to {np.max(isp_data[isp_data['INSPECTION DATE'].dt.year > 1900]['INSPECTION DATE'])}.\\n\")\n",
    "\n",
    "print(f\"There are {len(set(isp_data['VIOLATION CODE'])) - 1} violation types in this dataset.\\n\\\n",
    "The violation codes are \\n{list(set(isp_data['VIOLATION CODE']))[1:]}.\\n\")\n",
    "\n",
    "print(f\"There are {len(set(isp_data['VIOLATION DESCRIPTION'])) - 1} violation description in this dataset.\\n\")\n",
    "\n",
    "print(f\"The range of score is from {np.min(isp_data['SCORE'])} to {np.max(isp_data['SCORE'])}. \\\n",
    "There are {sum(isp_data['SCORE'] < 0)} negative scores.\\n\")\n",
    "\n",
    "print(f\"There are {len(set(isp_data['GRADE'])) - 1} grade levels, including {list(set(isp_data['GRADE']))[1:]}.\\n\")"
   ]
  },
  {
   "cell_type": "markdown",
   "metadata": {},
   "source": [
    "## 4. Initial thoughts\n",
    "\n",
    "1) What is the distribution of restaurant locations?\n",
    " \n",
    "2) What is the distribution of the number of inspections per restaurant (per cuisine type)?\n",
    " \n",
    "3) What is the distribution of cuisine types?\n",
    " \n",
    "4) What is the distribution of inspection dates (per restaurant)?\n",
    " \n",
    "5) What is the distribution of gaps between the initial inspection and re-inspection?\n",
    " \n",
    "6) What is the distribution of grades?\n",
    "\n",
    "7) What is the probability of getting a grade \"A\" on re-inspection?\n",
    "\n",
    "8) What's the rank of Boroughs in the number of restaurants with grade \"A\"?\n",
    "\n",
    "9) What's the rank of cuisine types in the number of restaurants with grade \"A\"?\n",
    "\n",
    "10) I need to decide how to deal with restaurants that miss Borough or lon/lat information.\n",
    "\n",
    "11) There are seven grade levels. I may need to regrade the scores into just three grade levels of \"A\", \"B\", \"C\"."
   ]
  },
  {
   "cell_type": "markdown",
   "metadata": {},
   "source": [
    "## 5. Wrangling"
   ]
  },
  {
   "cell_type": "code",
   "execution_count": 8,
   "metadata": {},
   "outputs": [
    {
     "data": {
      "text/html": [
       "<div>\n",
       "<style scoped>\n",
       "    .dataframe tbody tr th:only-of-type {\n",
       "        vertical-align: middle;\n",
       "    }\n",
       "\n",
       "    .dataframe tbody tr th {\n",
       "        vertical-align: top;\n",
       "    }\n",
       "\n",
       "    .dataframe thead th {\n",
       "        text-align: right;\n",
       "    }\n",
       "</style>\n",
       "<table border=\"1\" class=\"dataframe\">\n",
       "  <thead>\n",
       "    <tr style=\"text-align: right;\">\n",
       "      <th></th>\n",
       "      <th>missing information</th>\n",
       "      <th>number of missing</th>\n",
       "      <th>overlap with BORO</th>\n",
       "      <th>overlap with Latitude</th>\n",
       "    </tr>\n",
       "  </thead>\n",
       "  <tbody>\n",
       "    <tr>\n",
       "      <th>0</th>\n",
       "      <td>BORO</td>\n",
       "      <td>8</td>\n",
       "      <td>-</td>\n",
       "      <td>-</td>\n",
       "    </tr>\n",
       "    <tr>\n",
       "      <th>1</th>\n",
       "      <td>Latitude</td>\n",
       "      <td>63</td>\n",
       "      <td>8</td>\n",
       "      <td>-</td>\n",
       "    </tr>\n",
       "    <tr>\n",
       "      <th>2</th>\n",
       "      <td>Longitude</td>\n",
       "      <td>63</td>\n",
       "      <td>8</td>\n",
       "      <td>63</td>\n",
       "    </tr>\n",
       "  </tbody>\n",
       "</table>\n",
       "</div>"
      ],
      "text/plain": [
       "  missing information  number of missing overlap with BORO  \\\n",
       "0                BORO                  8                 -   \n",
       "1            Latitude                 63                 8   \n",
       "2           Longitude                 63                 8   \n",
       "\n",
       "  overlap with Latitude  \n",
       "0                     -  \n",
       "1                     -  \n",
       "2                    63  "
      ]
     },
     "execution_count": 8,
     "metadata": {},
     "output_type": "execute_result"
    }
   ],
   "source": [
    "mis_boro = np.unique(isp_data[isp_data['BORO'] == '0']['CAMIS'])\n",
    "mis_lat = np.unique(isp_data[isp_data['Latitude'].isnull()]['CAMIS'])\n",
    "mis_lon = np.unique(isp_data[isp_data['Longitude'].isnull()]['CAMIS'])\n",
    "\n",
    "pd.DataFrame({'missing information': ['BORO', 'Latitude', 'Longitude'],\n",
    "              'number of missing': [len(mis_boro), len(mis_lat), len(mis_lon)],\n",
    "              'overlap with BORO': ['-', len(np.intersect1d(mis_boro, mis_lat)), len(np.intersect1d(mis_boro, mis_lon))],\n",
    "              'overlap with Latitude': ['-', '-', len(np.intersect1d(mis_lat, mis_lon))]})\n"
   ]
  },
  {
   "cell_type": "code",
   "execution_count": 9,
   "metadata": {},
   "outputs": [],
   "source": [
    "# Check if it's possible to fill those missing location information based on other rows\n",
    "dfg = isp_data.groupby(['CAMIS'])\n",
    "\n",
    "ids_1 = []\n",
    "for id in mis_boro:\n",
    "    if any(dfg.get_group(id)['BORO'] != '0'):\n",
    "        ids_1.append(id)\n",
    "        \n",
    "ids_2 = []\n",
    "for id in mis_lat:\n",
    "    if dfg.get_group(id)['Latitude'].notnull().any():\n",
    "        ids_2.append(id)\n"
   ]
  },
  {
   "cell_type": "code",
   "execution_count": 10,
   "metadata": {},
   "outputs": [
    {
     "data": {
      "text/plain": [
       "0"
      ]
     },
     "execution_count": 10,
     "metadata": {},
     "output_type": "execute_result"
    }
   ],
   "source": [
    "# it's not possible to fill any of the rows with missing Borough information based related rows\n",
    "len(ids_1)"
   ]
  },
  {
   "cell_type": "code",
   "execution_count": 11,
   "metadata": {},
   "outputs": [
    {
     "data": {
      "text/plain": [
       "0"
      ]
     },
     "execution_count": 11,
     "metadata": {},
     "output_type": "execute_result"
    }
   ],
   "source": [
    "# it's not possible to fill any of the rows with missing Lat/Lon information based related rows\n",
    "len(ids_2)"
   ]
  },
  {
   "cell_type": "markdown",
   "metadata": {},
   "source": [
    "> We still have the cuisine type information for those restaurants without location information, so I'll keep those rows."
   ]
  },
  {
   "cell_type": "code",
   "execution_count": 12,
   "metadata": {},
   "outputs": [],
   "source": [
    "mis_dba = np.unique(isp_data[isp_data['DBA'].isnull()]['CAMIS'])\n",
    "mis_build = np.unique(isp_data[isp_data['BUILDING'].isnull()]['CAMIS'])\n",
    "mis_zip = np.unique(isp_data[isp_data['ZIPCODE'].isnull()]['CAMIS'])\n",
    "\n",
    "# Check if it's possible to fill those missing information based on other rows\n",
    "\n",
    "ids_1 = []\n",
    "for id in mis_dba:\n",
    "    if dfg.get_group(id)['DBA'].notnull().any():\n",
    "        ids_1.append(id)\n",
    "        \n",
    "ids_2 = []\n",
    "for id in mis_build:\n",
    "    if dfg.get_group(id)['BUILDING'].notnull().any():\n",
    "        ids_2.append(id)\n",
    "        \n",
    "ids_3 = []\n",
    "for id in mis_zip:\n",
    "    if dfg.get_group(id)['ZIPCODE'].notnull().any():\n",
    "        ids_3.append(id)\n"
   ]
  },
  {
   "cell_type": "code",
   "execution_count": 13,
   "metadata": {},
   "outputs": [
    {
     "data": {
      "text/plain": [
       "0"
      ]
     },
     "execution_count": 13,
     "metadata": {},
     "output_type": "execute_result"
    }
   ],
   "source": [
    "# it's not possible to fill any of the rows with missing DBA information based related rows\n",
    "len(ids_1)"
   ]
  },
  {
   "cell_type": "code",
   "execution_count": 14,
   "metadata": {},
   "outputs": [
    {
     "data": {
      "text/plain": [
       "0"
      ]
     },
     "execution_count": 14,
     "metadata": {},
     "output_type": "execute_result"
    }
   ],
   "source": [
    "# it's not possible to fill any of the rows with missing building information based related rows\n",
    "len(ids_2)"
   ]
  },
  {
   "cell_type": "code",
   "execution_count": 15,
   "metadata": {},
   "outputs": [
    {
     "data": {
      "text/plain": [
       "0"
      ]
     },
     "execution_count": 15,
     "metadata": {},
     "output_type": "execute_result"
    }
   ],
   "source": [
    "# it's not possible to fill any of the rows with missing zipcode information based related rows\n",
    "len(ids_3)"
   ]
  },
  {
   "cell_type": "code",
   "execution_count": 16,
   "metadata": {},
   "outputs": [],
   "source": [
    "# check whether information for each restaurant is coherent.\n",
    "for id in dfg.groups.keys():\n",
    "    df = dfg.get_group(id)\n",
    "    for col in ['DBA', 'BORO', 'BUILDING', 'STREET', 'ZIPCODE', 'PHONE', \n",
    "                 'CUISINE DESCRIPTION', 'Latitude', 'Longitude']:\n",
    "        if not df[col].isnull().any() and len(np.unique(df[col])) > 1:\n",
    "            print(id, col, np.unique(df[col]))"
   ]
  },
  {
   "cell_type": "markdown",
   "metadata": {},
   "source": [
    "> Great, all those information is coherent."
   ]
  },
  {
   "cell_type": "code",
   "execution_count": 17,
   "metadata": {},
   "outputs": [
    {
     "name": "stderr",
     "output_type": "stream",
     "text": [
      "C:\\Users\\flizh\\Anaconda3\\lib\\site-packages\\ipykernel_launcher.py:8: SettingWithCopyWarning:\n",
      "\n",
      "\n",
      "A value is trying to be set on a copy of a slice from a DataFrame.\n",
      "Try using .loc[row_indexer,col_indexer] = value instead\n",
      "\n",
      "See the caveats in the documentation: https://pandas.pydata.org/pandas-docs/stable/user_guide/indexing.html#returning-a-view-versus-a-copy\n",
      "\n"
     ]
    }
   ],
   "source": [
    "# code inspection types into four groups: 0 : initial inspection, 1 : re-inspection, 2: reopening, -2: nan\n",
    "code = np.full([isp_data.shape[0]], -2)\n",
    "re_ips = isp_data['INSPECTION TYPE'].str.contains('Re-inspection|Second', flags=re.IGNORECASE, regex=True)\n",
    "re_op = isp_data['INSPECTION TYPE'].str.contains('Reopening', flags=re.IGNORECASE, regex=True)\n",
    "code[re_ips == True] = 1\n",
    "code[re_ips == False] = 0\n",
    "code[re_op == True] = 2\n",
    "isp_data['INSPECTION CODE'] = code\n",
    "\n",
    "# replace all nans with -2\n",
    "isp_data = isp_data.fillna(-2)"
   ]
  },
  {
   "cell_type": "code",
   "execution_count": 18,
   "metadata": {},
   "outputs": [],
   "source": [
    "# check whether scores and grades match. If not, re-assign the grades.\n",
    "dfg = isp_data.groupby(['CAMIS'])\n",
    "for id in dfg.groups.keys():\n",
    "    df = dfg.get_group(id)\n",
    "    for i in range(df.shape[0]):\n",
    "        \n",
    "        if df.iloc[i]['SCORE'] >= 0:\n",
    "            \n",
    "            if df.iloc[i]['INSPECTION CODE'] == 2:\n",
    "                if df.iloc[i]['GRADE'] != 'P':\n",
    "                    isp_data.loc[df.iloc[i].name, 'GRADE'] = 'P'\n",
    "                    \n",
    "            elif df.iloc[i]['SCORE'] < 14:\n",
    "                if df.iloc[i]['GRADE'] != 'A':\n",
    "                    isp_data.loc[df.iloc[i].name, 'GRADE'] = 'A'\n",
    "                    \n",
    "            elif df.iloc[i]['INSPECTION CODE'] == 1:\n",
    "                if 14 <= df.iloc[i]['SCORE'] < 28:\n",
    "                    if df.iloc[i]['GRADE'] != 'B':\n",
    "                        isp_data.loc[df.iloc[i].name, 'GRADE'] = 'B'\n",
    "                        \n",
    "                elif df.iloc[i]['GRADE'] != 'C':\n",
    "                    isp_data.loc[df.iloc[i].name, 'GRADE'] = 'C'\n",
    "                    \n",
    "            elif df.iloc[i]['INSPECTION CODE'] == 0:\n",
    "                if df.iloc[i]['GRADE'] != 'P':\n",
    "                    isp_data.loc[df.iloc[i].name, 'GRADE'] = 'P'\n",
    "                \n",
    "        elif df.iloc[i]['GRADE'] != -2 :\n",
    "            isp_data.loc[df.iloc[i].name, 'GRADE'] = -2"
   ]
  },
  {
   "cell_type": "code",
   "execution_count": 19,
   "metadata": {},
   "outputs": [],
   "source": [
    "# replace cuisine description with code\n",
    "code_to_cuisine = dict(zip(range(len(set(isp_data['CUISINE DESCRIPTION']))), set(isp_data['CUISINE DESCRIPTION'])))\n",
    "cuisine_to_code = dict(zip(set(isp_data['CUISINE DESCRIPTION']), range(len(set(isp_data['CUISINE DESCRIPTION'])))))\n",
    "isp_data['CUISINE DESCRIPTION'].replace(cuisine_to_code, inplace=True)\n",
    "\n",
    "# replace violation description with code\n",
    "code_to_violation = dict(zip(range(len(set(isp_data['VIOLATION DESCRIPTION'])) - 1), list(set(isp_data['VIOLATION DESCRIPTION']))[: -1]))\n",
    "violation_to_code = dict(zip(list(set(isp_data['VIOLATION DESCRIPTION']))[: -1], range(len(set(isp_data['VIOLATION DESCRIPTION'])) - 1)))\n",
    "isp_data['VIOLATION DESCRIPTION'].replace(violation_to_code, inplace=True)"
   ]
  },
  {
   "cell_type": "code",
   "execution_count": 20,
   "metadata": {},
   "outputs": [
    {
     "data": {
      "text/html": [
       "<div>\n",
       "<style scoped>\n",
       "    .dataframe tbody tr th:only-of-type {\n",
       "        vertical-align: middle;\n",
       "    }\n",
       "\n",
       "    .dataframe tbody tr th {\n",
       "        vertical-align: top;\n",
       "    }\n",
       "\n",
       "    .dataframe thead th {\n",
       "        text-align: right;\n",
       "    }\n",
       "</style>\n",
       "<table border=\"1\" class=\"dataframe\">\n",
       "  <thead>\n",
       "    <tr style=\"text-align: right;\">\n",
       "      <th></th>\n",
       "      <th>CAMIS</th>\n",
       "      <th>DBA</th>\n",
       "      <th>BORO</th>\n",
       "      <th>BUILDING</th>\n",
       "      <th>STREET</th>\n",
       "      <th>ZIPCODE</th>\n",
       "      <th>PHONE</th>\n",
       "      <th>CUISINE DESCRIPTION</th>\n",
       "      <th>INSPECTION TYPE</th>\n",
       "      <th>VIOLATION CODE</th>\n",
       "      <th>VIOLATION DESCRIPTION</th>\n",
       "      <th>Latitude</th>\n",
       "      <th>Longitude</th>\n",
       "      <th>SCORE</th>\n",
       "      <th>GRADE</th>\n",
       "      <th>INSPECTION DATE</th>\n",
       "      <th>INSPECTION CODE</th>\n",
       "    </tr>\n",
       "  </thead>\n",
       "  <tbody>\n",
       "    <tr>\n",
       "      <th>0</th>\n",
       "      <td>50082518</td>\n",
       "      <td>PAPA JOHN'S</td>\n",
       "      <td>Brooklyn</td>\n",
       "      <td>1408</td>\n",
       "      <td>NEPTUNE AVE</td>\n",
       "      <td>11224.0</td>\n",
       "      <td>7182657272</td>\n",
       "      <td>44</td>\n",
       "      <td>Calorie Posting / Re-inspection</td>\n",
       "      <td>16C</td>\n",
       "      <td>70</td>\n",
       "      <td>40.579177</td>\n",
       "      <td>-73.982177</td>\n",
       "      <td>-2.0</td>\n",
       "      <td>-2</td>\n",
       "      <td>2018-12-13</td>\n",
       "      <td>1</td>\n",
       "    </tr>\n",
       "    <tr>\n",
       "      <th>1</th>\n",
       "      <td>50018573</td>\n",
       "      <td>TURCO</td>\n",
       "      <td>Manhattan</td>\n",
       "      <td>604</td>\n",
       "      <td>9TH AVE</td>\n",
       "      <td>10036.0</td>\n",
       "      <td>2125108666</td>\n",
       "      <td>63</td>\n",
       "      <td>Cycle Inspection / Initial Inspection</td>\n",
       "      <td>08A</td>\n",
       "      <td>68</td>\n",
       "      <td>40.759235</td>\n",
       "      <td>-73.992026</td>\n",
       "      <td>48.0</td>\n",
       "      <td>P</td>\n",
       "      <td>2019-10-25</td>\n",
       "      <td>0</td>\n",
       "    </tr>\n",
       "    <tr>\n",
       "      <th>2</th>\n",
       "      <td>41600457</td>\n",
       "      <td>TABATA NOODLE RESTAURANT</td>\n",
       "      <td>Manhattan</td>\n",
       "      <td>540</td>\n",
       "      <td>9 AVENUE</td>\n",
       "      <td>10018.0</td>\n",
       "      <td>2122907681</td>\n",
       "      <td>78</td>\n",
       "      <td>Cycle Inspection / Re-inspection</td>\n",
       "      <td>04L</td>\n",
       "      <td>78</td>\n",
       "      <td>40.756993</td>\n",
       "      <td>-73.993654</td>\n",
       "      <td>28.0</td>\n",
       "      <td>C</td>\n",
       "      <td>2018-01-18</td>\n",
       "      <td>1</td>\n",
       "    </tr>\n",
       "    <tr>\n",
       "      <th>3</th>\n",
       "      <td>41405368</td>\n",
       "      <td>DYLAN MURPHY'S</td>\n",
       "      <td>Manhattan</td>\n",
       "      <td>1453</td>\n",
       "      <td>3 AVENUE</td>\n",
       "      <td>10028.0</td>\n",
       "      <td>2129889434</td>\n",
       "      <td>30</td>\n",
       "      <td>Cycle Inspection / Re-inspection</td>\n",
       "      <td>08A</td>\n",
       "      <td>68</td>\n",
       "      <td>40.776321</td>\n",
       "      <td>-73.955788</td>\n",
       "      <td>11.0</td>\n",
       "      <td>A</td>\n",
       "      <td>2018-04-10</td>\n",
       "      <td>1</td>\n",
       "    </tr>\n",
       "    <tr>\n",
       "      <th>4</th>\n",
       "      <td>41594669</td>\n",
       "      <td>TAR PIT</td>\n",
       "      <td>Brooklyn</td>\n",
       "      <td>135</td>\n",
       "      <td>WOODPOINT ROAD</td>\n",
       "      <td>11211.0</td>\n",
       "      <td>6464699494</td>\n",
       "      <td>52</td>\n",
       "      <td>Cycle Inspection / Initial Inspection</td>\n",
       "      <td>04L</td>\n",
       "      <td>78</td>\n",
       "      <td>40.717500</td>\n",
       "      <td>-73.941398</td>\n",
       "      <td>18.0</td>\n",
       "      <td>P</td>\n",
       "      <td>2019-02-14</td>\n",
       "      <td>0</td>\n",
       "    </tr>\n",
       "  </tbody>\n",
       "</table>\n",
       "</div>"
      ],
      "text/plain": [
       "      CAMIS                       DBA       BORO BUILDING          STREET  \\\n",
       "0  50082518               PAPA JOHN'S   Brooklyn     1408     NEPTUNE AVE   \n",
       "1  50018573                     TURCO  Manhattan      604         9TH AVE   \n",
       "2  41600457  TABATA NOODLE RESTAURANT  Manhattan      540        9 AVENUE   \n",
       "3  41405368            DYLAN MURPHY'S  Manhattan     1453        3 AVENUE   \n",
       "4  41594669                   TAR PIT   Brooklyn      135  WOODPOINT ROAD   \n",
       "\n",
       "   ZIPCODE       PHONE  CUISINE DESCRIPTION  \\\n",
       "0  11224.0  7182657272                   44   \n",
       "1  10036.0  2125108666                   63   \n",
       "2  10018.0  2122907681                   78   \n",
       "3  10028.0  2129889434                   30   \n",
       "4  11211.0  6464699494                   52   \n",
       "\n",
       "                         INSPECTION TYPE VIOLATION CODE  \\\n",
       "0        Calorie Posting / Re-inspection            16C   \n",
       "1  Cycle Inspection / Initial Inspection            08A   \n",
       "2       Cycle Inspection / Re-inspection            04L   \n",
       "3       Cycle Inspection / Re-inspection            08A   \n",
       "4  Cycle Inspection / Initial Inspection            04L   \n",
       "\n",
       "   VIOLATION DESCRIPTION   Latitude  Longitude  SCORE GRADE INSPECTION DATE  \\\n",
       "0                     70  40.579177 -73.982177   -2.0    -2      2018-12-13   \n",
       "1                     68  40.759235 -73.992026   48.0     P      2019-10-25   \n",
       "2                     78  40.756993 -73.993654   28.0     C      2018-01-18   \n",
       "3                     68  40.776321 -73.955788   11.0     A      2018-04-10   \n",
       "4                     78  40.717500 -73.941398   18.0     P      2019-02-14   \n",
       "\n",
       "   INSPECTION CODE  \n",
       "0                1  \n",
       "1                0  \n",
       "2                1  \n",
       "3                1  \n",
       "4                0  "
      ]
     },
     "execution_count": 20,
     "metadata": {},
     "output_type": "execute_result"
    }
   ],
   "source": [
    "isp_data.head()"
   ]
  },
  {
   "cell_type": "code",
   "execution_count": 21,
   "metadata": {},
   "outputs": [],
   "source": [
    "# save restaurant information\n",
    "rst_info = isp_data[['CAMIS', 'DBA', 'BORO', 'BUILDING',\n",
    "                     'STREET', 'ZIPCODE', 'PHONE',\n",
    "                     'CUISINE DESCRIPTION',\n",
    "                     'Latitude', 'Longitude']].drop_duplicates()\n",
    "rst_info.to_csv('../data/clean_data/nyc_restaurants_info.csv')"
   ]
  },
  {
   "cell_type": "code",
   "execution_count": 30,
   "metadata": {},
   "outputs": [],
   "source": [
    "# save inspection information\n",
    "isp_info = isp_data[['CAMIS', 'INSPECTION CODE', 'VIOLATION DESCRIPTION', \n",
    "                     'INSPECTION DATE', 'SCORE', 'GRADE']]\\\n",
    "[isp_data['SCORE'] >= 0].sort_values(['CAMIS', 'INSPECTION DATE'])\n",
    "\n",
    "isp_info.to_csv('../data/clean_data/nyc_restaurants_grades.csv', index=False)"
   ]
  },
  {
   "cell_type": "code",
   "execution_count": 23,
   "metadata": {},
   "outputs": [],
   "source": [
    "with open('../data/clean_data/code_to_cuisine.txt', 'w') as json_file:\n",
    "    json.dump(code_to_cuisine, json_file)\n",
    "    \n",
    "with open('../data/clean_data/cuisine_to_code.txt', 'w') as json_file:\n",
    "    json.dump(cuisine_to_code, json_file)\n",
    "\n",
    "with open('../data/clean_data/code_to_violation.txt', 'w') as json_file:\n",
    "    json.dump(code_to_violation, json_file)\n",
    "\n",
    "with open('../data/clean_data/violation_to_code.txt', 'w') as json_file:\n",
    "    json.dump(violation_to_code, json_file)"
   ]
  },
  {
   "cell_type": "markdown",
   "metadata": {},
   "source": [
    "## 6. Research questions\n",
    "\n",
    "1) Which Borough has the largest number of grade 'A' restaurants given a cuisine type?\n",
    "\n",
    "2) What are the cuisine types with the top five largest number of grade 'A' in a given Borough?\n",
    "\n",
    "3) What's the inspection history given a restaurant?"
   ]
  },
  {
   "cell_type": "markdown",
   "metadata": {},
   "source": [
    "## 7. Data Analysis & Visualizations"
   ]
  },
  {
   "cell_type": "code",
   "execution_count": 38,
   "metadata": {},
   "outputs": [
    {
     "data": {
      "text/html": [
       "<div>\n",
       "<style scoped>\n",
       "    .dataframe tbody tr th:only-of-type {\n",
       "        vertical-align: middle;\n",
       "    }\n",
       "\n",
       "    .dataframe tbody tr th {\n",
       "        vertical-align: top;\n",
       "    }\n",
       "\n",
       "    .dataframe thead th {\n",
       "        text-align: right;\n",
       "    }\n",
       "</style>\n",
       "<table border=\"1\" class=\"dataframe\">\n",
       "  <thead>\n",
       "    <tr style=\"text-align: right;\">\n",
       "      <th></th>\n",
       "      <th># of inspections per restaurant</th>\n",
       "    </tr>\n",
       "    <tr>\n",
       "      <th>CAMIS</th>\n",
       "      <th></th>\n",
       "    </tr>\n",
       "  </thead>\n",
       "  <tbody>\n",
       "    <tr>\n",
       "      <th>30075445</th>\n",
       "      <td>15</td>\n",
       "    </tr>\n",
       "    <tr>\n",
       "      <th>30112340</th>\n",
       "      <td>23</td>\n",
       "    </tr>\n",
       "    <tr>\n",
       "      <th>30191841</th>\n",
       "      <td>9</td>\n",
       "    </tr>\n",
       "    <tr>\n",
       "      <th>40356018</th>\n",
       "      <td>9</td>\n",
       "    </tr>\n",
       "    <tr>\n",
       "      <th>40356483</th>\n",
       "      <td>8</td>\n",
       "    </tr>\n",
       "  </tbody>\n",
       "</table>\n",
       "</div>"
      ],
      "text/plain": [
       "          # of inspections per restaurant\n",
       "CAMIS                                    \n",
       "30075445                               15\n",
       "30112340                               23\n",
       "30191841                                9\n",
       "40356018                                9\n",
       "40356483                                8"
      ]
     },
     "execution_count": 38,
     "metadata": {},
     "output_type": "execute_result"
    }
   ],
   "source": [
    "df_1 = isp_data.groupby(['CAMIS'])[['INSPECTION DATE']].count()\n",
    "df_1.columns = ['# of inspections per restaurant']\n",
    "df_1.head()"
   ]
  },
  {
   "cell_type": "code",
   "execution_count": 40,
   "metadata": {},
   "outputs": [],
   "source": [
    "fig = px.histogram(df_1, x='# of inspections per restaurant')\n",
    "fig.update_layout(title_text='The histogram of the number of inspections per restaurant')\n",
    "fig.write_html('../img/inspection_per_restaurant.html', auto_open=True)\n"
   ]
  },
  {
   "cell_type": "code",
   "execution_count": 42,
   "metadata": {},
   "outputs": [
    {
     "data": {
      "text/html": [
       "<div>\n",
       "<style scoped>\n",
       "    .dataframe tbody tr th:only-of-type {\n",
       "        vertical-align: middle;\n",
       "    }\n",
       "\n",
       "    .dataframe tbody tr th {\n",
       "        vertical-align: top;\n",
       "    }\n",
       "\n",
       "    .dataframe thead th {\n",
       "        text-align: right;\n",
       "    }\n",
       "</style>\n",
       "<table border=\"1\" class=\"dataframe\">\n",
       "  <thead>\n",
       "    <tr style=\"text-align: right;\">\n",
       "      <th></th>\n",
       "      <th>cuisine type</th>\n",
       "      <th>count</th>\n",
       "    </tr>\n",
       "  </thead>\n",
       "  <tbody>\n",
       "    <tr>\n",
       "      <th>0</th>\n",
       "      <td>American</td>\n",
       "      <td>5881</td>\n",
       "    </tr>\n",
       "    <tr>\n",
       "      <th>1</th>\n",
       "      <td>Chinese</td>\n",
       "      <td>2403</td>\n",
       "    </tr>\n",
       "    <tr>\n",
       "      <th>2</th>\n",
       "      <td>Café/Coffee/Tea</td>\n",
       "      <td>1879</td>\n",
       "    </tr>\n",
       "    <tr>\n",
       "      <th>3</th>\n",
       "      <td>Other</td>\n",
       "      <td>1447</td>\n",
       "    </tr>\n",
       "    <tr>\n",
       "      <th>4</th>\n",
       "      <td>Pizza</td>\n",
       "      <td>1207</td>\n",
       "    </tr>\n",
       "  </tbody>\n",
       "</table>\n",
       "</div>"
      ],
      "text/plain": [
       "      cuisine type  count\n",
       "0         American   5881\n",
       "1          Chinese   2403\n",
       "2  Café/Coffee/Tea   1879\n",
       "3            Other   1447\n",
       "4            Pizza   1207"
      ]
     },
     "execution_count": 42,
     "metadata": {},
     "output_type": "execute_result"
    }
   ],
   "source": [
    "df_2 = data[['CUISINE DESCRIPTION', 'CAMIS']].drop_duplicates().groupby(['CUISINE DESCRIPTION'])[['CAMIS']].\\\n",
    "             count().sort_values('CAMIS', ascending=False).reset_index().iloc[:30]\n",
    "df_2.columns = ['cuisine type', 'count']\n",
    "df_2.head()"
   ]
  },
  {
   "cell_type": "code",
   "execution_count": 43,
   "metadata": {},
   "outputs": [],
   "source": [
    "fig = px.bar(df_2, x=\"cuisine type\", y=\"count\", barmode='group')\n",
    "\n",
    "fig.update_layout(title_text='The number of restaurants per cuisine type (top 30)',\n",
    "                  margin={\"r\":10,\"t\":50,\"l\":10,\"b\":200})\n",
    "\n",
    "fig.write_html('../img/restaurants_per_cuisine_type.html', auto_open=True)"
   ]
  },
  {
   "cell_type": "code",
   "execution_count": 45,
   "metadata": {},
   "outputs": [
    {
     "data": {
      "text/html": [
       "<div>\n",
       "<style scoped>\n",
       "    .dataframe tbody tr th:only-of-type {\n",
       "        vertical-align: middle;\n",
       "    }\n",
       "\n",
       "    .dataframe tbody tr th {\n",
       "        vertical-align: top;\n",
       "    }\n",
       "\n",
       "    .dataframe thead th {\n",
       "        text-align: right;\n",
       "    }\n",
       "</style>\n",
       "<table border=\"1\" class=\"dataframe\">\n",
       "  <thead>\n",
       "    <tr style=\"text-align: right;\">\n",
       "      <th></th>\n",
       "      <th>grade</th>\n",
       "      <th># of restaurants</th>\n",
       "    </tr>\n",
       "  </thead>\n",
       "  <tbody>\n",
       "    <tr>\n",
       "      <th>0</th>\n",
       "      <td>A</td>\n",
       "      <td>21695</td>\n",
       "    </tr>\n",
       "    <tr>\n",
       "      <th>1</th>\n",
       "      <td>B</td>\n",
       "      <td>1246</td>\n",
       "    </tr>\n",
       "    <tr>\n",
       "      <th>2</th>\n",
       "      <td>C</td>\n",
       "      <td>330</td>\n",
       "    </tr>\n",
       "    <tr>\n",
       "      <th>3</th>\n",
       "      <td>P</td>\n",
       "      <td>2759</td>\n",
       "    </tr>\n",
       "  </tbody>\n",
       "</table>\n",
       "</div>"
      ],
      "text/plain": [
       "  grade  # of restaurants\n",
       "0     A             21695\n",
       "1     B              1246\n",
       "2     C               330\n",
       "3     P              2759"
      ]
     },
     "execution_count": 45,
     "metadata": {},
     "output_type": "execute_result"
    }
   ],
   "source": [
    "df_3 = pd.DataFrame(isp_info.groupby(['CAMIS']).apply(lambda x: x.iloc[-1]['GRADE']),\n",
    "                    columns=['GRADE'])\\\n",
    ".reset_index().groupby(['GRADE'])[['CAMIS']].count().reset_index()\n",
    "df_3.columns = ['grade', '# of restaurants']\n",
    "df_3"
   ]
  },
  {
   "cell_type": "code",
   "execution_count": 46,
   "metadata": {},
   "outputs": [],
   "source": [
    "fig = px.bar(df_3, x=\"grade\", y=\"# of restaurants\", barmode='group')\n",
    "fig.update_layout(title_text='The number of restaurants per grade')\n",
    "\n",
    "fig.write_html('../img/restaurant_per_grade.html', auto_open=True)"
   ]
  },
  {
   "cell_type": "code",
   "execution_count": null,
   "metadata": {},
   "outputs": [],
   "source": []
  },
  {
   "cell_type": "code",
   "execution_count": 27,
   "metadata": {},
   "outputs": [],
   "source": [
    "token = 'pk.eyJ1IjoiZmxpemhvdSIsImEiOiJjazg4Y2hjaW4wMjFlM3NtemhhNG90Z2ZzIn0.gxDbD64mpZbxE2HMjxEZng'"
   ]
  },
  {
   "cell_type": "code",
   "execution_count": 47,
   "metadata": {},
   "outputs": [],
   "source": [
    "fig = px.scatter_mapbox(rst_info, lat=\"Latitude\", lon=\"Longitude\", hover_name=\"DBA\", hover_data=[\"DBA\"],\n",
    "                        color_discrete_sequence=[\"fuchsia\"], zoom=3, height=300)\n",
    "fig.update_layout(mapbox_accesstoken=token)\n",
    "fig.update_layout(margin={\"r\":0,\"t\":0,\"l\":0,\"b\":0})\n",
    "\n",
    "fig.write_html('../img/restaurant_location.html', auto_open=True)"
   ]
  },
  {
   "cell_type": "code",
   "execution_count": null,
   "metadata": {},
   "outputs": [],
   "source": []
  },
  {
   "cell_type": "markdown",
   "metadata": {},
   "source": [
    "## 8. Summary and conclusions\n"
   ]
  },
  {
   "cell_type": "code",
   "execution_count": null,
   "metadata": {},
   "outputs": [],
   "source": []
  }
 ],
 "metadata": {
  "kernelspec": {
   "display_name": "Python 3",
   "language": "python",
   "name": "python3"
  },
  "language_info": {
   "codemirror_mode": {
    "name": "ipython",
    "version": 3
   },
   "file_extension": ".py",
   "mimetype": "text/x-python",
   "name": "python",
   "nbconvert_exporter": "python",
   "pygments_lexer": "ipython3",
   "version": "3.7.6"
  }
 },
 "nbformat": 4,
 "nbformat_minor": 4
}
