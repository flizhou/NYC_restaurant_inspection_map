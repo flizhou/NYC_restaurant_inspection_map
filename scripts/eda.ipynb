{
 "cells": [
  {
   "cell_type": "markdown",
   "metadata": {},
   "source": [
    "# Exploratory data analysis"
   ]
  },
  {
   "cell_type": "markdown",
   "metadata": {},
   "source": [
    "## 1. Dataset description\n",
    "\n",
    "I will visualize the [DOHMH New York City Restaurant Inspection Results](https://data.cityofnewyork.us/Health/DOHMH-New-York-City-Restaurant-Inspection-Results/rs6k-p7g6) dataset.\n",
    "\n",
    "- The dataset is provided by the [New York City OpenData](https://opendata.cityofnewyork.us/).\n",
    "\n",
    "- The dataset includes information about NYC restaurant names, locations, claims, inspections, violations, grades and adjudication. There are 26 variables, 19 of which are potentially useful and described here: \n",
    "\n",
    "    + CAMIS: an unique identifier of 10-digit integer for a restaurant. \n",
    "        \n",
    "    + DBA: \"doing business as\", the name of the restaurant.\n",
    "\n",
    "    + BORO: the Borough of the restaurant location.\n",
    "    \n",
    "    + BUILDING: the building of the restaurant location.\n",
    "    \n",
    "    + STREET: the street of the restaurant location.\n",
    "    \n",
    "    + ZIPCODE: the zipcode of the restaurant location.\n",
    "\n",
    "    + PHONE: the phone number of the restaurant.\n",
    "\n",
    "    + CUISINE DESCRIPTION: the cuisine type of the restaurant.\n",
    "\n",
    "    + INSPECTION DATE: the date of the inspection. the date 1/1/1900 indicates the restaurant has not yet received any inspections.\n",
    "\n",
    "    + ACTION: the action related with the inspection.\n",
    "\n",
    "    + VIOLATION CODE: the violation code related with the inspection.\n",
    "\n",
    "    + VIOLATION DESCRIPTION: the violation description related with the inspection.\n",
    "\n",
    "    + CRITICAL FLAG: an indicator of critical violation.\n",
    "\n",
    "    + INSPECTION TYPE: the type of inspection performed.\n",
    "\n",
    "    + Latitude: the latitude of the restaurant location.\n",
    "\n",
    "    + Longitude: the longitude of the restaurant location.\n",
    "\n",
    "    + SCORE: score for the inspection, updated based on adjudication results.\n",
    "\n",
    "    + GRADE: grade of the inspection. The grade is based on a two-step inspection process. A restaurant that doesn't receive a grade \"A\" on the initial inspection can be reinspected:\n",
    "        \n",
    "        - scoring less than 14 on the initial/re-inspection: grade \"A\";\n",
    "        \n",
    "        - scoring 14-27 on re-inspection: grade \"B\";\n",
    "        \n",
    "        - scoring 28 or more on re-inspection: grade \"C\";\n",
    "        \n",
    "        - reopening inspection: grade \"P\".\n",
    "\n",
    "- The current dataset was collected between April, 2016 and March, 2020.\n",
    "\n",
    "- The dataset is free to the public and was collected and provided by the Department of Health and Mental Hygiene (DOHMH). The purpose of this dataset is to collect recent restaurant inspection results.\n",
    "\n",
    "- The dataset may contain missing values and errors.\n"
   ]
  },
  {
   "cell_type": "markdown",
   "metadata": {},
   "source": [
    "## 2. Load the dataset"
   ]
  },
  {
   "cell_type": "code",
   "execution_count": 70,
   "metadata": {},
   "outputs": [],
   "source": [
    "import pandas as pd\n",
    "import numpy as np\n",
    "import re\n",
    "import json\n",
    "import plotly.express as px\n"
   ]
  },
  {
   "cell_type": "code",
   "execution_count": 2,
   "metadata": {},
   "outputs": [],
   "source": [
    "# dataset is downloaded from https://data.cityofnewyork.us/Health/DOHMH-New-York-City-Restaurant-Inspection-Results/rs6k-p7g6\n",
    "data = pd.read_csv('../data/raw_data/DOHMH_New_York_City_Restaurant_Inspection_Results.csv')"
   ]
  },
  {
   "cell_type": "markdown",
   "metadata": {},
   "source": [
    "## 3. Explore the dataset"
   ]
  },
  {
   "cell_type": "code",
   "execution_count": 3,
   "metadata": {},
   "outputs": [
    {
     "name": "stdout",
     "output_type": "stream",
     "text": [
      "<class 'pandas.core.frame.DataFrame'>\n",
      "RangeIndex: 402013 entries, 0 to 402012\n",
      "Data columns (total 26 columns):\n",
      " #   Column                 Non-Null Count   Dtype  \n",
      "---  ------                 --------------   -----  \n",
      " 0   CAMIS                  402013 non-null  int64  \n",
      " 1   DBA                    401647 non-null  object \n",
      " 2   BORO                   402013 non-null  object \n",
      " 3   BUILDING               401749 non-null  object \n",
      " 4   STREET                 402011 non-null  object \n",
      " 5   ZIPCODE                396529 non-null  float64\n",
      " 6   PHONE                  401996 non-null  object \n",
      " 7   CUISINE DESCRIPTION    402013 non-null  object \n",
      " 8   INSPECTION DATE        402013 non-null  object \n",
      " 9   ACTION                 400732 non-null  object \n",
      " 10  VIOLATION CODE         396459 non-null  object \n",
      " 11  VIOLATION DESCRIPTION  393064 non-null  object \n",
      " 12  CRITICAL FLAG          393064 non-null  object \n",
      " 13  SCORE                  385257 non-null  float64\n",
      " 14  GRADE                  203724 non-null  object \n",
      " 15  GRADE DATE             201065 non-null  object \n",
      " 16  RECORD DATE            402013 non-null  object \n",
      " 17  INSPECTION TYPE        400732 non-null  object \n",
      " 18  Latitude               401591 non-null  float64\n",
      " 19  Longitude              401591 non-null  float64\n",
      " 20  Community Board        396109 non-null  float64\n",
      " 21  Council District       396121 non-null  float64\n",
      " 22  Census Tract           396121 non-null  float64\n",
      " 23  BIN                    394362 non-null  float64\n",
      " 24  BBL                    401591 non-null  float64\n",
      " 25  NTA                    396109 non-null  object \n",
      "dtypes: float64(9), int64(1), object(16)\n",
      "memory usage: 79.7+ MB\n"
     ]
    }
   ],
   "source": [
    "data.info()"
   ]
  },
  {
   "cell_type": "code",
   "execution_count": 4,
   "metadata": {},
   "outputs": [
    {
     "name": "stderr",
     "output_type": "stream",
     "text": [
      "C:\\Users\\flizh\\Anaconda3\\lib\\site-packages\\ipykernel_launcher.py:8: SettingWithCopyWarning:\n",
      "\n",
      "\n",
      "A value is trying to be set on a copy of a slice from a DataFrame.\n",
      "Try using .loc[row_indexer,col_indexer] = value instead\n",
      "\n",
      "See the caveats in the documentation: https://pandas.pydata.org/pandas-docs/stable/user_guide/indexing.html#returning-a-view-versus-a-copy\n",
      "\n"
     ]
    }
   ],
   "source": [
    "# select columns of interest\n",
    "isp_data = data[['CAMIS', 'DBA', 'BORO', 'BUILDING',\n",
    "                 'STREET', 'ZIPCODE', 'PHONE', \n",
    "                 'CUISINE DESCRIPTION', 'INSPECTION TYPE',\n",
    "                 'VIOLATION CODE', 'VIOLATION DESCRIPTION', \n",
    "                 'Latitude', 'Longitude', 'SCORE', 'GRADE']]\n",
    "\n",
    "isp_data['INSPECTION DATE'] = pd.to_datetime(data['INSPECTION DATE'])"
   ]
  },
  {
   "cell_type": "code",
   "execution_count": 5,
   "metadata": {},
   "outputs": [
    {
     "data": {
      "text/html": [
       "<div>\n",
       "<style scoped>\n",
       "    .dataframe tbody tr th:only-of-type {\n",
       "        vertical-align: middle;\n",
       "    }\n",
       "\n",
       "    .dataframe tbody tr th {\n",
       "        vertical-align: top;\n",
       "    }\n",
       "\n",
       "    .dataframe thead th {\n",
       "        text-align: right;\n",
       "    }\n",
       "</style>\n",
       "<table border=\"1\" class=\"dataframe\">\n",
       "  <thead>\n",
       "    <tr style=\"text-align: right;\">\n",
       "      <th></th>\n",
       "      <th>CAMIS</th>\n",
       "      <th>DBA</th>\n",
       "      <th>BORO</th>\n",
       "      <th>BUILDING</th>\n",
       "      <th>STREET</th>\n",
       "      <th>ZIPCODE</th>\n",
       "      <th>PHONE</th>\n",
       "      <th>CUISINE DESCRIPTION</th>\n",
       "      <th>INSPECTION TYPE</th>\n",
       "      <th>VIOLATION CODE</th>\n",
       "      <th>VIOLATION DESCRIPTION</th>\n",
       "      <th>Latitude</th>\n",
       "      <th>Longitude</th>\n",
       "      <th>SCORE</th>\n",
       "      <th>GRADE</th>\n",
       "      <th>INSPECTION DATE</th>\n",
       "    </tr>\n",
       "  </thead>\n",
       "  <tbody>\n",
       "    <tr>\n",
       "      <th>0</th>\n",
       "      <td>50082518</td>\n",
       "      <td>PAPA JOHN'S</td>\n",
       "      <td>Brooklyn</td>\n",
       "      <td>1408</td>\n",
       "      <td>NEPTUNE AVE</td>\n",
       "      <td>11224.0</td>\n",
       "      <td>7182657272</td>\n",
       "      <td>Pizza</td>\n",
       "      <td>Calorie Posting / Re-inspection</td>\n",
       "      <td>16C</td>\n",
       "      <td>Caloric content not posted on menus, menu boar...</td>\n",
       "      <td>40.579177</td>\n",
       "      <td>-73.982177</td>\n",
       "      <td>NaN</td>\n",
       "      <td>NaN</td>\n",
       "      <td>2018-12-13</td>\n",
       "    </tr>\n",
       "    <tr>\n",
       "      <th>1</th>\n",
       "      <td>50018573</td>\n",
       "      <td>TURCO</td>\n",
       "      <td>Manhattan</td>\n",
       "      <td>604</td>\n",
       "      <td>9TH AVE</td>\n",
       "      <td>10036.0</td>\n",
       "      <td>2125108666</td>\n",
       "      <td>Middle Eastern</td>\n",
       "      <td>Cycle Inspection / Initial Inspection</td>\n",
       "      <td>08A</td>\n",
       "      <td>Facility not vermin proof. Harborage or condit...</td>\n",
       "      <td>40.759235</td>\n",
       "      <td>-73.992026</td>\n",
       "      <td>48.0</td>\n",
       "      <td>NaN</td>\n",
       "      <td>2019-10-25</td>\n",
       "    </tr>\n",
       "    <tr>\n",
       "      <th>2</th>\n",
       "      <td>41600457</td>\n",
       "      <td>TABATA NOODLE RESTAURANT</td>\n",
       "      <td>Manhattan</td>\n",
       "      <td>540</td>\n",
       "      <td>9 AVENUE</td>\n",
       "      <td>10018.0</td>\n",
       "      <td>2122907681</td>\n",
       "      <td>Japanese</td>\n",
       "      <td>Cycle Inspection / Re-inspection</td>\n",
       "      <td>04L</td>\n",
       "      <td>Evidence of mice or live mice present in facil...</td>\n",
       "      <td>40.756993</td>\n",
       "      <td>-73.993654</td>\n",
       "      <td>28.0</td>\n",
       "      <td>C</td>\n",
       "      <td>2018-01-18</td>\n",
       "    </tr>\n",
       "    <tr>\n",
       "      <th>3</th>\n",
       "      <td>41405368</td>\n",
       "      <td>DYLAN MURPHY'S</td>\n",
       "      <td>Manhattan</td>\n",
       "      <td>1453</td>\n",
       "      <td>3 AVENUE</td>\n",
       "      <td>10028.0</td>\n",
       "      <td>2129889434</td>\n",
       "      <td>American</td>\n",
       "      <td>Cycle Inspection / Re-inspection</td>\n",
       "      <td>08A</td>\n",
       "      <td>Facility not vermin proof. Harborage or condit...</td>\n",
       "      <td>40.776321</td>\n",
       "      <td>-73.955788</td>\n",
       "      <td>11.0</td>\n",
       "      <td>A</td>\n",
       "      <td>2018-04-10</td>\n",
       "    </tr>\n",
       "    <tr>\n",
       "      <th>4</th>\n",
       "      <td>41594669</td>\n",
       "      <td>TAR PIT</td>\n",
       "      <td>Brooklyn</td>\n",
       "      <td>135</td>\n",
       "      <td>WOODPOINT ROAD</td>\n",
       "      <td>11211.0</td>\n",
       "      <td>6464699494</td>\n",
       "      <td>Café/Coffee/Tea</td>\n",
       "      <td>Cycle Inspection / Initial Inspection</td>\n",
       "      <td>04L</td>\n",
       "      <td>Evidence of mice or live mice present in facil...</td>\n",
       "      <td>40.717500</td>\n",
       "      <td>-73.941398</td>\n",
       "      <td>18.0</td>\n",
       "      <td>NaN</td>\n",
       "      <td>2019-02-14</td>\n",
       "    </tr>\n",
       "  </tbody>\n",
       "</table>\n",
       "</div>"
      ],
      "text/plain": [
       "      CAMIS                       DBA       BORO BUILDING          STREET  \\\n",
       "0  50082518               PAPA JOHN'S   Brooklyn     1408     NEPTUNE AVE   \n",
       "1  50018573                     TURCO  Manhattan      604         9TH AVE   \n",
       "2  41600457  TABATA NOODLE RESTAURANT  Manhattan      540        9 AVENUE   \n",
       "3  41405368            DYLAN MURPHY'S  Manhattan     1453        3 AVENUE   \n",
       "4  41594669                   TAR PIT   Brooklyn      135  WOODPOINT ROAD   \n",
       "\n",
       "   ZIPCODE       PHONE CUISINE DESCRIPTION  \\\n",
       "0  11224.0  7182657272               Pizza   \n",
       "1  10036.0  2125108666      Middle Eastern   \n",
       "2  10018.0  2122907681            Japanese   \n",
       "3  10028.0  2129889434            American   \n",
       "4  11211.0  6464699494     Café/Coffee/Tea   \n",
       "\n",
       "                         INSPECTION TYPE VIOLATION CODE  \\\n",
       "0        Calorie Posting / Re-inspection            16C   \n",
       "1  Cycle Inspection / Initial Inspection            08A   \n",
       "2       Cycle Inspection / Re-inspection            04L   \n",
       "3       Cycle Inspection / Re-inspection            08A   \n",
       "4  Cycle Inspection / Initial Inspection            04L   \n",
       "\n",
       "                               VIOLATION DESCRIPTION   Latitude  Longitude  \\\n",
       "0  Caloric content not posted on menus, menu boar...  40.579177 -73.982177   \n",
       "1  Facility not vermin proof. Harborage or condit...  40.759235 -73.992026   \n",
       "2  Evidence of mice or live mice present in facil...  40.756993 -73.993654   \n",
       "3  Facility not vermin proof. Harborage or condit...  40.776321 -73.955788   \n",
       "4  Evidence of mice or live mice present in facil...  40.717500 -73.941398   \n",
       "\n",
       "   SCORE GRADE INSPECTION DATE  \n",
       "0    NaN   NaN      2018-12-13  \n",
       "1   48.0   NaN      2019-10-25  \n",
       "2   28.0     C      2018-01-18  \n",
       "3   11.0     A      2018-04-10  \n",
       "4   18.0   NaN      2019-02-14  "
      ]
     },
     "execution_count": 5,
     "metadata": {},
     "output_type": "execute_result"
    }
   ],
   "source": [
    "isp_data.head()"
   ]
  },
  {
   "cell_type": "code",
   "execution_count": 6,
   "metadata": {},
   "outputs": [
    {
     "name": "stdout",
     "output_type": "stream",
     "text": [
      "<class 'pandas.core.frame.DataFrame'>\n",
      "RangeIndex: 402013 entries, 0 to 402012\n",
      "Data columns (total 16 columns):\n",
      " #   Column                 Non-Null Count   Dtype         \n",
      "---  ------                 --------------   -----         \n",
      " 0   CAMIS                  402013 non-null  int64         \n",
      " 1   DBA                    401647 non-null  object        \n",
      " 2   BORO                   402013 non-null  object        \n",
      " 3   BUILDING               401749 non-null  object        \n",
      " 4   STREET                 402011 non-null  object        \n",
      " 5   ZIPCODE                396529 non-null  float64       \n",
      " 6   PHONE                  401996 non-null  object        \n",
      " 7   CUISINE DESCRIPTION    402013 non-null  object        \n",
      " 8   INSPECTION TYPE        400732 non-null  object        \n",
      " 9   VIOLATION CODE         396459 non-null  object        \n",
      " 10  VIOLATION DESCRIPTION  393064 non-null  object        \n",
      " 11  Latitude               401591 non-null  float64       \n",
      " 12  Longitude              401591 non-null  float64       \n",
      " 13  SCORE                  385257 non-null  float64       \n",
      " 14  GRADE                  203724 non-null  object        \n",
      " 15  INSPECTION DATE        402013 non-null  datetime64[ns]\n",
      "dtypes: datetime64[ns](1), float64(4), int64(1), object(10)\n",
      "memory usage: 49.1+ MB\n"
     ]
    }
   ],
   "source": [
    "isp_data.info()"
   ]
  },
  {
   "cell_type": "code",
   "execution_count": 8,
   "metadata": {},
   "outputs": [
    {
     "name": "stdout",
     "output_type": "stream",
     "text": [
      "There are 27311 restaurants in this dataset.\n",
      "\n",
      "The restaurant with the maximal number of inspections is ORCHID DYNASTY RESTAURANT with 98 inspections.\n",
      "\n",
      "The Boroughs of the restaurant locations are ['0' 'Bronx' 'Brooklyn' 'Manhattan' 'Queens' 'Staten Island'].\n",
      "There are 8 restaurants without Borough information.\n",
      "\n",
      "There are 84 cuisine types in this dataset.\n",
      "The cuisine types are \n",
      "['Afghan' 'African' 'American' 'Armenian' 'Asian' 'Australian'\n",
      " 'Bagels/Pretzels' 'Bakery' 'Bangladeshi' 'Barbecue' 'Basque'\n",
      " 'Bottled beverages, including water, sodas, juices, etc.' 'Brazilian'\n",
      " 'Café/Coffee/Tea' 'Cajun' 'Californian' 'Caribbean' 'Chicken' 'Chilean'\n",
      " 'Chinese' 'Chinese/Cuban' 'Chinese/Japanese' 'Continental' 'Creole'\n",
      " 'Creole/Cajun' 'Czech' 'Delicatessen' 'Donuts' 'Eastern European'\n",
      " 'Egyptian' 'English' 'Ethiopian' 'Filipino' 'French' 'Fruits/Vegetables'\n",
      " 'German' 'Greek' 'Hamburgers' 'Hawaiian' 'Hotdogs' 'Hotdogs/Pretzels'\n",
      " 'Ice Cream, Gelato, Yogurt, Ices' 'Indian' 'Indonesian' 'Iranian' 'Irish'\n",
      " 'Italian' 'Japanese' 'Jewish/Kosher' 'Juice, Smoothies, Fruit Salads'\n",
      " 'Korean'\n",
      " 'Latin (Cuban, Dominican, Puerto Rican, South & Central American)'\n",
      " 'Mediterranean' 'Mexican' 'Middle Eastern' 'Moroccan'\n",
      " 'Not Listed/Not Applicable' 'Nuts/Confectionary' 'Other' 'Pakistani'\n",
      " 'Pancakes/Waffles' 'Peruvian' 'Pizza' 'Pizza/Italian' 'Polish'\n",
      " 'Portuguese' 'Russian' 'Salads' 'Sandwiches'\n",
      " 'Sandwiches/Salads/Mixed Buffet' 'Scandinavian' 'Seafood' 'Soul Food'\n",
      " 'Soups' 'Soups & Sandwiches' 'Southwestern' 'Spanish' 'Steak' 'Tapas'\n",
      " 'Tex-Mex' 'Thai' 'Turkish' 'Vegetarian' 'Vietnamese/Cambodian/Malaysia'].\n",
      "\n",
      "There are 1281 restaurants without any inspections.\n",
      "\n",
      "There are 31 inspection types:\n",
      "['Trans Fat / Second Compliance Inspection', 'Administrative Miscellaneous / Initial Inspection', 'Administrative Miscellaneous / Re-inspection', 'Administrative Miscellaneous / Reopening Inspection', 'Administrative Miscellaneous / Compliance Inspection', 'Smoke-Free Air Act / Initial Inspection', 'Cycle Inspection / Re-inspection', 'Pre-permit (Operational) / Reopening Inspection', 'Smoke-Free Air Act / Re-inspection', 'Calorie Posting / Re-inspection', 'Trans Fat / Compliance Inspection', 'Cycle Inspection / Second Compliance Inspection', 'Calorie Posting / Compliance Inspection', 'Pre-permit (Operational) / Initial Inspection', 'Cycle Inspection / Compliance Inspection', 'Pre-permit (Operational) / Second Compliance Inspection', 'Calorie Posting / Initial Inspection', 'Pre-permit (Non-operational) / Second Compliance Inspection', 'Smoke-Free Air Act / Compliance Inspection', 'Trans Fat / Initial Inspection', 'Pre-permit (Non-operational) / Initial Inspection', 'Trans Fat / Re-inspection', 'Pre-permit (Operational) / Re-inspection', 'Cycle Inspection / Initial Inspection', 'Pre-permit (Non-operational) / Re-inspection', 'Administrative Miscellaneous / Second Compliance Inspection', 'Pre-permit (Non-operational) / Compliance Inspection', 'Pre-permit (Operational) / Compliance Inspection', 'Cycle Inspection / Reopening Inspection', 'Inter-Agency Task Force / Initial Inspection', 'Smoke-Free Air Act / Limited Inspection'].\n",
      "\n",
      "The inspection dates are between 2013-06-07 00:00:00 to 2020-03-16 00:00:00.\n",
      "\n",
      "There are 104 violation types in this dataset.\n",
      "The violation codes are \n",
      "['18D', '16D', '20E', '03F', '06H', '03A', '04D', '15E2', '05D', '03E', '09C', '06I', '06E', '10G', '15S', '03C', '10D', '05H', '02H', '18F', '15F2', '04K', '04M', '08B', '15F1', '18G', '05E', '15F8', '16E', '03B', '06B', '18B', '03G', '08A', '19A1', '08C', '09A', '15T', '10C', '15I', '15K', '17A3', '05B', '02F', '10E', '02A', '22B', '06A', '02D', '10J', '04B', '17A1', '20D', '04F', '16C', '15G7', '04A', '10F', '02G', '02B', '03D', '22A', '05F', '04I', '10H', '22C', '22G', '04O', '15J', '06F', '05A', '04G', '02I', '15L', '10A', '07A', '04E', '06C', '18C', '22E', '04H', '22F', '15F7', '02C', '19A3', '02J', '20A', '16A', '20F', '15E3', '15F6', '16B', '10I', '09B', '04N', '06G', '04J', '15A1', '04C', '04L', '10B', '06D', '05C', '02E'].\n",
      "\n",
      "The range of score is from -1.0 to 164.0. There are 122 negative scores.\n",
      "\n",
      "There are 7 grade levels, including ['P', 'G', 'Z', 'C', 'N', 'B', 'A'].\n",
      "\n"
     ]
    }
   ],
   "source": [
    "print(f\"There are {len(np.unique(isp_data['CAMIS']))} restaurants in this dataset.\\n\")\n",
    "\n",
    "max_isp = isp_data.groupby(['CAMIS'])[['CUISINE DESCRIPTION']].count().sort_values(['CUISINE DESCRIPTION']).iloc[-1]\n",
    "\n",
    "print(f\"The restaurant with the maximal number of inspections is {isp_data[isp_data['CAMIS'] == max_isp.name].iloc[0]['DBA']} \\\n",
    "with {max_isp['CUISINE DESCRIPTION']} inspections.\\n\")\n",
    "\n",
    "print(f\"The Boroughs of the restaurant locations are {np.unique(isp_data['BORO'])}.\\n\\\n",
    "There are {len(np.unique(isp_data[isp_data['BORO'] == '0']['CAMIS']))} restaurants without Borough information.\\n\")\n",
    "\n",
    "print(f\"There are {len(np.unique(isp_data['CUISINE DESCRIPTION']))} cuisine types in this dataset.\\n\\\n",
    "The cuisine types are \\n{np.unique(isp_data['CUISINE DESCRIPTION'])}.\\n\")\n",
    "\n",
    "print(f\"There are {sum(isp_data['INSPECTION DATE'].dt.year == 1900)} restaurants without any inspections.\\n\")\n",
    "\n",
    "print(f\"There are {len(set(isp_data['INSPECTION TYPE'])) - 1} inspection types:\\n\\\n",
    "{list(set(isp_data['INSPECTION TYPE']))[1:]}.\\n\")\n",
    "\n",
    "print(f\"The inspection dates are between {np.min(isp_data[isp_data['INSPECTION DATE'].dt.year > 1900]['INSPECTION DATE'])} \\\n",
    "to {np.max(isp_data[isp_data['INSPECTION DATE'].dt.year > 1900]['INSPECTION DATE'])}.\\n\")\n",
    "\n",
    "print(f\"There are {len(set(isp_data['VIOLATION CODE'])) - 1} violation types in this dataset.\\n\\\n",
    "The violation codes are \\n{list(set(isp_data['VIOLATION CODE']))[1:]}.\\n\")\n",
    "\n",
    "print(f\"There are {len(set(isp_data['VIOLATION DESCRIPTION'])) - 1} violation description in this dataset.\\n\")\n",
    "\n",
    "print(f\"The range of score is from {np.min(isp_data['SCORE'])} to {np.max(isp_data['SCORE'])}. \\\n",
    "There are {sum(isp_data['SCORE'] < 0)} negative scores.\\n\")\n",
    "\n",
    "print(f\"There are {len(set(isp_data['GRADE'])) - 1} grade levels, including {list(set(isp_data['GRADE']))[1:]}.\\n\")"
   ]
  },
  {
   "cell_type": "markdown",
   "metadata": {},
   "source": [
    "## 4. Initial thoughts\n",
    "\n",
    "1) What is the distribution of restaurant locations?\n",
    " \n",
    "2) What is the distribution of the number of inspections per restaurant (per cuisine type)?\n",
    " \n",
    "3) What is the distribution of cuisine types?\n",
    " \n",
    "4) What is the distribution of inspection dates (per restaurant)?\n",
    " \n",
    "5) What is the distribution of gaps between the initial inspection and re-inspection?\n",
    " \n",
    "6) What is the distribution of grades?\n",
    "\n",
    "7) What is the probability of getting a grade \"A\" on re-inspection?\n",
    "\n",
    "8) What's the rank of Boroughs in the number of restaurants with grade \"A\"?\n",
    "\n",
    "9) What's the rank of cuisine types in the number of restaurants with grade \"A\"?\n",
    "\n",
    "10) I need to decide how to deal with restaurants that miss Borough or lon/lat information.\n",
    "\n",
    "11) There are seven grade levels. I may need to regrade the scores into just three grade levels of \"A\", \"B\", \"C\"."
   ]
  },
  {
   "cell_type": "markdown",
   "metadata": {},
   "source": [
    "## 5. Wrangling"
   ]
  },
  {
   "cell_type": "code",
   "execution_count": 9,
   "metadata": {},
   "outputs": [
    {
     "data": {
      "text/html": [
       "<div>\n",
       "<style scoped>\n",
       "    .dataframe tbody tr th:only-of-type {\n",
       "        vertical-align: middle;\n",
       "    }\n",
       "\n",
       "    .dataframe tbody tr th {\n",
       "        vertical-align: top;\n",
       "    }\n",
       "\n",
       "    .dataframe thead th {\n",
       "        text-align: right;\n",
       "    }\n",
       "</style>\n",
       "<table border=\"1\" class=\"dataframe\">\n",
       "  <thead>\n",
       "    <tr style=\"text-align: right;\">\n",
       "      <th></th>\n",
       "      <th>missing information</th>\n",
       "      <th>number of missing</th>\n",
       "      <th>overlap with BORO</th>\n",
       "      <th>overlap with Latitude</th>\n",
       "    </tr>\n",
       "  </thead>\n",
       "  <tbody>\n",
       "    <tr>\n",
       "      <th>0</th>\n",
       "      <td>BORO</td>\n",
       "      <td>8</td>\n",
       "      <td>-</td>\n",
       "      <td>-</td>\n",
       "    </tr>\n",
       "    <tr>\n",
       "      <th>1</th>\n",
       "      <td>Latitude</td>\n",
       "      <td>63</td>\n",
       "      <td>8</td>\n",
       "      <td>-</td>\n",
       "    </tr>\n",
       "    <tr>\n",
       "      <th>2</th>\n",
       "      <td>Longitude</td>\n",
       "      <td>63</td>\n",
       "      <td>8</td>\n",
       "      <td>63</td>\n",
       "    </tr>\n",
       "  </tbody>\n",
       "</table>\n",
       "</div>"
      ],
      "text/plain": [
       "  missing information  number of missing overlap with BORO  \\\n",
       "0                BORO                  8                 -   \n",
       "1            Latitude                 63                 8   \n",
       "2           Longitude                 63                 8   \n",
       "\n",
       "  overlap with Latitude  \n",
       "0                     -  \n",
       "1                     -  \n",
       "2                    63  "
      ]
     },
     "execution_count": 9,
     "metadata": {},
     "output_type": "execute_result"
    }
   ],
   "source": [
    "mis_boro = np.unique(isp_data[isp_data['BORO'] == '0']['CAMIS'])\n",
    "mis_lat = np.unique(isp_data[isp_data['Latitude'].isnull()]['CAMIS'])\n",
    "mis_lon = np.unique(isp_data[isp_data['Longitude'].isnull()]['CAMIS'])\n",
    "\n",
    "pd.DataFrame({'missing information': ['BORO', 'Latitude', 'Longitude'],\n",
    "              'number of missing': [len(mis_boro), len(mis_lat), len(mis_lon)],\n",
    "              'overlap with BORO': ['-', len(np.intersect1d(mis_boro, mis_lat)), len(np.intersect1d(mis_boro, mis_lon))],\n",
    "              'overlap with Latitude': ['-', '-', len(np.intersect1d(mis_lat, mis_lon))]})\n"
   ]
  },
  {
   "cell_type": "code",
   "execution_count": 10,
   "metadata": {},
   "outputs": [],
   "source": [
    "# Check if it's possible to fill those missing location information based on other rows\n",
    "dfg = isp_data.groupby(['CAMIS'])\n",
    "\n",
    "ids_1 = []\n",
    "for id in mis_boro:\n",
    "    if any(dfg.get_group(id)['BORO'] != '0'):\n",
    "        ids_1.append(id)\n",
    "        \n",
    "ids_2 = []\n",
    "for id in mis_lat:\n",
    "    if dfg.get_group(id)['Latitude'].notnull().any():\n",
    "        ids_2.append(id)\n"
   ]
  },
  {
   "cell_type": "code",
   "execution_count": 11,
   "metadata": {},
   "outputs": [
    {
     "data": {
      "text/plain": [
       "0"
      ]
     },
     "execution_count": 11,
     "metadata": {},
     "output_type": "execute_result"
    }
   ],
   "source": [
    "# it's not possible to fill any of the rows with missing Borough information based related rows\n",
    "len(ids_1)"
   ]
  },
  {
   "cell_type": "code",
   "execution_count": 12,
   "metadata": {},
   "outputs": [
    {
     "data": {
      "text/plain": [
       "0"
      ]
     },
     "execution_count": 12,
     "metadata": {},
     "output_type": "execute_result"
    }
   ],
   "source": [
    "# it's not possible to fill any of the rows with missing Lat/Lon information based related rows\n",
    "len(ids_2)"
   ]
  },
  {
   "cell_type": "markdown",
   "metadata": {},
   "source": [
    "> We still have the cuisine type information for those restaurants without location information, so I'll keep those rows."
   ]
  },
  {
   "cell_type": "code",
   "execution_count": 13,
   "metadata": {},
   "outputs": [],
   "source": [
    "mis_dba = np.unique(isp_data[isp_data['DBA'].isnull()]['CAMIS'])\n",
    "mis_build = np.unique(isp_data[isp_data['BUILDING'].isnull()]['CAMIS'])\n",
    "mis_zip = np.unique(isp_data[isp_data['ZIPCODE'].isnull()]['CAMIS'])\n",
    "\n",
    "# Check if it's possible to fill those missing information based on other rows\n",
    "\n",
    "ids_1 = []\n",
    "for id in mis_dba:\n",
    "    if dfg.get_group(id)['DBA'].notnull().any():\n",
    "        ids_1.append(id)\n",
    "        \n",
    "ids_2 = []\n",
    "for id in mis_build:\n",
    "    if dfg.get_group(id)['BUILDING'].notnull().any():\n",
    "        ids_2.append(id)\n",
    "        \n",
    "ids_3 = []\n",
    "for id in mis_zip:\n",
    "    if dfg.get_group(id)['ZIPCODE'].notnull().any():\n",
    "        ids_3.append(id)\n"
   ]
  },
  {
   "cell_type": "code",
   "execution_count": 14,
   "metadata": {},
   "outputs": [
    {
     "data": {
      "text/plain": [
       "0"
      ]
     },
     "execution_count": 14,
     "metadata": {},
     "output_type": "execute_result"
    }
   ],
   "source": [
    "# it's not possible to fill any of the rows with missing DBA information based related rows\n",
    "len(ids_1)"
   ]
  },
  {
   "cell_type": "code",
   "execution_count": 15,
   "metadata": {},
   "outputs": [
    {
     "data": {
      "text/plain": [
       "0"
      ]
     },
     "execution_count": 15,
     "metadata": {},
     "output_type": "execute_result"
    }
   ],
   "source": [
    "# it's not possible to fill any of the rows with missing building information based related rows\n",
    "len(ids_2)"
   ]
  },
  {
   "cell_type": "code",
   "execution_count": 16,
   "metadata": {},
   "outputs": [
    {
     "data": {
      "text/plain": [
       "0"
      ]
     },
     "execution_count": 16,
     "metadata": {},
     "output_type": "execute_result"
    }
   ],
   "source": [
    "# it's not possible to fill any of the rows with missing zipcode information based related rows\n",
    "len(ids_3)"
   ]
  },
  {
   "cell_type": "code",
   "execution_count": 17,
   "metadata": {},
   "outputs": [],
   "source": [
    "# check whether information for each restaurant is coherent.\n",
    "for id in dfg.groups.keys():\n",
    "    df = dfg.get_group(id)\n",
    "    for col in ['DBA', 'BORO', 'BUILDING', 'STREET', 'ZIPCODE', 'PHONE', \n",
    "                 'CUISINE DESCRIPTION', 'Latitude', 'Longitude']:\n",
    "        if not df[col].isnull().any() and len(np.unique(df[col])) > 1:\n",
    "            print(id, col, np.unique(df[col]))"
   ]
  },
  {
   "cell_type": "markdown",
   "metadata": {},
   "source": [
    "> Great, all those information is coherent."
   ]
  },
  {
   "cell_type": "code",
   "execution_count": 18,
   "metadata": {},
   "outputs": [
    {
     "name": "stderr",
     "output_type": "stream",
     "text": [
      "C:\\Users\\flizh\\Anaconda3\\lib\\site-packages\\ipykernel_launcher.py:8: SettingWithCopyWarning:\n",
      "\n",
      "\n",
      "A value is trying to be set on a copy of a slice from a DataFrame.\n",
      "Try using .loc[row_indexer,col_indexer] = value instead\n",
      "\n",
      "See the caveats in the documentation: https://pandas.pydata.org/pandas-docs/stable/user_guide/indexing.html#returning-a-view-versus-a-copy\n",
      "\n"
     ]
    }
   ],
   "source": [
    "# code inspection types into four groups: 0 : initial inspection, 1 : re-inspection, 2: reopening, -2: nan\n",
    "code = np.full([isp_data.shape[0]], -2)\n",
    "re_ips = isp_data['INSPECTION TYPE'].str.contains('Re-inspection|Second', flags=re.IGNORECASE, regex=True)\n",
    "re_op = isp_data['INSPECTION TYPE'].str.contains('Reopening', flags=re.IGNORECASE, regex=True)\n",
    "code[re_ips == True] = 1\n",
    "code[re_ips == False] = 0\n",
    "code[re_op == True] = 2\n",
    "isp_data['INSPECTION CODE'] = code\n",
    "\n",
    "# replace all nans with -2\n",
    "isp_data = isp_data.fillna(-2)"
   ]
  },
  {
   "cell_type": "code",
   "execution_count": 19,
   "metadata": {},
   "outputs": [],
   "source": [
    "# check whether scores and grades match. If not, re-assign the grades.\n",
    "dfg = isp_data.groupby(['CAMIS'])\n",
    "for id in dfg.groups.keys():\n",
    "    df = dfg.get_group(id)\n",
    "    for i in range(df.shape[0]):\n",
    "        \n",
    "        if df.iloc[i]['SCORE'] >= 0:\n",
    "            \n",
    "            if df.iloc[i]['INSPECTION CODE'] == 2:\n",
    "                if df.iloc[i]['GRADE'] != 'P':\n",
    "                    isp_data.loc[df.iloc[i].name, 'GRADE'] = 'P'\n",
    "                    \n",
    "            elif 0 <= df.iloc[i]['SCORE'] < 14:\n",
    "                if df.iloc[i]['GRADE'] != 'A':\n",
    "                    isp_data.loc[df.iloc[i].name, 'GRADE'] = 'A'\n",
    "                    \n",
    "            elif df.iloc[i]['INSPECTION CODE'] == 1:\n",
    "                if 14 <= df.iloc[i]['SCORE'] < 28:\n",
    "                    if df.iloc[i]['GRADE'] != 'B':\n",
    "                        isp_data.loc[df.iloc[i].name, 'GRADE'] = 'B'\n",
    "                        \n",
    "                elif df.iloc[i]['GRADE'] != 'C':\n",
    "                    isp_data.loc[df.iloc[i].name, 'GRADE'] = 'C'\n",
    "                    \n",
    "        elif df.iloc[i]['GRADE'] != -2 :\n",
    "            isp_data.loc[df.iloc[i].name, 'GRADE'] = -2"
   ]
  },
  {
   "cell_type": "code",
   "execution_count": 52,
   "metadata": {},
   "outputs": [],
   "source": [
    "# replace cuisine description with code\n",
    "code_to_cuisine = dict(zip(range(len(set(isp_data['CUISINE DESCRIPTION']))), set(isp_data['CUISINE DESCRIPTION'])))\n",
    "cuisine_to_code = dict(zip(set(isp_data['CUISINE DESCRIPTION']), range(len(set(isp_data['CUISINE DESCRIPTION'])))))\n",
    "isp_data['CUISINE DESCRIPTION'].replace(cuisine_to_code, inplace=True)\n",
    "\n",
    "# replace violation description with code\n",
    "code_to_violation = dict(zip(range(len(set(isp_data['VIOLATION DESCRIPTION'])) - 1), list(set(isp_data['VIOLATION DESCRIPTION']))[: -1]))\n",
    "violation_to_code = dict(zip(list(set(isp_data['VIOLATION DESCRIPTION']))[: -1], range(len(set(isp_data['VIOLATION DESCRIPTION'])) - 1)))\n",
    "isp_data['VIOLATION DESCRIPTION'].replace(violation_to_code, inplace=True)"
   ]
  },
  {
   "cell_type": "code",
   "execution_count": 64,
   "metadata": {},
   "outputs": [
    {
     "data": {
      "text/html": [
       "<div>\n",
       "<style scoped>\n",
       "    .dataframe tbody tr th:only-of-type {\n",
       "        vertical-align: middle;\n",
       "    }\n",
       "\n",
       "    .dataframe tbody tr th {\n",
       "        vertical-align: top;\n",
       "    }\n",
       "\n",
       "    .dataframe thead th {\n",
       "        text-align: right;\n",
       "    }\n",
       "</style>\n",
       "<table border=\"1\" class=\"dataframe\">\n",
       "  <thead>\n",
       "    <tr style=\"text-align: right;\">\n",
       "      <th></th>\n",
       "      <th>CAMIS</th>\n",
       "      <th>DBA</th>\n",
       "      <th>BORO</th>\n",
       "      <th>BUILDING</th>\n",
       "      <th>STREET</th>\n",
       "      <th>ZIPCODE</th>\n",
       "      <th>PHONE</th>\n",
       "      <th>CUISINE DESCRIPTION</th>\n",
       "      <th>INSPECTION TYPE</th>\n",
       "      <th>VIOLATION CODE</th>\n",
       "      <th>VIOLATION DESCRIPTION</th>\n",
       "      <th>Latitude</th>\n",
       "      <th>Longitude</th>\n",
       "      <th>SCORE</th>\n",
       "      <th>GRADE</th>\n",
       "      <th>INSPECTION DATE</th>\n",
       "      <th>INSPECTION CODE</th>\n",
       "    </tr>\n",
       "  </thead>\n",
       "  <tbody>\n",
       "    <tr>\n",
       "      <th>0</th>\n",
       "      <td>50082518</td>\n",
       "      <td>PAPA JOHN'S</td>\n",
       "      <td>Brooklyn</td>\n",
       "      <td>1408</td>\n",
       "      <td>NEPTUNE AVE</td>\n",
       "      <td>11224.0</td>\n",
       "      <td>7182657272</td>\n",
       "      <td>45</td>\n",
       "      <td>Calorie Posting / Re-inspection</td>\n",
       "      <td>16C</td>\n",
       "      <td>84</td>\n",
       "      <td>40.579177</td>\n",
       "      <td>-73.982177</td>\n",
       "      <td>-2.0</td>\n",
       "      <td>-2</td>\n",
       "      <td>2018-12-13</td>\n",
       "      <td>1</td>\n",
       "    </tr>\n",
       "    <tr>\n",
       "      <th>1</th>\n",
       "      <td>50018573</td>\n",
       "      <td>TURCO</td>\n",
       "      <td>Manhattan</td>\n",
       "      <td>604</td>\n",
       "      <td>9TH AVE</td>\n",
       "      <td>10036.0</td>\n",
       "      <td>2125108666</td>\n",
       "      <td>48</td>\n",
       "      <td>Cycle Inspection / Initial Inspection</td>\n",
       "      <td>08A</td>\n",
       "      <td>7</td>\n",
       "      <td>40.759235</td>\n",
       "      <td>-73.992026</td>\n",
       "      <td>48.0</td>\n",
       "      <td>-2</td>\n",
       "      <td>2019-10-25</td>\n",
       "      <td>0</td>\n",
       "    </tr>\n",
       "    <tr>\n",
       "      <th>2</th>\n",
       "      <td>41600457</td>\n",
       "      <td>TABATA NOODLE RESTAURANT</td>\n",
       "      <td>Manhattan</td>\n",
       "      <td>540</td>\n",
       "      <td>9 AVENUE</td>\n",
       "      <td>10018.0</td>\n",
       "      <td>2122907681</td>\n",
       "      <td>34</td>\n",
       "      <td>Cycle Inspection / Re-inspection</td>\n",
       "      <td>04L</td>\n",
       "      <td>21</td>\n",
       "      <td>40.756993</td>\n",
       "      <td>-73.993654</td>\n",
       "      <td>28.0</td>\n",
       "      <td>C</td>\n",
       "      <td>2018-01-18</td>\n",
       "      <td>1</td>\n",
       "    </tr>\n",
       "    <tr>\n",
       "      <th>3</th>\n",
       "      <td>41405368</td>\n",
       "      <td>DYLAN MURPHY'S</td>\n",
       "      <td>Manhattan</td>\n",
       "      <td>1453</td>\n",
       "      <td>3 AVENUE</td>\n",
       "      <td>10028.0</td>\n",
       "      <td>2129889434</td>\n",
       "      <td>42</td>\n",
       "      <td>Cycle Inspection / Re-inspection</td>\n",
       "      <td>08A</td>\n",
       "      <td>7</td>\n",
       "      <td>40.776321</td>\n",
       "      <td>-73.955788</td>\n",
       "      <td>11.0</td>\n",
       "      <td>A</td>\n",
       "      <td>2018-04-10</td>\n",
       "      <td>1</td>\n",
       "    </tr>\n",
       "    <tr>\n",
       "      <th>4</th>\n",
       "      <td>41594669</td>\n",
       "      <td>TAR PIT</td>\n",
       "      <td>Brooklyn</td>\n",
       "      <td>135</td>\n",
       "      <td>WOODPOINT ROAD</td>\n",
       "      <td>11211.0</td>\n",
       "      <td>6464699494</td>\n",
       "      <td>65</td>\n",
       "      <td>Cycle Inspection / Initial Inspection</td>\n",
       "      <td>04L</td>\n",
       "      <td>21</td>\n",
       "      <td>40.717500</td>\n",
       "      <td>-73.941398</td>\n",
       "      <td>18.0</td>\n",
       "      <td>-2</td>\n",
       "      <td>2019-02-14</td>\n",
       "      <td>0</td>\n",
       "    </tr>\n",
       "  </tbody>\n",
       "</table>\n",
       "</div>"
      ],
      "text/plain": [
       "      CAMIS                       DBA       BORO BUILDING          STREET  \\\n",
       "0  50082518               PAPA JOHN'S   Brooklyn     1408     NEPTUNE AVE   \n",
       "1  50018573                     TURCO  Manhattan      604         9TH AVE   \n",
       "2  41600457  TABATA NOODLE RESTAURANT  Manhattan      540        9 AVENUE   \n",
       "3  41405368            DYLAN MURPHY'S  Manhattan     1453        3 AVENUE   \n",
       "4  41594669                   TAR PIT   Brooklyn      135  WOODPOINT ROAD   \n",
       "\n",
       "   ZIPCODE       PHONE  CUISINE DESCRIPTION  \\\n",
       "0  11224.0  7182657272                   45   \n",
       "1  10036.0  2125108666                   48   \n",
       "2  10018.0  2122907681                   34   \n",
       "3  10028.0  2129889434                   42   \n",
       "4  11211.0  6464699494                   65   \n",
       "\n",
       "                         INSPECTION TYPE VIOLATION CODE  \\\n",
       "0        Calorie Posting / Re-inspection            16C   \n",
       "1  Cycle Inspection / Initial Inspection            08A   \n",
       "2       Cycle Inspection / Re-inspection            04L   \n",
       "3       Cycle Inspection / Re-inspection            08A   \n",
       "4  Cycle Inspection / Initial Inspection            04L   \n",
       "\n",
       "   VIOLATION DESCRIPTION   Latitude  Longitude  SCORE GRADE INSPECTION DATE  \\\n",
       "0                     84  40.579177 -73.982177   -2.0    -2      2018-12-13   \n",
       "1                      7  40.759235 -73.992026   48.0    -2      2019-10-25   \n",
       "2                     21  40.756993 -73.993654   28.0     C      2018-01-18   \n",
       "3                      7  40.776321 -73.955788   11.0     A      2018-04-10   \n",
       "4                     21  40.717500 -73.941398   18.0    -2      2019-02-14   \n",
       "\n",
       "   INSPECTION CODE  \n",
       "0                1  \n",
       "1                0  \n",
       "2                1  \n",
       "3                1  \n",
       "4                0  "
      ]
     },
     "execution_count": 64,
     "metadata": {},
     "output_type": "execute_result"
    }
   ],
   "source": [
    "isp_data.head()"
   ]
  },
  {
   "cell_type": "code",
   "execution_count": 68,
   "metadata": {},
   "outputs": [],
   "source": [
    "rst_info = isp_data[['CAMIS', 'DBA', 'BORO', 'BUILDING',\n",
    "                     'STREET', 'ZIPCODE', 'PHONE',\n",
    "                     'CUISINE DESCRIPTION',\n",
    "                     'Latitude', 'Longitude']].drop_duplicates()\n",
    "rst_info.to_csv('../data/clean_data/nyc_restaurants_info.csv')"
   ]
  },
  {
   "cell_type": "code",
   "execution_count": 69,
   "metadata": {},
   "outputs": [],
   "source": [
    "isp_info = isp_data[['CAMIS', 'INSPECTION CODE', 'VIOLATION DESCRIPTION', 'INSPECTION DATE', 'GRADE']]\\\n",
    "[isp_data['GRADE'] != -2].sort_values(['CAMIS', 'INSPECTION DATE'])\n",
    "\n",
    "isp_info.to_csv('../data/clean_data/nyc_restaurants_grades.csv', index=False)"
   ]
  },
  {
   "cell_type": "code",
   "execution_count": 72,
   "metadata": {},
   "outputs": [],
   "source": [
    "with open('../data/clean_data/code_to_cuisine.txt', 'w') as json_file:\n",
    "    json.dump(code_to_cuisine, json_file)\n",
    "    \n",
    "with open('../data/clean_data/cuisine_to_code.txt', 'w') as json_file:\n",
    "    json.dump(cuisine_to_code, json_file)\n",
    "\n",
    "with open('../data/clean_data/code_to_violation.txt', 'w') as json_file:\n",
    "    json.dump(code_to_violation, json_file)\n",
    "\n",
    "with open('../data/clean_data/violation_to_code.txt', 'w') as json_file:\n",
    "    json.dump(violation_to_code, json_file)"
   ]
  },
  {
   "cell_type": "markdown",
   "metadata": {},
   "source": [
    "## 6. Research questions\n",
    "\n",
    "1) Which Borough has the largest number of grade 'A' restaurants given a cuisine type?\n",
    "\n",
    "2) What are the cuisine types with the top five largest number of grade 'A' in a given Borough?\n",
    "\n",
    "3) What's the inspection history given a restaurant?"
   ]
  },
  {
   "cell_type": "markdown",
   "metadata": {},
   "source": [
    "## 7. Data Analysis & Visualizations"
   ]
  },
  {
   "cell_type": "code",
   "execution_count": null,
   "metadata": {},
   "outputs": [],
   "source": []
  },
  {
   "cell_type": "code",
   "execution_count": 201,
   "metadata": {},
   "outputs": [],
   "source": [
    "token = 'pk.eyJ1IjoiZmxpemhvdSIsImEiOiJjazg4Y2hjaW4wMjFlM3NtemhhNG90Z2ZzIn0.gxDbD64mpZbxE2HMjxEZng'"
   ]
  },
  {
   "cell_type": "code",
   "execution_count": 16,
   "metadata": {},
   "outputs": [
    {
     "data": {
      "application/vnd.plotly.v1+json": {
       "config": {
        "plotlyServerURL": "https://plot.ly"
       },
       "data": [
        {
         "customdata": [
          [
           "MAMA MIA 44 SW",
           18
          ],
          [
           "TEPPEN RAMEN",
           21
          ],
          [
           "MOLE",
           24
          ],
          [
           "ZIO TOTO",
           76
          ],
          [
           "MOCHA MOCHA COFFEE",
           19
          ],
          [
           "ANGKOR CAMBODIAN BISTRO",
           9
          ],
          [
           "CHINA WOK",
           5
          ],
          [
           "ANTOJITOS AND NATURAL JUICE BAR",
           39
          ],
          [
           "EVERGREEN 858 LLC",
           40
          ],
          [
           "NICHE NICHE",
           null
          ],
          [
           "CHINA ONE RESTAURANT",
           8
          ],
          [
           "OASIS GRILL & BAR",
           27
          ],
          [
           "CHOI FOOK RESTAURANT",
           25
          ],
          [
           "STARBUCKS",
           5
          ],
          [
           "POCHA 32",
           27
          ],
          [
           "TAUROS BAR AND RESTAURANT",
           20
          ],
          [
           "KAVKAZKIY DVORIK",
           null
          ],
          [
           "ANDIAMO CAFE",
           17
          ],
          [
           "GOLDEN KRUST CARIBBEAN BAKERY & GRILL",
           14
          ],
          [
           "DRAGON GARDEN",
           11
          ],
          [
           "IPANEMA RESTAURANT",
           24
          ],
          [
           "WONG ASIAN FOOD",
           26
          ],
          [
           "PRIMOLA RESTAURANT",
           21
          ],
          [
           "VILLA TAPIA RESTAURANT",
           31
          ],
          [
           "BARCELO RESTAURANT",
           12
          ],
          [
           "THE KATI ROLL COMPANY",
           4
          ],
          [
           "TASTY DELICIOUS WEST INDIAN BAKERY & RESTAURANT",
           12
          ],
          [
           "BURGER KING",
           3
          ],
          [
           "BLACK SEED BAGEL",
           2
          ],
          [
           "TEMPLE COURT",
           12
          ],
          [
           "DENNY'S",
           15
          ],
          [
           "FLAME",
           14
          ],
          [
           "JIAN ON CHINESE RESTAURANT",
           9
          ],
          [
           "NEW GOOD TASTE CHINESE RESTAURANT",
           32
          ],
          [
           "RICHIE RICH",
           10
          ],
          [
           "VENICE PIZZA",
           12
          ],
          [
           "V-BREAD CAFE NY",
           30
          ],
          [
           "SOPHIE'S CUBAN CUISINE",
           20
          ],
          [
           "PARAISO AZTECA RESTAURANT",
           26
          ],
          [
           "BAGEL BIN",
           33
          ],
          [
           "JOE'S PIZZA & PASTA",
           26
          ],
          [
           "TEN DEGREES",
           22
          ],
          [
           "WANG EASTERN OF ZHANG",
           19
          ],
          [
           "EL GRAN VALLE RESTAURANT",
           33
          ],
          [
           "DUNKIN'",
           56
          ],
          [
           "MILLIE'S DELI",
           16
          ],
          [
           "THE LOCAL",
           23
          ],
          [
           "FISHERMAN'S COVE",
           12
          ],
          [
           "CULTURE ESPRESSO",
           6
          ],
          [
           "BRUNSWICK",
           20
          ],
          [
           "MARKET CRATES",
           10
          ],
          [
           "EAST COAST",
           13
          ],
          [
           "JULES BISTRO",
           27
          ],
          [
           "CORNER BISTRO",
           21
          ],
          [
           "DUNKIN', BASKIN ROBBINS",
           20
          ],
          [
           "SUBWAY",
           12
          ],
          [
           "BOMBAY GRILL AND CURRY",
           57
          ],
          [
           "RIKO PERUVIAN CUISINE",
           37
          ],
          [
           "MR. BING OF 28TH STREET",
           22
          ],
          [
           "GRAMERCY KITCHEN",
           13
          ],
          [
           "ROYAL QUEEN/THE REAL KTV",
           21
          ],
          [
           "GIRALDA BAKERY",
           4
          ],
          [
           "AMBASSADOR THEATRE",
           0
          ],
          [
           "ALFONSO'S PASTRY SHOPPE",
           13
          ],
          [
           "SAZON DE LUPITA",
           13
          ],
          [
           "COWGIRL SEAHORSE",
           null
          ],
          [
           "NEW CARRIZAL RESTAURANT",
           24
          ],
          [
           "TONE AUTHENTIC GEORGIAN BAKERY & CUISINE",
           13
          ],
          [
           "TERRAVITA BAR & KITCHEN",
           null
          ],
          [
           "ROSARITO FISH SHACK & SHELTER PIZZA",
           44
          ],
          [
           "LE CAFE COFFEE",
           9
          ],
          [
           "TABLE 87",
           32
          ],
          [
           "CREATE",
           21
          ],
          [
           "CAMPANIA COAL FIRED PIZZA",
           2
          ],
          [
           "EDWIN DELI GROCERY",
           91
          ],
          [
           "CLINTON STREET BAKING COMPANY",
           30
          ],
          [
           "OKUDA",
           null
          ],
          [
           "CHAMPIGNON",
           10
          ],
          [
           "SINGLE ORIGIN CAFE",
           10
          ],
          [
           "TAJ KEBAB",
           17
          ],
          [
           "NEEROB RESTAURANT",
           12
          ],
          [
           "PADDY QUINNS",
           9
          ],
          [
           "DON POLLO",
           12
          ],
          [
           "TASTE OF LAHORE",
           29
          ],
          [
           "THE GRANT CITY TAVERN",
           12
          ],
          [
           "STOUT",
           5
          ],
          [
           "A & R FOOD SERVICE BLDG 14",
           30
          ],
          [
           "MAMAN",
           21
          ],
          [
           "UNCLE LOUIE G'S ITALIAN ICES & ICE CREAM",
           23
          ],
          [
           "DUNKIN",
           4
          ],
          [
           "GREAT WALL RESTAURANT",
           13
          ],
          [
           "ALGONQUIN HOTEL/BLUE BAR",
           33
          ],
          [
           "MATECANA BAKERY & RESTAURANT",
           54
          ],
          [
           "EL NUEVO SANDY RESTAURANT",
           27
          ],
          [
           "RED MOON",
           19
          ],
          [
           "NIEVES TIA MIMI ICEES",
           null
          ],
          [
           "JERK HOUSE CARIBBEAN RESTAURANT",
           25
          ],
          [
           "LUGO LOUNGE & RESTAURANT",
           19
          ],
          [
           "LORENZOS BAR & GRILL (HILTON GARDEN)",
           21
          ],
          [
           "DINOSAUR BAR-B-QUE",
           25
          ],
          [
           "THURSDAY KITCEHN",
           4
          ],
          [
           "BOB BAR",
           10
          ],
          [
           "BLOSSOM DUJOUR",
           16
          ],
          [
           "CURRY EXPRESS",
           14
          ],
          [
           "SHAKING CRAB",
           38
          ],
          [
           "COURT DELI RESTAURANT",
           12
          ],
          [
           "FUJI SUSHI",
           37
          ],
          [
           "LA FOGATA",
           11
          ],
          [
           "TRUFA RESTAURANT",
           12
          ],
          [
           "Hibachi Express",
           13
          ],
          [
           "ATTRAVERSA",
           15
          ],
          [
           "TRIBECA'S KITCHEN",
           13
          ],
          [
           "PERSHING SQUARE CAFE",
           60
          ],
          [
           "MISS LILY'S 7A",
           13
          ],
          [
           "C.U.N.Y CAFE",
           17
          ],
          [
           "CREATIVE EDGE CATERERS",
           null
          ],
          [
           "PAPA JOHN'S",
           23
          ],
          [
           "NIO'S WEST INDIAN RESTAURANT & BAKERY",
           10
          ],
          [
           "18 LOUNGE KTV",
           79
          ],
          [
           "Lolo's Seafood Shack",
           12
          ],
          [
           "BA'AL CAFE AND FALAFEL",
           12
          ],
          [
           "LI'S GARDEN",
           18
          ],
          [
           "SALUD BAR & GRILL",
           12
          ],
          [
           "POLLERIA AZOGUENITA",
           20
          ],
          [
           "MACDOUGAL STREET ALEHOUSE",
           10
          ],
          [
           "POKE BOWL",
           null
          ],
          [
           "CRAZY WILLY'S",
           37
          ],
          [
           "KORNER CHICKEN-N-PIZZA",
           23
          ],
          [
           "REGGAE TASTE",
           12
          ],
          [
           "IL PORTO BRICK OVEN RISTORANTE",
           12
          ],
          [
           "CALIBRE 78",
           2
          ],
          [
           "ROMEO'S PIZZERIA",
           12
          ],
          [
           "HANK'S JUICY BEEF",
           6
          ],
          [
           "ARROGANT SWINE",
           7
          ],
          [
           "WING LING",
           44
          ],
          [
           "CHARLEY MOM KITCHEN",
           11
          ],
          [
           "US FRIED CHICKEN",
           12
          ],
          [
           "HANSOL NUTRITION CENTER",
           54
          ],
          [
           "SCHMACKARY'S",
           6
          ],
          [
           "DONUT SHOPPE",
           28
          ],
          [
           "THE STRAND BISTRO",
           19
          ],
          [
           "GOTTSCHEER HALL",
           50
          ],
          [
           "TASTE THE TROPICS ICE CREAM",
           13
          ],
          [
           "NEW ISLAND",
           12
          ],
          [
           "HONG KONG STATION",
           12
          ],
          [
           "LI LI CHINESE FOOD",
           13
          ],
          [
           "TRAILER PARK LOUNGE",
           23
          ],
          [
           "L.A. BURRITO",
           19
          ],
          [
           "VISTA HERMOSA RESTAURANT",
           26
          ],
          [
           "PASCALOU",
           13
          ],
          [
           "AU BON PAIN",
           11
          ],
          [
           "RICO CHIMI",
           13
          ],
          [
           "MCDONALD'S RESTAURANT",
           12
          ],
          [
           "CHEERS THAI RESTAURANT",
           16
          ],
          [
           "STARBUCKS",
           6
          ],
          [
           "STOUT",
           20
          ],
          [
           "PAPA JOHN'S PIZZA",
           12
          ],
          [
           "SHESHE PIZZERIA",
           15
          ],
          [
           "THE VNYL",
           59
          ],
          [
           "FOOD HUT RESTAURANT & BAKERY",
           13
          ],
          [
           "BONCHON",
           58
          ],
          [
           "AVP COFFEE SHOP",
           61
          ],
          [
           "LA FLOR DEL PARAISO RESTAURANT",
           60
          ],
          [
           "STARBUCKS",
           17
          ],
          [
           "KING'S ARMS RESTAURANT",
           17
          ],
          [
           "MR. CHICKEN TO GO",
           23
          ],
          [
           "ICHI UMI",
           31
          ],
          [
           "AU BON PAIN",
           10
          ],
          [
           "NEW DRAGON SEA CHINESE RESTAURANT",
           12
          ],
          [
           "LEAF ROOFTOP LOUNGE",
           9
          ],
          [
           "GRAND ARMY BAR",
           16
          ],
          [
           "LA POLLERA COLORADA II",
           48
          ],
          [
           "M & O BAGELS",
           24
          ],
          [
           "HUMMUS MARKET",
           20
          ],
          [
           "OCEAN CHINESE RESTAURANT",
           8
          ],
          [
           "ATLANTIC GRILL WEST",
           13
          ],
          [
           "FU LAI O KITCHEN",
           48
          ],
          [
           "CHINANTLA RESTAURANT",
           null
          ],
          [
           "CUCUMBER SUSHI & SALAD BAR",
           9
          ],
          [
           "THE RUSTY KNOT",
           11
          ],
          [
           "DONGSHENG SHI FANG",
           29
          ],
          [
           "CHARLEYS PHILLY STEAKS",
           9
          ],
          [
           "MONARCH",
           23
          ],
          [
           "DILL AND PARSLEY",
           10
          ],
          [
           "LA BONA PIZZA & PASTA",
           12
          ],
          [
           "MINI GALAXY",
           41
          ],
          [
           "CHUCK E. CHEESE'S",
           14
          ],
          [
           "KAZAN MANGAL",
           24
          ],
          [
           "SANDRO'S",
           27
          ],
          [
           "375 THRICE COOKED FRIES",
           41
          ],
          [
           "MILANES SPANISH RESTAURANT",
           11
          ],
          [
           "SOFIA'S TAQUERIA",
           null
          ],
          [
           "STARBUCKS",
           23
          ],
          [
           "MEHAK",
           4
          ],
          [
           "TAK KING CHINESE RESTAURANT",
           null
          ],
          [
           "BEST CARIBBEAN RESTAURANT & GRILL",
           40
          ],
          [
           "MCDONALD'S",
           12
          ],
          [
           "YOLIE'S BAR & RESTAURANT",
           38
          ],
          [
           "LA GRAN URUGUAYA BAKERY & RESTAURANT",
           13
          ],
          [
           "ANTICA RISTORANTE",
           18
          ],
          [
           "MASTER GRILL",
           12
          ],
          [
           "A-1 PIZZA SHOP",
           13
          ],
          [
           "COCO THAI",
           9
          ],
          [
           "MARY O'S",
           12
          ],
          [
           "CHECKERS",
           33
          ],
          [
           "SWEET CHICK",
           11
          ],
          [
           "DUNKIN'",
           23
          ],
          [
           "PG PIZZA",
           12
          ],
          [
           "RICHMOND BAGEL & GOURMET DELI",
           26
          ],
          [
           "OASIS CAFE",
           35
          ],
          [
           "SERAFINA",
           15
          ],
          [
           "MACARON CAFE",
           28
          ],
          [
           "RIZZO FINE PIZZA",
           25
          ],
          [
           "BARBOUNIA",
           24
          ],
          [
           "FALANSAI",
           6
          ],
          [
           "FINGERLINKING RESTURANT",
           13
          ],
          [
           "CHINA TASTES",
           null
          ],
          [
           "UNCLE JACK'S STEAKHOUSE",
           10
          ],
          [
           "SILVER PALACE CHINESE RESTAURANT",
           27
          ],
          [
           "OUTBACK STEAKHOUSE",
           22
          ],
          [
           "BLUE AGAVE",
           30
          ],
          [
           "DIG INN",
           21
          ],
          [
           "HOUSE OF ANTOJITOS",
           12
          ],
          [
           "BOAT BAR",
           10
          ],
          [
           "JADE LINDEN RESTAURANT",
           14
          ],
          [
           "HABANERO",
           16
          ],
          [
           "SUP THAI KITCHEN",
           10
          ],
          [
           "STARBUCKS",
           8
          ],
          [
           "SILVER MOON BAKERY",
           10
          ],
          [
           "HALAL RESTAURANT",
           23
          ],
          [
           "B&W DELI GROCERY",
           18
          ],
          [
           "ARPING RESTAURANT 45",
           30
          ],
          [
           "MCDONALD'S RESTAURANT",
           12
          ],
          [
           "LITTLE ITALY PIZZA/PAPAYA DOG",
           17
          ],
          [
           "DUNKIN', BASKIN ROBBINS",
           11
          ],
          [
           "THE GAVEL GRILL",
           14
          ],
          [
           "SAMMY'S NOODLE SHOP & GRILL",
           17
          ],
          [
           "A & S PIZZERIA",
           9
          ],
          [
           "MOE'S SOUTHWEST GRILL",
           25
          ],
          [
           "TWIN DONUT/BLIMPIES",
           13
          ],
          [
           "ECUATORIANA RESTAURANT",
           24
          ],
          [
           "NICE MATIN",
           6
          ],
          [
           "CROWN FRIED CHICKEN",
           18
          ],
          [
           "CLOVELLY COFFEE",
           9
          ],
          [
           "TOMOE SUSHI",
           20
          ],
          [
           "KLEINBERG'S",
           31
          ],
          [
           "MCDONALD'S",
           5
          ],
          [
           "KARMA",
           12
          ],
          [
           "PRINCESOS NY",
           13
          ],
          [
           "BELAIRE CAFE",
           6
          ],
          [
           "MATEUS RESTAURANT",
           19
          ],
          [
           "GABRIEL KREUTHER",
           9
          ],
          [
           "THE BUSHWICK DINER",
           12
          ],
          [
           "RED EYE GRILL",
           12
          ],
          [
           "S,T COFFEE",
           24
          ],
          [
           "NEST RESTAURANT & BAR",
           61
          ],
          [
           "ALFONSO'S PASTRY SHOPPE",
           null
          ],
          [
           "SCHIMANSKI NEW YORK",
           7
          ],
          [
           "BRANCACCIO'S FOOD SHOP",
           26
          ],
          [
           "CHINAR ON THE ISLAND",
           25
          ],
          [
           "HEMO'S SPOT JUICE BAR & CAFE",
           7
          ],
          [
           "ASIAN GOURMET",
           13
          ],
          [
           "HAPPY FRESH TORTILLA GRILL",
           8
          ],
          [
           "FOO HING KITCHEN",
           28
          ],
          [
           "LUCILLE'S COFFEE AND COCKTAILS",
           12
          ],
          [
           "ALL STAR PIZZA",
           8
          ],
          [
           "THE GRAND PROSPECT HALL",
           18
          ],
          [
           "HALE & HEARTY SOUP",
           4
          ],
          [
           "EMPIRE STEAKHOUSE",
           17
          ],
          [
           "BAY HOUSE",
           20
          ],
          [
           "BAGEL BISTRO & DINER",
           24
          ],
          [
           "DUNKIN'",
           11
          ],
          [
           "BLIND BARBER",
           24
          ],
          [
           "STEPHANIE DELI",
           8
          ],
          [
           "FEI HUANG BAKERY",
           12
          ],
          [
           "MJ PIZZA",
           18
          ],
          [
           "NYLC LOUNGE",
           2
          ],
          [
           "DE MOLE",
           37
          ],
          [
           "AFGHAN CHAI KHANA",
           null
          ],
          [
           "RUSS & DAUGHTERS AT THE JEWISH MUSEUM",
           29
          ],
          [
           "NEW WONG RESTAURANT",
           12
          ],
          [
           "ENZO'S PIZZERIA & ITALIAN SPECIALTIES",
           9
          ],
          [
           "LITTLE CAESARS",
           null
          ],
          [
           "THE PALM",
           28
          ],
          [
           "GUAYACOS RESTAURANT",
           20
          ],
          [
           "APPLE GOURMET",
           20
          ],
          [
           "THE CROWN",
           6
          ],
          [
           "WAYPOINT CAFE NYC",
           13
          ],
          [
           "SWEETGREEN",
           16
          ],
          [
           "BURGEROLOGY",
           58
          ],
          [
           "FIVE SENSES",
           10
          ],
          [
           "DUNKIN'",
           10
          ],
          [
           "ROCKAWAY ROTI SHOP",
           13
          ],
          [
           "PACIFIC MOON",
           13
          ],
          [
           "JUST SALAD",
           3
          ],
          [
           "NoMad",
           12
          ],
          [
           "LA CANDELA ESPANOLA",
           24
          ],
          [
           "CINDRELLA LOUNGE",
           28
          ],
          [
           "XI'AN FAMOUS FOODS",
           null
          ],
          [
           "THAI PARAGON",
           9
          ],
          [
           "TWIN DONUT/BLIMPIES",
           24
          ],
          [
           "CERTE CATERING",
           9
          ],
          [
           "FAR EAST SZECHUAN KITCHEN",
           11
          ],
          [
           "ABDULLAH SWEETS AND RESTAURANT",
           53
          ],
          [
           "KONG SIHK TONG",
           13
          ],
          [
           "CORNER BISTRO",
           26
          ],
          [
           "WHITE NOISE COFFEE",
           26
          ],
          [
           "EL POTE ESPANOL",
           20
          ],
          [
           "FEDOROFF'S ROAST PORK",
           25
          ],
          [
           "DUNKIN'",
           7
          ],
          [
           "PEGGY DEMPSEYS",
           12
          ],
          [
           "NOSTRAND DONUT SHOP",
           12
          ],
          [
           "RIO DE LA PLATA BAKERY",
           40
          ],
          [
           "ROSA MEXICANO",
           35
          ],
          [
           "ANIL'S ROTI SHOP",
           11
          ],
          [
           "FAITH CHINESE FOOD",
           10
          ],
          [
           "TACOS LOS TIGRES DEL BRONX",
           20
          ],
          [
           "HINTERLANDS",
           10
          ],
          [
           "MAOJIAOHUOLA",
           37
          ],
          [
           "COCO ROCO RESTAURANT",
           12
          ],
          [
           "ROMA PIZZERIA ITALIA",
           26
          ],
          [
           "BURGER KING",
           12
          ],
          [
           "WARREN 77",
           23
          ],
          [
           "SHUNDECK RESTAURANT",
           56
          ],
          [
           "NEW MOON",
           null
          ],
          [
           "MCDONALD'S",
           20
          ],
          [
           "YOGURT LA CREPE",
           47
          ],
          [
           "KROK",
           5
          ],
          [
           "RECOVERY ROOM",
           28
          ],
          [
           "DIAMOND FOREST YAN'S CHINESE KITCHEN",
           null
          ],
          [
           "CRAVE FISH BAR",
           18
          ],
          [
           "HONG KONG STATION",
           14
          ],
          [
           "BENTON",
           5
          ],
          [
           "MILANES SPANISH RESTAURANT",
           17
          ],
          [
           "PETRA",
           20
          ],
          [
           "BARIOS PIZZA & RESTAURANT",
           11
          ],
          [
           "TRINI ROTI HOUSE AND BAKERY",
           13
          ],
          [
           "MAMA'S RESTAURANT JAMAICAN AND AMERICAN FOOD",
           91
          ],
          [
           "CAFE LILY",
           10
          ],
          [
           "US FRIED CHICKEN & PIZZA",
           11
          ],
          [
           "OSAKA SUSHI",
           9
          ],
          [
           "DELICO",
           22
          ],
          [
           "LOS CHOCOMILES",
           47
          ],
          [
           "CAKE BOI",
           13
          ],
          [
           "KUNG FU STEAMER",
           21
          ],
          [
           "LOCAL NYC",
           9
          ],
          [
           "BLACK NILE SEAFOOD & SOUL FOOD",
           64
          ],
          [
           "CHINA TASTE",
           17
          ],
          [
           "CIENEGA LAS TLAYUDAS DE OAXACA",
           12
          ],
          [
           "CHESKA'S",
           10
          ],
          [
           "JERRY'S 637 DINER",
           19
          ],
          [
           "ACTION BURGER",
           30
          ],
          [
           "BEDFORD COFFEE COMPANY/STARBUCKS",
           15
          ],
          [
           "DELUXE GREEN BO",
           19
          ],
          [
           "EAST COAST BURGERS",
           9
          ],
          [
           "OLD HOMESTEAD",
           53
          ],
          [
           "RECOLTE",
           41
          ],
          [
           "XIANG XIANG NOODLE",
           46
          ],
          [
           "THE FICTION",
           14
          ],
          [
           "CAFE FOOD HALL",
           40
          ],
          [
           "RED FORTUNE RESTAURANT",
           23
          ],
          [
           "EL GAUCHITO RESTAURANT",
           30
          ],
          [
           "TJ'S TASTY CORNER 2",
           34
          ],
          [
           "CAOBA BROOKLYN BISTRO",
           9
          ],
          [
           "THE LITTLE BEET",
           26
          ],
          [
           "SPEAKVINO",
           null
          ],
          [
           "JADE STAR KITCHEN",
           13
          ],
          [
           "ANGELA'S SANDWICH SHOP",
           24
          ],
          [
           "DOMINO'S",
           5
          ],
          [
           "DINO",
           9
          ],
          [
           "COBBLE & CO",
           28
          ],
          [
           "KORYODANG BAKERY & CAFE",
           17
          ],
          [
           "LA COCINA DE MAMA",
           21
          ],
          [
           "DOS CAMINOS",
           11
          ],
          [
           "Bar Veloce",
           null
          ],
          [
           "AMORINO",
           9
          ],
          [
           "DAVEY'S ICE CREAM",
           7
          ],
          [
           "E-MO KIMBOB",
           0
          ],
          [
           "BIGWELL BAKERY AND HALAL RESTAURANT",
           36
          ],
          [
           "LA CHULA",
           13
          ],
          [
           "NATE",
           48
          ],
          [
           "MOTT HAVEN BAR & GRILL",
           10
          ],
          [
           "THE BOMOND RESTAURANT",
           12
          ],
          [
           "CORNER BISTRO",
           26
          ],
          [
           "STAND 224",
           10
          ],
          [
           "LET'S MAKAN",
           5
          ],
          [
           "ALFONSO'S PASTRY SHOPPE",
           12
          ],
          [
           "YUMMY CHINESE",
           5
          ],
          [
           "NEW LIN'S KITCHEN",
           12
          ],
          [
           "LA PERLA DEL ULUA RESTAURANT",
           56
          ],
          [
           "BABY'S GRILL AND RESTAURANT",
           17
          ],
          [
           "MIRACALI BAKERY",
           12
          ],
          [
           "UNCLE LOUIE G'S ITALIAN ICES & ICE CREAM",
           10
          ],
          [
           "SUBWAY",
           12
          ],
          [
           "BEACON THEATRE (BALCONY BAR)",
           2
          ],
          [
           "L'OREAL CAFE (EMPLOYEE DINING)",
           7
          ],
          [
           "KIN KHAO",
           31
          ],
          [
           "LA MARGARITA PIZZERIA",
           28
          ],
          [
           "HAVANA EXPRESS",
           11
          ],
          [
           "Playwright Celtic Pub",
           13
          ],
          [
           "NEW CHINA WOK",
           13
          ],
          [
           "3 LUIGI'S PIZZA",
           28
          ],
          [
           "KFC",
           13
          ],
          [
           "BASIL",
           15
          ],
          [
           "PIZ-ZETTA",
           13
          ],
          [
           "BLUE MOUNTAIN RESTAURANT & JERK CENTER",
           16
          ],
          [
           "IRIS TEA & BAKERY",
           58
          ],
          [
           "VIVI BUBBLE TEA",
           12
          ],
          [
           "RED HOT HOT POT",
           13
          ],
          [
           "SOHO SUSHI",
           20
          ],
          [
           "DA PLACE CUISINE",
           12
          ],
          [
           "NO. 1 CHINESE RESTAURANT",
           12
          ],
          [
           "BEST COFFEE SHOP",
           22
          ],
          [
           "RICO PAN BAKERY",
           10
          ],
          [
           "THE PALM",
           13
          ],
          [
           "PUNJABI INDIAN & AMERICAN RESTAURANT",
           9
          ],
          [
           "PINSHANG HOT POT",
           null
          ],
          [
           "O'NEILL'S RESTAURANT & BAR",
           20
          ],
          [
           "AL-SHAM RESTAURANT",
           41
          ],
          [
           "GREGORY'S COFFEE",
           12
          ],
          [
           "GREEN PAVILION RESTAURANT & SPORTS LOUNGE",
           12
          ],
          [
           "KASHMIR 9",
           32
          ],
          [
           "JAKE'S SALOON",
           7
          ],
          [
           "D'ALESSANDRO'S CORNER GRILL",
           13
          ],
          [
           "TENGU SUSHI & NOODLE HOUSE",
           24
          ],
          [
           "LA GATA GOLOSA BAKERY / YOGURTBERRY",
           22
          ],
          [
           "ESTRELLA BAR & RESTAURANT",
           53
          ],
          [
           "CHAMPION PIZZA",
           28
          ],
          [
           "DUNKIN'",
           2
          ],
          [
           "CROWN FRIED CHICKEN",
           10
          ],
          [
           "TAQUERIA HUARACHE",
           24
          ],
          [
           "VILLAGE MARIA",
           29
          ],
          [
           "JUICE GENERATION INC",
           0
          ],
          [
           "BENNY'S BRICK OVEN",
           13
          ],
          [
           "AL CHOLO WEST INDIAN BAKERY & HEALTH FOOD STORE",
           6
          ],
          [
           "MI ARMADILLO GRANDE",
           23
          ],
          [
           "MONK MCGINNS",
           24
          ],
          [
           "NEW YORK SAL'S PIZZERIA",
           7
          ],
          [
           "HOMEMADE TAQUERIA",
           12
          ],
          [
           "MIKKELLER NYC",
           2
          ],
          [
           "NARUTO RAMEN",
           9
          ],
          [
           "AZTEC SOUL",
           11
          ],
          [
           "PER SE",
           14
          ],
          [
           "GOOD MORNING BROOKLYN",
           13
          ],
          [
           "LA CARRETA RESTAURANT",
           22
          ],
          [
           "J EAST CHINESE RESTAURANT",
           31
          ],
          [
           "CANTINA ROOFTOP",
           21
          ],
          [
           "PASTICCERIA BRUNO BAKERY & RESTAURANT",
           29
          ],
          [
           "ESS-A-BAGEL",
           51
          ],
          [
           "CHEZ ALEX",
           13
          ],
          [
           "DUNKIN /JEAN GEORGES SIMPLY CHICKEN",
           6
          ],
          [
           "JACAL MEXICANO CORP.",
           5
          ],
          [
           "MOONSTRUCK (IN BELLEVUE)",
           22
          ],
          [
           "HI NOODLE THAI",
           12
          ],
          [
           "WHITE HORSE TAVERN",
           null
          ],
          [
           "BUONA NOTTE",
           71
          ],
          [
           "CHEFS CLUB BY FOOD & WINE",
           -1
          ],
          [
           "SUBWAY",
           3
          ],
          [
           "THE IZAKAYA",
           29
          ],
          [
           "THE SHADMOOR",
           5
          ],
          [
           "KENNEDY FRIED CHICKEN & PIZZA",
           9
          ],
          [
           "HOUSE OF ANTOJITOS",
           18
          ],
          [
           "COLD STONE CREAMERY",
           28
          ],
          [
           "TOMPKINS SQUARE BAGELS",
           13
          ],
          [
           "HAPPY TOWN CHINESE RESTAURANT",
           12
          ],
          [
           "JENAVIES CAFE",
           24
          ],
          [
           "CHEESEBOAT",
           12
          ],
          [
           "COOK EATERY",
           26
          ],
          [
           "MINT",
           11
          ],
          [
           "GIRASOLES MEXICAN CUISINE",
           10
          ],
          [
           "MR WISH",
           17
          ],
          [
           "25th AVE DELI",
           18
          ],
          [
           "THE THIRSTY KOALA",
           11
          ],
          [
           "LA TUNA RESTAURANT",
           9
          ],
          [
           "GOLDEN WAY CHINESE RESTAURANT",
           13
          ],
          [
           "DA NONNA ROSA",
           9
          ],
          [
           "101 CAFE",
           8
          ],
          [
           "MI BELLA CHOLULITA MEXICAN RESTAURANT",
           17
          ],
          [
           "MCDONALD'S",
           35
          ],
          [
           "EL NUEVO TAINO",
           12
          ],
          [
           "AMORE PIZZERIA & RESTAURANT",
           19
          ],
          [
           "VYBES KITCHEN",
           119
          ],
          [
           "CHICK IN",
           39
          ],
          [
           "SUSHI 33",
           3
          ],
          [
           "THE DART SPORTS BAR",
           10
          ],
          [
           "ISLAND CZ CAFE",
           10
          ],
          [
           "THE LITTLE BEET TABLE",
           18
          ],
          [
           "LIMAN RESTAURANT",
           13
          ],
          [
           "CHINA RED GOURMENT",
           13
          ],
          [
           "NEW WING CHEUNG (New C Ave. D)",
           62
          ],
          [
           "UKUS",
           19
          ],
          [
           "DON ALEX RESTAURANT",
           null
          ],
          [
           "290 WILD BAR",
           21
          ],
          [
           "FRANK'S REDHOT TERRACE",
           11
          ],
          [
           "CAFE CINQ",
           null
          ],
          [
           "THE JEFFREY",
           31
          ],
          [
           "CHINESE MUSICIAN RESTAURANT",
           51
          ],
          [
           "RICE & MISO",
           71
          ],
          [
           "HIBINO",
           17
          ],
          [
           "DUNKIN'",
           14
          ],
          [
           "PANSHI",
           23
          ],
          [
           "GREAT SICHUAN",
           47
          ],
          [
           "LA ISLA RESTAURANT",
           9
          ],
          [
           "WONG WONG NOODLE SHOP",
           22
          ],
          [
           "TRUMP BAR",
           10
          ],
          [
           "SISTINA",
           8
          ],
          [
           "NELLY'S CAKES & PARTY SUPPLIES",
           12
          ],
          [
           "BEST CHOICE CARIBBEAN RESTAURANT AND JUICE BAR",
           26
          ],
          [
           "DA CAPO",
           11
          ],
          [
           "BRAVO PIZZA",
           13
          ],
          [
           "MI ESPIGUITA",
           23
          ],
          [
           "YAMATO",
           17
          ],
          [
           "TAQUERIA COATZINGO",
           42
          ],
          [
           "CHOCK FULL O' NUTS",
           9
          ],
          [
           "GENTING NEW YORK LLC",
           84
          ],
          [
           "COLOMBIA FAMA BAKERY",
           20
          ],
          [
           "MARAVILLA'S BAR & GRILL",
           13
          ],
          [
           "SHIRO OF JAPAN",
           14
          ],
          [
           "ROOM CAFE",
           8
          ],
          [
           "XI'AN FAMOUS FOODS",
           29
          ],
          [
           "CENT'ANNI",
           13
          ],
          [
           "HANSOL NUTRITION CENTER",
           21
          ],
          [
           "WB CARIBBEAN RESTAURANT",
           12
          ],
          [
           "SUPER KENNEDY'S CHICKEN & SANDWICH",
           12
          ],
          [
           "CREATE",
           12
          ],
          [
           "HOT BAGELS",
           26
          ],
          [
           "JUANITO RESTAURANT",
           null
          ],
          [
           "CITY OF SAINTS COFFEE ROASTERS",
           13
          ],
          [
           "JOHN JAY DINING HALL",
           9
          ],
          [
           "UNDERLINE COFFEE",
           20
          ],
          [
           "2 BROS PIZZA",
           19
          ],
          [
           "POPEYES",
           12
          ],
          [
           "LOS CAFETALES RESTAURANT",
           27
          ],
          [
           "C & C ITALIAN DELI",
           22
          ],
          [
           "BUON",
           37
          ],
          [
           "SONAMU HOUSE",
           21
          ],
          [
           "QUEEN'S PIZZA",
           12
          ],
          [
           "EL JOBITO RESTAURANT",
           30
          ],
          [
           "CAFE PHIL",
           48
          ],
          [
           "SOM BO",
           57
          ],
          [
           "PAPA KEBAB",
           7
          ],
          [
           "PHOMEN",
           13
          ],
          [
           "EL MOLINO ROJO RESTAURANT",
           25
          ],
          [
           "ARROGANT SWINE",
           23
          ],
          [
           "MICHELLE RESTAURANT",
           20
          ],
          [
           "CAPRI II PIZZA",
           44
          ],
          [
           "EAST NEW SING BO",
           47
          ],
          [
           "MI SABOR CAFE",
           28
          ],
          [
           "THE SPOT CAFE/KOFOO",
           19
          ],
          [
           "LITTLE ITALY PIZZA",
           12
          ],
          [
           "CHIQUI CAFE",
           12
          ],
          [
           "COFFEE MONSTER",
           17
          ],
          [
           "SOMPONG THAI",
           10
          ],
          [
           "THE MICHELANGELO",
           41
          ],
          [
           "MEXICO LINDO RESTAURANT",
           20
          ],
          [
           "TASTY AND CO",
           12
          ],
          [
           "FRANK'S PIZZA",
           9
          ],
          [
           "SOUL OF THE SEA",
           2
          ],
          [
           "SZECHUAN DELIGHT",
           10
          ],
          [
           "WESTERN BAKERY",
           10
          ],
          [
           "WING WAGON",
           13
          ],
          [
           "DENG JI RESTAURANT",
           5
          ],
          [
           "CAFE TABACO Y RON",
           30
          ],
          [
           "ORCHARD BEACH SNACK BAR SECTION 10",
           9
          ],
          [
           "MCDONALD'S",
           8
          ],
          [
           "BLUE STORM BILLIARDS & CAFE",
           27
          ],
          [
           "LE GRAINNE CAFE",
           12
          ],
          [
           "BIBA OF WILLIAMSBURG",
           68
          ],
          [
           "GANSEVOORT PARK ROOFTOP",
           13
          ],
          [
           null,
           null
          ],
          [
           "RIO CONVENIENCE STORE",
           10
          ],
          [
           "WALTER'S COTTAGE",
           13
          ],
          [
           "JUQUILA",
           38
          ],
          [
           "THE BEAST NEXT DOOR",
           27
          ],
          [
           "Las Lap",
           7
          ],
          [
           "LA CABANA MEXICAN RESTAURANT",
           9
          ],
          [
           "DAR 525",
           33
          ],
          [
           "COYOTE BOHEMIO",
           7
          ],
          [
           "BUNSMITH",
           49
          ],
          [
           "EVENTS AT STONE PARK",
           11
          ],
          [
           "EASY LOVER",
           15
          ],
          [
           "EL AGUILA BAKERY",
           21
          ],
          [
           "VALENCIA COFFEE ROOM",
           9
          ],
          [
           "FULL DOE BAKERY",
           10
          ],
          [
           "RESOBOX",
           71
          ],
          [
           "CHEZ ALAIN RESTAURAUNT",
           38
          ],
          [
           "CHINA EXPRESS",
           12
          ],
          [
           "KANSAS CHICKEN & BURGER",
           2
          ],
          [
           "SMOOTHIE REY",
           10
          ],
          [
           "RAMEN-YA",
           19
          ],
          [
           "3 IN 1 KITCHEN",
           13
          ],
          [
           "BAKER HOUSE MARKET",
           30
          ],
          [
           "GRANDMA'S DIM SUM",
           9
          ],
          [
           "KAI FAN ASIAN CUISINE",
           25
          ],
          [
           "PERA SOHO",
           9
          ],
          [
           "KISS MY SLICE",
           21
          ],
          [
           "CHIDORI JAPANESE CUISINE",
           13
          ],
          [
           "BURGER KING",
           4
          ],
          [
           "HEJAZ FAST FOOD",
           20
          ],
          [
           "ASHLAND @ HAMPTON INN",
           26
          ],
          [
           "SKYLINE BILLIARD CLUB",
           41
          ],
          [
           "FAMILY KITCHEN",
           19
          ],
          [
           "MALAI MARKE",
           24
          ],
          [
           "ZEST RAMEN",
           35
          ],
          [
           "JACKS FIRE DEPARTMENT",
           15
          ],
          [
           "SICHUAN CUISINE",
           12
          ],
          [
           "AUNTIE ANNE'S PRETZELS",
           12
          ],
          [
           "BARDOLINO PIZZA II",
           40
          ],
          [
           "THE DUMPLING SHOP",
           37
          ],
          [
           "MCDONALD'S",
           11
          ],
          [
           "FAMOUS AMADEUS PIZZA",
           13
          ],
          [
           "MILK & PULL",
           12
          ],
          [
           "SPIRO'S CAFE & PIZZA",
           11
          ],
          [
           "JR PRIMOS RESTAURANT",
           22
          ],
          [
           "THREE OWLS MARKET",
           13
          ],
          [
           "WALK UP BAR",
           7
          ],
          [
           "LOS ANGELES BAKERY",
           10
          ],
          [
           "THE IMMIGRANT NYC",
           24
          ],
          [
           "LAS PALMAS RESTAURANT",
           13
          ],
          [
           "EL SAZON IDEAL RESTAURANT",
           46
          ],
          [
           "RIVERDALE SECOND HELPING",
           10
          ],
          [
           "OCEANA POKE",
           9
          ],
          [
           "MO'S BAR",
           22
          ],
          [
           "MANOR SUSHI",
           11
          ],
          [
           "GINO'S CUCINA BRICK OVEN PIZZA",
           12
          ],
          [
           "RAJDHANI INDIAN RESTUARANT",
           21
          ],
          [
           "MODHU MITA INDIAN RESTAURANT",
           19
          ],
          [
           "KIN KHAO",
           31
          ],
          [
           "MCDONALD'S",
           5
          ],
          [
           "PRIMAVERA CAFE",
           11
          ],
          [
           "PARADISE ALLEY BAR",
           29
          ],
          [
           "FOREST THAI CUISINE",
           25
          ],
          [
           "GOLDEN STEAMER",
           11
          ],
          [
           "SIMPLY BAKERY",
           26
          ],
          [
           "MOE'S SOUTHWEST GRILL & CHARLEYS PHILLY STEAKS",
           8
          ],
          [
           "NORA'S PIZZA",
           32
          ],
          [
           "ON THE ROX LOUNGE & BAR",
           10
          ],
          [
           "BA XUYEN",
           23
          ],
          [
           "CO BA RESTAURANT",
           4
          ],
          [
           "1ST MAMA RESTAURANT",
           30
          ],
          [
           "GOLDEN TERRACE BANQUET HALL",
           4
          ],
          [
           "FELLA'S BAR",
           11
          ],
          [
           "PRODUCERS LOUNGE",
           7
          ],
          [
           "UNION SQUARE CAFE/ DAILY PROVISIONS",
           17
          ],
          [
           "BELLA NAPOLI",
           null
          ],
          [
           "BAGELSMITH",
           53
          ],
          [
           "PRINCE ST PIZZA",
           24
          ],
          [
           "GONG CHA",
           10
          ],
          [
           "EL PATIO MEXICANO RESTAURANT",
           19
          ],
          [
           "169 BAR",
           21
          ],
          [
           "COSI",
           10
          ],
          [
           "RED LOBSTER",
           19
          ],
          [
           "KING'S PIZZA",
           34
          ],
          [
           "ARIA KABAB",
           43
          ],
          [
           "FULL MOON PIZZA",
           54
          ],
          [
           "68 JAY STREET BAR",
           23
          ],
          [
           "NAPOLI PIZZA",
           36
          ],
          [
           "EL PIN POLLO RESTAURANT",
           26
          ],
          [
           "BEECHER'S HANDMADE CHEESE",
           12
          ],
          [
           "JING WEI HOTPOT",
           11
          ],
          [
           "GARY AND GINO'S",
           37
          ],
          [
           "STAR RESTAURANT",
           19
          ],
          [
           "BREAD & BUTTER",
           25
          ],
          [
           "NAPOLI'S BEST PIZZA",
           11
          ],
          [
           "JANE",
           12
          ],
          [
           "THE 13TH STEP",
           42
          ],
          [
           "MASTER WOK",
           41
          ],
          [
           "LAS BANDERAS",
           28
          ],
          [
           "WHITE CASTLE",
           7
          ],
          [
           "HUMBOLDT & JACKSON",
           19
          ],
          [
           "Panorama of My Silence-Heart",
           18
          ],
          [
           "MARIO'S PIZZERIA",
           20
          ],
          [
           "ASIAN TOKYO JAPANESE CUISINE",
           11
          ],
          [
           "CHOW",
           16
          ],
          [
           "J EAST CHINESE RESTAURANT",
           21
          ],
          [
           "CAFE CELLO DELI",
           13
          ],
          [
           "DIM SUM PALACE",
           12
          ],
          [
           "BENIHANA",
           12
          ],
          [
           "The Rochard NYC",
           59
          ],
          [
           "SUSHI DOJO",
           9
          ],
          [
           "CORONA GREAT CHINA",
           5
          ],
          [
           "SOMETHING'S COOKING CATERING",
           12
          ],
          [
           "OCABANON",
           50
          ],
          [
           "CAFE CON PAN BAKERY",
           11
          ],
          [
           "KOGANE",
           26
          ],
          [
           "KANA TAPAS BAR & RESTAURANT",
           null
          ],
          [
           "CURRY IN A HURRY",
           32
          ],
          [
           "F & J PINE RESTAURANT",
           21
          ],
          [
           "WINTER GARDEN THEATER",
           8
          ],
          [
           "ASHOKA",
           80
          ],
          [
           "ORCHARD BEACH SNACK BAR SECTION #7",
           23
          ],
          [
           "DOUBLE DELIGHT CHINESE RESTAURANT",
           13
          ],
          [
           "CARLO'S BAKERY",
           32
          ],
          [
           "SWEETS BAKERY",
           12
          ],
          [
           "EMPERADOR ELIAS RESTAURANT",
           12
          ],
          [
           "MCCANN'S PUB",
           19
          ],
          [
           "DADDY'S CAFE",
           11
          ],
          [
           "Bao Ding",
           21
          ],
          [
           "HONG KONG FOODTOWN",
           53
          ],
          [
           "MCGARRY'S",
           11
          ],
          [
           "DUNKIN', BASKIN ROBBINS",
           9
          ],
          [
           "POLISH NATIONAL HOME",
           30
          ],
          [
           "THE MONTROSE",
           null
          ],
          [
           "KENNEDY CHICKEN",
           20
          ],
          [
           "DELICIOSO DELI & GRILL",
           null
          ],
          [
           "NUTRIPAN #2",
           2
          ],
          [
           "3D'S LEGACY SALAD & GRILL",
           26
          ],
          [
           "LE GAMIN",
           23
          ],
          [
           "OUSIA",
           28
          ],
          [
           "CARIDAD RESTAURANT",
           9
          ],
          [
           "RESTIVO RISTORANTE",
           11
          ],
          [
           "LUPA OSTERIA ROMANA",
           25
          ],
          [
           "MANTING RESTAURANT",
           13
          ],
          [
           "CAFE EVERGREEN",
           35
          ],
          [
           "EL PENACHO RESTAURANT",
           20
          ],
          [
           "CAFE AMORE'S RESTAURANT",
           7
          ],
          [
           "MOMINETTE",
           39
          ],
          [
           "EL TEQUILAZO RESTAURANT & BAR",
           29
          ],
          [
           "LOTUS LOUNGE",
           36
          ],
          [
           "PASTARIFIC PIZZA AND RESTAURANT",
           38
          ],
          [
           "CAFE PETISCO",
           43
          ],
          [
           "THE PALM",
           20
          ],
          [
           "BYUNG CHUN SOON DAE",
           16
          ],
          [
           "SONS OF ESSEX",
           13
          ],
          [
           "LAS AMERICAS BAKERY",
           40
          ],
          [
           "SPICY MOON",
           12
          ],
          [
           "BAGEL BOBS ON YORK",
           12
          ],
          [
           "DEAR MAMA",
           2
          ],
          [
           "OVERLOOK",
           13
          ],
          [
           "CASCATA",
           null
          ],
          [
           "EL CAFETAL BAKERY",
           10
          ],
          [
           "GLADY'S",
           null
          ],
          [
           "LENWICH",
           19
          ],
          [
           "KILO",
           null
          ],
          [
           "SHU HAN JU AUTHENTIC CHINESE CUISINE",
           38
          ],
          [
           "BROCCOLINO",
           12
          ],
          [
           "SZECHAUN GARDEN",
           32
          ],
          [
           "NEW HUNAN WOK",
           23
          ],
          [
           "SAGAR CHINESE",
           7
          ],
          [
           "886",
           21
          ],
          [
           "NEW PINANG",
           19
          ],
          [
           "PARIS BAGUETTE",
           24
          ],
          [
           "JOHN'S FRIED CHICKEN",
           31
          ],
          [
           "RINCON LATINO RESTAURANT",
           9
          ],
          [
           "EL PORTON BAR & RESTAURANT",
           40
          ],
          [
           "FAMOUS FAMIGLIA PIZZERIA",
           null
          ],
          [
           "CHUAN ZHU REN",
           23
          ],
          [
           "THE ROCK RESTAURANT & DINER",
           9
          ],
          [
           "MUSE",
           13
          ],
          [
           "LAS PALMAS RESTAURANT",
           12
          ],
          [
           "NAPOLI PIZZA & PASTA",
           26
          ],
          [
           "COLUMBIA UNIVERSITY BAKER ATHLETICS COMPLEX, STAND #1",
           10
          ],
          [
           "GRAND SICHUAN EASTERN",
           12
          ],
          [
           "99 CENTS FRESH & HOT PIZZA",
           35
          ],
          [
           "MOONSTRUCK EATERY",
           10
          ],
          [
           "CRYSTAL LOUNGE",
           9
          ],
          [
           "M & M BAR & GRILL INC",
           30
          ],
          [
           "WIMPY'S RESTAURANT",
           23
          ],
          [
           "EL NUEVO BOHIO RESTAURANT",
           16
          ],
          [
           "VSPOT ORGANIC",
           60
          ],
          [
           "LYDIG COFFEE HOUSE",
           12
          ],
          [
           "JIANBING COMPANY",
           12
          ],
          [
           "MOMINETTE",
           22
          ],
          [
           "GOOD CHINESE RESTAURANT",
           49
          ],
          [
           "HEARTLAND CHOPHOUSE BREWERY/HB BURGERS",
           12
          ],
          [
           "EMPORIO",
           5
          ],
          [
           "DELICIOUS PIZZA CAFE",
           28
          ],
          [
           "POPEYES",
           4
          ],
          [
           "FESTAC GRILL AND LOUNGE",
           12
          ],
          [
           "UP THAI",
           34
          ],
          [
           "PIZZA KING",
           11
          ],
          [
           "ALO YOGA LLC",
           9
          ],
          [
           "USA DINER",
           18
          ],
          [
           "THE BLUE STOVE",
           28
          ],
          [
           "DALLAS CHICKEN & BISCUIT",
           49
          ],
          [
           "TROPICAL REVIVAL RESTAURANT & CATERING",
           6
          ],
          [
           "CHIDORI JAPANESE CUISINE",
           19
          ],
          [
           "DORLAN'S",
           2
          ],
          [
           "HUNAN BISTRO",
           34
          ],
          [
           "PANDA DELIGHT CHINESE RESTAURANT",
           9
          ],
          [
           "MEXICAN FAST FOOD",
           4
          ],
          [
           "DOS TOROS TAQUERIA",
           7
          ],
          [
           "BAYRIDGE PIZZA",
           10
          ],
          [
           "BUFFALO BOSS",
           12
          ],
          [
           "JUICE FOR LIFE",
           26
          ],
          [
           "RADISSON JFK - CONNECTIONS",
           33
          ],
          [
           "J & K GOURMET",
           53
          ],
          [
           "CROWN FRIED CHICKEN",
           20
          ],
          [
           "THE OVAL SPORTS BAR & LOUNGE",
           12
          ],
          [
           "BIRCH",
           11
          ],
          [
           "LAUT",
           12
          ],
          [
           "GRILL 66",
           13
          ],
          [
           "EL REY",
           7
          ],
          [
           "BUTTER RESTAURANT",
           13
          ],
          [
           "CALIBELLA BAKERY",
           12
          ],
          [
           "PENN SUSHI",
           14
          ],
          [
           "IMPERIAL TASTE 88",
           12
          ],
          [
           "EAT-A-BAGEL - BOAT SPIRIT OF AMERICA",
           12
          ],
          [
           "STEVEN RESTAURANT",
           20
          ],
          [
           "WOK 88",
           18
          ],
          [
           "LITTLE WAYS",
           15
          ],
          [
           "QINGDAO",
           44
          ],
          [
           "PIPINS PUB",
           12
          ],
          [
           "SAKE BAR SATSKO",
           42
          ],
          [
           "OSTERIA 106",
           28
          ],
          [
           "O G RESTAURANT",
           54
          ],
          [
           "DUNKIN', BASKIN ROBBINS",
           21
          ],
          [
           "TASTY GRILL",
           22
          ],
          [
           "WELCOME TO THE JOHNSON'S",
           null
          ],
          [
           "NEW ORIENTAL GUYANA RESTAURANT",
           22
          ],
          [
           "BELLA GIORNATA",
           11
          ],
          [
           "JIN MA BAKERY",
           14
          ],
          [
           "EL PUERTO MEXICANO",
           9
          ],
          [
           "TAQUERIA RESTAURANTE MI BARRIO",
           12
          ],
          [
           "CAMPESINO DOMINICANO RESTAURANT",
           18
          ],
          [
           "HABANERO",
           null
          ],
          [
           "NO. 1 KITCHEN",
           26
          ],
          [
           "GRILL ON THE HILL",
           41
          ],
          [
           "BOCA JUNIORS STEAKHOUSE",
           52
          ],
          [
           "CHENG'S",
           21
          ],
          [
           "LA BAGUETTE SHOP",
           13
          ],
          [
           "MISTER CANGREJO COLOMBIAN RESTAURANT",
           38
          ],
          [
           "BAPSANG",
           26
          ],
          [
           "SEVEN GRAMS CAFFE",
           64
          ],
          [
           "SAMMY'S HALAL",
           35
          ],
          [
           "NEW HONG KONG",
           13
          ],
          [
           "WING GONG RESTAURANT",
           12
          ],
          [
           "CHINA GARDEN RESTAURANT",
           10
          ],
          [
           "NEW MING'S KITCHEN",
           36
          ],
          [
           "EL SAZON IDEAL RESTAURANT",
           18
          ],
          [
           "ADAR LOUNGE",
           null
          ],
          [
           "GANDA SUSHI EXPRESS",
           28
          ],
          [
           "POLASH INDIAN CUISINE RESTAURANT",
           41
          ],
          [
           "TASTE OF CHINA",
           7
          ],
          [
           "POKE BURRITO",
           59
          ],
          [
           "HAMPTON CHUTNEY CO",
           29
          ],
          [
           "EL VIEJO JOBO SEAFOOD RESTAURANT",
           26
          ],
          [
           "SRIPRAPHAI THAI RESTAURANT",
           12
          ],
          [
           "VICTORIA'S SECRET / STARBUCKS",
           9
          ],
          [
           "RED FARM/DECOY",
           19
          ],
          [
           "W K RESTAURANT",
           12
          ],
          [
           "GOLDEN LEO RESTAURANT",
           13
          ],
          [
           "PAPA JOHNS PIZZA",
           12
          ],
          [
           "PUERTO DE MANTA BAR LOUNGE",
           20
          ],
          [
           "PROOF COFFEE ROASTER",
           37
          ],
          [
           "TAKUMEN",
           27
          ],
          [
           "NEW CHINA",
           16
          ],
          [
           "LOEWS REGENCY BAR AND GRILL",
           45
          ],
          [
           "CROWN FRIED CHICKEN",
           59
          ],
          [
           "MIGDALIA PLACE",
           2
          ],
          [
           "NANA'S BISTRO & CATERING",
           33
          ],
          [
           "PANDA",
           10
          ],
          [
           "KING WOK CHINESE RESTAURANT",
           22
          ],
          [
           "The Royal Underground",
           11
          ],
          [
           "YU KITCHEN",
           34
          ],
          [
           "MARGON RESTAURANT",
           19
          ],
          [
           "El Crucero Restaurant & Grill",
           13
          ],
          [
           "KODAMA SUSHI",
           13
          ],
          [
           "PRONTO CAFE",
           13
          ],
          [
           "CHINA WOK",
           6
          ],
          [
           "YOURS & MINE RESTAURANT",
           10
          ],
          [
           "MADMAN ESPRESSO",
           26
          ],
          [
           "SATI'S ROTI SHOP",
           19
          ],
          [
           "NEW WING CHEUNG (New C Ave. D)",
           31
          ],
          [
           "FRIEDMAN'S",
           25
          ],
          [
           "NEW YORK POST CAFETERIA",
           36
          ],
          [
           "PAK LAHORI CHILLI",
           57
          ],
          [
           "MILLY'S CORNER RESTAURANT AND BAR",
           13
          ],
          [
           "JUICE GENERATION INC",
           null
          ],
          [
           "FRESH & DELICIOUS",
           12
          ],
          [
           "MCDONALD'S",
           7
          ],
          [
           "B -SIDE",
           28
          ],
          [
           "EL BUEN SABOR",
           10
          ],
          [
           "CHANDNI SWEETS & RESTAURANT",
           36
          ],
          [
           "KIMCHEE KOREAN RESTAURANT",
           17
          ],
          [
           "TRIBECA BAGELS",
           25
          ],
          [
           "PAM REAL THAI 49",
           10
          ],
          [
           "SCAVELLO'S ON THE ISLAND",
           15
          ],
          [
           "ROYAL SEAFOOD CUISINE",
           17
          ],
          [
           "PERRY STREET",
           20
          ],
          [
           "LIBERTY GRANT CAFE",
           48
          ],
          [
           "LOS AMIGOS MEXICAN RESTAURANT",
           9
          ],
          [
           "LA PULPERIA",
           27
          ],
          [
           "SMOKEY ISLAND GRILLE",
           12
          ],
          [
           "MAMA LETI'S",
           11
          ],
          [
           "PANCHO VILLA RESTAURANT",
           33
          ],
          [
           "BED-STUY FISHFRY",
           22
          ],
          [
           "ROSA'S PIZZA & PASTA",
           30
          ],
          [
           "D'ANGELO'S PIZZA",
           25
          ],
          [
           "NARUTO RAMEN",
           10
          ],
          [
           "THE CUSTOM HOUSE",
           21
          ],
          [
           "KISMET CATERERS",
           12
          ],
          [
           "TOSKANA PIZZERIA RESTAURANT",
           11
          ],
          [
           "SPICE SYMPHONY",
           17
          ],
          [
           "HIBACHI KING",
           10
          ],
          [
           "MANETTA'S RISTORANTE",
           33
          ],
          [
           "EL PASO TAQUERIA",
           25
          ],
          [
           "DRAUGHT 55 BAR & KITCHEN",
           25
          ],
          [
           "NAIA DELI GRILL JUICE AND SALAD BAR",
           26
          ],
          [
           "POPEYES",
           13
          ],
          [
           "BUNNA CAFE",
           34
          ],
          [
           "TABLESIDE ITALIAN COOK SHOPPE",
           12
          ],
          [
           "LOS PANCHOS",
           11
          ],
          [
           "MIDTOWN RESTAURANT",
           26
          ],
          [
           "IL PORTO BRICK OVEN RISTORANTE",
           10
          ],
          [
           "SHERWOOD TO GO",
           null
          ],
          [
           "TAQUERIA SAN PEDRO",
           8
          ],
          [
           "POPEYES",
           22
          ],
          [
           "HOMEWOOD SUITES BY HILTON NEW YORK MIDTOWN MANHATTAN TIMES SQUARE",
           7
          ],
          [
           "PARADE CAFE",
           23
          ],
          [
           "RAY'S CAFE AND RESTAURANT",
           2
          ],
          [
           "APERION PRODUCTION",
           11
          ],
          [
           "DELICIOUS HUANG BAKERY",
           11
          ],
          [
           "JIN ZHOU BBQ",
           null
          ],
          [
           "GIRASOL BAKERY",
           23
          ],
          [
           "ROBERTA'S",
           2
          ],
          [
           "Double Dutch Espresso",
           11
          ],
          [
           "VIVA EVENTS AND CATERING",
           28
          ],
          [
           "STARBUCKS",
           17
          ],
          [
           "GIUSEPPINA'S BRICK OVEN",
           35
          ],
          [
           "PICKY EATERS RESTAURANT",
           31
          ],
          [
           "ISLAND RAGE",
           10
          ],
          [
           "ROYAL QUEEN/THE REAL KTV",
           20
          ],
          [
           "GREAT WALL RESTAURANT",
           17
          ],
          [
           "DUNKIN'",
           15
          ],
          [
           "DOLMA RESTAURANT",
           23
          ],
          [
           "TAGINE",
           9
          ],
          [
           "BURGER KING",
           43
          ],
          [
           "THE BROOKLYN INN",
           7
          ],
          [
           "MIRIAM",
           26
          ],
          [
           "SEATTLE COFFEE ROASTERS, PIER 79/ NY WATERWAY",
           46
          ],
          [
           "A CAFE",
           12
          ],
          [
           "MIA HALAL FOOD",
           10
          ],
          [
           "NYC HANDCRAFTED",
           3
          ],
          [
           "STIX RESTAURANT",
           13
          ],
          [
           "SODA BAR",
           4
          ],
          [
           "CATERINA PIZZERIA",
           22
          ],
          [
           "NEW NOODLE 28",
           7
          ],
          [
           "FERRY HOUSE CAFE",
           79
          ],
          [
           "PIO PIO",
           12
          ],
          [
           "MILE 17",
           null
          ],
          [
           "THE BOIL",
           10
          ],
          [
           "FISHERMAN'S COVE",
           14
          ],
          [
           "HAN GAWI",
           10
          ],
          [
           "MEXICUE",
           14
          ],
          [
           "POLLO SABROSO RESTAURANT",
           19
          ],
          [
           "TIAN SHUN RESTAURANT",
           13
          ],
          [
           "COTTON CLUB",
           18
          ],
          [
           "JUICE HEALTHY FOOD AND DRINKS",
           97
          ],
          [
           "SUNRISE",
           12
          ],
          [
           "HUDSON VIEW RESTAURANT",
           9
          ],
          [
           "HARRY'S ITALIAN",
           23
          ],
          [
           "FRANK'S TRATTORIA",
           18
          ],
          [
           "D DELI COFFEE SHOP",
           27
          ],
          [
           "PORTOFINO CAFE",
           24
          ],
          [
           "PUNDA TIBETAN RESTAURANT",
           20
          ],
          [
           "JUST SALAD",
           35
          ],
          [
           "CAPITAL ONE NYC",
           9
          ],
          [
           "FAMOUS FAMIGLIA PIZZA",
           11
          ],
          [
           "LA ABUELITA",
           51
          ],
          [
           "HUNGRY GHOST",
           2
          ],
          [
           "STARBUCKS",
           9
          ],
          [
           "CULTURE 307",
           2
          ],
          [
           "MINGLES",
           9
          ],
          [
           "SCREAMER'S PIZZERIA",
           37
          ],
          [
           "IDA'S NEARABOUT",
           11
          ],
          [
           "PIZZA EMPORIUM",
           7
          ],
          [
           "AFRICAN HOME RESTAURANT",
           15
          ],
          [
           "JIMMY'S DELI & GRILL",
           13
          ],
          [
           "TAO HONG BAKERY",
           24
          ],
          [
           "JOE ASIAN & SUSHI",
           37
          ],
          [
           "Ria Bella",
           9
          ],
          [
           "ESS-A-BAGEL",
           28
          ],
          [
           "D & I RESTAURANT & BAKERY",
           26
          ],
          [
           "ZIA MARIA LITTLE ITALY",
           10
          ],
          [
           "NEW YORK KIMCHI",
           36
          ],
          [
           "FAMILY PIZZA",
           13
          ],
          [
           "PARADISE ALLEY BAR",
           29
          ],
          [
           "HIBINO LIC",
           19
          ],
          [
           "BARNES & NOBLE CAFE",
           19
          ],
          [
           "WOLF AND DEER BROOKLYN",
           50
          ],
          [
           "PUTAWN LOCAL THAI KITCHEN",
           23
          ],
          [
           "THAI BKK",
           23
          ],
          [
           "NANCY WHISKEY PUB",
           9
          ],
          [
           "CHINA MOON",
           17
          ],
          [
           "DUNKIN'",
           25
          ],
          [
           "LUCID CAFE",
           11
          ],
          [
           "HALAL BROS",
           14
          ],
          [
           "CITI FIELD BURGERS & DOGS STAND 337",
           0
          ],
          [
           "E.A.K. RAMEN",
           8
          ],
          [
           "FUKUOKA SHABU SHABU",
           10
          ],
          [
           "STARLIGHT GRILL RESTAURANT & SWEETS",
           28
          ],
          [
           "KEW GARDENS CINEMAS",
           19
          ],
          [
           "MAISON THAI",
           17
          ],
          [
           "ESPERANTO RESTAURANT BAR AND JUGO",
           9
          ],
          [
           "THE GROTTO",
           9
          ],
          [
           "MARIA'S",
           5
          ],
          [
           "STARBUCKS",
           5
          ],
          [
           "ANFORA",
           13
          ],
          [
           "YUMMY TACO",
           18
          ]
         ],
         "hoverlabel": {
          "namelength": 0
         },
         "hovertemplate": "<b>%{hovertext}</b><br><br>dba=%{customdata[0]}<br>score=%{customdata[1]}<br>latitude=%{lat}<br>longitude=%{lon}",
         "hovertext": [
          "MAMA MIA 44 SW",
          "TEPPEN RAMEN",
          "MOLE",
          "ZIO TOTO",
          "MOCHA MOCHA COFFEE",
          "ANGKOR CAMBODIAN BISTRO",
          "CHINA WOK",
          "ANTOJITOS AND NATURAL JUICE BAR",
          "EVERGREEN 858 LLC",
          "NICHE NICHE",
          "CHINA ONE RESTAURANT",
          "OASIS GRILL & BAR",
          "CHOI FOOK RESTAURANT",
          "STARBUCKS",
          "POCHA 32",
          "TAUROS BAR AND RESTAURANT",
          "KAVKAZKIY DVORIK",
          "ANDIAMO CAFE",
          "GOLDEN KRUST CARIBBEAN BAKERY & GRILL",
          "DRAGON GARDEN",
          "IPANEMA RESTAURANT",
          "WONG ASIAN FOOD",
          "PRIMOLA RESTAURANT",
          "VILLA TAPIA RESTAURANT",
          "BARCELO RESTAURANT",
          "THE KATI ROLL COMPANY",
          "TASTY DELICIOUS WEST INDIAN BAKERY & RESTAURANT",
          "BURGER KING",
          "BLACK SEED BAGEL",
          "TEMPLE COURT",
          "DENNY'S",
          "FLAME",
          "JIAN ON CHINESE RESTAURANT",
          "NEW GOOD TASTE CHINESE RESTAURANT",
          "RICHIE RICH",
          "VENICE PIZZA",
          "V-BREAD CAFE NY",
          "SOPHIE'S CUBAN CUISINE",
          "PARAISO AZTECA RESTAURANT",
          "BAGEL BIN",
          "JOE'S PIZZA & PASTA",
          "TEN DEGREES",
          "WANG EASTERN OF ZHANG",
          "EL GRAN VALLE RESTAURANT",
          "DUNKIN'",
          "MILLIE'S DELI",
          "THE LOCAL",
          "FISHERMAN'S COVE",
          "CULTURE ESPRESSO",
          "BRUNSWICK",
          "MARKET CRATES",
          "EAST COAST",
          "JULES BISTRO",
          "CORNER BISTRO",
          "DUNKIN', BASKIN ROBBINS",
          "SUBWAY",
          "BOMBAY GRILL AND CURRY",
          "RIKO PERUVIAN CUISINE",
          "MR. BING OF 28TH STREET",
          "GRAMERCY KITCHEN",
          "ROYAL QUEEN/THE REAL KTV",
          "GIRALDA BAKERY",
          "AMBASSADOR THEATRE",
          "ALFONSO'S PASTRY SHOPPE",
          "SAZON DE LUPITA",
          "COWGIRL SEAHORSE",
          "NEW CARRIZAL RESTAURANT",
          "TONE AUTHENTIC GEORGIAN BAKERY & CUISINE",
          "TERRAVITA BAR & KITCHEN",
          "ROSARITO FISH SHACK & SHELTER PIZZA",
          "LE CAFE COFFEE",
          "TABLE 87",
          "CREATE",
          "CAMPANIA COAL FIRED PIZZA",
          "EDWIN DELI GROCERY",
          "CLINTON STREET BAKING COMPANY",
          "OKUDA",
          "CHAMPIGNON",
          "SINGLE ORIGIN CAFE",
          "TAJ KEBAB",
          "NEEROB RESTAURANT",
          "PADDY QUINNS",
          "DON POLLO",
          "TASTE OF LAHORE",
          "THE GRANT CITY TAVERN",
          "STOUT",
          "A & R FOOD SERVICE BLDG 14",
          "MAMAN",
          "UNCLE LOUIE G'S ITALIAN ICES & ICE CREAM",
          "DUNKIN",
          "GREAT WALL RESTAURANT",
          "ALGONQUIN HOTEL/BLUE BAR",
          "MATECANA BAKERY & RESTAURANT",
          "EL NUEVO SANDY RESTAURANT",
          "RED MOON",
          "NIEVES TIA MIMI ICEES",
          "JERK HOUSE CARIBBEAN RESTAURANT",
          "LUGO LOUNGE & RESTAURANT",
          "LORENZOS BAR & GRILL (HILTON GARDEN)",
          "DINOSAUR BAR-B-QUE",
          "THURSDAY KITCEHN",
          "BOB BAR",
          "BLOSSOM DUJOUR",
          "CURRY EXPRESS",
          "SHAKING CRAB",
          "COURT DELI RESTAURANT",
          "FUJI SUSHI",
          "LA FOGATA",
          "TRUFA RESTAURANT",
          "Hibachi Express",
          "ATTRAVERSA",
          "TRIBECA'S KITCHEN",
          "PERSHING SQUARE CAFE",
          "MISS LILY'S 7A",
          "C.U.N.Y CAFE",
          "CREATIVE EDGE CATERERS",
          "PAPA JOHN'S",
          "NIO'S WEST INDIAN RESTAURANT & BAKERY",
          "18 LOUNGE KTV",
          "Lolo's Seafood Shack",
          "BA'AL CAFE AND FALAFEL",
          "LI'S GARDEN",
          "SALUD BAR & GRILL",
          "POLLERIA AZOGUENITA",
          "MACDOUGAL STREET ALEHOUSE",
          "POKE BOWL",
          "CRAZY WILLY'S",
          "KORNER CHICKEN-N-PIZZA",
          "REGGAE TASTE",
          "IL PORTO BRICK OVEN RISTORANTE",
          "CALIBRE 78",
          "ROMEO'S PIZZERIA",
          "HANK'S JUICY BEEF",
          "ARROGANT SWINE",
          "WING LING",
          "CHARLEY MOM KITCHEN",
          "US FRIED CHICKEN",
          "HANSOL NUTRITION CENTER",
          "SCHMACKARY'S",
          "DONUT SHOPPE",
          "THE STRAND BISTRO",
          "GOTTSCHEER HALL",
          "TASTE THE TROPICS ICE CREAM",
          "NEW ISLAND",
          "HONG KONG STATION",
          "LI LI CHINESE FOOD",
          "TRAILER PARK LOUNGE",
          "L.A. BURRITO",
          "VISTA HERMOSA RESTAURANT",
          "PASCALOU",
          "AU BON PAIN",
          "RICO CHIMI",
          "MCDONALD'S RESTAURANT",
          "CHEERS THAI RESTAURANT",
          "STARBUCKS",
          "STOUT",
          "PAPA JOHN'S PIZZA",
          "SHESHE PIZZERIA",
          "THE VNYL",
          "FOOD HUT RESTAURANT & BAKERY",
          "BONCHON",
          "AVP COFFEE SHOP",
          "LA FLOR DEL PARAISO RESTAURANT",
          "STARBUCKS",
          "KING'S ARMS RESTAURANT",
          "MR. CHICKEN TO GO",
          "ICHI UMI",
          "AU BON PAIN",
          "NEW DRAGON SEA CHINESE RESTAURANT",
          "LEAF ROOFTOP LOUNGE",
          "GRAND ARMY BAR",
          "LA POLLERA COLORADA II",
          "M & O BAGELS",
          "HUMMUS MARKET",
          "OCEAN CHINESE RESTAURANT",
          "ATLANTIC GRILL WEST",
          "FU LAI O KITCHEN",
          "CHINANTLA RESTAURANT",
          "CUCUMBER SUSHI & SALAD BAR",
          "THE RUSTY KNOT",
          "DONGSHENG SHI FANG",
          "CHARLEYS PHILLY STEAKS",
          "MONARCH",
          "DILL AND PARSLEY",
          "LA BONA PIZZA & PASTA",
          "MINI GALAXY",
          "CHUCK E. CHEESE'S",
          "KAZAN MANGAL",
          "SANDRO'S",
          "375 THRICE COOKED FRIES",
          "MILANES SPANISH RESTAURANT",
          "SOFIA'S TAQUERIA",
          "STARBUCKS",
          "MEHAK",
          "TAK KING CHINESE RESTAURANT",
          "BEST CARIBBEAN RESTAURANT & GRILL",
          "MCDONALD'S",
          "YOLIE'S BAR & RESTAURANT",
          "LA GRAN URUGUAYA BAKERY & RESTAURANT",
          "ANTICA RISTORANTE",
          "MASTER GRILL",
          "A-1 PIZZA SHOP",
          "COCO THAI",
          "MARY O'S",
          "CHECKERS",
          "SWEET CHICK",
          "DUNKIN'",
          "PG PIZZA",
          "RICHMOND BAGEL & GOURMET DELI",
          "OASIS CAFE",
          "SERAFINA",
          "MACARON CAFE",
          "RIZZO FINE PIZZA",
          "BARBOUNIA",
          "FALANSAI",
          "FINGERLINKING RESTURANT",
          "CHINA TASTES",
          "UNCLE JACK'S STEAKHOUSE",
          "SILVER PALACE CHINESE RESTAURANT",
          "OUTBACK STEAKHOUSE",
          "BLUE AGAVE",
          "DIG INN",
          "HOUSE OF ANTOJITOS",
          "BOAT BAR",
          "JADE LINDEN RESTAURANT",
          "HABANERO",
          "SUP THAI KITCHEN",
          "STARBUCKS",
          "SILVER MOON BAKERY",
          "HALAL RESTAURANT",
          "B&W DELI GROCERY",
          "ARPING RESTAURANT 45",
          "MCDONALD'S RESTAURANT",
          "LITTLE ITALY PIZZA/PAPAYA DOG",
          "DUNKIN', BASKIN ROBBINS",
          "THE GAVEL GRILL",
          "SAMMY'S NOODLE SHOP & GRILL",
          "A & S PIZZERIA",
          "MOE'S SOUTHWEST GRILL",
          "TWIN DONUT/BLIMPIES",
          "ECUATORIANA RESTAURANT",
          "NICE MATIN",
          "CROWN FRIED CHICKEN",
          "CLOVELLY COFFEE",
          "TOMOE SUSHI",
          "KLEINBERG'S",
          "MCDONALD'S",
          "KARMA",
          "PRINCESOS NY",
          "BELAIRE CAFE",
          "MATEUS RESTAURANT",
          "GABRIEL KREUTHER",
          "THE BUSHWICK DINER",
          "RED EYE GRILL",
          "S,T COFFEE",
          "NEST RESTAURANT & BAR",
          "ALFONSO'S PASTRY SHOPPE",
          "SCHIMANSKI NEW YORK",
          "BRANCACCIO'S FOOD SHOP",
          "CHINAR ON THE ISLAND",
          "HEMO'S SPOT JUICE BAR & CAFE",
          "ASIAN GOURMET",
          "HAPPY FRESH TORTILLA GRILL",
          "FOO HING KITCHEN",
          "LUCILLE'S COFFEE AND COCKTAILS",
          "ALL STAR PIZZA",
          "THE GRAND PROSPECT HALL",
          "HALE & HEARTY SOUP",
          "EMPIRE STEAKHOUSE",
          "BAY HOUSE",
          "BAGEL BISTRO & DINER",
          "DUNKIN'",
          "BLIND BARBER",
          "STEPHANIE DELI",
          "FEI HUANG BAKERY",
          "MJ PIZZA",
          "NYLC LOUNGE",
          "DE MOLE",
          "AFGHAN CHAI KHANA",
          "RUSS & DAUGHTERS AT THE JEWISH MUSEUM",
          "NEW WONG RESTAURANT",
          "ENZO'S PIZZERIA & ITALIAN SPECIALTIES",
          "LITTLE CAESARS",
          "THE PALM",
          "GUAYACOS RESTAURANT",
          "APPLE GOURMET",
          "THE CROWN",
          "WAYPOINT CAFE NYC",
          "SWEETGREEN",
          "BURGEROLOGY",
          "FIVE SENSES",
          "DUNKIN'",
          "ROCKAWAY ROTI SHOP",
          "PACIFIC MOON",
          "JUST SALAD",
          "NoMad",
          "LA CANDELA ESPANOLA",
          "CINDRELLA LOUNGE",
          "XI'AN FAMOUS FOODS",
          "THAI PARAGON",
          "TWIN DONUT/BLIMPIES",
          "CERTE CATERING",
          "FAR EAST SZECHUAN KITCHEN",
          "ABDULLAH SWEETS AND RESTAURANT",
          "KONG SIHK TONG",
          "CORNER BISTRO",
          "WHITE NOISE COFFEE",
          "EL POTE ESPANOL",
          "FEDOROFF'S ROAST PORK",
          "DUNKIN'",
          "PEGGY DEMPSEYS",
          "NOSTRAND DONUT SHOP",
          "RIO DE LA PLATA BAKERY",
          "ROSA MEXICANO",
          "ANIL'S ROTI SHOP",
          "FAITH CHINESE FOOD",
          "TACOS LOS TIGRES DEL BRONX",
          "HINTERLANDS",
          "MAOJIAOHUOLA",
          "COCO ROCO RESTAURANT",
          "ROMA PIZZERIA ITALIA",
          "BURGER KING",
          "WARREN 77",
          "SHUNDECK RESTAURANT",
          "NEW MOON",
          "MCDONALD'S",
          "YOGURT LA CREPE",
          "KROK",
          "RECOVERY ROOM",
          "DIAMOND FOREST YAN'S CHINESE KITCHEN",
          "CRAVE FISH BAR",
          "HONG KONG STATION",
          "BENTON",
          "MILANES SPANISH RESTAURANT",
          "PETRA",
          "BARIOS PIZZA & RESTAURANT",
          "TRINI ROTI HOUSE AND BAKERY",
          "MAMA'S RESTAURANT JAMAICAN AND AMERICAN FOOD",
          "CAFE LILY",
          "US FRIED CHICKEN & PIZZA",
          "OSAKA SUSHI",
          "DELICO",
          "LOS CHOCOMILES",
          "CAKE BOI",
          "KUNG FU STEAMER",
          "LOCAL NYC",
          "BLACK NILE SEAFOOD & SOUL FOOD",
          "CHINA TASTE",
          "CIENEGA LAS TLAYUDAS DE OAXACA",
          "CHESKA'S",
          "JERRY'S 637 DINER",
          "ACTION BURGER",
          "BEDFORD COFFEE COMPANY/STARBUCKS",
          "DELUXE GREEN BO",
          "EAST COAST BURGERS",
          "OLD HOMESTEAD",
          "RECOLTE",
          "XIANG XIANG NOODLE",
          "THE FICTION",
          "CAFE FOOD HALL",
          "RED FORTUNE RESTAURANT",
          "EL GAUCHITO RESTAURANT",
          "TJ'S TASTY CORNER 2",
          "CAOBA BROOKLYN BISTRO",
          "THE LITTLE BEET",
          "SPEAKVINO",
          "JADE STAR KITCHEN",
          "ANGELA'S SANDWICH SHOP",
          "DOMINO'S",
          "DINO",
          "COBBLE & CO",
          "KORYODANG BAKERY & CAFE",
          "LA COCINA DE MAMA",
          "DOS CAMINOS",
          "Bar Veloce",
          "AMORINO",
          "DAVEY'S ICE CREAM",
          "E-MO KIMBOB",
          "BIGWELL BAKERY AND HALAL RESTAURANT",
          "LA CHULA",
          "NATE",
          "MOTT HAVEN BAR & GRILL",
          "THE BOMOND RESTAURANT",
          "CORNER BISTRO",
          "STAND 224",
          "LET'S MAKAN",
          "ALFONSO'S PASTRY SHOPPE",
          "YUMMY CHINESE",
          "NEW LIN'S KITCHEN",
          "LA PERLA DEL ULUA RESTAURANT",
          "BABY'S GRILL AND RESTAURANT",
          "MIRACALI BAKERY",
          "UNCLE LOUIE G'S ITALIAN ICES & ICE CREAM",
          "SUBWAY",
          "BEACON THEATRE (BALCONY BAR)",
          "L'OREAL CAFE (EMPLOYEE DINING)",
          "KIN KHAO",
          "LA MARGARITA PIZZERIA",
          "HAVANA EXPRESS",
          "Playwright Celtic Pub",
          "NEW CHINA WOK",
          "3 LUIGI'S PIZZA",
          "KFC",
          "BASIL",
          "PIZ-ZETTA",
          "BLUE MOUNTAIN RESTAURANT & JERK CENTER",
          "IRIS TEA & BAKERY",
          "VIVI BUBBLE TEA",
          "RED HOT HOT POT",
          "SOHO SUSHI",
          "DA PLACE CUISINE",
          "NO. 1 CHINESE RESTAURANT",
          "BEST COFFEE SHOP",
          "RICO PAN BAKERY",
          "THE PALM",
          "PUNJABI INDIAN & AMERICAN RESTAURANT",
          "PINSHANG HOT POT",
          "O'NEILL'S RESTAURANT & BAR",
          "AL-SHAM RESTAURANT",
          "GREGORY'S COFFEE",
          "GREEN PAVILION RESTAURANT & SPORTS LOUNGE",
          "KASHMIR 9",
          "JAKE'S SALOON",
          "D'ALESSANDRO'S CORNER GRILL",
          "TENGU SUSHI & NOODLE HOUSE",
          "LA GATA GOLOSA BAKERY / YOGURTBERRY",
          "ESTRELLA BAR & RESTAURANT",
          "CHAMPION PIZZA",
          "DUNKIN'",
          "CROWN FRIED CHICKEN",
          "TAQUERIA HUARACHE",
          "VILLAGE MARIA",
          "JUICE GENERATION INC",
          "BENNY'S BRICK OVEN",
          "AL CHOLO WEST INDIAN BAKERY & HEALTH FOOD STORE",
          "MI ARMADILLO GRANDE",
          "MONK MCGINNS",
          "NEW YORK SAL'S PIZZERIA",
          "HOMEMADE TAQUERIA",
          "MIKKELLER NYC",
          "NARUTO RAMEN",
          "AZTEC SOUL",
          "PER SE",
          "GOOD MORNING BROOKLYN",
          "LA CARRETA RESTAURANT",
          "J EAST CHINESE RESTAURANT",
          "CANTINA ROOFTOP",
          "PASTICCERIA BRUNO BAKERY & RESTAURANT",
          "ESS-A-BAGEL",
          "CHEZ ALEX",
          "DUNKIN /JEAN GEORGES SIMPLY CHICKEN",
          "JACAL MEXICANO CORP.",
          "MOONSTRUCK (IN BELLEVUE)",
          "HI NOODLE THAI",
          "WHITE HORSE TAVERN",
          "BUONA NOTTE",
          "CHEFS CLUB BY FOOD & WINE",
          "SUBWAY",
          "THE IZAKAYA",
          "THE SHADMOOR",
          "KENNEDY FRIED CHICKEN & PIZZA",
          "HOUSE OF ANTOJITOS",
          "COLD STONE CREAMERY",
          "TOMPKINS SQUARE BAGELS",
          "HAPPY TOWN CHINESE RESTAURANT",
          "JENAVIES CAFE",
          "CHEESEBOAT",
          "COOK EATERY",
          "MINT",
          "GIRASOLES MEXICAN CUISINE",
          "MR WISH",
          "25th AVE DELI",
          "THE THIRSTY KOALA",
          "LA TUNA RESTAURANT",
          "GOLDEN WAY CHINESE RESTAURANT",
          "DA NONNA ROSA",
          "101 CAFE",
          "MI BELLA CHOLULITA MEXICAN RESTAURANT",
          "MCDONALD'S",
          "EL NUEVO TAINO",
          "AMORE PIZZERIA & RESTAURANT",
          "VYBES KITCHEN",
          "CHICK IN",
          "SUSHI 33",
          "THE DART SPORTS BAR",
          "ISLAND CZ CAFE",
          "THE LITTLE BEET TABLE",
          "LIMAN RESTAURANT",
          "CHINA RED GOURMENT",
          "NEW WING CHEUNG (New C Ave. D)",
          "UKUS",
          "DON ALEX RESTAURANT",
          "290 WILD BAR",
          "FRANK'S REDHOT TERRACE",
          "CAFE CINQ",
          "THE JEFFREY",
          "CHINESE MUSICIAN RESTAURANT",
          "RICE & MISO",
          "HIBINO",
          "DUNKIN'",
          "PANSHI",
          "GREAT SICHUAN",
          "LA ISLA RESTAURANT",
          "WONG WONG NOODLE SHOP",
          "TRUMP BAR",
          "SISTINA",
          "NELLY'S CAKES & PARTY SUPPLIES",
          "BEST CHOICE CARIBBEAN RESTAURANT AND JUICE BAR",
          "DA CAPO",
          "BRAVO PIZZA",
          "MI ESPIGUITA",
          "YAMATO",
          "TAQUERIA COATZINGO",
          "CHOCK FULL O' NUTS",
          "GENTING NEW YORK LLC",
          "COLOMBIA FAMA BAKERY",
          "MARAVILLA'S BAR & GRILL",
          "SHIRO OF JAPAN",
          "ROOM CAFE",
          "XI'AN FAMOUS FOODS",
          "CENT'ANNI",
          "HANSOL NUTRITION CENTER",
          "WB CARIBBEAN RESTAURANT",
          "SUPER KENNEDY'S CHICKEN & SANDWICH",
          "CREATE",
          "HOT BAGELS",
          "JUANITO RESTAURANT",
          "CITY OF SAINTS COFFEE ROASTERS",
          "JOHN JAY DINING HALL",
          "UNDERLINE COFFEE",
          "2 BROS PIZZA",
          "POPEYES",
          "LOS CAFETALES RESTAURANT",
          "C & C ITALIAN DELI",
          "BUON",
          "SONAMU HOUSE",
          "QUEEN'S PIZZA",
          "EL JOBITO RESTAURANT",
          "CAFE PHIL",
          "SOM BO",
          "PAPA KEBAB",
          "PHOMEN",
          "EL MOLINO ROJO RESTAURANT",
          "ARROGANT SWINE",
          "MICHELLE RESTAURANT",
          "CAPRI II PIZZA",
          "EAST NEW SING BO",
          "MI SABOR CAFE",
          "THE SPOT CAFE/KOFOO",
          "LITTLE ITALY PIZZA",
          "CHIQUI CAFE",
          "COFFEE MONSTER",
          "SOMPONG THAI",
          "THE MICHELANGELO",
          "MEXICO LINDO RESTAURANT",
          "TASTY AND CO",
          "FRANK'S PIZZA",
          "SOUL OF THE SEA",
          "SZECHUAN DELIGHT",
          "WESTERN BAKERY",
          "WING WAGON",
          "DENG JI RESTAURANT",
          "CAFE TABACO Y RON",
          "ORCHARD BEACH SNACK BAR SECTION 10",
          "MCDONALD'S",
          "BLUE STORM BILLIARDS & CAFE",
          "LE GRAINNE CAFE",
          "BIBA OF WILLIAMSBURG",
          "GANSEVOORT PARK ROOFTOP",
          null,
          "RIO CONVENIENCE STORE",
          "WALTER'S COTTAGE",
          "JUQUILA",
          "THE BEAST NEXT DOOR",
          "Las Lap",
          "LA CABANA MEXICAN RESTAURANT",
          "DAR 525",
          "COYOTE BOHEMIO",
          "BUNSMITH",
          "EVENTS AT STONE PARK",
          "EASY LOVER",
          "EL AGUILA BAKERY",
          "VALENCIA COFFEE ROOM",
          "FULL DOE BAKERY",
          "RESOBOX",
          "CHEZ ALAIN RESTAURAUNT",
          "CHINA EXPRESS",
          "KANSAS CHICKEN & BURGER",
          "SMOOTHIE REY",
          "RAMEN-YA",
          "3 IN 1 KITCHEN",
          "BAKER HOUSE MARKET",
          "GRANDMA'S DIM SUM",
          "KAI FAN ASIAN CUISINE",
          "PERA SOHO",
          "KISS MY SLICE",
          "CHIDORI JAPANESE CUISINE",
          "BURGER KING",
          "HEJAZ FAST FOOD",
          "ASHLAND @ HAMPTON INN",
          "SKYLINE BILLIARD CLUB",
          "FAMILY KITCHEN",
          "MALAI MARKE",
          "ZEST RAMEN",
          "JACKS FIRE DEPARTMENT",
          "SICHUAN CUISINE",
          "AUNTIE ANNE'S PRETZELS",
          "BARDOLINO PIZZA II",
          "THE DUMPLING SHOP",
          "MCDONALD'S",
          "FAMOUS AMADEUS PIZZA",
          "MILK & PULL",
          "SPIRO'S CAFE & PIZZA",
          "JR PRIMOS RESTAURANT",
          "THREE OWLS MARKET",
          "WALK UP BAR",
          "LOS ANGELES BAKERY",
          "THE IMMIGRANT NYC",
          "LAS PALMAS RESTAURANT",
          "EL SAZON IDEAL RESTAURANT",
          "RIVERDALE SECOND HELPING",
          "OCEANA POKE",
          "MO'S BAR",
          "MANOR SUSHI",
          "GINO'S CUCINA BRICK OVEN PIZZA",
          "RAJDHANI INDIAN RESTUARANT",
          "MODHU MITA INDIAN RESTAURANT",
          "KIN KHAO",
          "MCDONALD'S",
          "PRIMAVERA CAFE",
          "PARADISE ALLEY BAR",
          "FOREST THAI CUISINE",
          "GOLDEN STEAMER",
          "SIMPLY BAKERY",
          "MOE'S SOUTHWEST GRILL & CHARLEYS PHILLY STEAKS",
          "NORA'S PIZZA",
          "ON THE ROX LOUNGE & BAR",
          "BA XUYEN",
          "CO BA RESTAURANT",
          "1ST MAMA RESTAURANT",
          "GOLDEN TERRACE BANQUET HALL",
          "FELLA'S BAR",
          "PRODUCERS LOUNGE",
          "UNION SQUARE CAFE/ DAILY PROVISIONS",
          "BELLA NAPOLI",
          "BAGELSMITH",
          "PRINCE ST PIZZA",
          "GONG CHA",
          "EL PATIO MEXICANO RESTAURANT",
          "169 BAR",
          "COSI",
          "RED LOBSTER",
          "KING'S PIZZA",
          "ARIA KABAB",
          "FULL MOON PIZZA",
          "68 JAY STREET BAR",
          "NAPOLI PIZZA",
          "EL PIN POLLO RESTAURANT",
          "BEECHER'S HANDMADE CHEESE",
          "JING WEI HOTPOT",
          "GARY AND GINO'S",
          "STAR RESTAURANT",
          "BREAD & BUTTER",
          "NAPOLI'S BEST PIZZA",
          "JANE",
          "THE 13TH STEP",
          "MASTER WOK",
          "LAS BANDERAS",
          "WHITE CASTLE",
          "HUMBOLDT & JACKSON",
          "Panorama of My Silence-Heart",
          "MARIO'S PIZZERIA",
          "ASIAN TOKYO JAPANESE CUISINE",
          "CHOW",
          "J EAST CHINESE RESTAURANT",
          "CAFE CELLO DELI",
          "DIM SUM PALACE",
          "BENIHANA",
          "The Rochard NYC",
          "SUSHI DOJO",
          "CORONA GREAT CHINA",
          "SOMETHING'S COOKING CATERING",
          "OCABANON",
          "CAFE CON PAN BAKERY",
          "KOGANE",
          "KANA TAPAS BAR & RESTAURANT",
          "CURRY IN A HURRY",
          "F & J PINE RESTAURANT",
          "WINTER GARDEN THEATER",
          "ASHOKA",
          "ORCHARD BEACH SNACK BAR SECTION #7",
          "DOUBLE DELIGHT CHINESE RESTAURANT",
          "CARLO'S BAKERY",
          "SWEETS BAKERY",
          "EMPERADOR ELIAS RESTAURANT",
          "MCCANN'S PUB",
          "DADDY'S CAFE",
          "Bao Ding",
          "HONG KONG FOODTOWN",
          "MCGARRY'S",
          "DUNKIN', BASKIN ROBBINS",
          "POLISH NATIONAL HOME",
          "THE MONTROSE",
          "KENNEDY CHICKEN",
          "DELICIOSO DELI & GRILL",
          "NUTRIPAN #2",
          "3D'S LEGACY SALAD & GRILL",
          "LE GAMIN",
          "OUSIA",
          "CARIDAD RESTAURANT",
          "RESTIVO RISTORANTE",
          "LUPA OSTERIA ROMANA",
          "MANTING RESTAURANT",
          "CAFE EVERGREEN",
          "EL PENACHO RESTAURANT",
          "CAFE AMORE'S RESTAURANT",
          "MOMINETTE",
          "EL TEQUILAZO RESTAURANT & BAR",
          "LOTUS LOUNGE",
          "PASTARIFIC PIZZA AND RESTAURANT",
          "CAFE PETISCO",
          "THE PALM",
          "BYUNG CHUN SOON DAE",
          "SONS OF ESSEX",
          "LAS AMERICAS BAKERY",
          "SPICY MOON",
          "BAGEL BOBS ON YORK",
          "DEAR MAMA",
          "OVERLOOK",
          "CASCATA",
          "EL CAFETAL BAKERY",
          "GLADY'S",
          "LENWICH",
          "KILO",
          "SHU HAN JU AUTHENTIC CHINESE CUISINE",
          "BROCCOLINO",
          "SZECHAUN GARDEN",
          "NEW HUNAN WOK",
          "SAGAR CHINESE",
          "886",
          "NEW PINANG",
          "PARIS BAGUETTE",
          "JOHN'S FRIED CHICKEN",
          "RINCON LATINO RESTAURANT",
          "EL PORTON BAR & RESTAURANT",
          "FAMOUS FAMIGLIA PIZZERIA",
          "CHUAN ZHU REN",
          "THE ROCK RESTAURANT & DINER",
          "MUSE",
          "LAS PALMAS RESTAURANT",
          "NAPOLI PIZZA & PASTA",
          "COLUMBIA UNIVERSITY BAKER ATHLETICS COMPLEX, STAND #1",
          "GRAND SICHUAN EASTERN",
          "99 CENTS FRESH & HOT PIZZA",
          "MOONSTRUCK EATERY",
          "CRYSTAL LOUNGE",
          "M & M BAR & GRILL INC",
          "WIMPY'S RESTAURANT",
          "EL NUEVO BOHIO RESTAURANT",
          "VSPOT ORGANIC",
          "LYDIG COFFEE HOUSE",
          "JIANBING COMPANY",
          "MOMINETTE",
          "GOOD CHINESE RESTAURANT",
          "HEARTLAND CHOPHOUSE BREWERY/HB BURGERS",
          "EMPORIO",
          "DELICIOUS PIZZA CAFE",
          "POPEYES",
          "FESTAC GRILL AND LOUNGE",
          "UP THAI",
          "PIZZA KING",
          "ALO YOGA LLC",
          "USA DINER",
          "THE BLUE STOVE",
          "DALLAS CHICKEN & BISCUIT",
          "TROPICAL REVIVAL RESTAURANT & CATERING",
          "CHIDORI JAPANESE CUISINE",
          "DORLAN'S",
          "HUNAN BISTRO",
          "PANDA DELIGHT CHINESE RESTAURANT",
          "MEXICAN FAST FOOD",
          "DOS TOROS TAQUERIA",
          "BAYRIDGE PIZZA",
          "BUFFALO BOSS",
          "JUICE FOR LIFE",
          "RADISSON JFK - CONNECTIONS",
          "J & K GOURMET",
          "CROWN FRIED CHICKEN",
          "THE OVAL SPORTS BAR & LOUNGE",
          "BIRCH",
          "LAUT",
          "GRILL 66",
          "EL REY",
          "BUTTER RESTAURANT",
          "CALIBELLA BAKERY",
          "PENN SUSHI",
          "IMPERIAL TASTE 88",
          "EAT-A-BAGEL - BOAT SPIRIT OF AMERICA",
          "STEVEN RESTAURANT",
          "WOK 88",
          "LITTLE WAYS",
          "QINGDAO",
          "PIPINS PUB",
          "SAKE BAR SATSKO",
          "OSTERIA 106",
          "O G RESTAURANT",
          "DUNKIN', BASKIN ROBBINS",
          "TASTY GRILL",
          "WELCOME TO THE JOHNSON'S",
          "NEW ORIENTAL GUYANA RESTAURANT",
          "BELLA GIORNATA",
          "JIN MA BAKERY",
          "EL PUERTO MEXICANO",
          "TAQUERIA RESTAURANTE MI BARRIO",
          "CAMPESINO DOMINICANO RESTAURANT",
          "HABANERO",
          "NO. 1 KITCHEN",
          "GRILL ON THE HILL",
          "BOCA JUNIORS STEAKHOUSE",
          "CHENG'S",
          "LA BAGUETTE SHOP",
          "MISTER CANGREJO COLOMBIAN RESTAURANT",
          "BAPSANG",
          "SEVEN GRAMS CAFFE",
          "SAMMY'S HALAL",
          "NEW HONG KONG",
          "WING GONG RESTAURANT",
          "CHINA GARDEN RESTAURANT",
          "NEW MING'S KITCHEN",
          "EL SAZON IDEAL RESTAURANT",
          "ADAR LOUNGE",
          "GANDA SUSHI EXPRESS",
          "POLASH INDIAN CUISINE RESTAURANT",
          "TASTE OF CHINA",
          "POKE BURRITO",
          "HAMPTON CHUTNEY CO",
          "EL VIEJO JOBO SEAFOOD RESTAURANT",
          "SRIPRAPHAI THAI RESTAURANT",
          "VICTORIA'S SECRET / STARBUCKS",
          "RED FARM/DECOY",
          "W K RESTAURANT",
          "GOLDEN LEO RESTAURANT",
          "PAPA JOHNS PIZZA",
          "PUERTO DE MANTA BAR LOUNGE",
          "PROOF COFFEE ROASTER",
          "TAKUMEN",
          "NEW CHINA",
          "LOEWS REGENCY BAR AND GRILL",
          "CROWN FRIED CHICKEN",
          "MIGDALIA PLACE",
          "NANA'S BISTRO & CATERING",
          "PANDA",
          "KING WOK CHINESE RESTAURANT",
          "The Royal Underground",
          "YU KITCHEN",
          "MARGON RESTAURANT",
          "El Crucero Restaurant & Grill",
          "KODAMA SUSHI",
          "PRONTO CAFE",
          "CHINA WOK",
          "YOURS & MINE RESTAURANT",
          "MADMAN ESPRESSO",
          "SATI'S ROTI SHOP",
          "NEW WING CHEUNG (New C Ave. D)",
          "FRIEDMAN'S",
          "NEW YORK POST CAFETERIA",
          "PAK LAHORI CHILLI",
          "MILLY'S CORNER RESTAURANT AND BAR",
          "JUICE GENERATION INC",
          "FRESH & DELICIOUS",
          "MCDONALD'S",
          "B -SIDE",
          "EL BUEN SABOR",
          "CHANDNI SWEETS & RESTAURANT",
          "KIMCHEE KOREAN RESTAURANT",
          "TRIBECA BAGELS",
          "PAM REAL THAI 49",
          "SCAVELLO'S ON THE ISLAND",
          "ROYAL SEAFOOD CUISINE",
          "PERRY STREET",
          "LIBERTY GRANT CAFE",
          "LOS AMIGOS MEXICAN RESTAURANT",
          "LA PULPERIA",
          "SMOKEY ISLAND GRILLE",
          "MAMA LETI'S",
          "PANCHO VILLA RESTAURANT",
          "BED-STUY FISHFRY",
          "ROSA'S PIZZA & PASTA",
          "D'ANGELO'S PIZZA",
          "NARUTO RAMEN",
          "THE CUSTOM HOUSE",
          "KISMET CATERERS",
          "TOSKANA PIZZERIA RESTAURANT",
          "SPICE SYMPHONY",
          "HIBACHI KING",
          "MANETTA'S RISTORANTE",
          "EL PASO TAQUERIA",
          "DRAUGHT 55 BAR & KITCHEN",
          "NAIA DELI GRILL JUICE AND SALAD BAR",
          "POPEYES",
          "BUNNA CAFE",
          "TABLESIDE ITALIAN COOK SHOPPE",
          "LOS PANCHOS",
          "MIDTOWN RESTAURANT",
          "IL PORTO BRICK OVEN RISTORANTE",
          "SHERWOOD TO GO",
          "TAQUERIA SAN PEDRO",
          "POPEYES",
          "HOMEWOOD SUITES BY HILTON NEW YORK MIDTOWN MANHATTAN TIMES SQUARE",
          "PARADE CAFE",
          "RAY'S CAFE AND RESTAURANT",
          "APERION PRODUCTION",
          "DELICIOUS HUANG BAKERY",
          "JIN ZHOU BBQ",
          "GIRASOL BAKERY",
          "ROBERTA'S",
          "Double Dutch Espresso",
          "VIVA EVENTS AND CATERING",
          "STARBUCKS",
          "GIUSEPPINA'S BRICK OVEN",
          "PICKY EATERS RESTAURANT",
          "ISLAND RAGE",
          "ROYAL QUEEN/THE REAL KTV",
          "GREAT WALL RESTAURANT",
          "DUNKIN'",
          "DOLMA RESTAURANT",
          "TAGINE",
          "BURGER KING",
          "THE BROOKLYN INN",
          "MIRIAM",
          "SEATTLE COFFEE ROASTERS, PIER 79/ NY WATERWAY",
          "A CAFE",
          "MIA HALAL FOOD",
          "NYC HANDCRAFTED",
          "STIX RESTAURANT",
          "SODA BAR",
          "CATERINA PIZZERIA",
          "NEW NOODLE 28",
          "FERRY HOUSE CAFE",
          "PIO PIO",
          "MILE 17",
          "THE BOIL",
          "FISHERMAN'S COVE",
          "HAN GAWI",
          "MEXICUE",
          "POLLO SABROSO RESTAURANT",
          "TIAN SHUN RESTAURANT",
          "COTTON CLUB",
          "JUICE HEALTHY FOOD AND DRINKS",
          "SUNRISE",
          "HUDSON VIEW RESTAURANT",
          "HARRY'S ITALIAN",
          "FRANK'S TRATTORIA",
          "D DELI COFFEE SHOP",
          "PORTOFINO CAFE",
          "PUNDA TIBETAN RESTAURANT",
          "JUST SALAD",
          "CAPITAL ONE NYC",
          "FAMOUS FAMIGLIA PIZZA",
          "LA ABUELITA",
          "HUNGRY GHOST",
          "STARBUCKS",
          "CULTURE 307",
          "MINGLES",
          "SCREAMER'S PIZZERIA",
          "IDA'S NEARABOUT",
          "PIZZA EMPORIUM",
          "AFRICAN HOME RESTAURANT",
          "JIMMY'S DELI & GRILL",
          "TAO HONG BAKERY",
          "JOE ASIAN & SUSHI",
          "Ria Bella",
          "ESS-A-BAGEL",
          "D & I RESTAURANT & BAKERY",
          "ZIA MARIA LITTLE ITALY",
          "NEW YORK KIMCHI",
          "FAMILY PIZZA",
          "PARADISE ALLEY BAR",
          "HIBINO LIC",
          "BARNES & NOBLE CAFE",
          "WOLF AND DEER BROOKLYN",
          "PUTAWN LOCAL THAI KITCHEN",
          "THAI BKK",
          "NANCY WHISKEY PUB",
          "CHINA MOON",
          "DUNKIN'",
          "LUCID CAFE",
          "HALAL BROS",
          "CITI FIELD BURGERS & DOGS STAND 337",
          "E.A.K. RAMEN",
          "FUKUOKA SHABU SHABU",
          "STARLIGHT GRILL RESTAURANT & SWEETS",
          "KEW GARDENS CINEMAS",
          "MAISON THAI",
          "ESPERANTO RESTAURANT BAR AND JUGO",
          "THE GROTTO",
          "MARIA'S",
          "STARBUCKS",
          "ANFORA",
          "YUMMY TACO"
         ],
         "lat": [
          40.759632932643,
          40.759346442472,
          40.738141622621,
          40.62486908278,
          40.622676530212,
          40.762381598946,
          40.615278533753,
          40.836156807707,
          40.637021269225,
          40.727653975692,
          40.878808622248,
          40.760875525918,
          40.603889216863,
          40.771043264879,
          40.747442915433,
          40.695611566561,
          40.600140151979,
          40.86172225875,
          40.665463296305,
          40.587531569631,
          40.756642524282,
          40.763795168414,
          40.763930686163,
          40.807884878739,
          40.699974126861,
          40.757372741623,
          40.645736311953,
          40.764441376302,
          40.745601453484,
          40.711385570781,
          40.657892301106,
          40.784066952882,
          40.738915701818,
          40.82542303774,
          40.83341319403,
          40.836762474175,
          40.714912552607,
          40.755805364689,
          40.608714866846,
          40.692580968273,
          40.760189479339,
          40.727249470658,
          40.822658376178,
          40.848841853849,
          40.84200063068,
          40.744163633655,
          0,
          40.633328858812,
          40.751842601337,
          40.659348802262,
          40.752027150859,
          40.655492514341,
          40.728018237736,
          40.744947518794,
          40.634462524919,
          0,
          40.73358203572,
          40.74194802439,
          40.746650234094,
          40.735110658502,
          40.759777908235,
          40.820992860827,
          40.761004627373,
          40.612741882335,
          40.870104891975,
          40.708264959725,
          40.689846186718,
          40.581266294047,
          40.848107034346,
          40.719388224723,
          40.743317213144,
          40.670757322307,
          40.776718177706,
          40.613812442696,
          40.830546968383,
          40.721158765035,
          40.743732670427,
          40.743178329754,
          40.686509453633,
          40.63589066551,
          40.836010724097,
          40.759970935769,
          40.684244667006,
          40.754687183303,
          0,
          40.749581420927,
          40.648312826068,
          40.739404266832,
          40.60243191883,
          40.795012316671,
          40.858992569263,
          40.755547576189,
          40.745802895967,
          40.797101434903,
          40.757211205462,
          40.7483114018,
          40.894716792466,
          40.696427167581,
          40.612466807787,
          40.817790575991,
          40.727663818567,
          40.722441235448,
          40.759523147973,
          40.743146748972,
          40.675680179458,
          40.827302041436,
          40.598563936756,
          40.605728260524,
          40.823046530642,
          40.729823180028,
          40.72907299313,
          40.716235562575,
          40.752129641732,
          40.725962055374,
          40.748815051057,
          40.731847689049,
          40.814318598935,
          40.650661407755,
          40.604627473577,
          40.804531555952,
          40.724618224978,
          40.752896360438,
          40.684448340321,
          40.750659112367,
          40.729852558187,
          40.73731520658,
          40.699570483815,
          40.706912806995,
          40.680476615446,
          40.697366402589,
          40.747251296882,
          40.729248194919,
          40.714517326468,
          40.710079100435,
          40.839097733407,
          40.774174325259,
          40.827102250808,
          40.762775385515,
          40.759855125015,
          40.598852449746,
          40.750857169912,
          40.706647972614,
          40.640795017461,
          40.525678003581,
          40.75867135363,
          40.733249558695,
          40.744874624395,
          40.702256289516,
          40.828492328036,
          40.78509053253,
          40.753338177941,
          40.699191819306,
          40.784493930207,
          40.71405108991,
          40.723515624571,
          40.749581420927,
          40.696744291047,
          40.80004901021,
          40.732393568167,
          40.876967406421,
          40.753745223573,
          40.608859528455,
          40.700345741758,
          40.83537295631,
          40.630436247754,
          40.744552070576,
          40.746951463756,
          40.739489790595,
          40.85213352572,
          40.759098909404,
          40.688265728309,
          40.75558212959,
          40.683952391992,
          40.715387950229,
          40.75961017792,
          40.771650919237,
          40.636274801813,
          40.694431647167,
          40.526110177111,
          40.735322468458,
          40.752280909241,
          40.769782418109,
          40.750478747008,
          40.757075378151,
          40.673802126763,
          40.707941969227,
          40.757443692308,
          40.729631070542,
          40.774448297847,
          40.719718307529,
          40.744932117673,
          40.618692742536,
          40.725592918592,
          40.709068526708,
          40.680231121688,
          40.586727195859,
          40.686328027808,
          40.644856426709,
          40.750044808722,
          40.704018105174,
          40.805979304297,
          40.714639696184,
          40.658456881162,
          40.723330078838,
          40.664630370121,
          40.718302840715,
          40.86543502791,
          40.833688278011,
          40.536742460534,
          40.591053347963,
          40.739596297046,
          40.751799117043,
          40.720785507218,
          40.738223444693,
          40.706771914912,
          40.678454686599,
          40.669304822594,
          40.753709969771,
          40.836192232967,
          40.611555025462,
          40.617956275899,
          40.774272231992,
          40.855795720639,
          40.685828845135,
          40.67026777117,
          40.694697767597,
          40.726459088308,
          40.720483654604,
          40.80057498786,
          40.680742099343,
          40.752985326729,
          40.714155146858,
          40.784493930207,
          40.747656834756,
          40.845281612292,
          40.642117613793,
          0,
          40.643821556891,
          40.57254251875,
          40.826424451379,
          0,
          40.783244357926,
          40.669106011932,
          40.753100648221,
          40.727711642194,
          40.693715918467,
          40.740723908241,
          40.724727388482,
          40.851981915815,
          40.765879135867,
          40.720528624776,
          40.75403528333,
          40.700420090316,
          40.76500853812,
          40.686054526325,
          40.691461225686,
          40.612741882335,
          40.722236701539,
          40.648393914504,
          40.592596091025,
          40.633725767871,
          40.746172888762,
          40.667764221334,
          40.813670229536,
          40.826155149546,
          40.560203199495,
          40.663637214007,
          40.752486367873,
          40.764256886043,
          40.627875200944,
          40.612998288941,
          40.6412978124,
          40.727092401989,
          40.743977816769,
          40.617310275315,
          40.786901460675,
          40.861113199515,
          40.713859237829,
          40.774057078823,
          40.785291480988,
          40.713784496016,
          40.604228854782,
          40.835896872868,
          40.648312826068,
          40.746141305488,
          40.711863059986,
          40.715755379409,
          40.717250882856,
          40.780277609875,
          40.775753698039,
          40.747390750548,
          40.635543051033,
          40.675659941984,
          40.751437243228,
          40.777659384185,
          40.744989382569,
          40.551525701455,
          40.765161276598,
          40.772291354348,
          40.788180231461,
          40.826424451379,
          40.762035091044,
          40.729462120426,
          40.642619130984,
          40.715469964619,
          40.737924847314,
          40.761214061503,
          40.747674053669,
          40.719095355179,
          40.700607134992,
          40.722747793365,
          40.650975896814,
          40.742302665669,
          40.771195679299,
          40.688156948248,
          40.707512560814,
          40.817463918527,
          40.645886520561,
          40.751986849538,
          40.670737437043,
          40.834102329657,
          0,
          40.715189555731,
          40.600057159188,
          40.742435105689,
          40.719800823676,
          40.776712707678,
          40.687440366166,
          40.747558748278,
          40.631105762471,
          40.755017689672,
          40.75867135363,
          40.756447432523,
          40.744932117673,
          40.690326967038,
          40.589825046889,
          40.663777616713,
          40.799729834734,
          40.61024500136,
          40.65720135052,
          40.587757723134,
          40.749059927649,
          40.630088670036,
          40.680343365989,
          40.629083504209,
          40.751091318302,
          40.678198670719,
          40.77493695578,
          40.743938291242,
          40.726586022192,
          40.62646217291,
          40.712264142733,
          40.666261730859,
          40.715505647443,
          40.713292838921,
          40.741372224356,
          40.780189793146,
          40.739905744192,
          40.707273058544,
          40.756556290303,
          40.62851530312,
          40.742286205323,
          40.664101167635,
          40.678634984386,
          40.743899731938,
          40.687519270046,
          40.616141775374,
          40.765213667817,
          40.665341299459,
          40.689506138257,
          40.706908985393,
          40.762283972206,
          40.712942592678,
          40.759239769286,
          40.785368438093,
          40.783677913193,
          40.726563445636,
          40.747308389619,
          40.683392885062,
          40.798755986102,
          40.679881150642,
          40.808633427586,
          40.540317940614,
          40.737924847314,
          40.829028434834,
          40.715483688341,
          40.545125402333,
          40.70035945371,
          40.750632265193,
          40.70368330811,
          40.746255611306,
          40.747039121901,
          40.60243191883,
          40.646733691161,
          40.7805577458,
          40.752131794857,
          40.741617107084,
          40.721532503047,
          40.823678037301,
          40.759393827978,
          40.682574810486,
          40.688123259564,
          40.617678008681,
          40.67022425627,
          40.691378751255,
          0,
          40.759535331184,
          40.690585602378,
          40.801388139429,
          40.729627488582,
          40.666984538886,
          40.851947421727,
          40.640529241731,
          40.745596676227,
          40.648312826068,
          40.753876206376,
          40.781448797836,
          40.624740606259,
          40.62785160196,
          40.746857843208,
          40.631158973819,
          40.75507133236,
          40.746068611943,
          40.764901085088,
          40.633434003455,
          40.747547639492,
          40.841607852784,
          40.736195559538,
          40.736195559538,
          40.669391236584,
          40.844164223081,
          40.550343589994,
          40.730014257254,
          40.618321526405,
          40.884384428243,
          40.63604140435,
          40.71421246245,
          40.763733649336,
          40.727825639485,
          40.754695559225,
          40.781122998858,
          40.681555445711,
          40.767808491195,
          40.70633113204,
          40.645614755923,
          40.734874626466,
          40.764782321065,
          40.629547764266,
          40.734330312542,
          40.687538463614,
          40.750654836632,
          40.708816702334,
          40.739489790595,
          40.714339364956,
          40.735734434497,
          40.717778315856,
          40.724530380047,
          40.887941920037,
          40.727049499467,
          40.758722332241,
          40.869983586824,
          40.855795720639,
          40.684429939379,
          40.728072549944,
          40.782980932575,
          40.833266122728,
          40.719820886998,
          40.753703816993,
          40.604494557966,
          40.709157565439,
          40.709296899654,
          40.764861171649,
          40.774728794209,
          40.626114156596,
          40.675239751276,
          40.67280834708,
          40.685063207207,
          40.699448263224,
          40.665487277341,
          40.841444441196,
          40.769658810731,
          40.880840580863,
          40.733433838568,
          40.7288054345,
          40.715270326351,
          40.673417473761,
          40.741176556414,
          40.583790594921,
          40.715181462659,
          40.641912337097,
          40.763047847319,
          40.729786543966,
          40.587008050513,
          40.829028434834,
          40.751854407738,
          40.760917329185,
          40.730246712433,
          40.703801315166,
          40.69024822523,
          40.768703139145,
          0,
          40.740937186219,
          40.790339613959,
          40.638750591228,
          40.762501364873,
          40.777797086428,
          40.664531648075,
          40.88586548621,
          40.787623213109,
          40.734109173999,
          40.761557968442,
          40.67186430132,
          40.747055593936,
          40.62520137634,
          40.677664571164,
          40.745509844749,
          40.810756820716,
          40.709880021936,
          40.764019337695,
          40.740652526048,
          40.67305247529,
          40.762775385515,
          40.654761128052,
          40.861852773302,
          40.764958420115,
          40.71320780297,
          40.80776461455,
          40.731111968432,
          40.805667548901,
          40.746183724703,
          40.862396658965,
          40.847647349519,
          40.747270474785,
          40.670777979249,
          40.722063414203,
          40.763420827656,
          40.715966489924,
          40.854215160835,
          40.691676707528,
          40.741751107194,
          40.742360416171,
          40.664323075334,
          40.82734876626,
          40.710079100435,
          40.724085987108,
          40.876515785741,
          40.613129213069,
          40.697479457454,
          40.742395822291,
          40.74200344303,
          40.725128689732,
          40.76372159129,
          40.749517095026,
          40.761432404314,
          40.739644067898,
          40.728834965349,
          40.818754973012,
          40.66197506414,
          40.672500983959,
          40.676626506659,
          40.6769492401,
          40.750113736361,
          40.868952999725,
          40.865153252788,
          40.599063397988,
          40.761356954028,
          40.745360454403,
          40.72078827616,
          40.743797552699,
          40.744576692428,
          40.640344210924,
          40.760333036847,
          40.7475981705,
          40.748916230255,
          40.71756384585,
          40.64780280141,
          40.711045571367,
          40.699930515403,
          40.67194372669,
          40.673040136741,
          40.714676136416,
          40.643059684513,
          40.817653049355,
          40.641315727851,
          40.724818036835,
          40.807227159774,
          40.641599437133,
          40.664287599768,
          40.816747693882,
          40.730791266303,
          40.638295102672,
          40.751973027047,
          40.757443692308,
          40.887267360678,
          40.724036352466,
          40.755548575012,
          40.729805686911,
          40.650729396231,
          40.664274313077,
          40.695349720701,
          40.590870542115,
          40.693270949283,
          40.727107153736,
          40.718110166837,
          40.747270498043,
          40.759777908235,
          40.609928854538,
          40.783557156555,
          40.728273680003,
          40.844411665358,
          40.749916674231,
          40.681489529404,
          40.654610027081,
          40.865413420567,
          40.738844121535,
          40.703293906326,
          40.700549157217,
          40.728745589412,
          40.837531187934,
          40.853916458405,
          40.886026146872,
          40.763334557175,
          40.687160375382,
          40.60537626985,
          40.675050049916,
          40.721189869862,
          40.823204094229,
          40.741617107084,
          40.872832956197,
          40.86184590797,
          40.762388899418,
          40.626385439854,
          40.604959714834,
          40.715549565672,
          40.751091318302,
          40.861919134285,
          40.682503230247,
          40.645426063739,
          40.742977955918,
          40.851922693558,
          40.694385364199,
          40.852555855918,
          40.759193669729,
          40.737671769238,
          40.901110086392,
          40.713853095143,
          40.722927389298,
          40.733428169799,
          40.833717357285,
          40.714072440996,
          40.761350839717,
          40.809826751402,
          40.608629779839,
          40.727587302855,
          40.855487781306,
          40.702755433401,
          40.629472277818,
          40.708926053428,
          40.739101960026,
          40.636554370716,
          40.8867380812,
          40.827375338625,
          40.754460220511,
          40.8467185897,
          40.727151709687,
          40.729363268647,
          40.609928854538,
          40.612891889829,
          40.62691561238,
          40.716905083799,
          40.712367110538,
          40.683534113432,
          40.890871942287,
          40.766744846152,
          40.734874626466,
          40.756675482821,
          40.762317930938,
          40.762940896722,
          40.786633639113,
          40.726725405316,
          40.642688803277,
          40.755873119342,
          40.748409759431,
          40.642768411172,
          40.698545482177,
          40.725993041785,
          40.74277629464,
          40.848944092381,
          40.761558925412,
          40.77995832995,
          40.865153252788,
          40.613018411151,
          40.756185423077,
          40.764687153374,
          40.708724168904,
          40.774231405899,
          40.605277517114,
          40.759992887618,
          40.758102670356,
          40.752960668472,
          40.674673467688,
          40.722622173128,
          40.681380366747,
          40.660226029481,
          40.638238129023,
          40.704362111379,
          40.84041797152,
          40.728285592878,
          40.771358667463,
          40.84894689122,
          40.743518671168,
          40.727667725853,
          40.7598596835,
          40.768649321023,
          40.608711587419,
          0,
          40.703119293443,
          40.712174192147,
          40.845559272591,
          40.854046716188,
          40.714162923494,
          40.648312826068,
          40.764027818613,
          40.720064033661,
          40.750824644254,
          40.727035771777,
          40.776169108111,
          40.792329817768,
          40.751760773847,
          40.648312826068,
          40.695173920872,
          40.671663806224,
          40.765774816765,
          40.767056985247,
          40.735484803245,
          40.681975816298,
          40.757227173071,
          0,
          40.743636919436,
          40.728921504938,
          40.718439652463,
          40.763967211706,
          40.875109810995,
          40.897500681836,
          40.814315191017,
          40.804776710519,
          40.762431134677,
          40.6800845933,
          40.676688785864,
          40.837531187934,
          40.757304269149,
          40.871922776589,
          40.742623946021,
          40.764514788457,
          40.760413151844,
          40.76751264992,
          40.842826512565,
          40.843295679736,
          40.843990836686,
          40.729198789009,
          40.854477291223,
          40.76245205893,
          40.703119293443,
          40.695050598206,
          40.75586636582,
          40.72252941951,
          40.872833919102,
          40.691395283727,
          40.675719689704,
          40.769822179964,
          40.632791362339,
          40.723160816428,
          40.674070994073,
          40.717454925572,
          40.803266412613,
          40.79015718741,
          40.729805686911,
          40.707312498494,
          40.732281041572,
          40.687692441332,
          40.866888101517,
          40.730415215504,
          40.627837872178,
          40.683446896895,
          40.751867722884,
          40.667824047573,
          40.778339930137,
          40.668300603441,
          40.651384644455,
          40.793271006537,
          40.737479919914,
          40.707691233156,
          40.705792925266,
          40.756274908598,
          40.702382461844,
          40.750059234828,
          40.749406108658,
          40.700960374254,
          40.858401090284,
          40.780272378789,
          40.722685921931,
          40.758469213473,
          40.620603209486,
          40.724679731477,
          40.798838459462,
          40.695758942714,
          40.867395347236,
          40.788249690252,
          40.719715423452,
          40.685756988326,
          40.64263640381,
          40.738040379566,
          40.692470403198,
          40.641905739708,
          40.854545458314,
          40.694697767597,
          40.767163011885,
          40.822161426062,
          40.737611661127,
          40.626009539443,
          40.637480108898,
          40.74736294688,
          40.76298118388,
          40.727384882674,
          40.726769320686,
          40.792817270555,
          40.791132280719,
          40.693066712466,
          40.737097351596,
          40.853916458405,
          40.799143697494,
          40.726340639803,
          40.799720455033,
          40.564762299333,
          40.764570813116,
          40.720210193651,
          40.853801710678,
          40.746397984753,
          40.765091155007,
          40.734191863884,
          40.715513882845,
          40.584042075768,
          40.716891313086,
          40.69766870579,
          40.739558493485,
          40.743093125105,
          40.905434879643,
          40.764300564268,
          40.687295292974,
          40.698474416629,
          40.713676209805,
          40.717680937564,
          40.677502282173,
          40.764922714857,
          40.797690690037,
          40.757856168616,
          40.809886939784,
          40.75934448341,
          40.631722519635,
          40.876024283113,
          40.663588530139,
          40.732599909273,
          40.674653622389,
          40.641912337097,
          40.755332182039,
          40.798706093854,
          40.632652556679,
          40.81462698851,
          40.730014257254,
          40.639735481641,
          40.665487277341,
          40.763854030179,
          40.706648853616,
          40.800924118031,
          40.618412610578,
          40.721071972868,
          40.763055499464,
          40.840696805332,
          40.717311692095,
          40.73461431316,
          40.678844983037,
          40.774602750508,
          40.776794603684,
          40.680394569627,
          40.748889860877,
          40.85850535283,
          40.668389233062,
          40.713124184437,
          40.715009428517,
          40.797056776667,
          40.69463700037,
          40.833530202968,
          40.767484781581,
          40.744642520314,
          40.691817471623,
          40.742786885922,
          40.790656140357,
          40.758511490599,
          40.851880404854,
          40.815403724386,
          40.705055570593,
          40.726936929705,
          40.740417084329,
          40.759376653074,
          40.697366402589,
          40.759480578937,
          40.830402842925,
          40.815403724386,
          40.754360316928,
          40.647695862684,
          40.843965333662,
          40.697567100109,
          40.717050844308,
          40.75879747639,
          40.698784987486,
          40.705025904601,
          40.808712957286,
          40.760594432859,
          40.738626356733,
          40.660483551888,
          40.635306258198,
          40.712955356623,
          40.759777908235,
          40.830721164992,
          40.835692882756,
          40.590406054254,
          40.753866018844,
          40.590479607221,
          40.685768217981,
          40.680252414511,
          40.75191947312,
          40.764354274867,
          40.679885559242,
          40.741060686042,
          40.726553753849,
          40.678279512914,
          40.666350567506,
          40.74273204403,
          40.703579448538,
          40.760580050424,
          40.769892329603,
          40.719595159461,
          40.645414894597,
          40.746822419604,
          40.742154589856,
          40.869752157301,
          40.63648599443,
          40.817265947977,
          40.7454876763,
          40.761100918874,
          40.85077220305,
          40.715123185225,
          40.735946773195,
          40.71255341304,
          40.854454553873,
          40.741888794957,
          40.759260547027,
          40.756449218287,
          40.77827285406,
          40.692859566547,
          40.676301263217,
          40.74545928109,
          40.754939423312,
          40.692544775318,
          40.675217799899,
          40.74345878185,
          40.608941760127,
          40.851150257271,
          40.63822648503,
          40.717303342478,
          40.755732247004,
          40.734682757044,
          40.75621494774,
          40.663004082242,
          40.718588013358,
          40.757619387884,
          40.655791577516,
          40.762388899418,
          40.742759460868,
          40.779276899822,
          40.680724458296,
          40.774524085484,
          40.802967353582,
          40.720539457665,
          40.756436227556,
          40.75063901798,
          40.745332456584,
          40.665344205176,
          0,
          40.760472650541,
          40.750836831047,
          40.765285741103,
          40.709192785941,
          40.744929735632,
          40.725373721239,
          40.705500307697,
          40.7662776594,
          40.74878293031,
          40.737897379628,
          40.686077327043
         ],
         "legendgroup": "",
         "lon": [
          -73.991762664033,
          -73.969415141271,
          -74.00537671185,
          -74.03046896148,
          -74.028407461121,
          -73.958880199591,
          -73.918464590811,
          -73.902725490616,
          -74.007951914127,
          -74.002475061484,
          -73.873198063352,
          -73.866258048993,
          -73.997090192199,
          -73.95673752047,
          -73.986170169402,
          -73.83936441511,
          -73.944511504849,
          -73.897543430151,
          -73.754412127712,
          -73.811506513311,
          -73.980472401612,
          -73.958933472417,
          -73.96190436458,
          -73.919029674458,
          -73.907505165233,
          -73.968603896078,
          -73.902975348807,
          -73.932446777083,
          -73.988660719736,
          -74.006665878998,
          -73.890097899573,
          -73.974491683665,
          -73.700928057808,
          -73.917960398398,
          -73.914492177756,
          -73.857185789193,
          -73.992579847691,
          -73.98042572458,
          -73.957318519957,
          -73.857791507188,
          -73.731612502881,
          -73.984471428903,
          -73.902969313215,
          -73.911515556265,
          -73.93898890693,
          -73.949522888161,
          0,
          -73.947715552785,
          -73.984855475817,
          -73.981261489622,
          -73.991052578709,
          -73.952999664613,
          -73.986296887556,
          -73.953369381544,
          -74.014224263114,
          0,
          -73.954827896022,
          -73.919618949595,
          -73.992002469086,
          -73.985866027718,
          -73.829235428489,
          -73.891316071168,
          -73.985001385348,
          -74.127216633526,
          -73.904172546816,
          -74.00062399506,
          -73.922703753159,
          -73.963218566782,
          -73.937808565216,
          -73.960580713293,
          -73.98369538347,
          -73.991586229513,
          -73.9115251082,
          -74.03281225917,
          -73.853881927039,
          -73.983975003544,
          -74.006066452373,
          -73.9963190186,
          -73.989907571418,
          -73.974789942211,
          -73.855239535837,
          -73.804028210759,
          -73.857459609624,
          -73.893528971987,
          0,
          -73.989320514772,
          -73.788281497594,
          -74.004092152502,
          -73.933925756428,
          -73.971500658714,
          -73.899033464331,
          -73.981754088561,
          -73.856241099891,
          -73.937708318718,
          -73.983785818205,
          -73.877338007134,
          -73.856630362118,
          -73.900113651049,
          -74.175435897897,
          -73.960850972401,
          -73.983666756465,
          -73.989779448042,
          -73.991842090937,
          -73.981775541808,
          -73.980964867057,
          -73.924288726525,
          -74.079894487388,
          -74.000147655221,
          -73.95293144818,
          -73.978946857389,
          -74.003492581242,
          -74.006915272442,
          -73.977741495431,
          -73.983609449249,
          -73.984267881495,
          -74.00850089398,
          -73.919079619607,
          -73.952289532226,
          -74.005409133457,
          -73.955624802884,
          -74.003889204479,
          -73.827120016849,
          -73.90926108532,
          -73.875658991496,
          -74.000591725258,
          -73.990809184838,
          -73.832358341831,
          -73.790644702228,
          -73.763225940884,
          -73.967654951325,
          -73.887438032645,
          -73.780969608427,
          -74.007095455863,
          -73.933353336158,
          -73.914741439361,
          -73.948388020914,
          -73.92516700506,
          -73.805229237206,
          -73.990080510493,
          -73.956262561043,
          -73.984390110949,
          -73.90573574011,
          -73.948487981531,
          -74.201127401275,
          -73.983341474695,
          -73.883990621975,
          -73.997488207317,
          -73.928445414783,
          -73.881070474322,
          -73.955728086994,
          -73.706793265343,
          -73.914517129369,
          -73.946917513904,
          -73.950173437293,
          -73.951512019729,
          -73.989320514772,
          -73.783731035692,
          -73.962259252328,
          -73.987843910277,
          -73.846579863354,
          -73.989330672796,
          -73.972603264084,
          -73.905452560641,
          -73.861109789097,
          -74.106988972394,
          -73.911178230278,
          -73.985058696576,
          -73.976623458224,
          -73.884509037371,
          -73.834139118565,
          -73.986247395337,
          -73.885149926454,
          -73.847883782115,
          -73.944537838532,
          -73.73390340602,
          -73.980832629552,
          -74.025808301781,
          -73.95743653174,
          -74.201981207597,
          -74.009670453536,
          -73.826706549884,
          -73.83475864497,
          -73.98725590663,
          -73.97614441032,
          -73.882875921729,
          -73.783189599895,
          -73.834053016327,
          -73.860973833979,
          -73.953641095421,
          -73.988524446734,
          -73.99367720604,
          -74.069512349538,
          -73.791693405277,
          -73.829394691779,
          -73.946564574321,
          -73.81477788889,
          -73.823936340648,
          -73.922561485745,
          -73.881337386116,
          -74.012637796938,
          -73.914256640029,
          -73.982310025479,
          -73.982087103954,
          -73.985500547698,
          -73.923371089795,
          -73.957230033332,
          -73.867207521183,
          -73.915315754498,
          -74.151107105773,
          -73.960627958371,
          -74.006358371758,
          -73.988587475219,
          -73.984195156516,
          -73.987817582798,
          -73.929212410151,
          -73.914039072106,
          -73.895677269715,
          -73.996051340414,
          -73.943305602028,
          -74.009753301826,
          -73.999077885661,
          -73.981265131781,
          -73.888009147839,
          -73.991057889811,
          -73.857075037285,
          -73.906390993461,
          -73.789543982816,
          -73.844571299457,
          -73.967954965416,
          -73.953922813438,
          -73.9953475625,
          -73.995465714609,
          -73.946917513904,
          -73.984809513394,
          -73.865852760818,
          -74.076725469475,
          0,
          -74.077567031421,
          -74.107680587499,
          -73.921287044249,
          0,
          -73.978554358542,
          -73.958545004567,
          -73.99652059151,
          -74.000256165478,
          -73.945965928054,
          -73.987669168288,
          -73.987390730939,
          -73.931768325255,
          -73.953560442159,
          -73.732108339754,
          -73.982198460074,
          -73.912676241751,
          -73.980415789365,
          -73.944443342352,
          -73.820691755256,
          -74.127216633526,
          -73.95889424134,
          -73.978569041424,
          -74.068210453189,
          -74.021609975965,
          -73.82610175548,
          -73.980833760605,
          -73.922169221528,
          -73.938793918978,
          -74.164339506143,
          -73.989683962772,
          -73.977268555955,
          -73.982997126841,
          -74.076323560474,
          -74.123669405912,
          -73.964205075067,
          -73.980437798899,
          -73.906960252323,
          -73.985019389473,
          -73.942033264835,
          -73.897848051565,
          -73.95770904768,
          -73.913247249135,
          -73.957262669141,
          -73.993283379259,
          -73.971701253883,
          -73.921760050737,
          -73.788281497594,
          -73.883578317913,
          -74.008216981364,
          -73.996378255965,
          -73.989812713595,
          -73.9804004487,
          -73.910147153262,
          -73.986051082137,
          -73.967728267994,
          -73.815762906699,
          -73.902640341496,
          -73.98204769297,
          -73.988772700331,
          -74.14919032364,
          -73.819066619014,
          -73.95472932998,
          -73.953472601782,
          -73.921287044249,
          -73.975828571774,
          -73.815177007657,
          -73.979868107789,
          -73.998080916789,
          -74.003861116033,
          -73.803880147239,
          -73.973762207796,
          -73.955331979531,
          -73.896652342481,
          -73.901282628438,
          -73.949579249402,
          -73.869471186058,
          -73.983327498748,
          -73.819222287372,
          -73.943220695775,
          -73.898179049323,
          -73.972033059336,
          -73.826461885985,
          -73.985007343144,
          -73.852453880474,
          0,
          -74.01025550853,
          -73.990763332913,
          -73.977546264664,
          -73.8450274481,
          -73.911550389917,
          -74.001525243698,
          -73.829595293955,
          -74.101182458524,
          -73.968428147336,
          -73.983341474695,
          -73.935115137528,
          -73.99367720604,
          -73.915552623929,
          -74.164319072575,
          -73.924687713652,
          -73.935766267997,
          -73.983583946027,
          -73.950248499599,
          -73.955499375313,
          -73.972772759527,
          -73.977051014306,
          -73.940406473461,
          -74.005447149352,
          -73.992925898182,
          -73.949720825694,
          -73.953868217536,
          -73.857713941371,
          -73.992185281432,
          -74.075514984777,
          -73.944002986044,
          -73.956675977066,
          -73.998131417975,
          -73.912374344702,
          -74.005037755098,
          -73.980490745124,
          -73.98573148738,
          -73.953879155947,
          -74.003808057183,
          -74.006063144187,
          -73.869478435952,
          -73.924182715269,
          -73.896405310307,
          -73.988978588805,
          -73.954729413158,
          -73.993206796139,
          -73.976538584534,
          -73.730654702608,
          -73.970493008067,
          -74.003697005066,
          -73.827463761182,
          -73.906787310041,
          -73.985167829517,
          -73.976715621346,
          -73.97794395785,
          -73.954262623268,
          -73.985903129221,
          -73.834331750737,
          -73.941928994638,
          -73.96415183724,
          -73.930422173136,
          -74.147661320466,
          -74.003861116033,
          -73.928496459645,
          -73.998073701793,
          -74.160923690384,
          -73.905438115198,
          -73.895531372764,
          -73.928025504583,
          -73.896906063869,
          -73.889408916451,
          -73.933925756428,
          -74.019358371197,
          -73.981429455055,
          -74.001147754922,
          -73.882767073715,
          -73.987604187829,
          -73.836420051252,
          -73.988203542079,
          -73.979542319271,
          -73.962741121417,
          -74.02947151597,
          -73.942127850309,
          -73.99072539147,
          0,
          -73.832253763433,
          -73.991922676898,
          -73.961333824905,
          -73.999711354511,
          -73.930653409317,
          -73.90962451923,
          -73.99444381573,
          -73.906283111238,
          -73.788281497594,
          -73.806468114969,
          -73.84141334576,
          -74.142466856347,
          -74.023294057858,
          -73.982918577428,
          -73.976258045427,
          -73.995062269528,
          -74.001616815183,
          -73.771660850108,
          -74.005047589723,
          -73.884582774644,
          -73.916689860205,
          -73.994103832497,
          -73.994103832497,
          -73.906769103211,
          -73.914344575706,
          -74.150601827809,
          -73.992524038272,
          -73.957078221647,
          -73.862366807403,
          -74.13525266129,
          -74.009746738044,
          -73.992462480043,
          -73.892164944962,
          -73.845397132929,
          -73.952318462745,
          -73.871973758914,
          -73.982266967297,
          -73.922464549501,
          -74.012666330777,
          -73.986010412133,
          -73.995902672239,
          -74.111869119763,
          -73.980229991307,
          -73.923647548172,
          -73.991944239076,
          -73.778436391703,
          -73.976623458224,
          -73.944365566973,
          -74.005986336556,
          -73.998149391137,
          -73.995760844883,
          -73.860362996008,
          -73.987747474794,
          -73.965701098119,
          -73.891232074303,
          -73.888009147839,
          -73.97772451861,
          -73.982068318914,
          -73.845854794809,
          -73.827510256137,
          -73.957741325522,
          -73.98704594334,
          -73.969590790595,
          -73.775874306991,
          -73.82976922999,
          -73.905086263679,
          -73.908740437281,
          -74.14373786411,
          -73.843281966504,
          -73.976657735096,
          -73.843201099888,
          -73.923987285949,
          -73.756646891016,
          -73.935772818866,
          -73.834693968308,
          -73.864334212405,
          -73.736530538503,
          -73.863710448664,
          -73.807698905887,
          -73.956963317183,
          -73.985626561977,
          -73.941306598236,
          -74.008531225712,
          -73.9329496509,
          -73.913236374905,
          -73.860168906109,
          -74.19135787554,
          -73.928496459645,
          -73.993716248526,
          -73.963090099433,
          -73.953740518659,
          -73.987795044173,
          -73.996462583167,
          -73.91107369208,
          0,
          -73.981595714349,
          -73.945554959121,
          -74.006179378117,
          -73.974286993203,
          -73.961582271089,
          -73.886990621095,
          -73.854783366137,
          -73.953884672095,
          -73.989117330313,
          -73.925721034099,
          -73.977443941911,
          -73.88941249802,
          -73.961050832086,
          -73.828757893149,
          -73.904172007346,
          -73.855634249473,
          -73.86822197296,
          -73.831614295946,
          -73.987499574155,
          -73.957114963475,
          -73.805229237206,
          -73.916909675766,
          -73.905724589224,
          -73.917251797126,
          -73.8741022867,
          -73.919748673439,
          -73.989969344928,
          -73.962382481514,
          -74.006402310516,
          -73.89664579224,
          -73.900767637493,
          -73.887401909809,
          -73.838249265318,
          -73.885514563239,
          -73.807104498364,
          -73.833363070195,
          -73.930157415288,
          -73.959684839811,
          -74.001075400851,
          -74.002767919549,
          -73.937093866118,
          -73.924386234665,
          -73.933353336158,
          -73.975748586975,
          -73.829918029205,
          -74.121879579031,
          -73.936171699303,
          -73.991577147741,
          -73.993442916853,
          -73.721655898446,
          -73.808049425982,
          -73.883312536574,
          -73.982167597056,
          -73.979614944263,
          -73.863154751421,
          -73.8170741383,
          -73.939925539875,
          -73.976913795697,
          -73.741990586543,
          -73.972283163097,
          -73.818598750266,
          -73.915831098788,
          -73.80283849787,
          -73.989078209462,
          -73.831639101669,
          -74.002161745447,
          -73.961225640376,
          -73.983738571533,
          -73.931016226159,
          -73.982974774483,
          -73.995094365606,
          -73.882983878126,
          -73.940980099938,
          -73.990505288881,
          -74.00749193984,
          -73.950182906736,
          -73.907883903982,
          -73.957494197471,
          -73.983773915023,
          -73.942669874049,
          -73.990663669575,
          -73.883470796457,
          -74.017915483289,
          -73.988054550256,
          -73.949608532801,
          -73.937825219714,
          -73.923861700086,
          -73.953788543634,
          -74.000851519121,
          -73.99778408659,
          -73.939317110395,
          -73.834053016327,
          -73.907153156051,
          -74.003315535797,
          -73.989817662377,
          -73.860111136458,
          -73.950797516055,
          -73.994063355628,
          -73.984175965937,
          -73.974094096426,
          -73.799692142924,
          -73.987880957625,
          -73.991973439946,
          -73.924206797203,
          -73.829235428489,
          -73.922281617072,
          -73.978008996048,
          -73.987887960651,
          -73.914904475475,
          -73.995102353958,
          -73.92876703628,
          -74.004112159189,
          -73.867511263839,
          -74.00810845598,
          -73.992047363499,
          -73.943385334801,
          -73.986202928873,
          -73.942346761471,
          -73.914603081104,
          -73.909849256915,
          -73.982398119522,
          -73.974759666594,
          -74.120856998266,
          -73.963220721854,
          -73.759227799277,
          -73.937940324198,
          -73.882767073715,
          -73.852186813423,
          -73.891704574426,
          -73.813814615944,
          -74.130351671156,
          -73.998861987543,
          -73.998254065061,
          -73.992925898182,
          -73.843317577905,
          -73.835999717621,
          -73.999239661964,
          -74.003868627596,
          -73.909592020388,
          -73.826662876596,
          -73.789447103794,
          -73.990452406045,
          -73.988026977398,
          -73.861800278284,
          -73.949325891048,
          -73.994638951146,
          -73.864170033452,
          -73.945114587014,
          -73.989813201259,
          -73.97226234471,
          -73.950336268594,
          -73.95732217607,
          -73.813396284329,
          -73.887467429515,
          -73.986680794315,
          -73.947365527651,
          -73.912564061387,
          -73.989773273905,
          -74.011342297185,
          -73.878228082138,
          -73.886619036102,
          -73.979220575447,
          -73.896478680213,
          -74.000349969603,
          -73.987122854337,
          -73.922281617072,
          -73.97376136147,
          -74.16417297766,
          -73.943061153611,
          -73.806516957971,
          -73.989853939985,
          -73.898319355505,
          -73.782596714362,
          -73.986010412133,
          -73.980598725793,
          -73.97645297217,
          -73.975997906156,
          -73.950375302618,
          -73.985903892131,
          -74.012809907186,
          -73.938916499088,
          -73.994221847262,
          -74.012727045392,
          -73.9924987296,
          -74.009301091655,
          -73.982342222543,
          -73.862060891357,
          -73.983943587158,
          -73.950214199533,
          -73.80283849787,
          -74.000262927142,
          -73.990564733785,
          -73.823049723042,
          -73.958794398093,
          -73.90800458023,
          -73.972331039137,
          -73.804024536194,
          -73.980089352483,
          -73.996621660294,
          -73.805141434216,
          -73.948301829523,
          -73.97707656051,
          -73.739405091913,
          -74.078360406533,
          -73.809057761079,
          -73.873134184414,
          -73.957321017451,
          -73.993876866296,
          -73.932873893386,
          -73.996044729114,
          -74.00029224493,
          -73.982334066518,
          -73.955388870038,
          -73.973788221355,
          0,
          -73.925927057417,
          -73.788954404572,
          -73.866231709167,
          -73.899210898957,
          -73.988795949001,
          -73.788281497594,
          -73.808983516572,
          -73.987431299656,
          -73.873919034968,
          -73.98771139805,
          -73.946953060384,
          -73.940544201532,
          -73.972778869918,
          -73.788281497594,
          -73.844446613408,
          -73.957620548798,
          -73.983545463069,
          -73.986342975847,
          -73.998213848434,
          -73.976257910942,
          -73.968253836704,
          0,
          -73.718359182229,
          -73.988472343355,
          -73.837270964655,
          -73.808850123108,
          -73.909130067716,
          -73.855032756867,
          -73.959299573149,
          -73.966258832618,
          -73.814471492066,
          -73.847578970327,
          -73.963547887268,
          -73.942346761471,
          -73.92677618212,
          -73.915805630187,
          -74.000415009142,
          -73.982303947291,
          -73.965862662514,
          -73.912028362335,
          -73.938456854344,
          -73.938116678337,
          -73.888238727429,
          -73.989114527273,
          -73.866549887145,
          -73.997122946666,
          -73.925927057417,
          -73.911742085375,
          -73.984453903471,
          -73.995118805103,
          -73.905097877619,
          -73.99155116128,
          -73.890144116548,
          -73.957626439513,
          -73.972849201261,
          -73.99912332473,
          -73.730024475072,
          -73.944878815633,
          -73.938211829923,
          -73.811851525854,
          -73.860111136458,
          -74.002521192433,
          -73.98792691978,
          -73.989795612161,
          -73.897835530752,
          -74.00220094797,
          -74.023322873405,
          -73.975691312176,
          -73.702815096973,
          -73.798114290188,
          -73.846139994661,
          -73.902325988464,
          -73.937938595443,
          -73.967232576915,
          -73.991159186093,
          -73.862520230869,
          -73.809529742183,
          -73.981573412682,
          -73.916164840577,
          -73.992106724456,
          -73.755314155169,
          -74.013134913601,
          -73.867912101018,
          -73.952932914281,
          -74.003492245231,
          -73.829610589843,
          -74.032217652928,
          -73.980315844648,
          -73.961905981494,
          -73.747495121212,
          -73.897241794169,
          -73.813601178663,
          -73.987207698793,
          -73.827464221841,
          -74.076686431487,
          -73.877234298614,
          -73.859389226224,
          -73.981356489665,
          -73.91157662174,
          -73.906390993461,
          -73.921956632798,
          -73.949864549885,
          -73.881955017508,
          -74.15654074798,
          -73.893810381368,
          -73.886539193339,
          -73.987791377664,
          -74.005516550541,
          -73.98589666698,
          -73.807138174912,
          -73.938970697937,
          -73.928321889877,
          -73.866017282946,
          -73.914603081104,
          -73.943333665458,
          -73.789313452695,
          -73.938691902608,
          -74.127790751903,
          -73.916429207271,
          -73.999437221136,
          -73.9081724421,
          -73.899601752872,
          -73.982094413718,
          -74.006231562974,
          -73.998199956475,
          -73.950742431418,
          -73.989755050741,
          -73.9077391814,
          -73.977038424016,
          -73.956070067705,
          -73.900843816155,
          -73.968795555298,
          -73.944709131562,
          -73.944011006639,
          -73.754774883385,
          -73.856994616372,
          -73.744525283602,
          -73.917219351751,
          -73.969545538941,
          -73.983399433011,
          -73.924742105903,
          -73.988813587546,
          -73.946329755182,
          -73.849460422837,
          -73.934088422071,
          -73.993934565065,
          -73.804770167937,
          -73.9329496509,
          -73.998585089216,
          -73.911138200557,
          -73.966893820243,
          -73.893382131932,
          -73.992524038272,
          -73.948377103721,
          -73.756646891016,
          -73.987917564599,
          -73.79804314293,
          -73.960864542196,
          -74.033131508195,
          -74.004260579913,
          -73.989924806898,
          -73.784059978484,
          -73.99746039087,
          -74.009742517159,
          -73.865976133588,
          -73.912542484783,
          -73.952516548291,
          -73.949899433468,
          -73.869259728057,
          -73.903802509908,
          -73.95062943466,
          -73.875447921726,
          -73.832074065603,
          -73.970015355946,
          -73.993728874245,
          -73.858020298206,
          -73.738619161173,
          -73.981010047447,
          -73.98630075015,
          -73.952143912863,
          -73.947443455957,
          -73.967433834067,
          -73.895339205538,
          -73.943634075331,
          -73.927829253583,
          -73.987429998399,
          -74.004095823603,
          -73.96948371139,
          -73.967654951325,
          -73.968104761178,
          -73.947534800065,
          -73.943634075331,
          -73.99275229784,
          -73.974302579248,
          -73.785278191186,
          -73.95999862098,
          -73.994689929043,
          -73.834479180217,
          -73.833907470038,
          -73.933228565237,
          -73.930310106101,
          -73.966292129831,
          -73.983303202982,
          -73.990715286259,
          -73.950311724386,
          -73.782491473871,
          -73.829235428489,
          -73.857079558428,
          -73.943696324303,
          -73.971491103146,
          -73.989612185526,
          -74.088612445615,
          -73.988360844605,
          -73.977841291783,
          -73.984996220221,
          -73.975188764417,
          -73.844486017285,
          -73.981505462847,
          -73.851859491161,
          -73.968623248839,
          -73.883382891793,
          -73.980288837865,
          -74.006596569024,
          -73.994762250179,
          -73.95445658737,
          -73.993098807722,
          -73.90264789955,
          -73.984751960331,
          -74.000757837422,
          -73.890314065539,
          -74.008539141247,
          -73.959745753562,
          -73.979663674365,
          -73.923559286675,
          -73.937867513019,
          -74.014797064384,
          -73.979071209521,
          -73.918345141375,
          -73.854595555191,
          -73.925392999887,
          -73.977843784017,
          -73.974495081506,
          -73.95648366598,
          -73.854512987451,
          -73.971429007508,
          -73.998917321202,
          -73.992174723398,
          -73.816815919512,
          -73.956309625297,
          -73.921259133881,
          -73.932565116312,
          -73.90812189637,
          -73.997884975887,
          -73.99426423578,
          -73.927922124964,
          -73.95500756413,
          -73.970466953387,
          -73.950871329564,
          -73.997655145358,
          -73.978941647625,
          -73.959912040776,
          -73.813814615944,
          -73.952198064384,
          -73.955096471719,
          -73.97754549049,
          -73.951073969079,
          -73.938432444269,
          -74.005010921281,
          -73.978039641499,
          -73.976641186014,
          -73.905402906763,
          -73.730723178137,
          0,
          -73.989571443993,
          -73.819372757984,
          -73.888833389841,
          -73.829895740678,
          -73.975780668235,
          -73.977920034758,
          -74.012396426249,
          -73.772388957391,
          -73.992244022445,
          -74.004416826232,
          -73.793753592136
         ],
         "marker": {
          "color": "fuchsia"
         },
         "mode": "markers",
         "name": "",
         "showlegend": false,
         "subplot": "mapbox",
         "type": "scattermapbox"
        }
       ],
       "layout": {
        "autosize": true,
        "legend": {
         "tracegroupgap": 0
        },
        "mapbox": {
         "accesstoken": "pk.eyJ1IjoiZmxpemhvdSIsImEiOiJjazg4Y2hjaW4wMjFlM3NtemhhNG90Z2ZzIn0.gxDbD64mpZbxE2HMjxEZng",
         "bearing": 0,
         "center": {
          "lat": 41.13743614434077,
          "lon": -74.00313839788947
         },
         "domain": {
          "x": [
           0,
           1
          ],
          "y": [
           0,
           1
          ]
         },
         "pitch": 0,
         "zoom": 22
        },
        "margin": {
         "b": 0,
         "l": 0,
         "r": 0,
         "t": 0
        },
        "template": {
         "data": {
          "bar": [
           {
            "error_x": {
             "color": "#2a3f5f"
            },
            "error_y": {
             "color": "#2a3f5f"
            },
            "marker": {
             "line": {
              "color": "#E5ECF6",
              "width": 0.5
             }
            },
            "type": "bar"
           }
          ],
          "barpolar": [
           {
            "marker": {
             "line": {
              "color": "#E5ECF6",
              "width": 0.5
             }
            },
            "type": "barpolar"
           }
          ],
          "carpet": [
           {
            "aaxis": {
             "endlinecolor": "#2a3f5f",
             "gridcolor": "white",
             "linecolor": "white",
             "minorgridcolor": "white",
             "startlinecolor": "#2a3f5f"
            },
            "baxis": {
             "endlinecolor": "#2a3f5f",
             "gridcolor": "white",
             "linecolor": "white",
             "minorgridcolor": "white",
             "startlinecolor": "#2a3f5f"
            },
            "type": "carpet"
           }
          ],
          "choropleth": [
           {
            "colorbar": {
             "outlinewidth": 0,
             "ticks": ""
            },
            "type": "choropleth"
           }
          ],
          "contour": [
           {
            "colorbar": {
             "outlinewidth": 0,
             "ticks": ""
            },
            "colorscale": [
             [
              0,
              "#0d0887"
             ],
             [
              0.1111111111111111,
              "#46039f"
             ],
             [
              0.2222222222222222,
              "#7201a8"
             ],
             [
              0.3333333333333333,
              "#9c179e"
             ],
             [
              0.4444444444444444,
              "#bd3786"
             ],
             [
              0.5555555555555556,
              "#d8576b"
             ],
             [
              0.6666666666666666,
              "#ed7953"
             ],
             [
              0.7777777777777778,
              "#fb9f3a"
             ],
             [
              0.8888888888888888,
              "#fdca26"
             ],
             [
              1,
              "#f0f921"
             ]
            ],
            "type": "contour"
           }
          ],
          "contourcarpet": [
           {
            "colorbar": {
             "outlinewidth": 0,
             "ticks": ""
            },
            "type": "contourcarpet"
           }
          ],
          "heatmap": [
           {
            "colorbar": {
             "outlinewidth": 0,
             "ticks": ""
            },
            "colorscale": [
             [
              0,
              "#0d0887"
             ],
             [
              0.1111111111111111,
              "#46039f"
             ],
             [
              0.2222222222222222,
              "#7201a8"
             ],
             [
              0.3333333333333333,
              "#9c179e"
             ],
             [
              0.4444444444444444,
              "#bd3786"
             ],
             [
              0.5555555555555556,
              "#d8576b"
             ],
             [
              0.6666666666666666,
              "#ed7953"
             ],
             [
              0.7777777777777778,
              "#fb9f3a"
             ],
             [
              0.8888888888888888,
              "#fdca26"
             ],
             [
              1,
              "#f0f921"
             ]
            ],
            "type": "heatmap"
           }
          ],
          "heatmapgl": [
           {
            "colorbar": {
             "outlinewidth": 0,
             "ticks": ""
            },
            "colorscale": [
             [
              0,
              "#0d0887"
             ],
             [
              0.1111111111111111,
              "#46039f"
             ],
             [
              0.2222222222222222,
              "#7201a8"
             ],
             [
              0.3333333333333333,
              "#9c179e"
             ],
             [
              0.4444444444444444,
              "#bd3786"
             ],
             [
              0.5555555555555556,
              "#d8576b"
             ],
             [
              0.6666666666666666,
              "#ed7953"
             ],
             [
              0.7777777777777778,
              "#fb9f3a"
             ],
             [
              0.8888888888888888,
              "#fdca26"
             ],
             [
              1,
              "#f0f921"
             ]
            ],
            "type": "heatmapgl"
           }
          ],
          "histogram": [
           {
            "marker": {
             "colorbar": {
              "outlinewidth": 0,
              "ticks": ""
             }
            },
            "type": "histogram"
           }
          ],
          "histogram2d": [
           {
            "colorbar": {
             "outlinewidth": 0,
             "ticks": ""
            },
            "colorscale": [
             [
              0,
              "#0d0887"
             ],
             [
              0.1111111111111111,
              "#46039f"
             ],
             [
              0.2222222222222222,
              "#7201a8"
             ],
             [
              0.3333333333333333,
              "#9c179e"
             ],
             [
              0.4444444444444444,
              "#bd3786"
             ],
             [
              0.5555555555555556,
              "#d8576b"
             ],
             [
              0.6666666666666666,
              "#ed7953"
             ],
             [
              0.7777777777777778,
              "#fb9f3a"
             ],
             [
              0.8888888888888888,
              "#fdca26"
             ],
             [
              1,
              "#f0f921"
             ]
            ],
            "type": "histogram2d"
           }
          ],
          "histogram2dcontour": [
           {
            "colorbar": {
             "outlinewidth": 0,
             "ticks": ""
            },
            "colorscale": [
             [
              0,
              "#0d0887"
             ],
             [
              0.1111111111111111,
              "#46039f"
             ],
             [
              0.2222222222222222,
              "#7201a8"
             ],
             [
              0.3333333333333333,
              "#9c179e"
             ],
             [
              0.4444444444444444,
              "#bd3786"
             ],
             [
              0.5555555555555556,
              "#d8576b"
             ],
             [
              0.6666666666666666,
              "#ed7953"
             ],
             [
              0.7777777777777778,
              "#fb9f3a"
             ],
             [
              0.8888888888888888,
              "#fdca26"
             ],
             [
              1,
              "#f0f921"
             ]
            ],
            "type": "histogram2dcontour"
           }
          ],
          "mesh3d": [
           {
            "colorbar": {
             "outlinewidth": 0,
             "ticks": ""
            },
            "type": "mesh3d"
           }
          ],
          "parcoords": [
           {
            "line": {
             "colorbar": {
              "outlinewidth": 0,
              "ticks": ""
             }
            },
            "type": "parcoords"
           }
          ],
          "pie": [
           {
            "automargin": true,
            "type": "pie"
           }
          ],
          "scatter": [
           {
            "marker": {
             "colorbar": {
              "outlinewidth": 0,
              "ticks": ""
             }
            },
            "type": "scatter"
           }
          ],
          "scatter3d": [
           {
            "line": {
             "colorbar": {
              "outlinewidth": 0,
              "ticks": ""
             }
            },
            "marker": {
             "colorbar": {
              "outlinewidth": 0,
              "ticks": ""
             }
            },
            "type": "scatter3d"
           }
          ],
          "scattercarpet": [
           {
            "marker": {
             "colorbar": {
              "outlinewidth": 0,
              "ticks": ""
             }
            },
            "type": "scattercarpet"
           }
          ],
          "scattergeo": [
           {
            "marker": {
             "colorbar": {
              "outlinewidth": 0,
              "ticks": ""
             }
            },
            "type": "scattergeo"
           }
          ],
          "scattergl": [
           {
            "marker": {
             "colorbar": {
              "outlinewidth": 0,
              "ticks": ""
             }
            },
            "type": "scattergl"
           }
          ],
          "scattermapbox": [
           {
            "marker": {
             "colorbar": {
              "outlinewidth": 0,
              "ticks": ""
             }
            },
            "type": "scattermapbox"
           }
          ],
          "scatterpolar": [
           {
            "marker": {
             "colorbar": {
              "outlinewidth": 0,
              "ticks": ""
             }
            },
            "type": "scatterpolar"
           }
          ],
          "scatterpolargl": [
           {
            "marker": {
             "colorbar": {
              "outlinewidth": 0,
              "ticks": ""
             }
            },
            "type": "scatterpolargl"
           }
          ],
          "scatterternary": [
           {
            "marker": {
             "colorbar": {
              "outlinewidth": 0,
              "ticks": ""
             }
            },
            "type": "scatterternary"
           }
          ],
          "surface": [
           {
            "colorbar": {
             "outlinewidth": 0,
             "ticks": ""
            },
            "colorscale": [
             [
              0,
              "#0d0887"
             ],
             [
              0.1111111111111111,
              "#46039f"
             ],
             [
              0.2222222222222222,
              "#7201a8"
             ],
             [
              0.3333333333333333,
              "#9c179e"
             ],
             [
              0.4444444444444444,
              "#bd3786"
             ],
             [
              0.5555555555555556,
              "#d8576b"
             ],
             [
              0.6666666666666666,
              "#ed7953"
             ],
             [
              0.7777777777777778,
              "#fb9f3a"
             ],
             [
              0.8888888888888888,
              "#fdca26"
             ],
             [
              1,
              "#f0f921"
             ]
            ],
            "type": "surface"
           }
          ],
          "table": [
           {
            "cells": {
             "fill": {
              "color": "#EBF0F8"
             },
             "line": {
              "color": "white"
             }
            },
            "header": {
             "fill": {
              "color": "#C8D4E3"
             },
             "line": {
              "color": "white"
             }
            },
            "type": "table"
           }
          ]
         },
         "layout": {
          "annotationdefaults": {
           "arrowcolor": "#2a3f5f",
           "arrowhead": 0,
           "arrowwidth": 1
          },
          "coloraxis": {
           "colorbar": {
            "outlinewidth": 0,
            "ticks": ""
           }
          },
          "colorscale": {
           "diverging": [
            [
             0,
             "#8e0152"
            ],
            [
             0.1,
             "#c51b7d"
            ],
            [
             0.2,
             "#de77ae"
            ],
            [
             0.3,
             "#f1b6da"
            ],
            [
             0.4,
             "#fde0ef"
            ],
            [
             0.5,
             "#f7f7f7"
            ],
            [
             0.6,
             "#e6f5d0"
            ],
            [
             0.7,
             "#b8e186"
            ],
            [
             0.8,
             "#7fbc41"
            ],
            [
             0.9,
             "#4d9221"
            ],
            [
             1,
             "#276419"
            ]
           ],
           "sequential": [
            [
             0,
             "#0d0887"
            ],
            [
             0.1111111111111111,
             "#46039f"
            ],
            [
             0.2222222222222222,
             "#7201a8"
            ],
            [
             0.3333333333333333,
             "#9c179e"
            ],
            [
             0.4444444444444444,
             "#bd3786"
            ],
            [
             0.5555555555555556,
             "#d8576b"
            ],
            [
             0.6666666666666666,
             "#ed7953"
            ],
            [
             0.7777777777777778,
             "#fb9f3a"
            ],
            [
             0.8888888888888888,
             "#fdca26"
            ],
            [
             1,
             "#f0f921"
            ]
           ],
           "sequentialminus": [
            [
             0,
             "#0d0887"
            ],
            [
             0.1111111111111111,
             "#46039f"
            ],
            [
             0.2222222222222222,
             "#7201a8"
            ],
            [
             0.3333333333333333,
             "#9c179e"
            ],
            [
             0.4444444444444444,
             "#bd3786"
            ],
            [
             0.5555555555555556,
             "#d8576b"
            ],
            [
             0.6666666666666666,
             "#ed7953"
            ],
            [
             0.7777777777777778,
             "#fb9f3a"
            ],
            [
             0.8888888888888888,
             "#fdca26"
            ],
            [
             1,
             "#f0f921"
            ]
           ]
          },
          "colorway": [
           "#636efa",
           "#EF553B",
           "#00cc96",
           "#ab63fa",
           "#FFA15A",
           "#19d3f3",
           "#FF6692",
           "#B6E880",
           "#FF97FF",
           "#FECB52"
          ],
          "font": {
           "color": "#2a3f5f"
          },
          "geo": {
           "bgcolor": "white",
           "lakecolor": "white",
           "landcolor": "#E5ECF6",
           "showlakes": true,
           "showland": true,
           "subunitcolor": "white"
          },
          "hoverlabel": {
           "align": "left"
          },
          "hovermode": "closest",
          "mapbox": {
           "style": "light"
          },
          "paper_bgcolor": "white",
          "plot_bgcolor": "#E5ECF6",
          "polar": {
           "angularaxis": {
            "gridcolor": "white",
            "linecolor": "white",
            "ticks": ""
           },
           "bgcolor": "#E5ECF6",
           "radialaxis": {
            "gridcolor": "white",
            "linecolor": "white",
            "ticks": ""
           }
          },
          "scene": {
           "xaxis": {
            "backgroundcolor": "#E5ECF6",
            "gridcolor": "white",
            "gridwidth": 2,
            "linecolor": "white",
            "showbackground": true,
            "ticks": "",
            "zerolinecolor": "white"
           },
           "yaxis": {
            "backgroundcolor": "#E5ECF6",
            "gridcolor": "white",
            "gridwidth": 2,
            "linecolor": "white",
            "showbackground": true,
            "ticks": "",
            "zerolinecolor": "white"
           },
           "zaxis": {
            "backgroundcolor": "#E5ECF6",
            "gridcolor": "white",
            "gridwidth": 2,
            "linecolor": "white",
            "showbackground": true,
            "ticks": "",
            "zerolinecolor": "white"
           }
          },
          "shapedefaults": {
           "line": {
            "color": "#2a3f5f"
           }
          },
          "ternary": {
           "aaxis": {
            "gridcolor": "white",
            "linecolor": "white",
            "ticks": ""
           },
           "baxis": {
            "gridcolor": "white",
            "linecolor": "white",
            "ticks": ""
           },
           "bgcolor": "#E5ECF6",
           "caxis": {
            "gridcolor": "white",
            "linecolor": "white",
            "ticks": ""
           }
          },
          "title": {
           "x": 0.05
          },
          "xaxis": {
           "automargin": true,
           "gridcolor": "white",
           "linecolor": "white",
           "ticks": "",
           "title": {
            "standoff": 15
           },
           "zerolinecolor": "white",
           "zerolinewidth": 2
          },
          "yaxis": {
           "automargin": true,
           "gridcolor": "white",
           "linecolor": "white",
           "ticks": "",
           "title": {
            "standoff": 15
           },
           "zerolinecolor": "white",
           "zerolinewidth": 2
          }
         }
        }
       }
      },
      "text/html": [
       "<div>\n",
       "        \n",
       "        \n",
       "            <div id=\"f75e53fa-4c18-48ab-a9cd-b51514119f1a\" class=\"plotly-graph-div\" style=\"height:300px; width:100%;\"></div>\n",
       "            <script type=\"text/javascript\">\n",
       "                require([\"plotly\"], function(Plotly) {\n",
       "                    window.PLOTLYENV=window.PLOTLYENV || {};\n",
       "                    \n",
       "                if (document.getElementById(\"f75e53fa-4c18-48ab-a9cd-b51514119f1a\")) {\n",
       "                    Plotly.newPlot(\n",
       "                        'f75e53fa-4c18-48ab-a9cd-b51514119f1a',\n",
       "                        [{\"customdata\": [[\"MAMA MIA 44 SW\", 18.0], [\"TEPPEN RAMEN\", 21.0], [\"MOLE\", 24.0], [\"ZIO TOTO\", 76.0], [\"MOCHA MOCHA COFFEE\", 19.0], [\"ANGKOR CAMBODIAN BISTRO\", 9.0], [\"CHINA WOK\", 5.0], [\"ANTOJITOS AND NATURAL JUICE BAR\", 39.0], [\"EVERGREEN 858 LLC\", 40.0], [\"NICHE NICHE\", null], [\"CHINA ONE RESTAURANT\", 8.0], [\"OASIS GRILL & BAR\", 27.0], [\"CHOI FOOK RESTAURANT\", 25.0], [\"STARBUCKS\", 5.0], [\"POCHA 32\", 27.0], [\"TAUROS BAR AND RESTAURANT\", 20.0], [\"KAVKAZKIY DVORIK\", null], [\"ANDIAMO CAFE\", 17.0], [\"GOLDEN KRUST CARIBBEAN BAKERY & GRILL\", 14.0], [\"DRAGON GARDEN\", 11.0], [\"IPANEMA RESTAURANT\", 24.0], [\"WONG ASIAN FOOD\", 26.0], [\"PRIMOLA RESTAURANT\", 21.0], [\"VILLA TAPIA RESTAURANT\", 31.0], [\"BARCELO RESTAURANT\", 12.0], [\"THE KATI ROLL COMPANY\", 4.0], [\"TASTY DELICIOUS WEST INDIAN BAKERY & RESTAURANT\", 12.0], [\"BURGER KING\", 3.0], [\"BLACK SEED BAGEL\", 2.0], [\"TEMPLE COURT\", 12.0], [\"DENNY'S\", 15.0], [\"FLAME\", 14.0], [\"JIAN ON CHINESE RESTAURANT\", 9.0], [\"NEW GOOD TASTE CHINESE RESTAURANT\", 32.0], [\"RICHIE RICH\", 10.0], [\"VENICE PIZZA\", 12.0], [\"V-BREAD CAFE NY\", 30.0], [\"SOPHIE'S CUBAN CUISINE\", 20.0], [\"PARAISO AZTECA RESTAURANT\", 26.0], [\"BAGEL BIN\", 33.0], [\"JOE'S PIZZA & PASTA\", 26.0], [\"TEN DEGREES\", 22.0], [\"WANG EASTERN OF ZHANG\", 19.0], [\"EL GRAN VALLE RESTAURANT\", 33.0], [\"DUNKIN'\", 56.0], [\"MILLIE'S DELI\", 16.0], [\"THE LOCAL\", 23.0], [\"FISHERMAN'S COVE\", 12.0], [\"CULTURE ESPRESSO\", 6.0], [\"BRUNSWICK\", 20.0], [\"MARKET CRATES\", 10.0], [\"EAST COAST\", 13.0], [\"JULES BISTRO\", 27.0], [\"CORNER BISTRO\", 21.0], [\"DUNKIN', BASKIN ROBBINS\", 20.0], [\"SUBWAY\", 12.0], [\"BOMBAY GRILL AND CURRY\", 57.0], [\"RIKO PERUVIAN CUISINE\", 37.0], [\"MR. BING OF 28TH STREET\", 22.0], [\"GRAMERCY KITCHEN\", 13.0], [\"ROYAL QUEEN/THE REAL KTV\", 21.0], [\"GIRALDA BAKERY\", 4.0], [\"AMBASSADOR THEATRE\", 0.0], [\"ALFONSO'S PASTRY SHOPPE\", 13.0], [\"SAZON DE LUPITA\", 13.0], [\"COWGIRL SEAHORSE\", null], [\"NEW CARRIZAL RESTAURANT\", 24.0], [\"TONE AUTHENTIC GEORGIAN BAKERY & CUISINE\", 13.0], [\"TERRAVITA BAR & KITCHEN\", null], [\"ROSARITO FISH SHACK & SHELTER PIZZA\", 44.0], [\"LE CAFE COFFEE\", 9.0], [\"TABLE 87\", 32.0], [\"CREATE\", 21.0], [\"CAMPANIA COAL FIRED PIZZA\", 2.0], [\"EDWIN DELI GROCERY\", 91.0], [\"CLINTON STREET BAKING COMPANY\", 30.0], [\"OKUDA\", null], [\"CHAMPIGNON\", 10.0], [\"SINGLE ORIGIN CAFE\", 10.0], [\"TAJ KEBAB\", 17.0], [\"NEEROB RESTAURANT\", 12.0], [\"PADDY QUINNS\", 9.0], [\"DON POLLO\", 12.0], [\"TASTE OF LAHORE\", 29.0], [\"THE GRANT CITY TAVERN\", 12.0], [\"STOUT\", 5.0], [\"A & R FOOD SERVICE BLDG 14\", 30.0], [\"MAMAN\", 21.0], [\"UNCLE LOUIE G'S ITALIAN ICES & ICE CREAM\", 23.0], [\"DUNKIN\", 4.0], [\"GREAT WALL RESTAURANT\", 13.0], [\"ALGONQUIN HOTEL/BLUE BAR\", 33.0], [\"MATECANA BAKERY & RESTAURANT\", 54.0], [\"EL NUEVO SANDY RESTAURANT\", 27.0], [\"RED MOON\", 19.0], [\"NIEVES TIA MIMI ICEES\", null], [\"JERK HOUSE CARIBBEAN RESTAURANT\", 25.0], [\"LUGO LOUNGE & RESTAURANT\", 19.0], [\"LORENZOS BAR & GRILL (HILTON GARDEN)\", 21.0], [\"DINOSAUR BAR-B-QUE\", 25.0], [\"THURSDAY KITCEHN\", 4.0], [\"BOB BAR\", 10.0], [\"BLOSSOM DUJOUR\", 16.0], [\"CURRY EXPRESS\", 14.0], [\"SHAKING CRAB\", 38.0], [\"COURT DELI RESTAURANT\", 12.0], [\"FUJI SUSHI\", 37.0], [\"LA FOGATA\", 11.0], [\"TRUFA RESTAURANT\", 12.0], [\"Hibachi Express\", 13.0], [\"ATTRAVERSA\", 15.0], [\"TRIBECA'S KITCHEN\", 13.0], [\"PERSHING SQUARE CAFE\", 60.0], [\"MISS LILY'S 7A\", 13.0], [\"C.U.N.Y CAFE\", 17.0], [\"CREATIVE EDGE CATERERS\", null], [\"PAPA JOHN'S\", 23.0], [\"NIO'S WEST INDIAN RESTAURANT & BAKERY\", 10.0], [\"18 LOUNGE KTV\", 79.0], [\"Lolo's Seafood Shack\", 12.0], [\"BA'AL CAFE AND FALAFEL\", 12.0], [\"LI'S GARDEN\", 18.0], [\"SALUD BAR & GRILL\", 12.0], [\"POLLERIA AZOGUENITA\", 20.0], [\"MACDOUGAL STREET ALEHOUSE\", 10.0], [\"POKE BOWL\", null], [\"CRAZY WILLY'S\", 37.0], [\"KORNER CHICKEN-N-PIZZA\", 23.0], [\"REGGAE TASTE\", 12.0], [\"IL PORTO BRICK OVEN RISTORANTE\", 12.0], [\"CALIBRE 78\", 2.0], [\"ROMEO'S PIZZERIA\", 12.0], [\"HANK'S JUICY BEEF\", 6.0], [\"ARROGANT SWINE\", 7.0], [\"WING LING\", 44.0], [\"CHARLEY MOM KITCHEN\", 11.0], [\"US FRIED CHICKEN\", 12.0], [\"HANSOL NUTRITION CENTER\", 54.0], [\"SCHMACKARY'S\", 6.0], [\"DONUT SHOPPE\", 28.0], [\"THE STRAND BISTRO\", 19.0], [\"GOTTSCHEER HALL\", 50.0], [\"TASTE THE TROPICS ICE CREAM\", 13.0], [\"NEW ISLAND\", 12.0], [\"HONG KONG STATION\", 12.0], [\"LI LI CHINESE FOOD\", 13.0], [\"TRAILER PARK LOUNGE\", 23.0], [\"L.A. BURRITO\", 19.0], [\"VISTA HERMOSA RESTAURANT\", 26.0], [\"PASCALOU\", 13.0], [\"AU BON PAIN\", 11.0], [\"RICO CHIMI\", 13.0], [\"MCDONALD'S RESTAURANT\", 12.0], [\"CHEERS THAI RESTAURANT\", 16.0], [\"STARBUCKS\", 6.0], [\"STOUT\", 20.0], [\"PAPA JOHN'S PIZZA\", 12.0], [\"SHESHE PIZZERIA\", 15.0], [\"THE VNYL\", 59.0], [\"FOOD HUT RESTAURANT & BAKERY\", 13.0], [\"BONCHON\", 58.0], [\"AVP COFFEE SHOP\", 61.0], [\"LA FLOR DEL PARAISO RESTAURANT\", 60.0], [\"STARBUCKS\", 17.0], [\"KING'S ARMS RESTAURANT\", 17.0], [\"MR. CHICKEN TO GO\", 23.0], [\"ICHI UMI\", 31.0], [\"AU BON PAIN\", 10.0], [\"NEW DRAGON SEA CHINESE RESTAURANT\", 12.0], [\"LEAF ROOFTOP LOUNGE\", 9.0], [\"GRAND ARMY BAR\", 16.0], [\"LA POLLERA COLORADA II\", 48.0], [\"M & O BAGELS\", 24.0], [\"HUMMUS MARKET\", 20.0], [\"OCEAN CHINESE RESTAURANT\", 8.0], [\"ATLANTIC GRILL WEST\", 13.0], [\"FU LAI O KITCHEN\", 48.0], [\"CHINANTLA RESTAURANT\", null], [\"CUCUMBER SUSHI & SALAD BAR\", 9.0], [\"THE RUSTY KNOT\", 11.0], [\"DONGSHENG SHI FANG\", 29.0], [\"CHARLEYS PHILLY STEAKS\", 9.0], [\"MONARCH\", 23.0], [\"DILL AND PARSLEY\", 10.0], [\"LA BONA PIZZA & PASTA\", 12.0], [\"MINI GALAXY\", 41.0], [\"CHUCK E. CHEESE'S\", 14.0], [\"KAZAN MANGAL\", 24.0], [\"SANDRO'S\", 27.0], [\"375 THRICE COOKED FRIES\", 41.0], [\"MILANES SPANISH RESTAURANT\", 11.0], [\"SOFIA'S TAQUERIA\", null], [\"STARBUCKS\", 23.0], [\"MEHAK\", 4.0], [\"TAK KING CHINESE RESTAURANT\", null], [\"BEST CARIBBEAN RESTAURANT & GRILL\", 40.0], [\"MCDONALD'S\", 12.0], [\"YOLIE'S BAR & RESTAURANT\", 38.0], [\"LA GRAN URUGUAYA BAKERY & RESTAURANT\", 13.0], [\"ANTICA RISTORANTE\", 18.0], [\"MASTER GRILL\", 12.0], [\"A-1 PIZZA SHOP\", 13.0], [\"COCO THAI\", 9.0], [\"MARY O'S\", 12.0], [\"CHECKERS\", 33.0], [\"SWEET CHICK\", 11.0], [\"DUNKIN'\", 23.0], [\"PG PIZZA\", 12.0], [\"RICHMOND BAGEL & GOURMET DELI\", 26.0], [\"OASIS CAFE\", 35.0], [\"SERAFINA\", 15.0], [\"MACARON CAFE\", 28.0], [\"RIZZO FINE PIZZA\", 25.0], [\"BARBOUNIA\", 24.0], [\"FALANSAI\", 6.0], [\"FINGERLINKING RESTURANT\", 13.0], [\"CHINA TASTES\", null], [\"UNCLE JACK'S STEAKHOUSE\", 10.0], [\"SILVER PALACE CHINESE RESTAURANT\", 27.0], [\"OUTBACK STEAKHOUSE\", 22.0], [\"BLUE AGAVE\", 30.0], [\"DIG INN\", 21.0], [\"HOUSE OF ANTOJITOS\", 12.0], [\"BOAT BAR\", 10.0], [\"JADE LINDEN RESTAURANT\", 14.0], [\"HABANERO\", 16.0], [\"SUP THAI KITCHEN\", 10.0], [\"STARBUCKS\", 8.0], [\"SILVER MOON BAKERY\", 10.0], [\"HALAL RESTAURANT\", 23.0], [\"B&W DELI GROCERY\", 18.0], [\"ARPING RESTAURANT 45\", 30.0], [\"MCDONALD'S RESTAURANT\", 12.0], [\"LITTLE ITALY PIZZA/PAPAYA DOG\", 17.0], [\"DUNKIN', BASKIN ROBBINS\", 11.0], [\"THE GAVEL GRILL\", 14.0], [\"SAMMY'S NOODLE SHOP & GRILL\", 17.0], [\"A & S PIZZERIA\", 9.0], [\"MOE'S SOUTHWEST GRILL\", 25.0], [\"TWIN DONUT/BLIMPIES\", 13.0], [\"ECUATORIANA RESTAURANT\", 24.0], [\"NICE MATIN\", 6.0], [\"CROWN FRIED CHICKEN\", 18.0], [\"CLOVELLY COFFEE\", 9.0], [\"TOMOE SUSHI\", 20.0], [\"KLEINBERG'S\", 31.0], [\"MCDONALD'S\", 5.0], [\"KARMA\", 12.0], [\"PRINCESOS NY\", 13.0], [\"BELAIRE CAFE\", 6.0], [\"MATEUS RESTAURANT\", 19.0], [\"GABRIEL KREUTHER\", 9.0], [\"THE BUSHWICK DINER\", 12.0], [\"RED EYE GRILL\", 12.0], [\"S,T COFFEE\", 24.0], [\"NEST RESTAURANT & BAR\", 61.0], [\"ALFONSO'S PASTRY SHOPPE\", null], [\"SCHIMANSKI NEW YORK\", 7.0], [\"BRANCACCIO'S FOOD SHOP\", 26.0], [\"CHINAR ON THE ISLAND\", 25.0], [\"HEMO'S SPOT JUICE BAR & CAFE\", 7.0], [\"ASIAN GOURMET\", 13.0], [\"HAPPY FRESH TORTILLA GRILL\", 8.0], [\"FOO HING KITCHEN\", 28.0], [\"LUCILLE'S COFFEE AND COCKTAILS\", 12.0], [\"ALL STAR PIZZA\", 8.0], [\"THE GRAND PROSPECT HALL\", 18.0], [\"HALE & HEARTY SOUP\", 4.0], [\"EMPIRE STEAKHOUSE\", 17.0], [\"BAY HOUSE\", 20.0], [\"BAGEL BISTRO & DINER\", 24.0], [\"DUNKIN'\", 11.0], [\"BLIND BARBER\", 24.0], [\"STEPHANIE DELI\", 8.0], [\"FEI HUANG BAKERY\", 12.0], [\"MJ PIZZA\", 18.0], [\"NYLC LOUNGE\", 2.0], [\"DE MOLE\", 37.0], [\"AFGHAN CHAI KHANA\", null], [\"RUSS & DAUGHTERS AT THE JEWISH MUSEUM\", 29.0], [\"NEW WONG RESTAURANT\", 12.0], [\"ENZO'S PIZZERIA & ITALIAN SPECIALTIES\", 9.0], [\"LITTLE CAESARS\", null], [\"THE PALM\", 28.0], [\"GUAYACOS RESTAURANT\", 20.0], [\"APPLE GOURMET\", 20.0], [\"THE CROWN\", 6.0], [\"WAYPOINT CAFE NYC\", 13.0], [\"SWEETGREEN\", 16.0], [\"BURGEROLOGY\", 58.0], [\"FIVE SENSES\", 10.0], [\"DUNKIN'\", 10.0], [\"ROCKAWAY ROTI SHOP\", 13.0], [\"PACIFIC MOON\", 13.0], [\"JUST SALAD\", 3.0], [\"NoMad\", 12.0], [\"LA CANDELA ESPANOLA\", 24.0], [\"CINDRELLA LOUNGE\", 28.0], [\"XI'AN FAMOUS FOODS\", null], [\"THAI PARAGON\", 9.0], [\"TWIN DONUT/BLIMPIES\", 24.0], [\"CERTE CATERING\", 9.0], [\"FAR EAST SZECHUAN KITCHEN\", 11.0], [\"ABDULLAH SWEETS AND RESTAURANT\", 53.0], [\"KONG SIHK TONG\", 13.0], [\"CORNER BISTRO\", 26.0], [\"WHITE NOISE COFFEE\", 26.0], [\"EL POTE ESPANOL\", 20.0], [\"FEDOROFF'S ROAST PORK\", 25.0], [\"DUNKIN'\", 7.0], [\"PEGGY DEMPSEYS\", 12.0], [\"NOSTRAND DONUT SHOP\", 12.0], [\"RIO DE LA PLATA BAKERY\", 40.0], [\"ROSA MEXICANO\", 35.0], [\"ANIL'S ROTI SHOP\", 11.0], [\"FAITH CHINESE FOOD\", 10.0], [\"TACOS LOS TIGRES DEL BRONX\", 20.0], [\"HINTERLANDS\", 10.0], [\"MAOJIAOHUOLA\", 37.0], [\"COCO ROCO RESTAURANT\", 12.0], [\"ROMA PIZZERIA ITALIA\", 26.0], [\"BURGER KING\", 12.0], [\"WARREN 77\", 23.0], [\"SHUNDECK RESTAURANT\", 56.0], [\"NEW MOON\", null], [\"MCDONALD'S\", 20.0], [\"YOGURT LA CREPE\", 47.0], [\"KROK\", 5.0], [\"RECOVERY ROOM\", 28.0], [\"DIAMOND FOREST YAN'S CHINESE KITCHEN\", null], [\"CRAVE FISH BAR\", 18.0], [\"HONG KONG STATION\", 14.0], [\"BENTON\", 5.0], [\"MILANES SPANISH RESTAURANT\", 17.0], [\"PETRA\", 20.0], [\"BARIOS PIZZA & RESTAURANT\", 11.0], [\"TRINI ROTI HOUSE AND BAKERY\", 13.0], [\"MAMA'S RESTAURANT JAMAICAN AND AMERICAN FOOD\", 91.0], [\"CAFE LILY\", 10.0], [\"US FRIED CHICKEN & PIZZA\", 11.0], [\"OSAKA SUSHI\", 9.0], [\"DELICO\", 22.0], [\"LOS CHOCOMILES\", 47.0], [\"CAKE BOI\", 13.0], [\"KUNG FU STEAMER\", 21.0], [\"LOCAL NYC\", 9.0], [\"BLACK NILE SEAFOOD & SOUL FOOD\", 64.0], [\"CHINA TASTE\", 17.0], [\"CIENEGA LAS TLAYUDAS DE OAXACA\", 12.0], [\"CHESKA'S\", 10.0], [\"JERRY'S 637 DINER\", 19.0], [\"ACTION BURGER\", 30.0], [\"BEDFORD COFFEE COMPANY/STARBUCKS\", 15.0], [\"DELUXE GREEN BO\", 19.0], [\"EAST COAST BURGERS\", 9.0], [\"OLD HOMESTEAD\", 53.0], [\"RECOLTE\", 41.0], [\"XIANG XIANG NOODLE\", 46.0], [\"THE FICTION\", 14.0], [\"CAFE FOOD HALL\", 40.0], [\"RED FORTUNE RESTAURANT\", 23.0], [\"EL GAUCHITO RESTAURANT\", 30.0], [\"TJ'S TASTY CORNER 2\", 34.0], [\"CAOBA BROOKLYN BISTRO\", 9.0], [\"THE LITTLE BEET\", 26.0], [\"SPEAKVINO\", null], [\"JADE STAR KITCHEN\", 13.0], [\"ANGELA'S SANDWICH SHOP\", 24.0], [\"DOMINO'S\", 5.0], [\"DINO\", 9.0], [\"COBBLE & CO\", 28.0], [\"KORYODANG BAKERY & CAFE\", 17.0], [\"LA COCINA DE MAMA\", 21.0], [\"DOS CAMINOS\", 11.0], [\"Bar Veloce\", null], [\"AMORINO\", 9.0], [\"DAVEY'S ICE CREAM\", 7.0], [\"E-MO KIMBOB\", 0.0], [\"BIGWELL BAKERY AND HALAL RESTAURANT\", 36.0], [\"LA CHULA\", 13.0], [\"NATE\", 48.0], [\"MOTT HAVEN BAR & GRILL\", 10.0], [\"THE BOMOND RESTAURANT\", 12.0], [\"CORNER BISTRO\", 26.0], [\"STAND 224\", 10.0], [\"LET'S MAKAN\", 5.0], [\"ALFONSO'S PASTRY SHOPPE\", 12.0], [\"YUMMY CHINESE\", 5.0], [\"NEW LIN'S KITCHEN\", 12.0], [\"LA PERLA DEL ULUA RESTAURANT\", 56.0], [\"BABY'S GRILL AND RESTAURANT\", 17.0], [\"MIRACALI BAKERY\", 12.0], [\"UNCLE LOUIE G'S ITALIAN ICES & ICE CREAM\", 10.0], [\"SUBWAY\", 12.0], [\"BEACON THEATRE (BALCONY BAR)\", 2.0], [\"L'OREAL CAFE (EMPLOYEE DINING)\", 7.0], [\"KIN KHAO\", 31.0], [\"LA MARGARITA PIZZERIA\", 28.0], [\"HAVANA EXPRESS\", 11.0], [\"Playwright Celtic Pub\", 13.0], [\"NEW CHINA WOK\", 13.0], [\"3 LUIGI'S PIZZA\", 28.0], [\"KFC\", 13.0], [\"BASIL\", 15.0], [\"PIZ-ZETTA\", 13.0], [\"BLUE MOUNTAIN RESTAURANT & JERK CENTER\", 16.0], [\"IRIS TEA & BAKERY\", 58.0], [\"VIVI BUBBLE TEA\", 12.0], [\"RED HOT HOT POT\", 13.0], [\"SOHO SUSHI\", 20.0], [\"DA PLACE CUISINE\", 12.0], [\"NO. 1 CHINESE RESTAURANT\", 12.0], [\"BEST COFFEE SHOP\", 22.0], [\"RICO PAN BAKERY\", 10.0], [\"THE PALM\", 13.0], [\"PUNJABI INDIAN & AMERICAN RESTAURANT\", 9.0], [\"PINSHANG HOT POT\", null], [\"O'NEILL'S RESTAURANT & BAR\", 20.0], [\"AL-SHAM RESTAURANT\", 41.0], [\"GREGORY'S COFFEE\", 12.0], [\"GREEN PAVILION RESTAURANT & SPORTS LOUNGE\", 12.0], [\"KASHMIR 9\", 32.0], [\"JAKE'S SALOON\", 7.0], [\"D'ALESSANDRO'S CORNER GRILL\", 13.0], [\"TENGU SUSHI & NOODLE HOUSE\", 24.0], [\"LA GATA GOLOSA BAKERY / YOGURTBERRY\", 22.0], [\"ESTRELLA BAR & RESTAURANT\", 53.0], [\"CHAMPION PIZZA\", 28.0], [\"DUNKIN'\", 2.0], [\"CROWN FRIED CHICKEN\", 10.0], [\"TAQUERIA HUARACHE\", 24.0], [\"VILLAGE MARIA\", 29.0], [\"JUICE GENERATION INC\", 0.0], [\"BENNY'S BRICK OVEN\", 13.0], [\"AL CHOLO WEST INDIAN BAKERY & HEALTH FOOD STORE\", 6.0], [\"MI ARMADILLO GRANDE\", 23.0], [\"MONK MCGINNS\", 24.0], [\"NEW YORK SAL'S PIZZERIA\", 7.0], [\"HOMEMADE TAQUERIA\", 12.0], [\"MIKKELLER NYC\", 2.0], [\"NARUTO RAMEN\", 9.0], [\"AZTEC SOUL\", 11.0], [\"PER SE\", 14.0], [\"GOOD MORNING BROOKLYN\", 13.0], [\"LA CARRETA RESTAURANT\", 22.0], [\"J EAST CHINESE RESTAURANT\", 31.0], [\"CANTINA ROOFTOP\", 21.0], [\"PASTICCERIA BRUNO BAKERY & RESTAURANT\", 29.0], [\"ESS-A-BAGEL\", 51.0], [\"CHEZ ALEX\", 13.0], [\"DUNKIN /JEAN GEORGES SIMPLY CHICKEN\", 6.0], [\"JACAL MEXICANO CORP.\", 5.0], [\"MOONSTRUCK (IN BELLEVUE)\", 22.0], [\"HI NOODLE THAI\", 12.0], [\"WHITE HORSE TAVERN\", null], [\"BUONA NOTTE\", 71.0], [\"CHEFS CLUB BY FOOD & WINE\", -1.0], [\"SUBWAY\", 3.0], [\"THE IZAKAYA\", 29.0], [\"THE SHADMOOR\", 5.0], [\"KENNEDY FRIED CHICKEN & PIZZA\", 9.0], [\"HOUSE OF ANTOJITOS\", 18.0], [\"COLD STONE CREAMERY\", 28.0], [\"TOMPKINS SQUARE BAGELS\", 13.0], [\"HAPPY TOWN CHINESE RESTAURANT\", 12.0], [\"JENAVIES CAFE\", 24.0], [\"CHEESEBOAT\", 12.0], [\"COOK EATERY\", 26.0], [\"MINT\", 11.0], [\"GIRASOLES MEXICAN CUISINE\", 10.0], [\"MR WISH\", 17.0], [\"25th AVE DELI\", 18.0], [\"THE THIRSTY KOALA\", 11.0], [\"LA TUNA RESTAURANT\", 9.0], [\"GOLDEN WAY CHINESE RESTAURANT\", 13.0], [\"DA NONNA ROSA\", 9.0], [\"101 CAFE\", 8.0], [\"MI BELLA CHOLULITA MEXICAN RESTAURANT\", 17.0], [\"MCDONALD'S\", 35.0], [\"EL NUEVO TAINO\", 12.0], [\"AMORE PIZZERIA & RESTAURANT\", 19.0], [\"VYBES KITCHEN\", 119.0], [\"CHICK IN\", 39.0], [\"SUSHI 33\", 3.0], [\"THE DART SPORTS BAR\", 10.0], [\"ISLAND CZ CAFE\", 10.0], [\"THE LITTLE BEET TABLE\", 18.0], [\"LIMAN RESTAURANT\", 13.0], [\"CHINA RED GOURMENT\", 13.0], [\"NEW WING CHEUNG (New C Ave. D)\", 62.0], [\"UKUS\", 19.0], [\"DON ALEX RESTAURANT\", null], [\"290 WILD BAR\", 21.0], [\"FRANK'S REDHOT TERRACE\", 11.0], [\"CAFE CINQ\", null], [\"THE JEFFREY\", 31.0], [\"CHINESE MUSICIAN RESTAURANT\", 51.0], [\"RICE & MISO\", 71.0], [\"HIBINO\", 17.0], [\"DUNKIN'\", 14.0], [\"PANSHI\", 23.0], [\"GREAT SICHUAN\", 47.0], [\"LA ISLA RESTAURANT\", 9.0], [\"WONG WONG NOODLE SHOP\", 22.0], [\"TRUMP BAR\", 10.0], [\"SISTINA\", 8.0], [\"NELLY'S CAKES & PARTY SUPPLIES\", 12.0], [\"BEST CHOICE CARIBBEAN RESTAURANT AND JUICE BAR\", 26.0], [\"DA CAPO\", 11.0], [\"BRAVO PIZZA\", 13.0], [\"MI ESPIGUITA\", 23.0], [\"YAMATO\", 17.0], [\"TAQUERIA COATZINGO\", 42.0], [\"CHOCK FULL O' NUTS\", 9.0], [\"GENTING NEW YORK LLC\", 84.0], [\"COLOMBIA FAMA BAKERY\", 20.0], [\"MARAVILLA'S BAR & GRILL\", 13.0], [\"SHIRO OF JAPAN\", 14.0], [\"ROOM CAFE\", 8.0], [\"XI'AN FAMOUS FOODS\", 29.0], [\"CENT'ANNI\", 13.0], [\"HANSOL NUTRITION CENTER\", 21.0], [\"WB CARIBBEAN RESTAURANT\", 12.0], [\"SUPER KENNEDY'S CHICKEN & SANDWICH\", 12.0], [\"CREATE\", 12.0], [\"HOT BAGELS\", 26.0], [\"JUANITO RESTAURANT\", null], [\"CITY OF SAINTS COFFEE ROASTERS\", 13.0], [\"JOHN JAY DINING HALL\", 9.0], [\"UNDERLINE COFFEE\", 20.0], [\"2 BROS PIZZA\", 19.0], [\"POPEYES\", 12.0], [\"LOS CAFETALES RESTAURANT\", 27.0], [\"C & C ITALIAN DELI\", 22.0], [\"BUON\", 37.0], [\"SONAMU HOUSE\", 21.0], [\"QUEEN'S PIZZA\", 12.0], [\"EL JOBITO RESTAURANT\", 30.0], [\"CAFE PHIL\", 48.0], [\"SOM BO\", 57.0], [\"PAPA KEBAB\", 7.0], [\"PHOMEN\", 13.0], [\"EL MOLINO ROJO RESTAURANT\", 25.0], [\"ARROGANT SWINE\", 23.0], [\"MICHELLE RESTAURANT\", 20.0], [\"CAPRI II PIZZA\", 44.0], [\"EAST NEW SING BO\", 47.0], [\"MI SABOR CAFE\", 28.0], [\"THE SPOT CAFE/KOFOO\", 19.0], [\"LITTLE ITALY PIZZA\", 12.0], [\"CHIQUI CAFE\", 12.0], [\"COFFEE MONSTER\", 17.0], [\"SOMPONG THAI\", 10.0], [\"THE MICHELANGELO\", 41.0], [\"MEXICO LINDO RESTAURANT\", 20.0], [\"TASTY AND CO\", 12.0], [\"FRANK'S PIZZA\", 9.0], [\"SOUL OF THE SEA\", 2.0], [\"SZECHUAN DELIGHT\", 10.0], [\"WESTERN BAKERY\", 10.0], [\"WING WAGON\", 13.0], [\"DENG JI RESTAURANT\", 5.0], [\"CAFE TABACO Y RON\", 30.0], [\"ORCHARD BEACH SNACK BAR SECTION 10\", 9.0], [\"MCDONALD'S\", 8.0], [\"BLUE STORM BILLIARDS & CAFE\", 27.0], [\"LE GRAINNE CAFE\", 12.0], [\"BIBA OF WILLIAMSBURG\", 68.0], [\"GANSEVOORT PARK ROOFTOP\", 13.0], [null, null], [\"RIO CONVENIENCE STORE\", 10.0], [\"WALTER'S COTTAGE\", 13.0], [\"JUQUILA\", 38.0], [\"THE BEAST NEXT DOOR\", 27.0], [\"Las Lap\", 7.0], [\"LA CABANA MEXICAN RESTAURANT\", 9.0], [\"DAR 525\", 33.0], [\"COYOTE BOHEMIO\", 7.0], [\"BUNSMITH\", 49.0], [\"EVENTS AT STONE PARK\", 11.0], [\"EASY LOVER\", 15.0], [\"EL AGUILA BAKERY\", 21.0], [\"VALENCIA COFFEE ROOM\", 9.0], [\"FULL DOE BAKERY\", 10.0], [\"RESOBOX\", 71.0], [\"CHEZ ALAIN RESTAURAUNT\", 38.0], [\"CHINA EXPRESS\", 12.0], [\"KANSAS CHICKEN & BURGER\", 2.0], [\"SMOOTHIE REY\", 10.0], [\"RAMEN-YA\", 19.0], [\"3 IN 1 KITCHEN\", 13.0], [\"BAKER HOUSE MARKET\", 30.0], [\"GRANDMA'S DIM SUM\", 9.0], [\"KAI FAN ASIAN CUISINE\", 25.0], [\"PERA SOHO\", 9.0], [\"KISS MY SLICE\", 21.0], [\"CHIDORI JAPANESE CUISINE\", 13.0], [\"BURGER KING\", 4.0], [\"HEJAZ FAST FOOD\", 20.0], [\"ASHLAND @ HAMPTON INN\", 26.0], [\"SKYLINE BILLIARD CLUB\", 41.0], [\"FAMILY KITCHEN\", 19.0], [\"MALAI MARKE\", 24.0], [\"ZEST RAMEN\", 35.0], [\"JACKS FIRE DEPARTMENT\", 15.0], [\"SICHUAN CUISINE\", 12.0], [\"AUNTIE ANNE'S PRETZELS\", 12.0], [\"BARDOLINO PIZZA II\", 40.0], [\"THE DUMPLING SHOP\", 37.0], [\"MCDONALD'S\", 11.0], [\"FAMOUS AMADEUS PIZZA\", 13.0], [\"MILK & PULL\", 12.0], [\"SPIRO'S CAFE & PIZZA\", 11.0], [\"JR PRIMOS RESTAURANT\", 22.0], [\"THREE OWLS MARKET\", 13.0], [\"WALK UP BAR\", 7.0], [\"LOS ANGELES BAKERY\", 10.0], [\"THE IMMIGRANT NYC\", 24.0], [\"LAS PALMAS RESTAURANT\", 13.0], [\"EL SAZON IDEAL RESTAURANT\", 46.0], [\"RIVERDALE SECOND HELPING\", 10.0], [\"OCEANA POKE\", 9.0], [\"MO'S BAR\", 22.0], [\"MANOR SUSHI\", 11.0], [\"GINO'S CUCINA BRICK OVEN PIZZA\", 12.0], [\"RAJDHANI INDIAN RESTUARANT\", 21.0], [\"MODHU MITA INDIAN RESTAURANT\", 19.0], [\"KIN KHAO\", 31.0], [\"MCDONALD'S\", 5.0], [\"PRIMAVERA CAFE\", 11.0], [\"PARADISE ALLEY BAR\", 29.0], [\"FOREST THAI CUISINE\", 25.0], [\"GOLDEN STEAMER\", 11.0], [\"SIMPLY BAKERY\", 26.0], [\"MOE'S SOUTHWEST GRILL & CHARLEYS PHILLY STEAKS\", 8.0], [\"NORA'S PIZZA\", 32.0], [\"ON THE ROX LOUNGE & BAR\", 10.0], [\"BA XUYEN\", 23.0], [\"CO BA RESTAURANT\", 4.0], [\"1ST MAMA RESTAURANT\", 30.0], [\"GOLDEN TERRACE BANQUET HALL\", 4.0], [\"FELLA'S BAR\", 11.0], [\"PRODUCERS LOUNGE\", 7.0], [\"UNION SQUARE CAFE/ DAILY PROVISIONS\", 17.0], [\"BELLA NAPOLI\", null], [\"BAGELSMITH\", 53.0], [\"PRINCE ST PIZZA\", 24.0], [\"GONG CHA\", 10.0], [\"EL PATIO MEXICANO RESTAURANT\", 19.0], [\"169 BAR\", 21.0], [\"COSI\", 10.0], [\"RED LOBSTER\", 19.0], [\"KING'S PIZZA\", 34.0], [\"ARIA KABAB\", 43.0], [\"FULL MOON PIZZA\", 54.0], [\"68 JAY STREET BAR\", 23.0], [\"NAPOLI PIZZA\", 36.0], [\"EL PIN POLLO RESTAURANT\", 26.0], [\"BEECHER'S HANDMADE CHEESE\", 12.0], [\"JING WEI HOTPOT\", 11.0], [\"GARY AND GINO'S\", 37.0], [\"STAR RESTAURANT\", 19.0], [\"BREAD & BUTTER\", 25.0], [\"NAPOLI'S BEST PIZZA\", 11.0], [\"JANE\", 12.0], [\"THE 13TH STEP\", 42.0], [\"MASTER WOK\", 41.0], [\"LAS BANDERAS\", 28.0], [\"WHITE CASTLE\", 7.0], [\"HUMBOLDT & JACKSON\", 19.0], [\"Panorama of My Silence-Heart\", 18.0], [\"MARIO'S PIZZERIA\", 20.0], [\"ASIAN TOKYO JAPANESE CUISINE\", 11.0], [\"CHOW\", 16.0], [\"J EAST CHINESE RESTAURANT\", 21.0], [\"CAFE CELLO DELI\", 13.0], [\"DIM SUM PALACE\", 12.0], [\"BENIHANA\", 12.0], [\"The Rochard NYC\", 59.0], [\"SUSHI DOJO\", 9.0], [\"CORONA GREAT CHINA\", 5.0], [\"SOMETHING'S COOKING CATERING\", 12.0], [\"OCABANON\", 50.0], [\"CAFE CON PAN BAKERY\", 11.0], [\"KOGANE\", 26.0], [\"KANA TAPAS BAR & RESTAURANT\", null], [\"CURRY IN A HURRY\", 32.0], [\"F & J PINE RESTAURANT\", 21.0], [\"WINTER GARDEN THEATER\", 8.0], [\"ASHOKA\", 80.0], [\"ORCHARD BEACH SNACK BAR SECTION #7\", 23.0], [\"DOUBLE DELIGHT CHINESE RESTAURANT\", 13.0], [\"CARLO'S BAKERY\", 32.0], [\"SWEETS BAKERY\", 12.0], [\"EMPERADOR ELIAS RESTAURANT\", 12.0], [\"MCCANN'S PUB\", 19.0], [\"DADDY'S CAFE\", 11.0], [\"Bao Ding\", 21.0], [\"HONG KONG FOODTOWN\", 53.0], [\"MCGARRY'S\", 11.0], [\"DUNKIN', BASKIN ROBBINS\", 9.0], [\"POLISH NATIONAL HOME\", 30.0], [\"THE MONTROSE\", null], [\"KENNEDY CHICKEN\", 20.0], [\"DELICIOSO DELI & GRILL\", null], [\"NUTRIPAN #2\", 2.0], [\"3D'S LEGACY SALAD & GRILL\", 26.0], [\"LE GAMIN\", 23.0], [\"OUSIA\", 28.0], [\"CARIDAD RESTAURANT\", 9.0], [\"RESTIVO RISTORANTE\", 11.0], [\"LUPA OSTERIA ROMANA\", 25.0], [\"MANTING RESTAURANT\", 13.0], [\"CAFE EVERGREEN\", 35.0], [\"EL PENACHO RESTAURANT\", 20.0], [\"CAFE AMORE'S RESTAURANT\", 7.0], [\"MOMINETTE\", 39.0], [\"EL TEQUILAZO RESTAURANT & BAR\", 29.0], [\"LOTUS LOUNGE\", 36.0], [\"PASTARIFIC PIZZA AND RESTAURANT\", 38.0], [\"CAFE PETISCO\", 43.0], [\"THE PALM\", 20.0], [\"BYUNG CHUN SOON DAE\", 16.0], [\"SONS OF ESSEX\", 13.0], [\"LAS AMERICAS BAKERY\", 40.0], [\"SPICY MOON\", 12.0], [\"BAGEL BOBS ON YORK\", 12.0], [\"DEAR MAMA\", 2.0], [\"OVERLOOK\", 13.0], [\"CASCATA\", null], [\"EL CAFETAL BAKERY\", 10.0], [\"GLADY'S\", null], [\"LENWICH\", 19.0], [\"KILO\", null], [\"SHU HAN JU AUTHENTIC CHINESE CUISINE\", 38.0], [\"BROCCOLINO\", 12.0], [\"SZECHAUN GARDEN\", 32.0], [\"NEW HUNAN WOK\", 23.0], [\"SAGAR CHINESE\", 7.0], [\"886\", 21.0], [\"NEW PINANG\", 19.0], [\"PARIS BAGUETTE\", 24.0], [\"JOHN'S FRIED CHICKEN\", 31.0], [\"RINCON LATINO RESTAURANT\", 9.0], [\"EL PORTON BAR & RESTAURANT\", 40.0], [\"FAMOUS FAMIGLIA PIZZERIA\", null], [\"CHUAN ZHU REN\", 23.0], [\"THE ROCK RESTAURANT & DINER\", 9.0], [\"MUSE\", 13.0], [\"LAS PALMAS RESTAURANT\", 12.0], [\"NAPOLI PIZZA & PASTA\", 26.0], [\"COLUMBIA UNIVERSITY BAKER ATHLETICS COMPLEX, STAND #1\", 10.0], [\"GRAND SICHUAN EASTERN\", 12.0], [\"99 CENTS FRESH & HOT PIZZA\", 35.0], [\"MOONSTRUCK EATERY\", 10.0], [\"CRYSTAL LOUNGE\", 9.0], [\"M & M BAR & GRILL INC\", 30.0], [\"WIMPY'S RESTAURANT\", 23.0], [\"EL NUEVO BOHIO RESTAURANT\", 16.0], [\"VSPOT ORGANIC\", 60.0], [\"LYDIG COFFEE HOUSE\", 12.0], [\"JIANBING COMPANY\", 12.0], [\"MOMINETTE\", 22.0], [\"GOOD CHINESE RESTAURANT\", 49.0], [\"HEARTLAND CHOPHOUSE BREWERY/HB BURGERS\", 12.0], [\"EMPORIO\", 5.0], [\"DELICIOUS PIZZA CAFE\", 28.0], [\"POPEYES\", 4.0], [\"FESTAC GRILL AND LOUNGE\", 12.0], [\"UP THAI\", 34.0], [\"PIZZA KING\", 11.0], [\"ALO YOGA LLC\", 9.0], [\"USA DINER\", 18.0], [\"THE BLUE STOVE\", 28.0], [\"DALLAS CHICKEN & BISCUIT\", 49.0], [\"TROPICAL REVIVAL RESTAURANT & CATERING\", 6.0], [\"CHIDORI JAPANESE CUISINE\", 19.0], [\"DORLAN'S\", 2.0], [\"HUNAN BISTRO\", 34.0], [\"PANDA DELIGHT CHINESE RESTAURANT\", 9.0], [\"MEXICAN FAST FOOD\", 4.0], [\"DOS TOROS TAQUERIA\", 7.0], [\"BAYRIDGE PIZZA\", 10.0], [\"BUFFALO BOSS\", 12.0], [\"JUICE FOR LIFE\", 26.0], [\"RADISSON JFK - CONNECTIONS\", 33.0], [\"J & K GOURMET\", 53.0], [\"CROWN FRIED CHICKEN\", 20.0], [\"THE OVAL SPORTS BAR & LOUNGE\", 12.0], [\"BIRCH\", 11.0], [\"LAUT\", 12.0], [\"GRILL 66\", 13.0], [\"EL REY\", 7.0], [\"BUTTER RESTAURANT\", 13.0], [\"CALIBELLA BAKERY\", 12.0], [\"PENN SUSHI\", 14.0], [\"IMPERIAL TASTE 88\", 12.0], [\"EAT-A-BAGEL - BOAT SPIRIT OF AMERICA\", 12.0], [\"STEVEN RESTAURANT\", 20.0], [\"WOK 88\", 18.0], [\"LITTLE WAYS\", 15.0], [\"QINGDAO\", 44.0], [\"PIPINS PUB\", 12.0], [\"SAKE BAR SATSKO\", 42.0], [\"OSTERIA 106\", 28.0], [\"O G RESTAURANT\", 54.0], [\"DUNKIN', BASKIN ROBBINS\", 21.0], [\"TASTY GRILL\", 22.0], [\"WELCOME TO THE JOHNSON'S\", null], [\"NEW ORIENTAL GUYANA RESTAURANT\", 22.0], [\"BELLA GIORNATA\", 11.0], [\"JIN MA BAKERY\", 14.0], [\"EL PUERTO MEXICANO\", 9.0], [\"TAQUERIA RESTAURANTE MI BARRIO\", 12.0], [\"CAMPESINO DOMINICANO RESTAURANT\", 18.0], [\"HABANERO\", null], [\"NO. 1 KITCHEN\", 26.0], [\"GRILL ON THE HILL\", 41.0], [\"BOCA JUNIORS STEAKHOUSE\", 52.0], [\"CHENG'S\", 21.0], [\"LA BAGUETTE SHOP\", 13.0], [\"MISTER CANGREJO COLOMBIAN RESTAURANT\", 38.0], [\"BAPSANG\", 26.0], [\"SEVEN GRAMS CAFFE\", 64.0], [\"SAMMY'S HALAL\", 35.0], [\"NEW HONG KONG\", 13.0], [\"WING GONG RESTAURANT\", 12.0], [\"CHINA GARDEN RESTAURANT\", 10.0], [\"NEW MING'S KITCHEN\", 36.0], [\"EL SAZON IDEAL RESTAURANT\", 18.0], [\"ADAR LOUNGE\", null], [\"GANDA SUSHI EXPRESS\", 28.0], [\"POLASH INDIAN CUISINE RESTAURANT\", 41.0], [\"TASTE OF CHINA\", 7.0], [\"POKE BURRITO\", 59.0], [\"HAMPTON CHUTNEY CO\", 29.0], [\"EL VIEJO JOBO SEAFOOD RESTAURANT\", 26.0], [\"SRIPRAPHAI THAI RESTAURANT\", 12.0], [\"VICTORIA'S SECRET / STARBUCKS\", 9.0], [\"RED FARM/DECOY\", 19.0], [\"W K RESTAURANT\", 12.0], [\"GOLDEN LEO RESTAURANT\", 13.0], [\"PAPA JOHNS PIZZA\", 12.0], [\"PUERTO DE MANTA BAR LOUNGE\", 20.0], [\"PROOF COFFEE ROASTER\", 37.0], [\"TAKUMEN\", 27.0], [\"NEW CHINA\", 16.0], [\"LOEWS REGENCY BAR AND GRILL\", 45.0], [\"CROWN FRIED CHICKEN\", 59.0], [\"MIGDALIA PLACE\", 2.0], [\"NANA'S BISTRO & CATERING\", 33.0], [\"PANDA\", 10.0], [\"KING WOK CHINESE RESTAURANT\", 22.0], [\"The Royal Underground\", 11.0], [\"YU KITCHEN\", 34.0], [\"MARGON RESTAURANT\", 19.0], [\"El Crucero Restaurant & Grill\", 13.0], [\"KODAMA SUSHI\", 13.0], [\"PRONTO CAFE\", 13.0], [\"CHINA WOK\", 6.0], [\"YOURS & MINE RESTAURANT\", 10.0], [\"MADMAN ESPRESSO\", 26.0], [\"SATI'S ROTI SHOP\", 19.0], [\"NEW WING CHEUNG (New C Ave. D)\", 31.0], [\"FRIEDMAN'S\", 25.0], [\"NEW YORK POST CAFETERIA\", 36.0], [\"PAK LAHORI CHILLI\", 57.0], [\"MILLY'S CORNER RESTAURANT AND BAR\", 13.0], [\"JUICE GENERATION INC\", null], [\"FRESH & DELICIOUS\", 12.0], [\"MCDONALD'S\", 7.0], [\"B -SIDE\", 28.0], [\"EL BUEN SABOR\", 10.0], [\"CHANDNI SWEETS & RESTAURANT\", 36.0], [\"KIMCHEE KOREAN RESTAURANT\", 17.0], [\"TRIBECA BAGELS\", 25.0], [\"PAM REAL THAI 49\", 10.0], [\"SCAVELLO'S ON THE ISLAND\", 15.0], [\"ROYAL SEAFOOD CUISINE\", 17.0], [\"PERRY STREET\", 20.0], [\"LIBERTY GRANT CAFE\", 48.0], [\"LOS AMIGOS MEXICAN RESTAURANT\", 9.0], [\"LA PULPERIA\", 27.0], [\"SMOKEY ISLAND GRILLE\", 12.0], [\"MAMA LETI'S\", 11.0], [\"PANCHO VILLA RESTAURANT\", 33.0], [\"BED-STUY FISHFRY\", 22.0], [\"ROSA'S PIZZA & PASTA\", 30.0], [\"D'ANGELO'S PIZZA\", 25.0], [\"NARUTO RAMEN\", 10.0], [\"THE CUSTOM HOUSE\", 21.0], [\"KISMET CATERERS\", 12.0], [\"TOSKANA PIZZERIA RESTAURANT\", 11.0], [\"SPICE SYMPHONY\", 17.0], [\"HIBACHI KING\", 10.0], [\"MANETTA'S RISTORANTE\", 33.0], [\"EL PASO TAQUERIA\", 25.0], [\"DRAUGHT 55 BAR & KITCHEN\", 25.0], [\"NAIA DELI GRILL JUICE AND SALAD BAR\", 26.0], [\"POPEYES\", 13.0], [\"BUNNA CAFE\", 34.0], [\"TABLESIDE ITALIAN COOK SHOPPE\", 12.0], [\"LOS PANCHOS\", 11.0], [\"MIDTOWN RESTAURANT\", 26.0], [\"IL PORTO BRICK OVEN RISTORANTE\", 10.0], [\"SHERWOOD TO GO\", null], [\"TAQUERIA SAN PEDRO\", 8.0], [\"POPEYES\", 22.0], [\"HOMEWOOD SUITES BY HILTON NEW YORK MIDTOWN MANHATTAN TIMES SQUARE\", 7.0], [\"PARADE CAFE\", 23.0], [\"RAY'S CAFE AND RESTAURANT\", 2.0], [\"APERION PRODUCTION\", 11.0], [\"DELICIOUS HUANG BAKERY\", 11.0], [\"JIN ZHOU BBQ\", null], [\"GIRASOL BAKERY\", 23.0], [\"ROBERTA'S\", 2.0], [\"Double Dutch Espresso\", 11.0], [\"VIVA EVENTS AND CATERING\", 28.0], [\"STARBUCKS\", 17.0], [\"GIUSEPPINA'S BRICK OVEN\", 35.0], [\"PICKY EATERS RESTAURANT\", 31.0], [\"ISLAND RAGE\", 10.0], [\"ROYAL QUEEN/THE REAL KTV\", 20.0], [\"GREAT WALL RESTAURANT\", 17.0], [\"DUNKIN'\", 15.0], [\"DOLMA RESTAURANT\", 23.0], [\"TAGINE\", 9.0], [\"BURGER KING\", 43.0], [\"THE BROOKLYN INN\", 7.0], [\"MIRIAM\", 26.0], [\"SEATTLE COFFEE ROASTERS, PIER 79/ NY WATERWAY\", 46.0], [\"A CAFE\", 12.0], [\"MIA HALAL FOOD\", 10.0], [\"NYC HANDCRAFTED\", 3.0], [\"STIX RESTAURANT\", 13.0], [\"SODA BAR\", 4.0], [\"CATERINA PIZZERIA\", 22.0], [\"NEW NOODLE 28\", 7.0], [\"FERRY HOUSE CAFE\", 79.0], [\"PIO PIO\", 12.0], [\"MILE 17\", null], [\"THE BOIL\", 10.0], [\"FISHERMAN'S COVE\", 14.0], [\"HAN GAWI\", 10.0], [\"MEXICUE\", 14.0], [\"POLLO SABROSO RESTAURANT\", 19.0], [\"TIAN SHUN RESTAURANT\", 13.0], [\"COTTON CLUB\", 18.0], [\"JUICE HEALTHY FOOD AND DRINKS\", 97.0], [\"SUNRISE\", 12.0], [\"HUDSON VIEW RESTAURANT\", 9.0], [\"HARRY'S ITALIAN\", 23.0], [\"FRANK'S TRATTORIA\", 18.0], [\"D DELI COFFEE SHOP\", 27.0], [\"PORTOFINO CAFE\", 24.0], [\"PUNDA TIBETAN RESTAURANT\", 20.0], [\"JUST SALAD\", 35.0], [\"CAPITAL ONE NYC\", 9.0], [\"FAMOUS FAMIGLIA PIZZA\", 11.0], [\"LA ABUELITA\", 51.0], [\"HUNGRY GHOST\", 2.0], [\"STARBUCKS\", 9.0], [\"CULTURE 307\", 2.0], [\"MINGLES\", 9.0], [\"SCREAMER'S PIZZERIA\", 37.0], [\"IDA'S NEARABOUT\", 11.0], [\"PIZZA EMPORIUM\", 7.0], [\"AFRICAN HOME RESTAURANT\", 15.0], [\"JIMMY'S DELI & GRILL\", 13.0], [\"TAO HONG BAKERY\", 24.0], [\"JOE ASIAN & SUSHI\", 37.0], [\"Ria Bella\", 9.0], [\"ESS-A-BAGEL\", 28.0], [\"D & I RESTAURANT & BAKERY\", 26.0], [\"ZIA MARIA LITTLE ITALY\", 10.0], [\"NEW YORK KIMCHI\", 36.0], [\"FAMILY PIZZA\", 13.0], [\"PARADISE ALLEY BAR\", 29.0], [\"HIBINO LIC\", 19.0], [\"BARNES & NOBLE CAFE\", 19.0], [\"WOLF AND DEER BROOKLYN\", 50.0], [\"PUTAWN LOCAL THAI KITCHEN\", 23.0], [\"THAI BKK\", 23.0], [\"NANCY WHISKEY PUB\", 9.0], [\"CHINA MOON\", 17.0], [\"DUNKIN'\", 25.0], [\"LUCID CAFE\", 11.0], [\"HALAL BROS\", 14.0], [\"CITI FIELD BURGERS & DOGS STAND 337\", 0.0], [\"E.A.K. RAMEN\", 8.0], [\"FUKUOKA SHABU SHABU\", 10.0], [\"STARLIGHT GRILL RESTAURANT & SWEETS\", 28.0], [\"KEW GARDENS CINEMAS\", 19.0], [\"MAISON THAI\", 17.0], [\"ESPERANTO RESTAURANT BAR AND JUGO\", 9.0], [\"THE GROTTO\", 9.0], [\"MARIA'S\", 5.0], [\"STARBUCKS\", 5.0], [\"ANFORA\", 13.0], [\"YUMMY TACO\", 18.0]], \"hoverlabel\": {\"namelength\": 0}, \"hovertemplate\": \"<b>%{hovertext}</b><br><br>dba=%{customdata[0]}<br>score=%{customdata[1]}<br>latitude=%{lat}<br>longitude=%{lon}\", \"hovertext\": [\"MAMA MIA 44 SW\", \"TEPPEN RAMEN\", \"MOLE\", \"ZIO TOTO\", \"MOCHA MOCHA COFFEE\", \"ANGKOR CAMBODIAN BISTRO\", \"CHINA WOK\", \"ANTOJITOS AND NATURAL JUICE BAR\", \"EVERGREEN 858 LLC\", \"NICHE NICHE\", \"CHINA ONE RESTAURANT\", \"OASIS GRILL & BAR\", \"CHOI FOOK RESTAURANT\", \"STARBUCKS\", \"POCHA 32\", \"TAUROS BAR AND RESTAURANT\", \"KAVKAZKIY DVORIK\", \"ANDIAMO CAFE\", \"GOLDEN KRUST CARIBBEAN BAKERY & GRILL\", \"DRAGON GARDEN\", \"IPANEMA RESTAURANT\", \"WONG ASIAN FOOD\", \"PRIMOLA RESTAURANT\", \"VILLA TAPIA RESTAURANT\", \"BARCELO RESTAURANT\", \"THE KATI ROLL COMPANY\", \"TASTY DELICIOUS WEST INDIAN BAKERY & RESTAURANT\", \"BURGER KING\", \"BLACK SEED BAGEL\", \"TEMPLE COURT\", \"DENNY'S\", \"FLAME\", \"JIAN ON CHINESE RESTAURANT\", \"NEW GOOD TASTE CHINESE RESTAURANT\", \"RICHIE RICH\", \"VENICE PIZZA\", \"V-BREAD CAFE NY\", \"SOPHIE'S CUBAN CUISINE\", \"PARAISO AZTECA RESTAURANT\", \"BAGEL BIN\", \"JOE'S PIZZA & PASTA\", \"TEN DEGREES\", \"WANG EASTERN OF ZHANG\", \"EL GRAN VALLE RESTAURANT\", \"DUNKIN'\", \"MILLIE'S DELI\", \"THE LOCAL\", \"FISHERMAN'S COVE\", \"CULTURE ESPRESSO\", \"BRUNSWICK\", \"MARKET CRATES\", \"EAST COAST\", \"JULES BISTRO\", \"CORNER BISTRO\", \"DUNKIN', BASKIN ROBBINS\", \"SUBWAY\", \"BOMBAY GRILL AND CURRY\", \"RIKO PERUVIAN CUISINE\", \"MR. BING OF 28TH STREET\", \"GRAMERCY KITCHEN\", \"ROYAL QUEEN/THE REAL KTV\", \"GIRALDA BAKERY\", \"AMBASSADOR THEATRE\", \"ALFONSO'S PASTRY SHOPPE\", \"SAZON DE LUPITA\", \"COWGIRL SEAHORSE\", \"NEW CARRIZAL RESTAURANT\", \"TONE AUTHENTIC GEORGIAN BAKERY & CUISINE\", \"TERRAVITA BAR & KITCHEN\", \"ROSARITO FISH SHACK & SHELTER PIZZA\", \"LE CAFE COFFEE\", \"TABLE 87\", \"CREATE\", \"CAMPANIA COAL FIRED PIZZA\", \"EDWIN DELI GROCERY\", \"CLINTON STREET BAKING COMPANY\", \"OKUDA\", \"CHAMPIGNON\", \"SINGLE ORIGIN CAFE\", \"TAJ KEBAB\", \"NEEROB RESTAURANT\", \"PADDY QUINNS\", \"DON POLLO\", \"TASTE OF LAHORE\", \"THE GRANT CITY TAVERN\", \"STOUT\", \"A & R FOOD SERVICE BLDG 14\", \"MAMAN\", \"UNCLE LOUIE G'S ITALIAN ICES & ICE CREAM\", \"DUNKIN\", \"GREAT WALL RESTAURANT\", \"ALGONQUIN HOTEL/BLUE BAR\", \"MATECANA BAKERY & RESTAURANT\", \"EL NUEVO SANDY RESTAURANT\", \"RED MOON\", \"NIEVES TIA MIMI ICEES\", \"JERK HOUSE CARIBBEAN RESTAURANT\", \"LUGO LOUNGE & RESTAURANT\", \"LORENZOS BAR & GRILL (HILTON GARDEN)\", \"DINOSAUR BAR-B-QUE\", \"THURSDAY KITCEHN\", \"BOB BAR\", \"BLOSSOM DUJOUR\", \"CURRY EXPRESS\", \"SHAKING CRAB\", \"COURT DELI RESTAURANT\", \"FUJI SUSHI\", \"LA FOGATA\", \"TRUFA RESTAURANT\", \"Hibachi Express\", \"ATTRAVERSA\", \"TRIBECA'S KITCHEN\", \"PERSHING SQUARE CAFE\", \"MISS LILY'S 7A\", \"C.U.N.Y CAFE\", \"CREATIVE EDGE CATERERS\", \"PAPA JOHN'S\", \"NIO'S WEST INDIAN RESTAURANT & BAKERY\", \"18 LOUNGE KTV\", \"Lolo's Seafood Shack\", \"BA'AL CAFE AND FALAFEL\", \"LI'S GARDEN\", \"SALUD BAR & GRILL\", \"POLLERIA AZOGUENITA\", \"MACDOUGAL STREET ALEHOUSE\", \"POKE BOWL\", \"CRAZY WILLY'S\", \"KORNER CHICKEN-N-PIZZA\", \"REGGAE TASTE\", \"IL PORTO BRICK OVEN RISTORANTE\", \"CALIBRE 78\", \"ROMEO'S PIZZERIA\", \"HANK'S JUICY BEEF\", \"ARROGANT SWINE\", \"WING LING\", \"CHARLEY MOM KITCHEN\", \"US FRIED CHICKEN\", \"HANSOL NUTRITION CENTER\", \"SCHMACKARY'S\", \"DONUT SHOPPE\", \"THE STRAND BISTRO\", \"GOTTSCHEER HALL\", \"TASTE THE TROPICS ICE CREAM\", \"NEW ISLAND\", \"HONG KONG STATION\", \"LI LI CHINESE FOOD\", \"TRAILER PARK LOUNGE\", \"L.A. BURRITO\", \"VISTA HERMOSA RESTAURANT\", \"PASCALOU\", \"AU BON PAIN\", \"RICO CHIMI\", \"MCDONALD'S RESTAURANT\", \"CHEERS THAI RESTAURANT\", \"STARBUCKS\", \"STOUT\", \"PAPA JOHN'S PIZZA\", \"SHESHE PIZZERIA\", \"THE VNYL\", \"FOOD HUT RESTAURANT & BAKERY\", \"BONCHON\", \"AVP COFFEE SHOP\", \"LA FLOR DEL PARAISO RESTAURANT\", \"STARBUCKS\", \"KING'S ARMS RESTAURANT\", \"MR. CHICKEN TO GO\", \"ICHI UMI\", \"AU BON PAIN\", \"NEW DRAGON SEA CHINESE RESTAURANT\", \"LEAF ROOFTOP LOUNGE\", \"GRAND ARMY BAR\", \"LA POLLERA COLORADA II\", \"M & O BAGELS\", \"HUMMUS MARKET\", \"OCEAN CHINESE RESTAURANT\", \"ATLANTIC GRILL WEST\", \"FU LAI O KITCHEN\", \"CHINANTLA RESTAURANT\", \"CUCUMBER SUSHI & SALAD BAR\", \"THE RUSTY KNOT\", \"DONGSHENG SHI FANG\", \"CHARLEYS PHILLY STEAKS\", \"MONARCH\", \"DILL AND PARSLEY\", \"LA BONA PIZZA & PASTA\", \"MINI GALAXY\", \"CHUCK E. CHEESE'S\", \"KAZAN MANGAL\", \"SANDRO'S\", \"375 THRICE COOKED FRIES\", \"MILANES SPANISH RESTAURANT\", \"SOFIA'S TAQUERIA\", \"STARBUCKS\", \"MEHAK\", \"TAK KING CHINESE RESTAURANT\", \"BEST CARIBBEAN RESTAURANT & GRILL\", \"MCDONALD'S\", \"YOLIE'S BAR & RESTAURANT\", \"LA GRAN URUGUAYA BAKERY & RESTAURANT\", \"ANTICA RISTORANTE\", \"MASTER GRILL\", \"A-1 PIZZA SHOP\", \"COCO THAI\", \"MARY O'S\", \"CHECKERS\", \"SWEET CHICK\", \"DUNKIN'\", \"PG PIZZA\", \"RICHMOND BAGEL & GOURMET DELI\", \"OASIS CAFE\", \"SERAFINA\", \"MACARON CAFE\", \"RIZZO FINE PIZZA\", \"BARBOUNIA\", \"FALANSAI\", \"FINGERLINKING RESTURANT\", \"CHINA TASTES\", \"UNCLE JACK'S STEAKHOUSE\", \"SILVER PALACE CHINESE RESTAURANT\", \"OUTBACK STEAKHOUSE\", \"BLUE AGAVE\", \"DIG INN\", \"HOUSE OF ANTOJITOS\", \"BOAT BAR\", \"JADE LINDEN RESTAURANT\", \"HABANERO\", \"SUP THAI KITCHEN\", \"STARBUCKS\", \"SILVER MOON BAKERY\", \"HALAL RESTAURANT\", \"B&W DELI GROCERY\", \"ARPING RESTAURANT 45\", \"MCDONALD'S RESTAURANT\", \"LITTLE ITALY PIZZA/PAPAYA DOG\", \"DUNKIN', BASKIN ROBBINS\", \"THE GAVEL GRILL\", \"SAMMY'S NOODLE SHOP & GRILL\", \"A & S PIZZERIA\", \"MOE'S SOUTHWEST GRILL\", \"TWIN DONUT/BLIMPIES\", \"ECUATORIANA RESTAURANT\", \"NICE MATIN\", \"CROWN FRIED CHICKEN\", \"CLOVELLY COFFEE\", \"TOMOE SUSHI\", \"KLEINBERG'S\", \"MCDONALD'S\", \"KARMA\", \"PRINCESOS NY\", \"BELAIRE CAFE\", \"MATEUS RESTAURANT\", \"GABRIEL KREUTHER\", \"THE BUSHWICK DINER\", \"RED EYE GRILL\", \"S,T COFFEE\", \"NEST RESTAURANT & BAR\", \"ALFONSO'S PASTRY SHOPPE\", \"SCHIMANSKI NEW YORK\", \"BRANCACCIO'S FOOD SHOP\", \"CHINAR ON THE ISLAND\", \"HEMO'S SPOT JUICE BAR & CAFE\", \"ASIAN GOURMET\", \"HAPPY FRESH TORTILLA GRILL\", \"FOO HING KITCHEN\", \"LUCILLE'S COFFEE AND COCKTAILS\", \"ALL STAR PIZZA\", \"THE GRAND PROSPECT HALL\", \"HALE & HEARTY SOUP\", \"EMPIRE STEAKHOUSE\", \"BAY HOUSE\", \"BAGEL BISTRO & DINER\", \"DUNKIN'\", \"BLIND BARBER\", \"STEPHANIE DELI\", \"FEI HUANG BAKERY\", \"MJ PIZZA\", \"NYLC LOUNGE\", \"DE MOLE\", \"AFGHAN CHAI KHANA\", \"RUSS & DAUGHTERS AT THE JEWISH MUSEUM\", \"NEW WONG RESTAURANT\", \"ENZO'S PIZZERIA & ITALIAN SPECIALTIES\", \"LITTLE CAESARS\", \"THE PALM\", \"GUAYACOS RESTAURANT\", \"APPLE GOURMET\", \"THE CROWN\", \"WAYPOINT CAFE NYC\", \"SWEETGREEN\", \"BURGEROLOGY\", \"FIVE SENSES\", \"DUNKIN'\", \"ROCKAWAY ROTI SHOP\", \"PACIFIC MOON\", \"JUST SALAD\", \"NoMad\", \"LA CANDELA ESPANOLA\", \"CINDRELLA LOUNGE\", \"XI'AN FAMOUS FOODS\", \"THAI PARAGON\", \"TWIN DONUT/BLIMPIES\", \"CERTE CATERING\", \"FAR EAST SZECHUAN KITCHEN\", \"ABDULLAH SWEETS AND RESTAURANT\", \"KONG SIHK TONG\", \"CORNER BISTRO\", \"WHITE NOISE COFFEE\", \"EL POTE ESPANOL\", \"FEDOROFF'S ROAST PORK\", \"DUNKIN'\", \"PEGGY DEMPSEYS\", \"NOSTRAND DONUT SHOP\", \"RIO DE LA PLATA BAKERY\", \"ROSA MEXICANO\", \"ANIL'S ROTI SHOP\", \"FAITH CHINESE FOOD\", \"TACOS LOS TIGRES DEL BRONX\", \"HINTERLANDS\", \"MAOJIAOHUOLA\", \"COCO ROCO RESTAURANT\", \"ROMA PIZZERIA ITALIA\", \"BURGER KING\", \"WARREN 77\", \"SHUNDECK RESTAURANT\", \"NEW MOON\", \"MCDONALD'S\", \"YOGURT LA CREPE\", \"KROK\", \"RECOVERY ROOM\", \"DIAMOND FOREST YAN'S CHINESE KITCHEN\", \"CRAVE FISH BAR\", \"HONG KONG STATION\", \"BENTON\", \"MILANES SPANISH RESTAURANT\", \"PETRA\", \"BARIOS PIZZA & RESTAURANT\", \"TRINI ROTI HOUSE AND BAKERY\", \"MAMA'S RESTAURANT JAMAICAN AND AMERICAN FOOD\", \"CAFE LILY\", \"US FRIED CHICKEN & PIZZA\", \"OSAKA SUSHI\", \"DELICO\", \"LOS CHOCOMILES\", \"CAKE BOI\", \"KUNG FU STEAMER\", \"LOCAL NYC\", \"BLACK NILE SEAFOOD & SOUL FOOD\", \"CHINA TASTE\", \"CIENEGA LAS TLAYUDAS DE OAXACA\", \"CHESKA'S\", \"JERRY'S 637 DINER\", \"ACTION BURGER\", \"BEDFORD COFFEE COMPANY/STARBUCKS\", \"DELUXE GREEN BO\", \"EAST COAST BURGERS\", \"OLD HOMESTEAD\", \"RECOLTE\", \"XIANG XIANG NOODLE\", \"THE FICTION\", \"CAFE FOOD HALL\", \"RED FORTUNE RESTAURANT\", \"EL GAUCHITO RESTAURANT\", \"TJ'S TASTY CORNER 2\", \"CAOBA BROOKLYN BISTRO\", \"THE LITTLE BEET\", \"SPEAKVINO\", \"JADE STAR KITCHEN\", \"ANGELA'S SANDWICH SHOP\", \"DOMINO'S\", \"DINO\", \"COBBLE & CO\", \"KORYODANG BAKERY & CAFE\", \"LA COCINA DE MAMA\", \"DOS CAMINOS\", \"Bar Veloce\", \"AMORINO\", \"DAVEY'S ICE CREAM\", \"E-MO KIMBOB\", \"BIGWELL BAKERY AND HALAL RESTAURANT\", \"LA CHULA\", \"NATE\", \"MOTT HAVEN BAR & GRILL\", \"THE BOMOND RESTAURANT\", \"CORNER BISTRO\", \"STAND 224\", \"LET'S MAKAN\", \"ALFONSO'S PASTRY SHOPPE\", \"YUMMY CHINESE\", \"NEW LIN'S KITCHEN\", \"LA PERLA DEL ULUA RESTAURANT\", \"BABY'S GRILL AND RESTAURANT\", \"MIRACALI BAKERY\", \"UNCLE LOUIE G'S ITALIAN ICES & ICE CREAM\", \"SUBWAY\", \"BEACON THEATRE (BALCONY BAR)\", \"L'OREAL CAFE (EMPLOYEE DINING)\", \"KIN KHAO\", \"LA MARGARITA PIZZERIA\", \"HAVANA EXPRESS\", \"Playwright Celtic Pub\", \"NEW CHINA WOK\", \"3 LUIGI'S PIZZA\", \"KFC\", \"BASIL\", \"PIZ-ZETTA\", \"BLUE MOUNTAIN RESTAURANT & JERK CENTER\", \"IRIS TEA & BAKERY\", \"VIVI BUBBLE TEA\", \"RED HOT HOT POT\", \"SOHO SUSHI\", \"DA PLACE CUISINE\", \"NO. 1 CHINESE RESTAURANT\", \"BEST COFFEE SHOP\", \"RICO PAN BAKERY\", \"THE PALM\", \"PUNJABI INDIAN & AMERICAN RESTAURANT\", \"PINSHANG HOT POT\", \"O'NEILL'S RESTAURANT & BAR\", \"AL-SHAM RESTAURANT\", \"GREGORY'S COFFEE\", \"GREEN PAVILION RESTAURANT & SPORTS LOUNGE\", \"KASHMIR 9\", \"JAKE'S SALOON\", \"D'ALESSANDRO'S CORNER GRILL\", \"TENGU SUSHI & NOODLE HOUSE\", \"LA GATA GOLOSA BAKERY / YOGURTBERRY\", \"ESTRELLA BAR & RESTAURANT\", \"CHAMPION PIZZA\", \"DUNKIN'\", \"CROWN FRIED CHICKEN\", \"TAQUERIA HUARACHE\", \"VILLAGE MARIA\", \"JUICE GENERATION INC\", \"BENNY'S BRICK OVEN\", \"AL CHOLO WEST INDIAN BAKERY & HEALTH FOOD STORE\", \"MI ARMADILLO GRANDE\", \"MONK MCGINNS\", \"NEW YORK SAL'S PIZZERIA\", \"HOMEMADE TAQUERIA\", \"MIKKELLER NYC\", \"NARUTO RAMEN\", \"AZTEC SOUL\", \"PER SE\", \"GOOD MORNING BROOKLYN\", \"LA CARRETA RESTAURANT\", \"J EAST CHINESE RESTAURANT\", \"CANTINA ROOFTOP\", \"PASTICCERIA BRUNO BAKERY & RESTAURANT\", \"ESS-A-BAGEL\", \"CHEZ ALEX\", \"DUNKIN /JEAN GEORGES SIMPLY CHICKEN\", \"JACAL MEXICANO CORP.\", \"MOONSTRUCK (IN BELLEVUE)\", \"HI NOODLE THAI\", \"WHITE HORSE TAVERN\", \"BUONA NOTTE\", \"CHEFS CLUB BY FOOD & WINE\", \"SUBWAY\", \"THE IZAKAYA\", \"THE SHADMOOR\", \"KENNEDY FRIED CHICKEN & PIZZA\", \"HOUSE OF ANTOJITOS\", \"COLD STONE CREAMERY\", \"TOMPKINS SQUARE BAGELS\", \"HAPPY TOWN CHINESE RESTAURANT\", \"JENAVIES CAFE\", \"CHEESEBOAT\", \"COOK EATERY\", \"MINT\", \"GIRASOLES MEXICAN CUISINE\", \"MR WISH\", \"25th AVE DELI\", \"THE THIRSTY KOALA\", \"LA TUNA RESTAURANT\", \"GOLDEN WAY CHINESE RESTAURANT\", \"DA NONNA ROSA\", \"101 CAFE\", \"MI BELLA CHOLULITA MEXICAN RESTAURANT\", \"MCDONALD'S\", \"EL NUEVO TAINO\", \"AMORE PIZZERIA & RESTAURANT\", \"VYBES KITCHEN\", \"CHICK IN\", \"SUSHI 33\", \"THE DART SPORTS BAR\", \"ISLAND CZ CAFE\", \"THE LITTLE BEET TABLE\", \"LIMAN RESTAURANT\", \"CHINA RED GOURMENT\", \"NEW WING CHEUNG (New C Ave. D)\", \"UKUS\", \"DON ALEX RESTAURANT\", \"290 WILD BAR\", \"FRANK'S REDHOT TERRACE\", \"CAFE CINQ\", \"THE JEFFREY\", \"CHINESE MUSICIAN RESTAURANT\", \"RICE & MISO\", \"HIBINO\", \"DUNKIN'\", \"PANSHI\", \"GREAT SICHUAN\", \"LA ISLA RESTAURANT\", \"WONG WONG NOODLE SHOP\", \"TRUMP BAR\", \"SISTINA\", \"NELLY'S CAKES & PARTY SUPPLIES\", \"BEST CHOICE CARIBBEAN RESTAURANT AND JUICE BAR\", \"DA CAPO\", \"BRAVO PIZZA\", \"MI ESPIGUITA\", \"YAMATO\", \"TAQUERIA COATZINGO\", \"CHOCK FULL O' NUTS\", \"GENTING NEW YORK LLC\", \"COLOMBIA FAMA BAKERY\", \"MARAVILLA'S BAR & GRILL\", \"SHIRO OF JAPAN\", \"ROOM CAFE\", \"XI'AN FAMOUS FOODS\", \"CENT'ANNI\", \"HANSOL NUTRITION CENTER\", \"WB CARIBBEAN RESTAURANT\", \"SUPER KENNEDY'S CHICKEN & SANDWICH\", \"CREATE\", \"HOT BAGELS\", \"JUANITO RESTAURANT\", \"CITY OF SAINTS COFFEE ROASTERS\", \"JOHN JAY DINING HALL\", \"UNDERLINE COFFEE\", \"2 BROS PIZZA\", \"POPEYES\", \"LOS CAFETALES RESTAURANT\", \"C & C ITALIAN DELI\", \"BUON\", \"SONAMU HOUSE\", \"QUEEN'S PIZZA\", \"EL JOBITO RESTAURANT\", \"CAFE PHIL\", \"SOM BO\", \"PAPA KEBAB\", \"PHOMEN\", \"EL MOLINO ROJO RESTAURANT\", \"ARROGANT SWINE\", \"MICHELLE RESTAURANT\", \"CAPRI II PIZZA\", \"EAST NEW SING BO\", \"MI SABOR CAFE\", \"THE SPOT CAFE/KOFOO\", \"LITTLE ITALY PIZZA\", \"CHIQUI CAFE\", \"COFFEE MONSTER\", \"SOMPONG THAI\", \"THE MICHELANGELO\", \"MEXICO LINDO RESTAURANT\", \"TASTY AND CO\", \"FRANK'S PIZZA\", \"SOUL OF THE SEA\", \"SZECHUAN DELIGHT\", \"WESTERN BAKERY\", \"WING WAGON\", \"DENG JI RESTAURANT\", \"CAFE TABACO Y RON\", \"ORCHARD BEACH SNACK BAR SECTION 10\", \"MCDONALD'S\", \"BLUE STORM BILLIARDS & CAFE\", \"LE GRAINNE CAFE\", \"BIBA OF WILLIAMSBURG\", \"GANSEVOORT PARK ROOFTOP\", null, \"RIO CONVENIENCE STORE\", \"WALTER'S COTTAGE\", \"JUQUILA\", \"THE BEAST NEXT DOOR\", \"Las Lap\", \"LA CABANA MEXICAN RESTAURANT\", \"DAR 525\", \"COYOTE BOHEMIO\", \"BUNSMITH\", \"EVENTS AT STONE PARK\", \"EASY LOVER\", \"EL AGUILA BAKERY\", \"VALENCIA COFFEE ROOM\", \"FULL DOE BAKERY\", \"RESOBOX\", \"CHEZ ALAIN RESTAURAUNT\", \"CHINA EXPRESS\", \"KANSAS CHICKEN & BURGER\", \"SMOOTHIE REY\", \"RAMEN-YA\", \"3 IN 1 KITCHEN\", \"BAKER HOUSE MARKET\", \"GRANDMA'S DIM SUM\", \"KAI FAN ASIAN CUISINE\", \"PERA SOHO\", \"KISS MY SLICE\", \"CHIDORI JAPANESE CUISINE\", \"BURGER KING\", \"HEJAZ FAST FOOD\", \"ASHLAND @ HAMPTON INN\", \"SKYLINE BILLIARD CLUB\", \"FAMILY KITCHEN\", \"MALAI MARKE\", \"ZEST RAMEN\", \"JACKS FIRE DEPARTMENT\", \"SICHUAN CUISINE\", \"AUNTIE ANNE'S PRETZELS\", \"BARDOLINO PIZZA II\", \"THE DUMPLING SHOP\", \"MCDONALD'S\", \"FAMOUS AMADEUS PIZZA\", \"MILK & PULL\", \"SPIRO'S CAFE & PIZZA\", \"JR PRIMOS RESTAURANT\", \"THREE OWLS MARKET\", \"WALK UP BAR\", \"LOS ANGELES BAKERY\", \"THE IMMIGRANT NYC\", \"LAS PALMAS RESTAURANT\", \"EL SAZON IDEAL RESTAURANT\", \"RIVERDALE SECOND HELPING\", \"OCEANA POKE\", \"MO'S BAR\", \"MANOR SUSHI\", \"GINO'S CUCINA BRICK OVEN PIZZA\", \"RAJDHANI INDIAN RESTUARANT\", \"MODHU MITA INDIAN RESTAURANT\", \"KIN KHAO\", \"MCDONALD'S\", \"PRIMAVERA CAFE\", \"PARADISE ALLEY BAR\", \"FOREST THAI CUISINE\", \"GOLDEN STEAMER\", \"SIMPLY BAKERY\", \"MOE'S SOUTHWEST GRILL & CHARLEYS PHILLY STEAKS\", \"NORA'S PIZZA\", \"ON THE ROX LOUNGE & BAR\", \"BA XUYEN\", \"CO BA RESTAURANT\", \"1ST MAMA RESTAURANT\", \"GOLDEN TERRACE BANQUET HALL\", \"FELLA'S BAR\", \"PRODUCERS LOUNGE\", \"UNION SQUARE CAFE/ DAILY PROVISIONS\", \"BELLA NAPOLI\", \"BAGELSMITH\", \"PRINCE ST PIZZA\", \"GONG CHA\", \"EL PATIO MEXICANO RESTAURANT\", \"169 BAR\", \"COSI\", \"RED LOBSTER\", \"KING'S PIZZA\", \"ARIA KABAB\", \"FULL MOON PIZZA\", \"68 JAY STREET BAR\", \"NAPOLI PIZZA\", \"EL PIN POLLO RESTAURANT\", \"BEECHER'S HANDMADE CHEESE\", \"JING WEI HOTPOT\", \"GARY AND GINO'S\", \"STAR RESTAURANT\", \"BREAD & BUTTER\", \"NAPOLI'S BEST PIZZA\", \"JANE\", \"THE 13TH STEP\", \"MASTER WOK\", \"LAS BANDERAS\", \"WHITE CASTLE\", \"HUMBOLDT & JACKSON\", \"Panorama of My Silence-Heart\", \"MARIO'S PIZZERIA\", \"ASIAN TOKYO JAPANESE CUISINE\", \"CHOW\", \"J EAST CHINESE RESTAURANT\", \"CAFE CELLO DELI\", \"DIM SUM PALACE\", \"BENIHANA\", \"The Rochard NYC\", \"SUSHI DOJO\", \"CORONA GREAT CHINA\", \"SOMETHING'S COOKING CATERING\", \"OCABANON\", \"CAFE CON PAN BAKERY\", \"KOGANE\", \"KANA TAPAS BAR & RESTAURANT\", \"CURRY IN A HURRY\", \"F & J PINE RESTAURANT\", \"WINTER GARDEN THEATER\", \"ASHOKA\", \"ORCHARD BEACH SNACK BAR SECTION #7\", \"DOUBLE DELIGHT CHINESE RESTAURANT\", \"CARLO'S BAKERY\", \"SWEETS BAKERY\", \"EMPERADOR ELIAS RESTAURANT\", \"MCCANN'S PUB\", \"DADDY'S CAFE\", \"Bao Ding\", \"HONG KONG FOODTOWN\", \"MCGARRY'S\", \"DUNKIN', BASKIN ROBBINS\", \"POLISH NATIONAL HOME\", \"THE MONTROSE\", \"KENNEDY CHICKEN\", \"DELICIOSO DELI & GRILL\", \"NUTRIPAN #2\", \"3D'S LEGACY SALAD & GRILL\", \"LE GAMIN\", \"OUSIA\", \"CARIDAD RESTAURANT\", \"RESTIVO RISTORANTE\", \"LUPA OSTERIA ROMANA\", \"MANTING RESTAURANT\", \"CAFE EVERGREEN\", \"EL PENACHO RESTAURANT\", \"CAFE AMORE'S RESTAURANT\", \"MOMINETTE\", \"EL TEQUILAZO RESTAURANT & BAR\", \"LOTUS LOUNGE\", \"PASTARIFIC PIZZA AND RESTAURANT\", \"CAFE PETISCO\", \"THE PALM\", \"BYUNG CHUN SOON DAE\", \"SONS OF ESSEX\", \"LAS AMERICAS BAKERY\", \"SPICY MOON\", \"BAGEL BOBS ON YORK\", \"DEAR MAMA\", \"OVERLOOK\", \"CASCATA\", \"EL CAFETAL BAKERY\", \"GLADY'S\", \"LENWICH\", \"KILO\", \"SHU HAN JU AUTHENTIC CHINESE CUISINE\", \"BROCCOLINO\", \"SZECHAUN GARDEN\", \"NEW HUNAN WOK\", \"SAGAR CHINESE\", \"886\", \"NEW PINANG\", \"PARIS BAGUETTE\", \"JOHN'S FRIED CHICKEN\", \"RINCON LATINO RESTAURANT\", \"EL PORTON BAR & RESTAURANT\", \"FAMOUS FAMIGLIA PIZZERIA\", \"CHUAN ZHU REN\", \"THE ROCK RESTAURANT & DINER\", \"MUSE\", \"LAS PALMAS RESTAURANT\", \"NAPOLI PIZZA & PASTA\", \"COLUMBIA UNIVERSITY BAKER ATHLETICS COMPLEX, STAND #1\", \"GRAND SICHUAN EASTERN\", \"99 CENTS FRESH & HOT PIZZA\", \"MOONSTRUCK EATERY\", \"CRYSTAL LOUNGE\", \"M & M BAR & GRILL INC\", \"WIMPY'S RESTAURANT\", \"EL NUEVO BOHIO RESTAURANT\", \"VSPOT ORGANIC\", \"LYDIG COFFEE HOUSE\", \"JIANBING COMPANY\", \"MOMINETTE\", \"GOOD CHINESE RESTAURANT\", \"HEARTLAND CHOPHOUSE BREWERY/HB BURGERS\", \"EMPORIO\", \"DELICIOUS PIZZA CAFE\", \"POPEYES\", \"FESTAC GRILL AND LOUNGE\", \"UP THAI\", \"PIZZA KING\", \"ALO YOGA LLC\", \"USA DINER\", \"THE BLUE STOVE\", \"DALLAS CHICKEN & BISCUIT\", \"TROPICAL REVIVAL RESTAURANT & CATERING\", \"CHIDORI JAPANESE CUISINE\", \"DORLAN'S\", \"HUNAN BISTRO\", \"PANDA DELIGHT CHINESE RESTAURANT\", \"MEXICAN FAST FOOD\", \"DOS TOROS TAQUERIA\", \"BAYRIDGE PIZZA\", \"BUFFALO BOSS\", \"JUICE FOR LIFE\", \"RADISSON JFK - CONNECTIONS\", \"J & K GOURMET\", \"CROWN FRIED CHICKEN\", \"THE OVAL SPORTS BAR & LOUNGE\", \"BIRCH\", \"LAUT\", \"GRILL 66\", \"EL REY\", \"BUTTER RESTAURANT\", \"CALIBELLA BAKERY\", \"PENN SUSHI\", \"IMPERIAL TASTE 88\", \"EAT-A-BAGEL - BOAT SPIRIT OF AMERICA\", \"STEVEN RESTAURANT\", \"WOK 88\", \"LITTLE WAYS\", \"QINGDAO\", \"PIPINS PUB\", \"SAKE BAR SATSKO\", \"OSTERIA 106\", \"O G RESTAURANT\", \"DUNKIN', BASKIN ROBBINS\", \"TASTY GRILL\", \"WELCOME TO THE JOHNSON'S\", \"NEW ORIENTAL GUYANA RESTAURANT\", \"BELLA GIORNATA\", \"JIN MA BAKERY\", \"EL PUERTO MEXICANO\", \"TAQUERIA RESTAURANTE MI BARRIO\", \"CAMPESINO DOMINICANO RESTAURANT\", \"HABANERO\", \"NO. 1 KITCHEN\", \"GRILL ON THE HILL\", \"BOCA JUNIORS STEAKHOUSE\", \"CHENG'S\", \"LA BAGUETTE SHOP\", \"MISTER CANGREJO COLOMBIAN RESTAURANT\", \"BAPSANG\", \"SEVEN GRAMS CAFFE\", \"SAMMY'S HALAL\", \"NEW HONG KONG\", \"WING GONG RESTAURANT\", \"CHINA GARDEN RESTAURANT\", \"NEW MING'S KITCHEN\", \"EL SAZON IDEAL RESTAURANT\", \"ADAR LOUNGE\", \"GANDA SUSHI EXPRESS\", \"POLASH INDIAN CUISINE RESTAURANT\", \"TASTE OF CHINA\", \"POKE BURRITO\", \"HAMPTON CHUTNEY CO\", \"EL VIEJO JOBO SEAFOOD RESTAURANT\", \"SRIPRAPHAI THAI RESTAURANT\", \"VICTORIA'S SECRET / STARBUCKS\", \"RED FARM/DECOY\", \"W K RESTAURANT\", \"GOLDEN LEO RESTAURANT\", \"PAPA JOHNS PIZZA\", \"PUERTO DE MANTA BAR LOUNGE\", \"PROOF COFFEE ROASTER\", \"TAKUMEN\", \"NEW CHINA\", \"LOEWS REGENCY BAR AND GRILL\", \"CROWN FRIED CHICKEN\", \"MIGDALIA PLACE\", \"NANA'S BISTRO & CATERING\", \"PANDA\", \"KING WOK CHINESE RESTAURANT\", \"The Royal Underground\", \"YU KITCHEN\", \"MARGON RESTAURANT\", \"El Crucero Restaurant & Grill\", \"KODAMA SUSHI\", \"PRONTO CAFE\", \"CHINA WOK\", \"YOURS & MINE RESTAURANT\", \"MADMAN ESPRESSO\", \"SATI'S ROTI SHOP\", \"NEW WING CHEUNG (New C Ave. D)\", \"FRIEDMAN'S\", \"NEW YORK POST CAFETERIA\", \"PAK LAHORI CHILLI\", \"MILLY'S CORNER RESTAURANT AND BAR\", \"JUICE GENERATION INC\", \"FRESH & DELICIOUS\", \"MCDONALD'S\", \"B -SIDE\", \"EL BUEN SABOR\", \"CHANDNI SWEETS & RESTAURANT\", \"KIMCHEE KOREAN RESTAURANT\", \"TRIBECA BAGELS\", \"PAM REAL THAI 49\", \"SCAVELLO'S ON THE ISLAND\", \"ROYAL SEAFOOD CUISINE\", \"PERRY STREET\", \"LIBERTY GRANT CAFE\", \"LOS AMIGOS MEXICAN RESTAURANT\", \"LA PULPERIA\", \"SMOKEY ISLAND GRILLE\", \"MAMA LETI'S\", \"PANCHO VILLA RESTAURANT\", \"BED-STUY FISHFRY\", \"ROSA'S PIZZA & PASTA\", \"D'ANGELO'S PIZZA\", \"NARUTO RAMEN\", \"THE CUSTOM HOUSE\", \"KISMET CATERERS\", \"TOSKANA PIZZERIA RESTAURANT\", \"SPICE SYMPHONY\", \"HIBACHI KING\", \"MANETTA'S RISTORANTE\", \"EL PASO TAQUERIA\", \"DRAUGHT 55 BAR & KITCHEN\", \"NAIA DELI GRILL JUICE AND SALAD BAR\", \"POPEYES\", \"BUNNA CAFE\", \"TABLESIDE ITALIAN COOK SHOPPE\", \"LOS PANCHOS\", \"MIDTOWN RESTAURANT\", \"IL PORTO BRICK OVEN RISTORANTE\", \"SHERWOOD TO GO\", \"TAQUERIA SAN PEDRO\", \"POPEYES\", \"HOMEWOOD SUITES BY HILTON NEW YORK MIDTOWN MANHATTAN TIMES SQUARE\", \"PARADE CAFE\", \"RAY'S CAFE AND RESTAURANT\", \"APERION PRODUCTION\", \"DELICIOUS HUANG BAKERY\", \"JIN ZHOU BBQ\", \"GIRASOL BAKERY\", \"ROBERTA'S\", \"Double Dutch Espresso\", \"VIVA EVENTS AND CATERING\", \"STARBUCKS\", \"GIUSEPPINA'S BRICK OVEN\", \"PICKY EATERS RESTAURANT\", \"ISLAND RAGE\", \"ROYAL QUEEN/THE REAL KTV\", \"GREAT WALL RESTAURANT\", \"DUNKIN'\", \"DOLMA RESTAURANT\", \"TAGINE\", \"BURGER KING\", \"THE BROOKLYN INN\", \"MIRIAM\", \"SEATTLE COFFEE ROASTERS, PIER 79/ NY WATERWAY\", \"A CAFE\", \"MIA HALAL FOOD\", \"NYC HANDCRAFTED\", \"STIX RESTAURANT\", \"SODA BAR\", \"CATERINA PIZZERIA\", \"NEW NOODLE 28\", \"FERRY HOUSE CAFE\", \"PIO PIO\", \"MILE 17\", \"THE BOIL\", \"FISHERMAN'S COVE\", \"HAN GAWI\", \"MEXICUE\", \"POLLO SABROSO RESTAURANT\", \"TIAN SHUN RESTAURANT\", \"COTTON CLUB\", \"JUICE HEALTHY FOOD AND DRINKS\", \"SUNRISE\", \"HUDSON VIEW RESTAURANT\", \"HARRY'S ITALIAN\", \"FRANK'S TRATTORIA\", \"D DELI COFFEE SHOP\", \"PORTOFINO CAFE\", \"PUNDA TIBETAN RESTAURANT\", \"JUST SALAD\", \"CAPITAL ONE NYC\", \"FAMOUS FAMIGLIA PIZZA\", \"LA ABUELITA\", \"HUNGRY GHOST\", \"STARBUCKS\", \"CULTURE 307\", \"MINGLES\", \"SCREAMER'S PIZZERIA\", \"IDA'S NEARABOUT\", \"PIZZA EMPORIUM\", \"AFRICAN HOME RESTAURANT\", \"JIMMY'S DELI & GRILL\", \"TAO HONG BAKERY\", \"JOE ASIAN & SUSHI\", \"Ria Bella\", \"ESS-A-BAGEL\", \"D & I RESTAURANT & BAKERY\", \"ZIA MARIA LITTLE ITALY\", \"NEW YORK KIMCHI\", \"FAMILY PIZZA\", \"PARADISE ALLEY BAR\", \"HIBINO LIC\", \"BARNES & NOBLE CAFE\", \"WOLF AND DEER BROOKLYN\", \"PUTAWN LOCAL THAI KITCHEN\", \"THAI BKK\", \"NANCY WHISKEY PUB\", \"CHINA MOON\", \"DUNKIN'\", \"LUCID CAFE\", \"HALAL BROS\", \"CITI FIELD BURGERS & DOGS STAND 337\", \"E.A.K. RAMEN\", \"FUKUOKA SHABU SHABU\", \"STARLIGHT GRILL RESTAURANT & SWEETS\", \"KEW GARDENS CINEMAS\", \"MAISON THAI\", \"ESPERANTO RESTAURANT BAR AND JUGO\", \"THE GROTTO\", \"MARIA'S\", \"STARBUCKS\", \"ANFORA\", \"YUMMY TACO\"], \"lat\": [40.759632932643, 40.759346442472, 40.738141622621, 40.62486908278, 40.622676530212, 40.762381598946, 40.615278533753, 40.836156807707, 40.637021269225, 40.727653975692, 40.878808622248, 40.760875525918, 40.603889216863, 40.771043264879, 40.747442915433, 40.695611566561, 40.600140151979, 40.86172225875, 40.665463296305, 40.587531569631, 40.756642524282, 40.763795168414, 40.763930686163, 40.807884878739, 40.699974126861, 40.757372741623, 40.645736311953, 40.764441376302, 40.745601453484, 40.711385570781, 40.657892301106, 40.784066952882, 40.738915701818, 40.82542303774, 40.83341319403, 40.836762474175, 40.714912552607, 40.755805364689, 40.608714866846, 40.692580968273, 40.760189479339, 40.727249470658, 40.822658376178, 40.848841853849, 40.84200063068, 40.744163633655, 0.0, 40.633328858812, 40.751842601337, 40.659348802262, 40.752027150859, 40.655492514341, 40.728018237736, 40.744947518794, 40.634462524919, 0.0, 40.73358203572, 40.74194802439, 40.746650234094, 40.735110658502, 40.759777908235, 40.820992860827, 40.761004627373, 40.612741882335, 40.870104891975, 40.708264959725, 40.689846186718, 40.581266294047, 40.848107034346, 40.719388224723, 40.743317213144, 40.670757322307, 40.776718177706, 40.613812442696, 40.830546968383, 40.721158765035, 40.743732670427, 40.743178329754, 40.686509453633, 40.63589066551, 40.836010724097, 40.759970935769, 40.684244667006, 40.754687183303, 0.0, 40.749581420927, 40.648312826068, 40.739404266832, 40.60243191883, 40.795012316671, 40.858992569263, 40.755547576189, 40.745802895967, 40.797101434903, 40.757211205462, 40.7483114018, 40.894716792466, 40.696427167581, 40.612466807787, 40.817790575991, 40.727663818567, 40.722441235448, 40.759523147973, 40.743146748972, 40.675680179458, 40.827302041436, 40.598563936756, 40.605728260524, 40.823046530642, 40.729823180028, 40.72907299313, 40.716235562575, 40.752129641732, 40.725962055374, 40.748815051057, 40.731847689049, 40.814318598935, 40.650661407755, 40.604627473577, 40.804531555952, 40.724618224978, 40.752896360438, 40.684448340321, 40.750659112367, 40.729852558187, 40.73731520658, 40.699570483815, 40.706912806995, 40.680476615446, 40.697366402589, 40.747251296882, 40.729248194919, 40.714517326468, 40.710079100435, 40.839097733407, 40.774174325259, 40.827102250808, 40.762775385515, 40.759855125015, 40.598852449746, 40.750857169912, 40.706647972614, 40.640795017461, 40.525678003581, 40.75867135363, 40.733249558695, 40.744874624395, 40.702256289516, 40.828492328036, 40.78509053253, 40.753338177941, 40.699191819306, 40.784493930207, 40.71405108991, 40.723515624571, 40.749581420927, 40.696744291047, 40.80004901021, 40.732393568167, 40.876967406421, 40.753745223573, 40.608859528455, 40.700345741758, 40.83537295631, 40.630436247754, 40.744552070576, 40.746951463756, 40.739489790595, 40.85213352572, 40.759098909404, 40.688265728309, 40.75558212959, 40.683952391992, 40.715387950229, 40.75961017792, 40.771650919237, 40.636274801813, 40.694431647167, 40.526110177111, 40.735322468458, 40.752280909241, 40.769782418109, 40.750478747008, 40.757075378151, 40.673802126763, 40.707941969227, 40.757443692308, 40.729631070542, 40.774448297847, 40.719718307529, 40.744932117673, 40.618692742536, 40.725592918592, 40.709068526708, 40.680231121688, 40.586727195859, 40.686328027808, 40.644856426709, 40.750044808722, 40.704018105174, 40.805979304297, 40.714639696184, 40.658456881162, 40.723330078838, 40.664630370121, 40.718302840715, 40.86543502791, 40.833688278011, 40.536742460534, 40.591053347963, 40.739596297046, 40.751799117043, 40.720785507218, 40.738223444693, 40.706771914912, 40.678454686599, 40.669304822594, 40.753709969771, 40.836192232967, 40.611555025462, 40.617956275899, 40.774272231992, 40.855795720639, 40.685828845135, 40.67026777117, 40.694697767597, 40.726459088308, 40.720483654604, 40.80057498786, 40.680742099343, 40.752985326729, 40.714155146858, 40.784493930207, 40.747656834756, 40.845281612292, 40.642117613793, 0.0, 40.643821556891, 40.57254251875, 40.826424451379, 0.0, 40.783244357926, 40.669106011932, 40.753100648221, 40.727711642194, 40.693715918467, 40.740723908241, 40.724727388482, 40.851981915815, 40.765879135867, 40.720528624776, 40.75403528333, 40.700420090316, 40.76500853812, 40.686054526325, 40.691461225686, 40.612741882335, 40.722236701539, 40.648393914504, 40.592596091025, 40.633725767871, 40.746172888762, 40.667764221334, 40.813670229536, 40.826155149546, 40.560203199495, 40.663637214007, 40.752486367873, 40.764256886043, 40.627875200944, 40.612998288941, 40.6412978124, 40.727092401989, 40.743977816769, 40.617310275315, 40.786901460675, 40.861113199515, 40.713859237829, 40.774057078823, 40.785291480988, 40.713784496016, 40.604228854782, 40.835896872868, 40.648312826068, 40.746141305488, 40.711863059986, 40.715755379409, 40.717250882856, 40.780277609875, 40.775753698039, 40.747390750548, 40.635543051033, 40.675659941984, 40.751437243228, 40.777659384185, 40.744989382569, 40.551525701455, 40.765161276598, 40.772291354348, 40.788180231461, 40.826424451379, 40.762035091044, 40.729462120426, 40.642619130984, 40.715469964619, 40.737924847314, 40.761214061503, 40.747674053669, 40.719095355179, 40.700607134992, 40.722747793365, 40.650975896814, 40.742302665669, 40.771195679299, 40.688156948248, 40.707512560814, 40.817463918527, 40.645886520561, 40.751986849538, 40.670737437043, 40.834102329657, 0.0, 40.715189555731, 40.600057159188, 40.742435105689, 40.719800823676, 40.776712707678, 40.687440366166, 40.747558748278, 40.631105762471, 40.755017689672, 40.75867135363, 40.756447432523, 40.744932117673, 40.690326967038, 40.589825046889, 40.663777616713, 40.799729834734, 40.61024500136, 40.65720135052, 40.587757723134, 40.749059927649, 40.630088670036, 40.680343365989, 40.629083504209, 40.751091318302, 40.678198670719, 40.77493695578, 40.743938291242, 40.726586022192, 40.62646217291, 40.712264142733, 40.666261730859, 40.715505647443, 40.713292838921, 40.741372224356, 40.780189793146, 40.739905744192, 40.707273058544, 40.756556290303, 40.62851530312, 40.742286205323, 40.664101167635, 40.678634984386, 40.743899731938, 40.687519270046, 40.616141775374, 40.765213667817, 40.665341299459, 40.689506138257, 40.706908985393, 40.762283972206, 40.712942592678, 40.759239769286, 40.785368438093, 40.783677913193, 40.726563445636, 40.747308389619, 40.683392885062, 40.798755986102, 40.679881150642, 40.808633427586, 40.540317940614, 40.737924847314, 40.829028434834, 40.715483688341, 40.545125402333, 40.70035945371, 40.750632265193, 40.70368330811, 40.746255611306, 40.747039121901, 40.60243191883, 40.646733691161, 40.7805577458, 40.752131794857, 40.741617107084, 40.721532503047, 40.823678037301, 40.759393827978, 40.682574810486, 40.688123259564, 40.617678008681, 40.67022425627, 40.691378751255, 0.0, 40.759535331184, 40.690585602378, 40.801388139429, 40.729627488582, 40.666984538886, 40.851947421727, 40.640529241731, 40.745596676227, 40.648312826068, 40.753876206376, 40.781448797836, 40.624740606259, 40.62785160196, 40.746857843208, 40.631158973819, 40.75507133236, 40.746068611943, 40.764901085088, 40.633434003455, 40.747547639492, 40.841607852784, 40.736195559538, 40.736195559538, 40.669391236584, 40.844164223081, 40.550343589994, 40.730014257254, 40.618321526405, 40.884384428243, 40.63604140435, 40.71421246245, 40.763733649336, 40.727825639485, 40.754695559225, 40.781122998858, 40.681555445711, 40.767808491195, 40.70633113204, 40.645614755923, 40.734874626466, 40.764782321065, 40.629547764266, 40.734330312542, 40.687538463614, 40.750654836632, 40.708816702334, 40.739489790595, 40.714339364956, 40.735734434497, 40.717778315856, 40.724530380047, 40.887941920037, 40.727049499467, 40.758722332241, 40.869983586824, 40.855795720639, 40.684429939379, 40.728072549944, 40.782980932575, 40.833266122728, 40.719820886998, 40.753703816993, 40.604494557966, 40.709157565439, 40.709296899654, 40.764861171649, 40.774728794209, 40.626114156596, 40.675239751276, 40.67280834708, 40.685063207207, 40.699448263224, 40.665487277341, 40.841444441196, 40.769658810731, 40.880840580863, 40.733433838568, 40.7288054345, 40.715270326351, 40.673417473761, 40.741176556414, 40.583790594921, 40.715181462659, 40.641912337097, 40.763047847319, 40.729786543966, 40.587008050513, 40.829028434834, 40.751854407738, 40.760917329185, 40.730246712433, 40.703801315166, 40.69024822523, 40.768703139145, 0.0, 40.740937186219, 40.790339613959, 40.638750591228, 40.762501364873, 40.777797086428, 40.664531648075, 40.88586548621, 40.787623213109, 40.734109173999, 40.761557968442, 40.67186430132, 40.747055593936, 40.62520137634, 40.677664571164, 40.745509844749, 40.810756820716, 40.709880021936, 40.764019337695, 40.740652526048, 40.67305247529, 40.762775385515, 40.654761128052, 40.861852773302, 40.764958420115, 40.71320780297, 40.80776461455, 40.731111968432, 40.805667548901, 40.746183724703, 40.862396658965, 40.847647349519, 40.747270474785, 40.670777979249, 40.722063414203, 40.763420827656, 40.715966489924, 40.854215160835, 40.691676707528, 40.741751107194, 40.742360416171, 40.664323075334, 40.82734876626, 40.710079100435, 40.724085987108, 40.876515785741, 40.613129213069, 40.697479457454, 40.742395822291, 40.74200344303, 40.725128689732, 40.76372159129, 40.749517095026, 40.761432404314, 40.739644067898, 40.728834965349, 40.818754973012, 40.66197506414, 40.672500983959, 40.676626506659, 40.6769492401, 40.750113736361, 40.868952999725, 40.865153252788, 40.599063397988, 40.761356954028, 40.745360454403, 40.72078827616, 40.743797552699, 40.744576692428, 40.640344210924, 40.760333036847, 40.7475981705, 40.748916230255, 40.71756384585, 40.64780280141, 40.711045571367, 40.699930515403, 40.67194372669, 40.673040136741, 40.714676136416, 40.643059684513, 40.817653049355, 40.641315727851, 40.724818036835, 40.807227159774, 40.641599437133, 40.664287599768, 40.816747693882, 40.730791266303, 40.638295102672, 40.751973027047, 40.757443692308, 40.887267360678, 40.724036352466, 40.755548575012, 40.729805686911, 40.650729396231, 40.664274313077, 40.695349720701, 40.590870542115, 40.693270949283, 40.727107153736, 40.718110166837, 40.747270498043, 40.759777908235, 40.609928854538, 40.783557156555, 40.728273680003, 40.844411665358, 40.749916674231, 40.681489529404, 40.654610027081, 40.865413420567, 40.738844121535, 40.703293906326, 40.700549157217, 40.728745589412, 40.837531187934, 40.853916458405, 40.886026146872, 40.763334557175, 40.687160375382, 40.60537626985, 40.675050049916, 40.721189869862, 40.823204094229, 40.741617107084, 40.872832956197, 40.86184590797, 40.762388899418, 40.626385439854, 40.604959714834, 40.715549565672, 40.751091318302, 40.861919134285, 40.682503230247, 40.645426063739, 40.742977955918, 40.851922693558, 40.694385364199, 40.852555855918, 40.759193669729, 40.737671769238, 40.901110086392, 40.713853095143, 40.722927389298, 40.733428169799, 40.833717357285, 40.714072440996, 40.761350839717, 40.809826751402, 40.608629779839, 40.727587302855, 40.855487781306, 40.702755433401, 40.629472277818, 40.708926053428, 40.739101960026, 40.636554370716, 40.8867380812, 40.827375338625, 40.754460220511, 40.8467185897, 40.727151709687, 40.729363268647, 40.609928854538, 40.612891889829, 40.62691561238, 40.716905083799, 40.712367110538, 40.683534113432, 40.890871942287, 40.766744846152, 40.734874626466, 40.756675482821, 40.762317930938, 40.762940896722, 40.786633639113, 40.726725405316, 40.642688803277, 40.755873119342, 40.748409759431, 40.642768411172, 40.698545482177, 40.725993041785, 40.74277629464, 40.848944092381, 40.761558925412, 40.77995832995, 40.865153252788, 40.613018411151, 40.756185423077, 40.764687153374, 40.708724168904, 40.774231405899, 40.605277517114, 40.759992887618, 40.758102670356, 40.752960668472, 40.674673467688, 40.722622173128, 40.681380366747, 40.660226029481, 40.638238129023, 40.704362111379, 40.84041797152, 40.728285592878, 40.771358667463, 40.84894689122, 40.743518671168, 40.727667725853, 40.7598596835, 40.768649321023, 40.608711587419, 0.0, 40.703119293443, 40.712174192147, 40.845559272591, 40.854046716188, 40.714162923494, 40.648312826068, 40.764027818613, 40.720064033661, 40.750824644254, 40.727035771777, 40.776169108111, 40.792329817768, 40.751760773847, 40.648312826068, 40.695173920872, 40.671663806224, 40.765774816765, 40.767056985247, 40.735484803245, 40.681975816298, 40.757227173071, 0.0, 40.743636919436, 40.728921504938, 40.718439652463, 40.763967211706, 40.875109810995, 40.897500681836, 40.814315191017, 40.804776710519, 40.762431134677, 40.6800845933, 40.676688785864, 40.837531187934, 40.757304269149, 40.871922776589, 40.742623946021, 40.764514788457, 40.760413151844, 40.76751264992, 40.842826512565, 40.843295679736, 40.843990836686, 40.729198789009, 40.854477291223, 40.76245205893, 40.703119293443, 40.695050598206, 40.75586636582, 40.72252941951, 40.872833919102, 40.691395283727, 40.675719689704, 40.769822179964, 40.632791362339, 40.723160816428, 40.674070994073, 40.717454925572, 40.803266412613, 40.79015718741, 40.729805686911, 40.707312498494, 40.732281041572, 40.687692441332, 40.866888101517, 40.730415215504, 40.627837872178, 40.683446896895, 40.751867722884, 40.667824047573, 40.778339930137, 40.668300603441, 40.651384644455, 40.793271006537, 40.737479919914, 40.707691233156, 40.705792925266, 40.756274908598, 40.702382461844, 40.750059234828, 40.749406108658, 40.700960374254, 40.858401090284, 40.780272378789, 40.722685921931, 40.758469213473, 40.620603209486, 40.724679731477, 40.798838459462, 40.695758942714, 40.867395347236, 40.788249690252, 40.719715423452, 40.685756988326, 40.64263640381, 40.738040379566, 40.692470403198, 40.641905739708, 40.854545458314, 40.694697767597, 40.767163011885, 40.822161426062, 40.737611661127, 40.626009539443, 40.637480108898, 40.74736294688, 40.76298118388, 40.727384882674, 40.726769320686, 40.792817270555, 40.791132280719, 40.693066712466, 40.737097351596, 40.853916458405, 40.799143697494, 40.726340639803, 40.799720455033, 40.564762299333, 40.764570813116, 40.720210193651, 40.853801710678, 40.746397984753, 40.765091155007, 40.734191863884, 40.715513882845, 40.584042075768, 40.716891313086, 40.69766870579, 40.739558493485, 40.743093125105, 40.905434879643, 40.764300564268, 40.687295292974, 40.698474416629, 40.713676209805, 40.717680937564, 40.677502282173, 40.764922714857, 40.797690690037, 40.757856168616, 40.809886939784, 40.75934448341, 40.631722519635, 40.876024283113, 40.663588530139, 40.732599909273, 40.674653622389, 40.641912337097, 40.755332182039, 40.798706093854, 40.632652556679, 40.81462698851, 40.730014257254, 40.639735481641, 40.665487277341, 40.763854030179, 40.706648853616, 40.800924118031, 40.618412610578, 40.721071972868, 40.763055499464, 40.840696805332, 40.717311692095, 40.73461431316, 40.678844983037, 40.774602750508, 40.776794603684, 40.680394569627, 40.748889860877, 40.85850535283, 40.668389233062, 40.713124184437, 40.715009428517, 40.797056776667, 40.69463700037, 40.833530202968, 40.767484781581, 40.744642520314, 40.691817471623, 40.742786885922, 40.790656140357, 40.758511490599, 40.851880404854, 40.815403724386, 40.705055570593, 40.726936929705, 40.740417084329, 40.759376653074, 40.697366402589, 40.759480578937, 40.830402842925, 40.815403724386, 40.754360316928, 40.647695862684, 40.843965333662, 40.697567100109, 40.717050844308, 40.75879747639, 40.698784987486, 40.705025904601, 40.808712957286, 40.760594432859, 40.738626356733, 40.660483551888, 40.635306258198, 40.712955356623, 40.759777908235, 40.830721164992, 40.835692882756, 40.590406054254, 40.753866018844, 40.590479607221, 40.685768217981, 40.680252414511, 40.75191947312, 40.764354274867, 40.679885559242, 40.741060686042, 40.726553753849, 40.678279512914, 40.666350567506, 40.74273204403, 40.703579448538, 40.760580050424, 40.769892329603, 40.719595159461, 40.645414894597, 40.746822419604, 40.742154589856, 40.869752157301, 40.63648599443, 40.817265947977, 40.7454876763, 40.761100918874, 40.85077220305, 40.715123185225, 40.735946773195, 40.71255341304, 40.854454553873, 40.741888794957, 40.759260547027, 40.756449218287, 40.77827285406, 40.692859566547, 40.676301263217, 40.74545928109, 40.754939423312, 40.692544775318, 40.675217799899, 40.74345878185, 40.608941760127, 40.851150257271, 40.63822648503, 40.717303342478, 40.755732247004, 40.734682757044, 40.75621494774, 40.663004082242, 40.718588013358, 40.757619387884, 40.655791577516, 40.762388899418, 40.742759460868, 40.779276899822, 40.680724458296, 40.774524085484, 40.802967353582, 40.720539457665, 40.756436227556, 40.75063901798, 40.745332456584, 40.665344205176, 0.0, 40.760472650541, 40.750836831047, 40.765285741103, 40.709192785941, 40.744929735632, 40.725373721239, 40.705500307697, 40.7662776594, 40.74878293031, 40.737897379628, 40.686077327043], \"legendgroup\": \"\", \"lon\": [-73.991762664033, -73.969415141271, -74.00537671185, -74.03046896148, -74.028407461121, -73.958880199591, -73.918464590811, -73.902725490616, -74.007951914127, -74.002475061484, -73.873198063352, -73.866258048993, -73.997090192199, -73.95673752047, -73.986170169402, -73.83936441511, -73.944511504849, -73.897543430151, -73.754412127712, -73.811506513311, -73.980472401612, -73.958933472417, -73.96190436458, -73.919029674458, -73.907505165233, -73.968603896078, -73.902975348807, -73.932446777083, -73.988660719736, -74.006665878998, -73.890097899573, -73.974491683665, -73.700928057808, -73.917960398398, -73.914492177756, -73.857185789193, -73.992579847691, -73.98042572458, -73.957318519957, -73.857791507188, -73.731612502881, -73.984471428903, -73.902969313215, -73.911515556265, -73.93898890693, -73.949522888161, 0.0, -73.947715552785, -73.984855475817, -73.981261489622, -73.991052578709, -73.952999664613, -73.986296887556, -73.953369381544, -74.014224263114, 0.0, -73.954827896022, -73.919618949595, -73.992002469086, -73.985866027718, -73.829235428489, -73.891316071168, -73.985001385348, -74.127216633526, -73.904172546816, -74.00062399506, -73.922703753159, -73.963218566782, -73.937808565216, -73.960580713293, -73.98369538347, -73.991586229513, -73.9115251082, -74.03281225917, -73.853881927039, -73.983975003544, -74.006066452373, -73.9963190186, -73.989907571418, -73.974789942211, -73.855239535837, -73.804028210759, -73.857459609624, -73.893528971987, 0.0, -73.989320514772, -73.788281497594, -74.004092152502, -73.933925756428, -73.971500658714, -73.899033464331, -73.981754088561, -73.856241099891, -73.937708318718, -73.983785818205, -73.877338007134, -73.856630362118, -73.900113651049, -74.175435897897, -73.960850972401, -73.983666756465, -73.989779448042, -73.991842090937, -73.981775541808, -73.980964867057, -73.924288726525, -74.079894487388, -74.000147655221, -73.95293144818, -73.978946857389, -74.003492581242, -74.006915272442, -73.977741495431, -73.983609449249, -73.984267881495, -74.00850089398, -73.919079619607, -73.952289532226, -74.005409133457, -73.955624802884, -74.003889204479, -73.827120016849, -73.90926108532, -73.875658991496, -74.000591725258, -73.990809184838, -73.832358341831, -73.790644702228, -73.763225940884, -73.967654951325, -73.887438032645, -73.780969608427, -74.007095455863, -73.933353336158, -73.914741439361, -73.948388020914, -73.92516700506, -73.805229237206, -73.990080510493, -73.956262561043, -73.984390110949, -73.90573574011, -73.948487981531, -74.201127401275, -73.983341474695, -73.883990621975, -73.997488207317, -73.928445414783, -73.881070474322, -73.955728086994, -73.706793265343, -73.914517129369, -73.946917513904, -73.950173437293, -73.951512019729, -73.989320514772, -73.783731035692, -73.962259252328, -73.987843910277, -73.846579863354, -73.989330672796, -73.972603264084, -73.905452560641, -73.861109789097, -74.106988972394, -73.911178230278, -73.985058696576, -73.976623458224, -73.884509037371, -73.834139118565, -73.986247395337, -73.885149926454, -73.847883782115, -73.944537838532, -73.73390340602, -73.980832629552, -74.025808301781, -73.95743653174, -74.201981207597, -74.009670453536, -73.826706549884, -73.83475864497, -73.98725590663, -73.97614441032, -73.882875921729, -73.783189599895, -73.834053016327, -73.860973833979, -73.953641095421, -73.988524446734, -73.99367720604, -74.069512349538, -73.791693405277, -73.829394691779, -73.946564574321, -73.81477788889, -73.823936340648, -73.922561485745, -73.881337386116, -74.012637796938, -73.914256640029, -73.982310025479, -73.982087103954, -73.985500547698, -73.923371089795, -73.957230033332, -73.867207521183, -73.915315754498, -74.151107105773, -73.960627958371, -74.006358371758, -73.988587475219, -73.984195156516, -73.987817582798, -73.929212410151, -73.914039072106, -73.895677269715, -73.996051340414, -73.943305602028, -74.009753301826, -73.999077885661, -73.981265131781, -73.888009147839, -73.991057889811, -73.857075037285, -73.906390993461, -73.789543982816, -73.844571299457, -73.967954965416, -73.953922813438, -73.9953475625, -73.995465714609, -73.946917513904, -73.984809513394, -73.865852760818, -74.076725469475, 0.0, -74.077567031421, -74.107680587499, -73.921287044249, 0.0, -73.978554358542, -73.958545004567, -73.99652059151, -74.000256165478, -73.945965928054, -73.987669168288, -73.987390730939, -73.931768325255, -73.953560442159, -73.732108339754, -73.982198460074, -73.912676241751, -73.980415789365, -73.944443342352, -73.820691755256, -74.127216633526, -73.95889424134, -73.978569041424, -74.068210453189, -74.021609975965, -73.82610175548, -73.980833760605, -73.922169221528, -73.938793918978, -74.164339506143, -73.989683962772, -73.977268555955, -73.982997126841, -74.076323560474, -74.123669405912, -73.964205075067, -73.980437798899, -73.906960252323, -73.985019389473, -73.942033264835, -73.897848051565, -73.95770904768, -73.913247249135, -73.957262669141, -73.993283379259, -73.971701253883, -73.921760050737, -73.788281497594, -73.883578317913, -74.008216981364, -73.996378255965, -73.989812713595, -73.9804004487, -73.910147153262, -73.986051082137, -73.967728267994, -73.815762906699, -73.902640341496, -73.98204769297, -73.988772700331, -74.14919032364, -73.819066619014, -73.95472932998, -73.953472601782, -73.921287044249, -73.975828571774, -73.815177007657, -73.979868107789, -73.998080916789, -74.003861116033, -73.803880147239, -73.973762207796, -73.955331979531, -73.896652342481, -73.901282628438, -73.949579249402, -73.869471186058, -73.983327498748, -73.819222287372, -73.943220695775, -73.898179049323, -73.972033059336, -73.826461885985, -73.985007343144, -73.852453880474, 0.0, -74.01025550853, -73.990763332913, -73.977546264664, -73.8450274481, -73.911550389917, -74.001525243698, -73.829595293955, -74.101182458524, -73.968428147336, -73.983341474695, -73.935115137528, -73.99367720604, -73.915552623929, -74.164319072575, -73.924687713652, -73.935766267997, -73.983583946027, -73.950248499599, -73.955499375313, -73.972772759527, -73.977051014306, -73.940406473461, -74.005447149352, -73.992925898182, -73.949720825694, -73.953868217536, -73.857713941371, -73.992185281432, -74.075514984777, -73.944002986044, -73.956675977066, -73.998131417975, -73.912374344702, -74.005037755098, -73.980490745124, -73.98573148738, -73.953879155947, -74.003808057183, -74.006063144187, -73.869478435952, -73.924182715269, -73.896405310307, -73.988978588805, -73.954729413158, -73.993206796139, -73.976538584534, -73.730654702608, -73.970493008067, -74.003697005066, -73.827463761182, -73.906787310041, -73.985167829517, -73.976715621346, -73.97794395785, -73.954262623268, -73.985903129221, -73.834331750737, -73.941928994638, -73.96415183724, -73.930422173136, -74.147661320466, -74.003861116033, -73.928496459645, -73.998073701793, -74.160923690384, -73.905438115198, -73.895531372764, -73.928025504583, -73.896906063869, -73.889408916451, -73.933925756428, -74.019358371197, -73.981429455055, -74.001147754922, -73.882767073715, -73.987604187829, -73.836420051252, -73.988203542079, -73.979542319271, -73.962741121417, -74.02947151597, -73.942127850309, -73.99072539147, 0.0, -73.832253763433, -73.991922676898, -73.961333824905, -73.999711354511, -73.930653409317, -73.90962451923, -73.99444381573, -73.906283111238, -73.788281497594, -73.806468114969, -73.84141334576, -74.142466856347, -74.023294057858, -73.982918577428, -73.976258045427, -73.995062269528, -74.001616815183, -73.771660850108, -74.005047589723, -73.884582774644, -73.916689860205, -73.994103832497, -73.994103832497, -73.906769103211, -73.914344575706, -74.150601827809, -73.992524038272, -73.957078221647, -73.862366807403, -74.13525266129, -74.009746738044, -73.992462480043, -73.892164944962, -73.845397132929, -73.952318462745, -73.871973758914, -73.982266967297, -73.922464549501, -74.012666330777, -73.986010412133, -73.995902672239, -74.111869119763, -73.980229991307, -73.923647548172, -73.991944239076, -73.778436391703, -73.976623458224, -73.944365566973, -74.005986336556, -73.998149391137, -73.995760844883, -73.860362996008, -73.987747474794, -73.965701098119, -73.891232074303, -73.888009147839, -73.97772451861, -73.982068318914, -73.845854794809, -73.827510256137, -73.957741325522, -73.98704594334, -73.969590790595, -73.775874306991, -73.82976922999, -73.905086263679, -73.908740437281, -74.14373786411, -73.843281966504, -73.976657735096, -73.843201099888, -73.923987285949, -73.756646891016, -73.935772818866, -73.834693968308, -73.864334212405, -73.736530538503, -73.863710448664, -73.807698905887, -73.956963317183, -73.985626561977, -73.941306598236, -74.008531225712, -73.9329496509, -73.913236374905, -73.860168906109, -74.19135787554, -73.928496459645, -73.993716248526, -73.963090099433, -73.953740518659, -73.987795044173, -73.996462583167, -73.91107369208, 0.0, -73.981595714349, -73.945554959121, -74.006179378117, -73.974286993203, -73.961582271089, -73.886990621095, -73.854783366137, -73.953884672095, -73.989117330313, -73.925721034099, -73.977443941911, -73.88941249802, -73.961050832086, -73.828757893149, -73.904172007346, -73.855634249473, -73.86822197296, -73.831614295946, -73.987499574155, -73.957114963475, -73.805229237206, -73.916909675766, -73.905724589224, -73.917251797126, -73.8741022867, -73.919748673439, -73.989969344928, -73.962382481514, -74.006402310516, -73.89664579224, -73.900767637493, -73.887401909809, -73.838249265318, -73.885514563239, -73.807104498364, -73.833363070195, -73.930157415288, -73.959684839811, -74.001075400851, -74.002767919549, -73.937093866118, -73.924386234665, -73.933353336158, -73.975748586975, -73.829918029205, -74.121879579031, -73.936171699303, -73.991577147741, -73.993442916853, -73.721655898446, -73.808049425982, -73.883312536574, -73.982167597056, -73.979614944263, -73.863154751421, -73.8170741383, -73.939925539875, -73.976913795697, -73.741990586543, -73.972283163097, -73.818598750266, -73.915831098788, -73.80283849787, -73.989078209462, -73.831639101669, -74.002161745447, -73.961225640376, -73.983738571533, -73.931016226159, -73.982974774483, -73.995094365606, -73.882983878126, -73.940980099938, -73.990505288881, -74.00749193984, -73.950182906736, -73.907883903982, -73.957494197471, -73.983773915023, -73.942669874049, -73.990663669575, -73.883470796457, -74.017915483289, -73.988054550256, -73.949608532801, -73.937825219714, -73.923861700086, -73.953788543634, -74.000851519121, -73.99778408659, -73.939317110395, -73.834053016327, -73.907153156051, -74.003315535797, -73.989817662377, -73.860111136458, -73.950797516055, -73.994063355628, -73.984175965937, -73.974094096426, -73.799692142924, -73.987880957625, -73.991973439946, -73.924206797203, -73.829235428489, -73.922281617072, -73.978008996048, -73.987887960651, -73.914904475475, -73.995102353958, -73.92876703628, -74.004112159189, -73.867511263839, -74.00810845598, -73.992047363499, -73.943385334801, -73.986202928873, -73.942346761471, -73.914603081104, -73.909849256915, -73.982398119522, -73.974759666594, -74.120856998266, -73.963220721854, -73.759227799277, -73.937940324198, -73.882767073715, -73.852186813423, -73.891704574426, -73.813814615944, -74.130351671156, -73.998861987543, -73.998254065061, -73.992925898182, -73.843317577905, -73.835999717621, -73.999239661964, -74.003868627596, -73.909592020388, -73.826662876596, -73.789447103794, -73.990452406045, -73.988026977398, -73.861800278284, -73.949325891048, -73.994638951146, -73.864170033452, -73.945114587014, -73.989813201259, -73.97226234471, -73.950336268594, -73.95732217607, -73.813396284329, -73.887467429515, -73.986680794315, -73.947365527651, -73.912564061387, -73.989773273905, -74.011342297185, -73.878228082138, -73.886619036102, -73.979220575447, -73.896478680213, -74.000349969603, -73.987122854337, -73.922281617072, -73.97376136147, -74.16417297766, -73.943061153611, -73.806516957971, -73.989853939985, -73.898319355505, -73.782596714362, -73.986010412133, -73.980598725793, -73.97645297217, -73.975997906156, -73.950375302618, -73.985903892131, -74.012809907186, -73.938916499088, -73.994221847262, -74.012727045392, -73.9924987296, -74.009301091655, -73.982342222543, -73.862060891357, -73.983943587158, -73.950214199533, -73.80283849787, -74.000262927142, -73.990564733785, -73.823049723042, -73.958794398093, -73.90800458023, -73.972331039137, -73.804024536194, -73.980089352483, -73.996621660294, -73.805141434216, -73.948301829523, -73.97707656051, -73.739405091913, -74.078360406533, -73.809057761079, -73.873134184414, -73.957321017451, -73.993876866296, -73.932873893386, -73.996044729114, -74.00029224493, -73.982334066518, -73.955388870038, -73.973788221355, 0.0, -73.925927057417, -73.788954404572, -73.866231709167, -73.899210898957, -73.988795949001, -73.788281497594, -73.808983516572, -73.987431299656, -73.873919034968, -73.98771139805, -73.946953060384, -73.940544201532, -73.972778869918, -73.788281497594, -73.844446613408, -73.957620548798, -73.983545463069, -73.986342975847, -73.998213848434, -73.976257910942, -73.968253836704, 0.0, -73.718359182229, -73.988472343355, -73.837270964655, -73.808850123108, -73.909130067716, -73.855032756867, -73.959299573149, -73.966258832618, -73.814471492066, -73.847578970327, -73.963547887268, -73.942346761471, -73.92677618212, -73.915805630187, -74.000415009142, -73.982303947291, -73.965862662514, -73.912028362335, -73.938456854344, -73.938116678337, -73.888238727429, -73.989114527273, -73.866549887145, -73.997122946666, -73.925927057417, -73.911742085375, -73.984453903471, -73.995118805103, -73.905097877619, -73.99155116128, -73.890144116548, -73.957626439513, -73.972849201261, -73.99912332473, -73.730024475072, -73.944878815633, -73.938211829923, -73.811851525854, -73.860111136458, -74.002521192433, -73.98792691978, -73.989795612161, -73.897835530752, -74.00220094797, -74.023322873405, -73.975691312176, -73.702815096973, -73.798114290188, -73.846139994661, -73.902325988464, -73.937938595443, -73.967232576915, -73.991159186093, -73.862520230869, -73.809529742183, -73.981573412682, -73.916164840577, -73.992106724456, -73.755314155169, -74.013134913601, -73.867912101018, -73.952932914281, -74.003492245231, -73.829610589843, -74.032217652928, -73.980315844648, -73.961905981494, -73.747495121212, -73.897241794169, -73.813601178663, -73.987207698793, -73.827464221841, -74.076686431487, -73.877234298614, -73.859389226224, -73.981356489665, -73.91157662174, -73.906390993461, -73.921956632798, -73.949864549885, -73.881955017508, -74.15654074798, -73.893810381368, -73.886539193339, -73.987791377664, -74.005516550541, -73.98589666698, -73.807138174912, -73.938970697937, -73.928321889877, -73.866017282946, -73.914603081104, -73.943333665458, -73.789313452695, -73.938691902608, -74.127790751903, -73.916429207271, -73.999437221136, -73.9081724421, -73.899601752872, -73.982094413718, -74.006231562974, -73.998199956475, -73.950742431418, -73.989755050741, -73.9077391814, -73.977038424016, -73.956070067705, -73.900843816155, -73.968795555298, -73.944709131562, -73.944011006639, -73.754774883385, -73.856994616372, -73.744525283602, -73.917219351751, -73.969545538941, -73.983399433011, -73.924742105903, -73.988813587546, -73.946329755182, -73.849460422837, -73.934088422071, -73.993934565065, -73.804770167937, -73.9329496509, -73.998585089216, -73.911138200557, -73.966893820243, -73.893382131932, -73.992524038272, -73.948377103721, -73.756646891016, -73.987917564599, -73.79804314293, -73.960864542196, -74.033131508195, -74.004260579913, -73.989924806898, -73.784059978484, -73.99746039087, -74.009742517159, -73.865976133588, -73.912542484783, -73.952516548291, -73.949899433468, -73.869259728057, -73.903802509908, -73.95062943466, -73.875447921726, -73.832074065603, -73.970015355946, -73.993728874245, -73.858020298206, -73.738619161173, -73.981010047447, -73.98630075015, -73.952143912863, -73.947443455957, -73.967433834067, -73.895339205538, -73.943634075331, -73.927829253583, -73.987429998399, -74.004095823603, -73.96948371139, -73.967654951325, -73.968104761178, -73.947534800065, -73.943634075331, -73.99275229784, -73.974302579248, -73.785278191186, -73.95999862098, -73.994689929043, -73.834479180217, -73.833907470038, -73.933228565237, -73.930310106101, -73.966292129831, -73.983303202982, -73.990715286259, -73.950311724386, -73.782491473871, -73.829235428489, -73.857079558428, -73.943696324303, -73.971491103146, -73.989612185526, -74.088612445615, -73.988360844605, -73.977841291783, -73.984996220221, -73.975188764417, -73.844486017285, -73.981505462847, -73.851859491161, -73.968623248839, -73.883382891793, -73.980288837865, -74.006596569024, -73.994762250179, -73.95445658737, -73.993098807722, -73.90264789955, -73.984751960331, -74.000757837422, -73.890314065539, -74.008539141247, -73.959745753562, -73.979663674365, -73.923559286675, -73.937867513019, -74.014797064384, -73.979071209521, -73.918345141375, -73.854595555191, -73.925392999887, -73.977843784017, -73.974495081506, -73.95648366598, -73.854512987451, -73.971429007508, -73.998917321202, -73.992174723398, -73.816815919512, -73.956309625297, -73.921259133881, -73.932565116312, -73.90812189637, -73.997884975887, -73.99426423578, -73.927922124964, -73.95500756413, -73.970466953387, -73.950871329564, -73.997655145358, -73.978941647625, -73.959912040776, -73.813814615944, -73.952198064384, -73.955096471719, -73.97754549049, -73.951073969079, -73.938432444269, -74.005010921281, -73.978039641499, -73.976641186014, -73.905402906763, -73.730723178137, 0.0, -73.989571443993, -73.819372757984, -73.888833389841, -73.829895740678, -73.975780668235, -73.977920034758, -74.012396426249, -73.772388957391, -73.992244022445, -74.004416826232, -73.793753592136], \"marker\": {\"color\": \"fuchsia\"}, \"mode\": \"markers\", \"name\": \"\", \"showlegend\": false, \"subplot\": \"mapbox\", \"type\": \"scattermapbox\"}],\n",
       "                        {\"height\": 300, \"legend\": {\"tracegroupgap\": 0}, \"mapbox\": {\"accesstoken\": \"pk.eyJ1IjoiZmxpemhvdSIsImEiOiJjazg4Y2hjaW4wMjFlM3NtemhhNG90Z2ZzIn0.gxDbD64mpZbxE2HMjxEZng\", \"center\": {\"lat\": 40.282685808526274, \"lon\": -73.12576791863098}, \"domain\": {\"x\": [0.0, 1.0], \"y\": [0.0, 1.0]}, \"zoom\": 3}, \"margin\": {\"b\": 0, \"l\": 0, \"r\": 0, \"t\": 0}, \"template\": {\"data\": {\"bar\": [{\"error_x\": {\"color\": \"#2a3f5f\"}, \"error_y\": {\"color\": \"#2a3f5f\"}, \"marker\": {\"line\": {\"color\": \"#E5ECF6\", \"width\": 0.5}}, \"type\": \"bar\"}], \"barpolar\": [{\"marker\": {\"line\": {\"color\": \"#E5ECF6\", \"width\": 0.5}}, \"type\": \"barpolar\"}], \"carpet\": [{\"aaxis\": {\"endlinecolor\": \"#2a3f5f\", \"gridcolor\": \"white\", \"linecolor\": \"white\", \"minorgridcolor\": \"white\", \"startlinecolor\": \"#2a3f5f\"}, \"baxis\": {\"endlinecolor\": \"#2a3f5f\", \"gridcolor\": \"white\", \"linecolor\": \"white\", \"minorgridcolor\": \"white\", \"startlinecolor\": \"#2a3f5f\"}, \"type\": \"carpet\"}], \"choropleth\": [{\"colorbar\": {\"outlinewidth\": 0, \"ticks\": \"\"}, \"type\": \"choropleth\"}], \"contour\": [{\"colorbar\": {\"outlinewidth\": 0, \"ticks\": \"\"}, \"colorscale\": [[0.0, \"#0d0887\"], [0.1111111111111111, \"#46039f\"], [0.2222222222222222, \"#7201a8\"], [0.3333333333333333, \"#9c179e\"], [0.4444444444444444, \"#bd3786\"], [0.5555555555555556, \"#d8576b\"], [0.6666666666666666, \"#ed7953\"], [0.7777777777777778, \"#fb9f3a\"], [0.8888888888888888, \"#fdca26\"], [1.0, \"#f0f921\"]], \"type\": \"contour\"}], \"contourcarpet\": [{\"colorbar\": {\"outlinewidth\": 0, \"ticks\": \"\"}, \"type\": \"contourcarpet\"}], \"heatmap\": [{\"colorbar\": {\"outlinewidth\": 0, \"ticks\": \"\"}, \"colorscale\": [[0.0, \"#0d0887\"], [0.1111111111111111, \"#46039f\"], [0.2222222222222222, \"#7201a8\"], [0.3333333333333333, \"#9c179e\"], [0.4444444444444444, \"#bd3786\"], [0.5555555555555556, \"#d8576b\"], [0.6666666666666666, \"#ed7953\"], [0.7777777777777778, \"#fb9f3a\"], [0.8888888888888888, \"#fdca26\"], [1.0, \"#f0f921\"]], \"type\": \"heatmap\"}], \"heatmapgl\": [{\"colorbar\": {\"outlinewidth\": 0, \"ticks\": \"\"}, \"colorscale\": [[0.0, \"#0d0887\"], [0.1111111111111111, \"#46039f\"], [0.2222222222222222, \"#7201a8\"], [0.3333333333333333, \"#9c179e\"], [0.4444444444444444, \"#bd3786\"], [0.5555555555555556, \"#d8576b\"], [0.6666666666666666, \"#ed7953\"], [0.7777777777777778, \"#fb9f3a\"], [0.8888888888888888, \"#fdca26\"], [1.0, \"#f0f921\"]], \"type\": \"heatmapgl\"}], \"histogram\": [{\"marker\": {\"colorbar\": {\"outlinewidth\": 0, \"ticks\": \"\"}}, \"type\": \"histogram\"}], \"histogram2d\": [{\"colorbar\": {\"outlinewidth\": 0, \"ticks\": \"\"}, \"colorscale\": [[0.0, \"#0d0887\"], [0.1111111111111111, \"#46039f\"], [0.2222222222222222, \"#7201a8\"], [0.3333333333333333, \"#9c179e\"], [0.4444444444444444, \"#bd3786\"], [0.5555555555555556, \"#d8576b\"], [0.6666666666666666, \"#ed7953\"], [0.7777777777777778, \"#fb9f3a\"], [0.8888888888888888, \"#fdca26\"], [1.0, \"#f0f921\"]], \"type\": \"histogram2d\"}], \"histogram2dcontour\": [{\"colorbar\": {\"outlinewidth\": 0, \"ticks\": \"\"}, \"colorscale\": [[0.0, \"#0d0887\"], [0.1111111111111111, \"#46039f\"], [0.2222222222222222, \"#7201a8\"], [0.3333333333333333, \"#9c179e\"], [0.4444444444444444, \"#bd3786\"], [0.5555555555555556, \"#d8576b\"], [0.6666666666666666, \"#ed7953\"], [0.7777777777777778, \"#fb9f3a\"], [0.8888888888888888, \"#fdca26\"], [1.0, \"#f0f921\"]], \"type\": \"histogram2dcontour\"}], \"mesh3d\": [{\"colorbar\": {\"outlinewidth\": 0, \"ticks\": \"\"}, \"type\": \"mesh3d\"}], \"parcoords\": [{\"line\": {\"colorbar\": {\"outlinewidth\": 0, \"ticks\": \"\"}}, \"type\": \"parcoords\"}], \"pie\": [{\"automargin\": true, \"type\": \"pie\"}], \"scatter\": [{\"marker\": {\"colorbar\": {\"outlinewidth\": 0, \"ticks\": \"\"}}, \"type\": \"scatter\"}], \"scatter3d\": [{\"line\": {\"colorbar\": {\"outlinewidth\": 0, \"ticks\": \"\"}}, \"marker\": {\"colorbar\": {\"outlinewidth\": 0, \"ticks\": \"\"}}, \"type\": \"scatter3d\"}], \"scattercarpet\": [{\"marker\": {\"colorbar\": {\"outlinewidth\": 0, \"ticks\": \"\"}}, \"type\": \"scattercarpet\"}], \"scattergeo\": [{\"marker\": {\"colorbar\": {\"outlinewidth\": 0, \"ticks\": \"\"}}, \"type\": \"scattergeo\"}], \"scattergl\": [{\"marker\": {\"colorbar\": {\"outlinewidth\": 0, \"ticks\": \"\"}}, \"type\": \"scattergl\"}], \"scattermapbox\": [{\"marker\": {\"colorbar\": {\"outlinewidth\": 0, \"ticks\": \"\"}}, \"type\": \"scattermapbox\"}], \"scatterpolar\": [{\"marker\": {\"colorbar\": {\"outlinewidth\": 0, \"ticks\": \"\"}}, \"type\": \"scatterpolar\"}], \"scatterpolargl\": [{\"marker\": {\"colorbar\": {\"outlinewidth\": 0, \"ticks\": \"\"}}, \"type\": \"scatterpolargl\"}], \"scatterternary\": [{\"marker\": {\"colorbar\": {\"outlinewidth\": 0, \"ticks\": \"\"}}, \"type\": \"scatterternary\"}], \"surface\": [{\"colorbar\": {\"outlinewidth\": 0, \"ticks\": \"\"}, \"colorscale\": [[0.0, \"#0d0887\"], [0.1111111111111111, \"#46039f\"], [0.2222222222222222, \"#7201a8\"], [0.3333333333333333, \"#9c179e\"], [0.4444444444444444, \"#bd3786\"], [0.5555555555555556, \"#d8576b\"], [0.6666666666666666, \"#ed7953\"], [0.7777777777777778, \"#fb9f3a\"], [0.8888888888888888, \"#fdca26\"], [1.0, \"#f0f921\"]], \"type\": \"surface\"}], \"table\": [{\"cells\": {\"fill\": {\"color\": \"#EBF0F8\"}, \"line\": {\"color\": \"white\"}}, \"header\": {\"fill\": {\"color\": \"#C8D4E3\"}, \"line\": {\"color\": \"white\"}}, \"type\": \"table\"}]}, \"layout\": {\"annotationdefaults\": {\"arrowcolor\": \"#2a3f5f\", \"arrowhead\": 0, \"arrowwidth\": 1}, \"coloraxis\": {\"colorbar\": {\"outlinewidth\": 0, \"ticks\": \"\"}}, \"colorscale\": {\"diverging\": [[0, \"#8e0152\"], [0.1, \"#c51b7d\"], [0.2, \"#de77ae\"], [0.3, \"#f1b6da\"], [0.4, \"#fde0ef\"], [0.5, \"#f7f7f7\"], [0.6, \"#e6f5d0\"], [0.7, \"#b8e186\"], [0.8, \"#7fbc41\"], [0.9, \"#4d9221\"], [1, \"#276419\"]], \"sequential\": [[0.0, \"#0d0887\"], [0.1111111111111111, \"#46039f\"], [0.2222222222222222, \"#7201a8\"], [0.3333333333333333, \"#9c179e\"], [0.4444444444444444, \"#bd3786\"], [0.5555555555555556, \"#d8576b\"], [0.6666666666666666, \"#ed7953\"], [0.7777777777777778, \"#fb9f3a\"], [0.8888888888888888, \"#fdca26\"], [1.0, \"#f0f921\"]], \"sequentialminus\": [[0.0, \"#0d0887\"], [0.1111111111111111, \"#46039f\"], [0.2222222222222222, \"#7201a8\"], [0.3333333333333333, \"#9c179e\"], [0.4444444444444444, \"#bd3786\"], [0.5555555555555556, \"#d8576b\"], [0.6666666666666666, \"#ed7953\"], [0.7777777777777778, \"#fb9f3a\"], [0.8888888888888888, \"#fdca26\"], [1.0, \"#f0f921\"]]}, \"colorway\": [\"#636efa\", \"#EF553B\", \"#00cc96\", \"#ab63fa\", \"#FFA15A\", \"#19d3f3\", \"#FF6692\", \"#B6E880\", \"#FF97FF\", \"#FECB52\"], \"font\": {\"color\": \"#2a3f5f\"}, \"geo\": {\"bgcolor\": \"white\", \"lakecolor\": \"white\", \"landcolor\": \"#E5ECF6\", \"showlakes\": true, \"showland\": true, \"subunitcolor\": \"white\"}, \"hoverlabel\": {\"align\": \"left\"}, \"hovermode\": \"closest\", \"mapbox\": {\"style\": \"light\"}, \"paper_bgcolor\": \"white\", \"plot_bgcolor\": \"#E5ECF6\", \"polar\": {\"angularaxis\": {\"gridcolor\": \"white\", \"linecolor\": \"white\", \"ticks\": \"\"}, \"bgcolor\": \"#E5ECF6\", \"radialaxis\": {\"gridcolor\": \"white\", \"linecolor\": \"white\", \"ticks\": \"\"}}, \"scene\": {\"xaxis\": {\"backgroundcolor\": \"#E5ECF6\", \"gridcolor\": \"white\", \"gridwidth\": 2, \"linecolor\": \"white\", \"showbackground\": true, \"ticks\": \"\", \"zerolinecolor\": \"white\"}, \"yaxis\": {\"backgroundcolor\": \"#E5ECF6\", \"gridcolor\": \"white\", \"gridwidth\": 2, \"linecolor\": \"white\", \"showbackground\": true, \"ticks\": \"\", \"zerolinecolor\": \"white\"}, \"zaxis\": {\"backgroundcolor\": \"#E5ECF6\", \"gridcolor\": \"white\", \"gridwidth\": 2, \"linecolor\": \"white\", \"showbackground\": true, \"ticks\": \"\", \"zerolinecolor\": \"white\"}}, \"shapedefaults\": {\"line\": {\"color\": \"#2a3f5f\"}}, \"ternary\": {\"aaxis\": {\"gridcolor\": \"white\", \"linecolor\": \"white\", \"ticks\": \"\"}, \"baxis\": {\"gridcolor\": \"white\", \"linecolor\": \"white\", \"ticks\": \"\"}, \"bgcolor\": \"#E5ECF6\", \"caxis\": {\"gridcolor\": \"white\", \"linecolor\": \"white\", \"ticks\": \"\"}}, \"title\": {\"x\": 0.05}, \"xaxis\": {\"automargin\": true, \"gridcolor\": \"white\", \"linecolor\": \"white\", \"ticks\": \"\", \"title\": {\"standoff\": 15}, \"zerolinecolor\": \"white\", \"zerolinewidth\": 2}, \"yaxis\": {\"automargin\": true, \"gridcolor\": \"white\", \"linecolor\": \"white\", \"ticks\": \"\", \"title\": {\"standoff\": 15}, \"zerolinecolor\": \"white\", \"zerolinewidth\": 2}}}},\n",
       "                        {\"responsive\": true}\n",
       "                    ).then(function(){\n",
       "                            \n",
       "var gd = document.getElementById('f75e53fa-4c18-48ab-a9cd-b51514119f1a');\n",
       "var x = new MutationObserver(function (mutations, observer) {{\n",
       "        var display = window.getComputedStyle(gd).display;\n",
       "        if (!display || display === 'none') {{\n",
       "            console.log([gd, 'removed!']);\n",
       "            Plotly.purge(gd);\n",
       "            observer.disconnect();\n",
       "        }}\n",
       "}});\n",
       "\n",
       "// Listen for the removal of the full notebook cells\n",
       "var notebookContainer = gd.closest('#notebook-container');\n",
       "if (notebookContainer) {{\n",
       "    x.observe(notebookContainer, {childList: true});\n",
       "}}\n",
       "\n",
       "// Listen for the clearing of the current output cell\n",
       "var outputEl = gd.closest('.output');\n",
       "if (outputEl) {{\n",
       "    x.observe(outputEl, {childList: true});\n",
       "}}\n",
       "\n",
       "                        })\n",
       "                };\n",
       "                });\n",
       "            </script>\n",
       "        </div>"
      ]
     },
     "metadata": {},
     "output_type": "display_data"
    }
   ],
   "source": [
    "fig = px.scatter_mapbox(isp_data, lat=\"latitude\", lon=\"longitude\", hover_name=\"dba\", hover_data=[\"dba\", \"score\"],\n",
    "                        color_discrete_sequence=[\"fuchsia\"], zoom=3, height=300)\n",
    "fig.update_layout(mapbox_accesstoken=token)\n",
    "fig.update_layout(margin={\"r\":0,\"t\":0,\"l\":0,\"b\":0})\n",
    "fig.show()"
   ]
  },
  {
   "cell_type": "code",
   "execution_count": null,
   "metadata": {},
   "outputs": [],
   "source": []
  },
  {
   "cell_type": "markdown",
   "metadata": {},
   "source": [
    "## 8. Summary and conclusions\n"
   ]
  },
  {
   "cell_type": "code",
   "execution_count": null,
   "metadata": {},
   "outputs": [],
   "source": []
  }
 ],
 "metadata": {
  "kernelspec": {
   "display_name": "Python 3",
   "language": "python",
   "name": "python3"
  },
  "language_info": {
   "codemirror_mode": {
    "name": "ipython",
    "version": 3
   },
   "file_extension": ".py",
   "mimetype": "text/x-python",
   "name": "python",
   "nbconvert_exporter": "python",
   "pygments_lexer": "ipython3",
   "version": "3.7.6"
  }
 },
 "nbformat": 4,
 "nbformat_minor": 4
}
